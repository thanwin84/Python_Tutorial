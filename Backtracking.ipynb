{
 "cells": [
  {
   "cell_type": "markdown",
   "metadata": {},
   "source": [
    "## Brute Force search for N queen"
   ]
  },
  {
   "cell_type": "code",
   "execution_count": 3,
   "metadata": {},
   "outputs": [
    {
     "data": {
      "text/plain": [
       "True"
      ]
     },
     "execution_count": 3,
     "metadata": {},
     "output_type": "execute_result"
    }
   ],
   "source": [
    "import itertools as it\n",
    "def solution(perm):\n",
    "    for i1, i2 in it.combinations(range(4),2):\n",
    "        if abs(perm[i1] - perm[i2]) == abs(i1 - i2):\n",
    "            return True\n",
    "    return True\n",
    "solution([1, 3, 0, 2])"
   ]
  },
  {
   "cell_type": "code",
   "execution_count": 6,
   "metadata": {},
   "outputs": [
    {
     "name": "stdout",
     "output_type": "stream",
     "text": [
      "(1,0), (3, 1)\n",
      "(1,0), (0, 2)\n",
      "(1,0), (2, 3)\n",
      "(3,1), (0, 2)\n",
      "(3,1), (2, 3)\n",
      "(0,2), (2, 3)\n"
     ]
    }
   ],
   "source": [
    "perm = [1, 3, 0, 2]\n",
    "for i1, i2 in it.combinations(range(4), 2):\n",
    "    # printing two coordinates\n",
    "    print('({},{}), ({}, {})'.format( perm[i1],i1,perm[i2], i2))"
   ]
  },
  {
   "cell_type": "code",
   "execution_count": 11,
   "metadata": {},
   "outputs": [
    {
     "data": {
      "text/plain": [
       "True"
      ]
     },
     "execution_count": 11,
     "metadata": {},
     "output_type": "execute_result"
    }
   ],
   "source": [
    "def can_be_extended_to_solution(perm):\n",
    "    i = len(perm) - 1 # last element of permutation\n",
    "    # checking last queen if it is in safe position according to previous Queen\n",
    "    for j in range(i):\n",
    "        if i - j == abs(perm[i] - perm[j]):\n",
    "            return False\n",
    "    return True\n",
    "can_be_extended_to_solution([2, 0, 3, 1])"
   ]
  },
  {
   "cell_type": "code",
   "execution_count": 1,
   "metadata": {},
   "outputs": [
    {
     "name": "stdout",
     "output_type": "stream",
     "text": [
      "[0, 1]\n",
      "[1, 0]\n"
     ]
    }
   ],
   "source": [
    "def generatePermutations(perm, n):\n",
    "    if len(perm) == n:\n",
    "        print(perm)\n",
    "        return \n",
    "    for k in range(n):\n",
    "        if k not in perm:\n",
    "            perm.append(k)\n",
    "            generatePermutations(perm, n)\n",
    "            perm.pop()\n",
    "generatePermutations([], 2)"
   ]
  },
  {
   "cell_type": "code",
   "execution_count": null,
   "metadata": {},
   "outputs": [
    {
     "name": "stdout",
     "output_type": "stream",
     "text": [
      "[0, 2, 4, 1, 3, 12, 14, 11, 17, 19, 16, 8, 15, 18, 7, 9, 6, 13, 5, 10]\n",
      "[0, 2, 4, 1, 3, 12, 14, 11, 17, 19, 16, 8, 15, 18, 9, 7, 5, 13, 6, 10]\n",
      "[0, 2, 4, 1, 3, 13, 11, 14, 18, 15, 19, 8, 16, 9, 17, 5, 7, 10, 12, 6]\n",
      "[0, 2, 4, 1, 3, 13, 17, 19, 11, 18, 15, 6, 16, 9, 7, 5, 8, 14, 12, 10]\n",
      "[0, 2, 4, 1, 3, 13, 18, 16, 19, 12, 15, 6, 8, 17, 5, 7, 10, 14, 11, 9]\n",
      "[0, 2, 4, 1, 3, 14, 11, 15, 12, 19, 16, 18, 9, 5, 17, 10, 7, 13, 6, 8]\n",
      "[0, 2, 4, 1, 3, 14, 12, 10, 16, 19, 15, 18, 9, 17, 6, 11, 7, 5, 13, 8]\n",
      "[0, 2, 4, 1, 3, 14, 12, 10, 16, 19, 17, 15, 8, 18, 9, 6, 13, 5, 7, 11]\n",
      "[0, 2, 4, 1, 3, 14, 12, 10, 16, 19, 17, 15, 9, 18, 8, 5, 7, 13, 11, 6]\n",
      "[0, 2, 4, 1, 3, 14, 16, 10, 12, 15, 17, 19, 6, 18, 7, 11, 13, 8, 5, 9]\n",
      "[0, 2, 4, 1, 3, 14, 18, 11, 19, 17, 15, 6, 9, 16, 8, 5, 7, 13, 10, 12]\n",
      "[0, 2, 4, 1, 3, 14, 19, 11, 18, 15, 17, 6, 9, 16, 8, 5, 7, 13, 10, 12]\n",
      "[0, 2, 4, 1, 3, 15, 11, 14, 16, 13, 19, 7, 18, 6, 17, 12, 10, 8, 5, 9]\n",
      "[0, 2, 4, 1, 3, 15, 11, 14, 16, 13, 19, 8, 18, 5, 17, 10, 12, 6, 9, 7]\n",
      "[0, 2, 4, 1, 3, 15, 11, 16, 14, 12, 18, 7, 19, 17, 5, 9, 13, 10, 8, 6]\n",
      "[0, 2, 4, 1, 3, 15, 11, 16, 14, 12, 18, 7, 19, 17, 5, 10, 13, 9, 6, 8]\n",
      "[0, 2, 4, 1, 3, 15, 13, 10, 14, 17, 19, 7, 16, 18, 9, 12, 5, 8, 6, 11]\n",
      "[0, 2, 4, 1, 3, 15, 13, 11, 16, 14, 19, 6, 18, 9, 17, 12, 5, 8, 10, 7]\n",
      "[0, 2, 4, 1, 3, 15, 19, 16, 11, 13, 17, 6, 18, 5, 7, 9, 12, 14, 8, 10]\n",
      "[0, 2, 4, 1, 3, 15, 19, 16, 14, 12, 7, 18, 6, 17, 5, 11, 8, 10, 13, 9]\n",
      "[0, 2, 4, 1, 3, 16, 11, 19, 17, 13, 18, 7, 15, 6, 9, 5, 8, 14, 12, 10]\n",
      "[0, 2, 4, 1, 3, 16, 18, 11, 17, 14, 7, 19, 15, 6, 8, 5, 12, 9, 13, 10]\n",
      "[0, 2, 4, 1, 3, 16, 18, 15, 11, 14, 19, 7, 5, 17, 6, 12, 10, 8, 13, 9]\n",
      "[0, 2, 4, 1, 3, 17, 14, 16, 19, 12, 7, 15, 6, 18, 5, 10, 8, 13, 11, 9]\n",
      "[0, 2, 4, 1, 3, 17, 15, 18, 12, 14, 7, 19, 6, 16, 5, 11, 8, 10, 13, 9]\n",
      "[0, 2, 4, 1, 3, 18, 12, 14, 17, 19, 7, 15, 8, 16, 5, 9, 6, 10, 13, 11]\n",
      "[0, 2, 4, 1, 3, 18, 13, 11, 17, 19, 16, 6, 15, 9, 7, 5, 8, 14, 12, 10]\n",
      "[0, 2, 4, 1, 3, 18, 16, 14, 11, 15, 19, 7, 5, 17, 6, 12, 10, 8, 13, 9]\n",
      "[0, 2, 4, 1, 7, 9, 11, 16, 18, 15, 17, 19, 8, 12, 5, 3, 6, 14, 10, 13]\n",
      "[0, 2, 4, 1, 7, 9, 11, 17, 15, 18, 16, 19, 8, 12, 5, 3, 6, 14, 10, 13]\n"
     ]
    }
   ],
   "source": [
    "def can_be_extended_to_solution(perm):\n",
    "    i = len(perm) - 1 # last element of permutation\n",
    "    # checking last queen if it is in safe position according to previous Queen\n",
    "    for j in range(i):\n",
    "        if i - j == abs(perm[i] - perm[j]):\n",
    "            return False\n",
    "    return True\n",
    "# can_be_extended_to_solution([1, 3])\n",
    "def extend(perm, n):\n",
    "    if len(perm) == n:\n",
    "        print(perm)\n",
    "        exit()\n",
    "    for k in range(n):\n",
    "        if k not in perm:\n",
    "            perm.append(k)\n",
    "            # checking if current permutation can be extended or not\n",
    "            if can_be_extended_to_solution(perm):\n",
    "                extend(perm, n)\n",
    "            perm.pop()\n",
    "extend([], 20)"
   ]
  },
  {
   "cell_type": "code",
   "execution_count": null,
   "metadata": {},
   "outputs": [],
   "source": []
  },
  {
   "cell_type": "code",
   "execution_count": null,
   "metadata": {},
   "outputs": [],
   "source": []
  },
  {
   "cell_type": "code",
   "execution_count": null,
   "metadata": {},
   "outputs": [],
   "source": []
  },
  {
   "cell_type": "code",
   "execution_count": null,
   "metadata": {},
   "outputs": [],
   "source": []
  },
  {
   "cell_type": "code",
   "execution_count": null,
   "metadata": {},
   "outputs": [],
   "source": []
  },
  {
   "cell_type": "code",
   "execution_count": null,
   "metadata": {},
   "outputs": [],
   "source": []
  },
  {
   "cell_type": "code",
   "execution_count": null,
   "metadata": {},
   "outputs": [],
   "source": []
  },
  {
   "cell_type": "code",
   "execution_count": null,
   "metadata": {},
   "outputs": [],
   "source": []
  },
  {
   "cell_type": "code",
   "execution_count": null,
   "metadata": {},
   "outputs": [],
   "source": []
  },
  {
   "cell_type": "code",
   "execution_count": null,
   "metadata": {},
   "outputs": [],
   "source": []
  },
  {
   "cell_type": "code",
   "execution_count": null,
   "metadata": {},
   "outputs": [],
   "source": []
  }
 ],
 "metadata": {
  "kernelspec": {
   "display_name": "Python 3",
   "language": "python",
   "name": "python3"
  },
  "language_info": {
   "codemirror_mode": {
    "name": "ipython",
    "version": 3
   },
   "file_extension": ".py",
   "mimetype": "text/x-python",
   "name": "python",
   "nbconvert_exporter": "python",
   "pygments_lexer": "ipython3",
   "version": "3.7.6"
  }
 },
 "nbformat": 4,
 "nbformat_minor": 4
}
