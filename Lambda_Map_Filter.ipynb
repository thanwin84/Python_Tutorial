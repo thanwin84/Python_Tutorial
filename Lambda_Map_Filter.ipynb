{
 "cells": [
  {
   "cell_type": "markdown",
   "metadata": {},
   "source": [
    "# Lambda"
   ]
  },
  {
   "cell_type": "markdown",
   "metadata": {},
   "source": [
    "anonymous function is a function that is defined without a name."
   ]
  },
  {
   "cell_type": "raw",
   "metadata": {},
   "source": [
    "####Syntex of lambda function###\n",
    "lambda Arguments:expression\n",
    ">>>>>>can have any number of argument\n",
    ">>>>>>>>BUT only ONE expression\n",
    "USE OF LAMBDA FUNCTION\n",
    ">>>in Python, we generally use it as an argument to a higher-order function (a function that takes in other functions as arguments). Lambda functions are used along with built-in functions like filter(), map() etc."
   ]
  },
  {
   "cell_type": "code",
   "execution_count": 2,
   "metadata": {},
   "outputs": [
    {
     "name": "stdout",
     "output_type": "stream",
     "text": [
      "4\n"
     ]
    }
   ],
   "source": [
    "#an example of making double\n",
    "f = lambda x:x*2 #we have to assign to something coz everything is object in python\n",
    "result=f(2)\n",
    "print(result)"
   ]
  },
  {
   "cell_type": "code",
   "execution_count": 3,
   "metadata": {},
   "outputs": [
    {
     "name": "stdout",
     "output_type": "stream",
     "text": [
      "5\n"
     ]
    }
   ],
   "source": [
    "#for adding two numbers \n",
    "f = lambda a,b:a+b\n",
    "result = f(2,3)\n",
    "print(result)"
   ]
  },
  {
   "cell_type": "code",
   "execution_count": 8,
   "metadata": {},
   "outputs": [
    {
     "name": "stdout",
     "output_type": "stream",
     "text": [
      "[2, 4, 6, 8]\n",
      "[4, 8, 12, 16]\n",
      "40\n"
     ]
    }
   ],
   "source": [
    "#filter even number from a num a list \n",
    "from functools import reduce\n",
    "num = [1,2,3,4,5,6,7,8]\n",
    "even_list = list(filter(lambda x:x%2==0,num))\n",
    "#i want every even number to be double \n",
    "double_even=list(map(lambda n:n*2,even_list))\n",
    "#i wanna add all number and just need one result\n",
    "add_all = reduce(lambda a,b:a+b,double_even)\n",
    "print(even_list)\n",
    "print(double_even)\n",
    "print(add_all)"
   ]
  },
  {
   "cell_type": "markdown",
   "metadata": {},
   "source": [
    "Python program to find palindrones in a list "
   ]
  },
  {
   "cell_type": "code",
   "execution_count": 17,
   "metadata": {},
   "outputs": [
    {
     "name": "stdout",
     "output_type": "stream",
     "text": [
      "['geeg', 'aa', 'keek']\n"
     ]
    }
   ],
   "source": [
    "string_list = ['geeks','geeg','aa','keek','practice']\n",
    "def palinedrone(n):\n",
    "    return n==n[::-1]\n",
    "final_list = list(filter(palinedrone,string_list))\n",
    "print(final_list)"
   ]
  },
  {
   "cell_type": "code",
   "execution_count": 19,
   "metadata": {},
   "outputs": [
    {
     "name": "stdout",
     "output_type": "stream",
     "text": [
      "['geeg', 'aa', 'keek']\n"
     ]
    }
   ],
   "source": [
    "string_list = ['geeks','geeg','aa','keek','practice']\n",
    "final_list = list(filter(lambda x:x==x[::-1],string_list))\n",
    "print(final_list)"
   ]
  },
  {
   "cell_type": "markdown",
   "metadata": {},
   "source": [
    "make every word uppercase in a list"
   ]
  },
  {
   "cell_type": "code",
   "execution_count": 20,
   "metadata": {},
   "outputs": [
    {
     "name": "stdout",
     "output_type": "stream",
     "text": [
      "['ALFRED', 'TABITHA', 'WILLIAM', 'ARLA']\n"
     ]
    }
   ],
   "source": [
    "my_pets = ['alfred', 'tabitha', 'william', 'arla']\n",
    "upper_list = list(map(lambda x:x.upper(),my_pets))\n",
    "print(upper_list)"
   ]
  },
  {
   "cell_type": "markdown",
   "metadata": {},
   "source": [
    "Print as tuple"
   ]
  },
  {
   "cell_type": "code",
   "execution_count": 21,
   "metadata": {},
   "outputs": [
    {
     "name": "stdout",
     "output_type": "stream",
     "text": [
      "[('a', 1), ('b', 2), ('c', 3), ('d', 4), ('e', 5)]\n"
     ]
    }
   ],
   "source": [
    "my_strings = ['a', 'b', 'c', 'd', 'e']\n",
    "my_numbers = [1,2,3,4,5]\n",
    "result = list(zip(my_strings,my_numbers))\n",
    "print(result)"
   ]
  },
  {
   "cell_type": "code",
   "execution_count": 23,
   "metadata": {},
   "outputs": [
    {
     "name": "stdout",
     "output_type": "stream",
     "text": [
      "[('a', 1), ('b', 2), ('c', 3), ('d', 4), ('e', 5)]\n"
     ]
    }
   ],
   "source": [
    "my_strings = ['a', 'b', 'c', 'd', 'e']\n",
    "my_numbers = [1,2,3,4,5]\n",
    "result = list(map(lambda x,y:(x,y),my_strings,my_numbers))\n",
    "\n",
    "print(result)"
   ]
  },
  {
   "cell_type": "markdown",
   "metadata": {},
   "source": [
    "Filter over 70"
   ]
  },
  {
   "cell_type": "code",
   "execution_count": 58,
   "metadata": {},
   "outputs": [
    {
     "name": "stdout",
     "output_type": "stream",
     "text": [
      "[90, 76, 88, 74, 81]\n",
      "81.8\n"
     ]
    }
   ],
   "source": [
    "from functools import reduce\n",
    "\n",
    "scores = [66, 90, 68, 59, 76, 60, 88, 74, 81, 65]\n",
    "result = list(filter(lambda x:x>70,scores))\n",
    "average = (reduce(lambda x,y:x+y,result))/len(result)\n",
    "\n",
    "print(result)\n",
    "print(average)"
   ]
  },
  {
   "cell_type": "markdown",
   "metadata": {},
   "source": [
    "Get new tuple and filter over 3 number and add all in final"
   ]
  },
  {
   "cell_type": "code",
   "execution_count": 63,
   "metadata": {},
   "outputs": [
    {
     "name": "stdout",
     "output_type": "stream",
     "text": [
      "(4, 5, 6, 7, 8)\n",
      "(5, 6, 7, 8)\n",
      "26\n"
     ]
    }
   ],
   "source": [
    "from functools import reduce\n",
    "my_tuple = (1,2,3,4,5)\n",
    "new_tuple = tuple(map(lambda x:x+3,my_tuple))\n",
    "filter_tuple = tuple(filter(lambda x:x>4,new_tuple))\n",
    "sum = reduce(lambda x,y:x+y,filter_tuple)\n",
    "print(new_tuple)\n",
    "print(filter_tuple)\n",
    "print(sum)"
   ]
  },
  {
   "cell_type": "code",
   "execution_count": null,
   "metadata": {},
   "outputs": [],
   "source": []
  },
  {
   "cell_type": "code",
   "execution_count": null,
   "metadata": {},
   "outputs": [],
   "source": []
  },
  {
   "cell_type": "code",
   "execution_count": null,
   "metadata": {},
   "outputs": [],
   "source": []
  }
 ],
 "metadata": {
  "kernelspec": {
   "display_name": "Python 3",
   "language": "python",
   "name": "python3"
  },
  "language_info": {
   "codemirror_mode": {
    "name": "ipython",
    "version": 3
   },
   "file_extension": ".py",
   "mimetype": "text/x-python",
   "name": "python",
   "nbconvert_exporter": "python",
   "pygments_lexer": "ipython3",
   "version": "3.7.4"
  }
 },
 "nbformat": 4,
 "nbformat_minor": 2
}
