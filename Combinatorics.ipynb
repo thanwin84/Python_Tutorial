{
 "cells": [
  {
   "cell_type": "markdown",
   "metadata": {},
   "source": [
    "### Rule of sum\n",
    "    If there are n objects of the first type and there are k objects of the second type, then there are n + k objects of one of two types"
   ]
  },
  {
   "cell_type": "code",
   "execution_count": 1,
   "metadata": {},
   "outputs": [
    {
     "name": "stdout",
     "output_type": "stream",
     "text": [
      "['Alice', 'Bob', 'Charlie', 0, 1, 2, 3, 4]\n"
     ]
    }
   ],
   "source": [
    "print(['Alice', 'Bob', 'Charlie']  + [0, 1, 2, 3, 4])"
   ]
  },
  {
   "cell_type": "markdown",
   "metadata": {},
   "source": [
    "### Rule of product\n",
    "    If there are n objects of the first type and there are k objects of the second type, then there are n × k pairs of objects, the first of the first type and the second of the second type"
   ]
  },
  {
   "cell_type": "code",
   "execution_count": 3,
   "metadata": {},
   "outputs": [
    {
     "name": "stdout",
     "output_type": "stream",
     "text": [
      "ax\n",
      "ay\n",
      "az\n",
      "bx\n",
      "by\n",
      "bz\n",
      "cx\n",
      "cy\n",
      "cz\n"
     ]
    }
   ],
   "source": [
    "from itertools import product\n",
    "for i in product(['a', 'b', 'c'],['x', 'y', 'z']):\n",
    "    print(''.join(i))"
   ]
  },
  {
   "cell_type": "code",
   "execution_count": 6,
   "metadata": {},
   "outputs": [
    {
     "data": {
      "text/plain": [
       "90"
      ]
     },
     "execution_count": 6,
     "metadata": {},
     "output_type": "execute_result"
    }
   ],
   "source": [
    "# how many three digits palindronic number are there\n",
    "# there are 9 posiblity for the first one and also for the last and 10 posiblity for the middle one\n",
    "count = 0\n",
    "for i in range(100, 1000):\n",
    "    if str(i) == str(i)[::-1]:\n",
    "        count += 1\n",
    "#         print(i)\n",
    "count"
   ]
  },
  {
   "cell_type": "code",
   "execution_count": null,
   "metadata": {},
   "outputs": [],
   "source": []
  },
  {
   "cell_type": "markdown",
   "metadata": {},
   "source": [
    "### tuples \n",
    "    The number of sequences of length k composed out of n symbols is n**k.\n",
    "    with repitation"
   ]
  },
  {
   "cell_type": "code",
   "execution_count": 6,
   "metadata": {},
   "outputs": [
    {
     "name": "stdout",
     "output_type": "stream",
     "text": [
      "aaa\n",
      "aab\n",
      "aba\n",
      "abb\n",
      "baa\n",
      "bab\n",
      "bba\n",
      "bbb\n"
     ]
    }
   ],
   "source": [
    "from itertools import product\n",
    "for i in product(['a', 'b'], repeat=3): # with repeatation\n",
    "    print(''.join(i))"
   ]
  },
  {
   "cell_type": "markdown",
   "metadata": {},
   "source": [
    "#### number of path link\n",
    "http://dm.compsciclub.ru/app/quiz-number-of-paths"
   ]
  },
  {
   "cell_type": "markdown",
   "metadata": {},
   "source": [
    "### k permutations\n",
    "    The number of sequences of length k with no repetitions composed out of n symbols is n(n − 1)· · ·(n − k + 1) = n!/(n−k)! .\n",
    "    "
   ]
  },
  {
   "cell_type": "code",
   "execution_count": 1,
   "metadata": {},
   "outputs": [
    {
     "name": "stdout",
     "output_type": "stream",
     "text": [
      "abcd\n",
      "abdc\n",
      "acbd\n",
      "acdb\n",
      "adbc\n",
      "adcb\n",
      "bacd\n",
      "badc\n",
      "bcad\n",
      "bcda\n",
      "bdac\n",
      "bdca\n",
      "cabd\n",
      "cadb\n",
      "cbad\n",
      "cbda\n",
      "cdab\n",
      "cdba\n",
      "dabc\n",
      "dacb\n",
      "dbac\n",
      "dbca\n",
      "dcab\n",
      "dcba\n",
      "\n",
      "24\n"
     ]
    }
   ],
   "source": [
    "from itertools import permutations\n",
    "count = 0\n",
    "for i in permutations('abcd', 4):\n",
    "    count += 1\n",
    "    print(''.join(i))\n",
    "print()\n",
    "print(count)"
   ]
  },
  {
   "cell_type": "markdown",
   "metadata": {},
   "source": [
    "## Tournament\n",
    "    Five teams played a tournament: each team played with each other. What was the number of games?\n",
    "    Each team played four games (with each ofthe other four teams)\n",
    "        • Hence, there were 5 × 4 games\n",
    "        • Do you see a flaw in this argument?"
   ]
  },
  {
   "cell_type": "markdown",
   "metadata": {},
   "source": [
    "### let's arrange the game\n",
    "#### ab ac ad ae bc bd be cd ce de\n",
    "#### ba ca da ea cb db eb dc ec ed\n",
    "\n",
    "     the flaw is each game is counted twice\n",
    "     thus the number of game is (5*4)/2"
   ]
  },
  {
   "cell_type": "markdown",
   "metadata": {},
   "source": [
    "### Theorem\n",
    "\n",
    "    The number of games in a tournament with n teams (each pair of teams played each other exactly once) is n(n − 1)/2.\n",
    "\n",
    "### proof\n",
    "\n",
    "    • There are n choices of the first team in\n",
    "    a game and (n − 1) choices of the second\n",
    "    team\n",
    "    • Each game is counted twice: the game\n",
    "    between teams i and j is counted as ij and\n",
    "    as ji\n",
    "    • Thus, the total number of games is\n",
    "    n(n − 1)/2"
   ]
  },
  {
   "cell_type": "code",
   "execution_count": 14,
   "metadata": {},
   "outputs": [
    {
     "name": "stdout",
     "output_type": "stream",
     "text": [
      "ab\n",
      "ac\n",
      "ad\n",
      "ae\n",
      "bc\n",
      "bd\n",
      "be\n",
      "cd\n",
      "ce\n",
      "de\n",
      "total count is:  10\n"
     ]
    }
   ],
   "source": [
    "# the correct way of counting games played by each team\n",
    "# mathmatical: 5 * 4/2=10\n",
    "# in combination ab and ba is considered as same pair \n",
    "from itertools import combinations\n",
    "count = 0\n",
    "for i in combinations('abcde', 2):\n",
    "    count += 1\n",
    "    print(''.join(i))\n",
    "print('total count is: ',count)"
   ]
  },
  {
   "cell_type": "code",
   "execution_count": 17,
   "metadata": {},
   "outputs": [
    {
     "name": "stdout",
     "output_type": "stream",
     "text": [
      "a b\n",
      "a c\n",
      "a d\n",
      "a e\n",
      "b c\n",
      "b d\n",
      "b e\n",
      "c d\n",
      "c e\n",
      "d e\n"
     ]
    }
   ],
   "source": [
    "s = 'abcde'\n",
    "for i in range(len(s)):\n",
    "    for k in range(i+1, len(s)):\n",
    "        print(s[i], s[k])"
   ]
  },
  {
   "cell_type": "markdown",
   "metadata": {},
   "source": [
    "### Let’s count the number of games recursively\n",
    "\n",
    "    • Denote by T(n) the number of games in a tournament with n teams\n",
    "    • There are two types of games:\n",
    "        1. games that involve the first team: n − 1\n",
    "        2. games that don’t involve it: T(n − 1)\n",
    "     Hence, T(n) = (n − 1) + T(n − 1)"
   ]
  },
  {
   "cell_type": "code",
   "execution_count": 19,
   "metadata": {},
   "outputs": [
    {
     "data": {
      "text/plain": [
       "10"
      ]
     },
     "execution_count": 19,
     "metadata": {},
     "output_type": "execute_result"
    }
   ],
   "source": [
    "def T(n):\n",
    "    if n <= 1:\n",
    "        return 0\n",
    "    else:\n",
    "        return (n-1) + T(n-1)\n",
    "T(5)"
   ]
  },
  {
   "cell_type": "markdown",
   "metadata": {},
   "source": [
    "### Combination formula\n",
    "   #### nCk = n!/k!(n-1)!\n",
    "    five teams played with each other, so what is the number of games?\n",
    "    5C2 = (5*4*3*2*1)/2*1*(3*2*1)\n",
    "        = 10 games\n",
    "    "
   ]
  },
  {
   "cell_type": "markdown",
   "metadata": {},
   "source": [
    "### Pascal Triangle\n",
    "\n",
    "    \n",
    "    "
   ]
  },
  {
   "cell_type": "code",
   "execution_count": 4,
   "metadata": {},
   "outputs": [
    {
     "data": {
      "text/plain": [
       "10"
      ]
     },
     "execution_count": 4,
     "metadata": {},
     "output_type": "execute_result"
    }
   ],
   "source": [
    "def nCk(x, y): # C ( [x, y] ) i s equal to n choose k\n",
    "    C = dict() \n",
    "    for row in range(x+1):\n",
    "        C[row, 0] = 1\n",
    "        C[row, row] = 1 # second row is considered as column \n",
    "        for col in range(1, row):\n",
    "#             print(col,row)\n",
    "            C [row, col] = C[row - 1, col - 1] + C[row-1, col]\n",
    "    return (C[x, y])\n",
    "nCk(5,2)"
   ]
  },
  {
   "cell_type": "code",
   "execution_count": 3,
   "metadata": {},
   "outputs": [
    {
     "name": "stdout",
     "output_type": "stream",
     "text": [
      "2\n",
      "5\n",
      "10\n",
      "1, 5, 10, 10, 5, 1\n",
      "1, 10, 45, 120, 210, 252, 210, 120, 45, 10, 1\n"
     ]
    }
   ],
   "source": [
    "# hackerrank nCr table\n",
    "# print the nth row of pascal traingle\n",
    "# the formula is: nCr = nCr-1*(n-r+1)/r where 1<=r<=N\n",
    "def solve(n):\n",
    "    prev = 1\n",
    "    print(prev, end='')\n",
    "    for r in range(1, n+1):\n",
    "        # prev = nCr-1\n",
    "        # if the number is large, just print the last 9 digit\n",
    "        current = (prev*(n - r + 1) // r)\n",
    "        print(',',current%10**9, end='')\n",
    "        prev=current\n",
    "    print()\n",
    "if __name__=='__main__':\n",
    "    t = int(input())\n",
    "    test = []\n",
    "    for _ in range(t):\n",
    "        test.append(int(input()))\n",
    "    for n in test:\n",
    "        solve(n)\n",
    "# time complexity is O(n)\n",
    "# auxillary space O(1)\n",
    "# proof: the loop will run from 1 to n+1\n",
    "        "
   ]
  },
  {
   "cell_type": "markdown",
   "metadata": {},
   "source": [
    "## Practice counting"
   ]
  },
  {
   "cell_type": "code",
   "execution_count": 4,
   "metadata": {},
   "outputs": [
    {
     "data": {
      "text/plain": [
       "2598960"
      ]
     },
     "execution_count": 4,
     "metadata": {},
     "output_type": "execute_result"
    }
   ],
   "source": [
    "# what is the number of five cards hand dealt off of a 52-deck card?\n",
    "# (52C5)\n",
    "nCk(52, 5)"
   ]
  },
  {
   "cell_type": "code",
   "execution_count": 5,
   "metadata": {},
   "outputs": [
    {
     "data": {
      "text/plain": [
       "22308"
      ]
     },
     "execution_count": 5,
     "metadata": {},
     "output_type": "execute_result"
    }
   ],
   "source": [
    "# what is the number of ways selecting 5 cards with two hearts and 3 spades from 52 deck card\n",
    "a = nCk(13, 2)\n",
    "b = nCk(13, 3)\n",
    "a * b"
   ]
  },
  {
   "cell_type": "code",
   "execution_count": 8,
   "metadata": {},
   "outputs": [
    {
     "data": {
      "text/plain": [
       "3439"
      ]
     },
     "execution_count": 8,
     "metadata": {},
     "output_type": "execute_result"
    }
   ],
   "source": [
    "# what is the number of non negative integers with at most four digits at least one of which is equal to 7?\n",
    "all_possible_4_digits = 10**4\n",
    "except_7 = 9**4\n",
    "all_digits_with_7 = all_possible_4_digits - except_7\n",
    "all_digits_with_7"
   ]
  },
  {
   "cell_type": "code",
   "execution_count": 12,
   "metadata": {},
   "outputs": [
    {
     "name": "stdout",
     "output_type": "stream",
     "text": [
      "3439\n"
     ]
    }
   ],
   "source": [
    "from itertools import product\n",
    "count = 0\n",
    "for t in product((range(10)), repeat=4):\n",
    "    if 7 in t:\n",
    "        count += 1\n",
    "print(count)"
   ]
  },
  {
   "cell_type": "code",
   "execution_count": 13,
   "metadata": {},
   "outputs": [
    {
     "data": {
      "text/plain": [
       "210"
      ]
     },
     "execution_count": 13,
     "metadata": {},
     "output_type": "execute_result"
    }
   ],
   "source": [
    "# What is the number of non-negative integers with at most four digits whose digits are increasing\n",
    "# this is just choosing 4 elements out of 10\n",
    "nCk(10,4)"
   ]
  },
  {
   "cell_type": "code",
   "execution_count": 14,
   "metadata": {},
   "outputs": [
    {
     "name": "stdout",
     "output_type": "stream",
     "text": [
      "210\n"
     ]
    }
   ],
   "source": [
    "from itertools import product\n",
    "count = 0\n",
    "for tup in product((range(10)), repeat=4):\n",
    "    if tup[0] < tup[1] and tup[1] < tup[2] and tup[2] < tup[3]:\n",
    "        count +=1 \n",
    "print(count)"
   ]
  },
  {
   "cell_type": "code",
   "execution_count": 16,
   "metadata": {},
   "outputs": [
    {
     "name": "stdout",
     "output_type": "stream",
     "text": [
      "20\n"
     ]
    }
   ],
   "source": [
    "# What is the number of bit-strings (that is, strings consisting of 0's and 1's) of length 6 \n",
    "# where the number of 0's is equal to the number of 1's?\n",
    "from itertools import product\n",
    "count = 0\n",
    "for t in product(range(2), repeat=6):\n",
    "    if list(t).count(0) == list(t).count(1):\n",
    "        count += 1\n",
    "print(count)"
   ]
  },
  {
   "cell_type": "code",
   "execution_count": 17,
   "metadata": {},
   "outputs": [
    {
     "name": "stdout",
     "output_type": "stream",
     "text": [
      "312500\n"
     ]
    }
   ],
   "source": [
    "# What is the number of sequences of six digits where the number of even digits is equal to the number of odd digits?\n",
    "from itertools import product\n",
    "count = 0\n",
    "for i in product(range(10), repeat=6):\n",
    "    a = list(i)\n",
    "    even = []\n",
    "    odd = []\n",
    "    for i in a:\n",
    "        if i % 2 == 0:\n",
    "            even.append(i)\n",
    "        else:\n",
    "            odd.append(i)\n",
    "    if len(even) == len(odd):\n",
    "        count += 1\n",
    "print(count)\n",
    "# this is slow"
   ]
  },
  {
   "cell_type": "markdown",
   "metadata": {},
   "source": [
    "## Week 3"
   ]
  },
  {
   "cell_type": "code",
   "execution_count": 29,
   "metadata": {},
   "outputs": [
    {
     "name": "stdout",
     "output_type": "stream",
     "text": [
      "('a', 'b')\n",
      "('a', 'c')\n",
      "('b', 'c')\n"
     ]
    }
   ],
   "source": [
    "# selecting two different people out of 3\n",
    "# no item repeat\n",
    "# we can also write as 3C2\n",
    "from itertools import combinations\n",
    "for i in combinations('abc', 2):\n",
    "    print(i)"
   ]
  },
  {
   "cell_type": "code",
   "execution_count": 22,
   "metadata": {},
   "outputs": [
    {
     "data": {
      "text/plain": [
       "3"
      ]
     },
     "execution_count": 22,
     "metadata": {},
     "output_type": "execute_result"
    }
   ],
   "source": [
    "# selecting two different people out of 3\n",
    "nCk(3, 2)"
   ]
  },
  {
   "cell_type": "markdown",
   "metadata": {},
   "source": [
    "### salads\n",
    "        We have an unlimited supply of tomatoes, bell peppers and lettuce. We want to make a salad out of 4 units among these           three ingredients (we do not have to use all ingredients). The order in which we use the ingredients does not matter.           How many different salads we can make?\n",
    "        solution: a b c c [since we have to make a salad of 4 unit]\n",
    "        let's keep delimiter to diferrentiate\n",
    "        a d  b d c c\n",
    "        we can convert it as:\n",
    "        O O O O O O \n",
    "        We just have to choose where to put delimiter \n",
    "        so it's 6 choose 2\n",
    "        \n",
    "        The formula: unordered with repitation\n",
    "        (k+n-1)C(n-1)\n",
    "    "
   ]
  },
  {
   "cell_type": "code",
   "execution_count": 3,
   "metadata": {},
   "outputs": [
    {
     "name": "stdout",
     "output_type": "stream",
     "text": [
      "('a', 'a', 'a', 'a')\n",
      "('a', 'a', 'a', 'b')\n",
      "('a', 'a', 'a', 'c')\n",
      "('a', 'a', 'b', 'b')\n",
      "('a', 'a', 'b', 'c')\n",
      "('a', 'a', 'c', 'c')\n",
      "('a', 'b', 'b', 'b')\n",
      "('a', 'b', 'b', 'c')\n",
      "('a', 'b', 'c', 'c')\n",
      "('a', 'c', 'c', 'c')\n",
      "('b', 'b', 'b', 'b')\n",
      "('b', 'b', 'b', 'c')\n",
      "('b', 'b', 'c', 'c')\n",
      "('b', 'c', 'c', 'c')\n",
      "('c', 'c', 'c', 'c')\n",
      "15\n"
     ]
    }
   ],
   "source": [
    "# order doesnt matter , it's still the same salad\n",
    "# we can also think as: 4 voters are voting for one of three candidates \n",
    "# candidates can be chosen several times, as four voters can vote also the same person \n",
    "from itertools import combinations_with_replacement\n",
    "count = 0\n",
    "for i in combinations_with_replacement('abc', 4):\n",
    "    print(i)\n",
    "    count+=1\n",
    "print(count)"
   ]
  },
  {
   "cell_type": "code",
   "execution_count": 2,
   "metadata": {},
   "outputs": [
    {
     "data": {
      "text/plain": [
       "15"
      ]
     },
     "execution_count": 2,
     "metadata": {},
     "output_type": "execute_result"
    }
   ],
   "source": [
    "nCk(6, 2)\n",
    "# nCk(11, 2)"
   ]
  },
  {
   "cell_type": "markdown",
   "metadata": {},
   "source": [
    "### Combinations with repitation\n",
    "    The number of combination of size k  of n objects with repitation is equal to (k+n -1)C(n-1)"
   ]
  },
  {
   "cell_type": "code",
   "execution_count": 43,
   "metadata": {},
   "outputs": [
    {
     "name": "stdout",
     "output_type": "stream",
     "text": [
      "10626\n"
     ]
    }
   ],
   "source": [
    "from itertools import combinations_with_replacement\n",
    "count = 0\n",
    "for i in combinations_with_replacement('abcde', 20):\n",
    "#     print(i)\n",
    "    count+=1\n",
    "print(count)"
   ]
  },
  {
   "cell_type": "code",
   "execution_count": 4,
   "metadata": {},
   "outputs": [
    {
     "data": {
      "text/plain": [
       "126"
      ]
     },
     "execution_count": 4,
     "metadata": {},
     "output_type": "execute_result"
    }
   ],
   "source": [
    "nCk(9, 4)"
   ]
  },
  {
   "cell_type": "markdown",
   "metadata": {},
   "source": [
    "### Suppose there are 4 people and 9 different assignments. Each person should receive one assignment. Assignments for different people should be different. How many ways are there to do it?"
   ]
  },
  {
   "cell_type": "code",
   "execution_count": 3,
   "metadata": {},
   "outputs": [
    {
     "name": "stdout",
     "output_type": "stream",
     "text": [
      "3024\n"
     ]
    }
   ],
   "source": [
    "from itertools import permutations\n",
    "count = 0\n",
    "for a in permutations(\"123456789\", 4):\n",
    "    count +=1\n",
    "#     print(\"\".join(a))\n",
    "print(count)"
   ]
  },
  {
   "cell_type": "markdown",
   "metadata": {},
   "source": [
    "#### There are 4 people and 9 different assignments. We need to distribute all assignments among people. No assignment should be assigned to two people. Every person can be given arbitrary number of assignments from 0 to 9. How many ways are there to do it?"
   ]
  },
  {
   "cell_type": "code",
   "execution_count": 16,
   "metadata": {},
   "outputs": [
    {
     "data": {
      "text/plain": [
       "262144"
      ]
     },
     "execution_count": 16,
     "metadata": {},
     "output_type": "execute_result"
    }
   ],
   "source": [
    "4**9"
   ]
  },
  {
   "cell_type": "markdown",
   "metadata": {},
   "source": [
    "### Distributing candies among people "
   ]
  },
  {
   "cell_type": "code",
   "execution_count": 20,
   "metadata": {},
   "outputs": [
    {
     "data": {
      "text/plain": [
       "54264"
      ]
     },
     "execution_count": 20,
     "metadata": {},
     "output_type": "execute_result"
    }
   ],
   "source": [
    "# There are 15 identical candies. How many ways are there to distribute them among 7 kids?\n",
    "nCk(21, 6)"
   ]
  },
  {
   "cell_type": "code",
   "execution_count": 24,
   "metadata": {},
   "outputs": [
    {
     "data": {
      "text/plain": [
       "3003"
      ]
     },
     "execution_count": 24,
     "metadata": {},
     "output_type": "execute_result"
    }
   ],
   "source": [
    "# There are 15 identical candies. How many ways are there to distribute them among 7 kids in such \n",
    "#a way that each kid receives at least 1 candy?\n",
    "\n",
    "We_are_left_with = 15- 7\n",
    "nCk(14, 6)"
   ]
  },
  {
   "cell_type": "code",
   "execution_count": 6,
   "metadata": {},
   "outputs": [
    {
     "name": "stdout",
     "output_type": "stream",
     "text": [
      "56\n"
     ]
    }
   ],
   "source": [
    "## There are six identical candies. How many ways are there to distibute them among 3 kids?\n",
    "from itertools import combinations_with_replacement\n",
    "count = 0\n",
    "for i in combinations_with_replacement('123456', 3):\n",
    "    count += 1\n",
    "#     print(i)\n",
    "print(count)"
   ]
  },
  {
   "cell_type": "markdown",
   "metadata": {},
   "source": [
    "## Numbers with fixed sum of digits\n",
    "## Stars and bars\n",
    "    \n",
    "    Q_1: How many non negative integers are there below 10000 such that their sum of digit is equal to 9\n",
    "         a+b+c+d=12 where a, b, c, d are non negative int\n",
    "         We split the 12 amongn them\n",
    "         **|**|***|** >> 2 + 2 + 3 + 2 =9\n",
    "         This is like choosing (9+4-1)C(4-1) which is 202\n",
    "    Q_2: How many non negetive integers are there below 10000 such that their sum of digit is equal to 10\n",
    "        By rule: (10+4-1)C(4-1) which is 286\n",
    "        but the correct anser is 282 which is proved in code_for_Q_2 below\n",
    "        with our approach, we can assign all 10 star in one position but this is not allowed in digit since digit range from\n",
    "        0-9.so we have to subtract one star in total 4 from total combinations\n",
    "        Thus, 286-4=282\n",
    "    Q_3: How many 5 digits can be formed using digits 0-3 such that digits in number in non decreasing order\n",
    "        ex:01233, 02233\n",
    "        A0 + A1 + A2 + A3 = 5\n",
    "        1 + 1 + 1 + 2 = 5 (01233)\n",
    "        1 + 0 + 2+ 2 = 5 (02233)\n",
    "        so this is like choosing \n",
    "        stars = 5 = number of digits = n\n",
    "        bars = 4-1 = the available digits = k\n",
    "        thus we get, (5+3-1)C(3-1)\n",
    "## Numbers with non increasing digits\n",
    "      Q_1: How many four-digit numbers are there such that their digits are non-increasing, that is each next digit is not           greater than the previous one? Three-digit numbers are also four-digit, they just start with 0.\n",
    "      * * * *\n",
    "      if we have picked 5323 from 0-9\n",
    "      we have to place them like\n",
    "      * * * *\n",
    "      5 3 3 2 (non increasing order)\n",
    "      so first we have to pick four digits, order of pick doesn't matter\n",
    "      they can be order in unique way to place them in non increasing order\n",
    "      We are dealing with combinations of size for out of 10 options with repitation\n",
    "   \n",
    "      n = 4 \n",
    "      k = 10 \n",
    "      (10+4-1)C(10-1) = 715\n",
    "\n",
    "\n",
    "    \n",
    "## Distributing Candies\n",
    "    Q_1: In how many ways we can distribute 15 identical candi among 7 kids. \n",
    "    **|***|**||**|**|**** 2 + 3 + 2 + 0 + 2 + 2+ 4 = 15\n",
    "    This is like choosing 3 places from 15 places\n",
    "    (15 + 7 - 1)C(7-1) or 21C6= 54264"
   ]
  },
  {
   "cell_type": "code",
   "execution_count": 18,
   "metadata": {},
   "outputs": [
    {
     "data": {
      "text/plain": [
       "286"
      ]
     },
     "execution_count": 18,
     "metadata": {},
     "output_type": "execute_result"
    }
   ],
   "source": []
  },
  {
   "cell_type": "code",
   "execution_count": 22,
   "metadata": {},
   "outputs": [
    {
     "name": "stdout",
     "output_type": "stream",
     "text": [
      "282\n"
     ]
    }
   ],
   "source": [
    "# code for Q_2\n",
    "from itertools import product\n",
    "count = 0\n",
    "for i in product(range(10), repeat=4):\n",
    "    if sum(i)==10:\n",
    "#         print(i)\n",
    "        count += 1\n",
    "print(count)"
   ]
  },
  {
   "cell_type": "code",
   "execution_count": 40,
   "metadata": {},
   "outputs": [
    {
     "data": {
      "text/plain": [
       "2"
      ]
     },
     "execution_count": 40,
     "metadata": {},
     "output_type": "execute_result"
    }
   ],
   "source": [
    "nCk(2, 1 )"
   ]
  },
  {
   "cell_type": "code",
   "execution_count": 38,
   "metadata": {},
   "outputs": [
    {
     "name": "stdout",
     "output_type": "stream",
     "text": [
      "35\n"
     ]
    }
   ],
   "source": [
    "from itertools import combinations\n",
    "count = 0\n",
    "for i in combinations(range(7), 3):\n",
    "    count += 1\n",
    "print(count)"
   ]
  },
  {
   "cell_type": "markdown",
   "metadata": {},
   "source": [
    "Alice has 7 textbooks and Bob has 5 textbooks. All textbooks are different. They would like to exchange three books each between each other for a weekend. That is, Alice gives Bob three of her books and Bob gives Alice three of his books. How many ways do they have to do it?"
   ]
  },
  {
   "cell_type": "code",
   "execution_count": 42,
   "metadata": {},
   "outputs": [
    {
     "name": "stdout",
     "output_type": "stream",
     "text": [
      "350\n"
     ]
    }
   ],
   "source": [
    "\n",
    "from itertools import combinations\n",
    "count = 0\n",
    "for a in combinations([\"A1 \",\"A2 \",\"A3 \",\"A4 \",\"A5 \",\"A6 \",\"A7 \"], 3):\n",
    "    for b in combinations([\"B1 \",\"B2 \",\"B3 \",\"B4 \",\"B5 \"], 3):\n",
    "        count += 1\n",
    "        c=a+b\n",
    "#         print(c)\n",
    "print(count)"
   ]
  },
  {
   "cell_type": "code",
   "execution_count": 10,
   "metadata": {},
   "outputs": [
    {
     "name": "stdout",
     "output_type": "stream",
     "text": [
      "((1, 2), (3, 4), (5, 6))\n",
      "((1, 2), (3, 4), (7, 8))\n",
      "((1, 2), (3, 4), (9, 0))\n",
      "((1, 2), (5, 6), (7, 8))\n",
      "((1, 2), (5, 6), (9, 0))\n",
      "((1, 2), (7, 8), (9, 0))\n",
      "((3, 4), (5, 6), (7, 8))\n",
      "((3, 4), (5, 6), (9, 0))\n",
      "((3, 4), (7, 8), (9, 0))\n",
      "((5, 6), (7, 8), (9, 0))\n",
      "10\n"
     ]
    }
   ],
   "source": [
    "from itertools import combinations\n",
    "count = 0\n",
    "for i in combinations([(1, 2),(3,4),(5,6),(7,8),(9,0)], 3):\n",
    "    print(i)\n",
    "    count += 1\n",
    "print(count)"
   ]
  },
  {
   "cell_type": "code",
   "execution_count": 23,
   "metadata": {},
   "outputs": [
    {
     "name": "stdout",
     "output_type": "stream",
     "text": [
      "('b',)\n",
      "('b',)\n",
      "('a', 'b')\n",
      "('a', 'b')\n",
      "('b', 'b')\n",
      "('a', 'b', 'b')\n",
      "0\n"
     ]
    }
   ],
   "source": [
    "from itertools import combinations\n",
    "s ='abb'\n",
    "count = 0\n",
    "for i in range(1, len(s)+1):\n",
    "    for k in combinations(s, i):\n",
    "        if 'b' in k:\n",
    "            \n",
    "            print(k)\n",
    "print(count)"
   ]
  },
  {
   "cell_type": "code",
   "execution_count": 28,
   "metadata": {},
   "outputs": [
    {
     "name": "stdout",
     "output_type": "stream",
     "text": [
      "('a', 'b')\n",
      "('a', 'b')\n",
      "('b', 'b')\n"
     ]
    }
   ],
   "source": [
    "# a\", \"b\", \"b\", \"ab\", \"bb\", \"abb\". The substrings that contain 'b' are \"b\", \"b\", \"ab\", \"bb\", \"abb\".\n",
    "for i in combinations(s, 2):\n",
    "    print(i)"
   ]
  },
  {
   "cell_type": "code",
   "execution_count": 23,
   "metadata": {},
   "outputs": [
    {
     "name": "stdout",
     "output_type": "stream",
     "text": [
      "2\n",
      "4\n",
      "1\n",
      "2\n",
      "3\n",
      "4\n",
      "4\n"
     ]
    }
   ],
   "source": [
    "# hacker k candy shop\n",
    "#  # the formula is: nCr = nCr-1*(n-r+1)/r where 1<=r<=N\n",
    "def nth_line_pascal(n):\n",
    "    prev = 1\n",
    "    res = []\n",
    "    res.append(prev)\n",
    "    for r in range(1, n+1):\n",
    "        current = prev * (n-r+1)//r\n",
    "        res.append(current)\n",
    "        prev = current\n",
    "    return res\n",
    "def solve(n, k):\n",
    "    n_prime = n + k -1\n",
    "    k_prime = n -1\n",
    "    result = nth_line_pascal(n_prime)[k_prime]\n",
    "    return result\n",
    "if __name__ == '__main__':\n",
    "    test = int(input())\n",
    "    result = []\n",
    "    for _ in range(test):\n",
    "        n = int(input())\n",
    "        k = int(input())\n",
    "        output = solve(n, k)\n",
    "        result.append(output%10**9)\n",
    "    print(*result, sep='\\n')"
   ]
  },
  {
   "cell_type": "code",
   "execution_count": 8,
   "metadata": {},
   "outputs": [
    {
     "data": {
      "text/plain": [
       "[1, 4, 6, 4, 1]"
      ]
     },
     "execution_count": 8,
     "metadata": {},
     "output_type": "execute_result"
    }
   ],
   "source": [
    "nth_line_pascal(4)"
   ]
  },
  {
   "cell_type": "code",
   "execution_count": 17,
   "metadata": {},
   "outputs": [
    {
     "data": {
      "text/plain": [
       "4"
      ]
     },
     "execution_count": 17,
     "metadata": {},
     "output_type": "execute_result"
    }
   ],
   "source": [
    "solve(2, 3)"
   ]
  },
  {
   "cell_type": "code",
   "execution_count": 13,
   "metadata": {},
   "outputs": [
    {
     "data": {
      "text/plain": [
       "3"
      ]
     },
     "execution_count": 13,
     "metadata": {},
     "output_type": "execute_result"
    }
   ],
   "source": [
    "a = [2, 3, 4]\n",
    "a[1]"
   ]
  },
  {
   "cell_type": "code",
   "execution_count": null,
   "metadata": {},
   "outputs": [],
   "source": []
  },
  {
   "cell_type": "code",
   "execution_count": null,
   "metadata": {},
   "outputs": [],
   "source": []
  }
 ],
 "metadata": {
  "kernelspec": {
   "display_name": "Python 3",
   "language": "python",
   "name": "python3"
  },
  "language_info": {
   "codemirror_mode": {
    "name": "ipython",
    "version": 3
   },
   "file_extension": ".py",
   "mimetype": "text/x-python",
   "name": "python",
   "nbconvert_exporter": "python",
   "pygments_lexer": "ipython3",
   "version": "3.7.4"
  }
 },
 "nbformat": 4,
 "nbformat_minor": 2
}
