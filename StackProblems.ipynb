{
 "cells": [
  {
   "cell_type": "markdown",
   "metadata": {},
   "source": [
    "## Stack implementation"
   ]
  },
  {
   "cell_type": "code",
   "execution_count": 1,
   "metadata": {},
   "outputs": [
    {
     "data": {
      "text/plain": [
       "True"
      ]
     },
     "execution_count": 1,
     "metadata": {},
     "output_type": "execute_result"
    }
   ],
   "source": [
    "class Stack:\n",
    "    def __init__(self):\n",
    "        self.items = []\n",
    "        \n",
    "    def push(self, item):\n",
    "        self.items.append(item)\n",
    "    \n",
    "    def pop(self):\n",
    "        self.items.pop()\n",
    "    \n",
    "    def is_empty(self):\n",
    "        return self.items == []\n",
    "    def top(self):\n",
    "        if not self.is_empty():\n",
    "            return self.items[-1]\n",
    "    def size(self):\n",
    "        return len(self.items)\n",
    "    \n",
    "s = Stack()\n",
    "s.is_empty()\n",
    "# s.push(1)\n",
    "# s.push(2)\n",
    "# s.top()"
   ]
  },
  {
   "cell_type": "markdown",
   "metadata": {},
   "source": [
    "## Next greater element "
   ]
  },
  {
   "cell_type": "code",
   "execution_count": 21,
   "metadata": {},
   "outputs": [
    {
     "data": {
      "text/plain": [
       "[3, 4, -1, -1]"
      ]
     },
     "execution_count": 21,
     "metadata": {},
     "output_type": "execute_result"
    }
   ],
   "source": [
    "def nextLargerElement(arr,n):\n",
    "    result = []\n",
    "    s = Stack()\n",
    "    for i in range(n-1, -1, -1):\n",
    "        if s.is_empty():\n",
    "            result.append(-1)\n",
    "        elif s.size() > 0 and s.top() > arr[i]:\n",
    "            result.append(s.top())\n",
    "        elif s.size() > 0 and s.top() <= arr[i]:\n",
    "            while s.size() > 0 and s.top() <= arr[i]: \n",
    "                s.pop()\n",
    "            if s.size() == 0:\n",
    "                result.append(-1)\n",
    "            else:\n",
    "                result.append(s.top())\n",
    "        \n",
    "        s.push(arr[i])\n",
    "    return result[::-1]\n",
    "# nextLargerElement([1, 3, 2, 4], 4)\n",
    "nextLargerElement([1, 3, 4, 2], 4)"
   ]
  },
  {
   "cell_type": "code",
   "execution_count": 24,
   "metadata": {},
   "outputs": [
    {
     "data": {
      "text/plain": [
       "[-1, 3, -1]"
      ]
     },
     "execution_count": 24,
     "metadata": {},
     "output_type": "execute_result"
    }
   ],
   "source": [
    "## Next Greater element I\n",
    "def nextLargerElement(arr1, arr2):\n",
    "    di = {}\n",
    "    s = Stack()\n",
    "    result = []\n",
    "    for i in range(len(arr2)-1, -1, -1):\n",
    "        if s.is_empty():\n",
    "            di[arr2[i]] = -1\n",
    "        elif s.size() > 0 and s.top() > arr2[i]:\n",
    "            di[arr2[i]] = s.top()\n",
    "        elif s.size() > 0 and s.top() <= arr2[i]:\n",
    "            while s.size() > 0 and s.top() <= arr2[i]: \n",
    "                s.pop()\n",
    "            if s.size() == 0:\n",
    "                di[arr2[i]] = -1\n",
    "            else:\n",
    "                di[arr2[i]] = s.top()\n",
    "        \n",
    "        s.push(arr2[i])\n",
    "    for i in arr1:\n",
    "        result.append(di[i])\n",
    "    return result\n",
    "        \n",
    "nextLargerElement([4,1,2], [1,3,4,2])"
   ]
  },
  {
   "cell_type": "code",
   "execution_count": 51,
   "metadata": {},
   "outputs": [
    {
     "data": {
      "text/plain": [
       "[-1, 5, 5, 5, 5]"
      ]
     },
     "execution_count": 51,
     "metadata": {},
     "output_type": "execute_result"
    }
   ],
   "source": [
    "## Next greater element II\n",
    "## loop once: gives the normal NGE\n",
    "## loop twice: gives circular array NGE\n",
    "def nextLargerElement(arr,n):\n",
    "    result = [-1] * len(arr)\n",
    "    s = Stack()\n",
    "    for i in range(len(arr)-1, -1, -1):\n",
    "        if s.is_empty():\n",
    "            result[i] = -1\n",
    "        elif s.size() > 0 and s.top() > arr[i]:\n",
    "            result[i] = s.top()\n",
    "        elif s.size() > 0 and s.top() <= arr[i]:\n",
    "            while s.size() > 0 and s.top() <= arr[i]: \n",
    "                s.pop()\n",
    "            if s.size() == 0:\n",
    "                result[i] = -1\n",
    "            else:\n",
    "                result[i] = s.top()\n",
    "        \n",
    "        s.push(arr[i])\n",
    "    for i in range(len(arr)-1, -1, -1):\n",
    "        if s.is_empty():\n",
    "            result[i] = -1\n",
    "        elif s.size() > 0 and s.top() > arr[i]:\n",
    "            result[i] = s.top()\n",
    "        elif s.size() > 0 and s.top() <= arr[i]:\n",
    "            while s.size() > 0 and s.top() <= arr[i]: \n",
    "                s.pop()\n",
    "            if s.size() == 0:\n",
    "                result[i] = -1\n",
    "            else:\n",
    "                result[i] = s.top()\n",
    "        \n",
    "        s.push(arr[i])\n",
    "    \n",
    "    return result\n",
    "nextLargerElement([5, 4, 3, 2, 1], 5)"
   ]
  },
  {
   "cell_type": "markdown",
   "metadata": {},
   "source": [
    "## Next smaller element"
   ]
  },
  {
   "cell_type": "code",
   "execution_count": 50,
   "metadata": {},
   "outputs": [
    {
     "data": {
      "text/plain": [
       "[2, 5, 2, -1, -1]"
      ]
     },
     "execution_count": 50,
     "metadata": {},
     "output_type": "execute_result"
    }
   ],
   "source": [
    "\n",
    "def nextSmallerElement(arr,n):\n",
    "    result = []\n",
    "    s = Stack()\n",
    "    for i in range(n-1, -1, -1):\n",
    "        if s.is_empty():\n",
    "            result.append(-1)\n",
    "        elif s.size() > 0 and s.top() < arr[i]:\n",
    "            result.append(s.top())\n",
    "        elif s.size() > 0 and s.top() >= arr[i]:\n",
    "            while s.size() > 0 and s.top() >= arr[i]: \n",
    "                s.pop()\n",
    "            if s.size() == 0:\n",
    "                result.append(-1)\n",
    "            else:\n",
    "                result.append(s.top())\n",
    "        \n",
    "        s.push(arr[i])\n",
    "    return result[::-1]\n",
    "\n",
    "nextSmallerElement([4, 8, 5, 2, 25], 5)"
   ]
  },
  {
   "cell_type": "markdown",
   "metadata": {},
   "source": [
    "## Stock span"
   ]
  },
  {
   "cell_type": "code",
   "execution_count": 6,
   "metadata": {},
   "outputs": [
    {
     "data": {
      "text/plain": [
       "[1, 1, 1, 2, 1, 4, 6]"
      ]
     },
     "execution_count": 6,
     "metadata": {},
     "output_type": "execute_result"
    }
   ],
   "source": [
    "test = [100, 80, 60, 70, 60, 75, 85]\n",
    "def calculateSpan(arr,n):\n",
    "    result = []\n",
    "    s = []\n",
    "    for i in range(len(arr)):\n",
    "        if len(s) == 0:\n",
    "            result.append(-1)\n",
    "        elif len(s) > 0 and s[-1][1] > arr[i]:\n",
    "            result.append(s[-1][0])\n",
    "        elif len(s) > 0 and s[-1][1] <= arr[i]:\n",
    "            while len(s) > 0 and s[-1][1] <= arr[i]:\n",
    "                s.pop()\n",
    "            if len(s) == 0:\n",
    "                result.append(-1)\n",
    "            else:\n",
    "                result.append(s[-1][0])\n",
    "        s.append((i, arr[i]))\n",
    "    for i in range(len(result)):\n",
    "        result[i] = i - result[i]\n",
    "    return result\n",
    "calculateSpan(test, len(test))"
   ]
  },
  {
   "cell_type": "code",
   "execution_count": 13,
   "metadata": {},
   "outputs": [],
   "source": [
    "## stock span -- leetcode\n",
    "class StockSpanner:\n",
    "    def __init__(self):\n",
    "        self.items = []\n",
    "        self.n = 0\n",
    "\n",
    "    def next(self, price):\n",
    "        result = -1\n",
    "        for i in range(1):\n",
    "            while len(self.items) > 0 and self.items[-1][1] <= price:\n",
    "                self.items.pop()\n",
    "            if len(self.items) == 0:\n",
    "                result = -1\n",
    "            else:\n",
    "                result = self.items[-1][0]\n",
    "        self.items.append((self.n, price))\n",
    "        result = self.n - result\n",
    "        self.n += 1\n",
    "        return result\n",
    "\n",
    "\n",
    "# ob = StockSpanner()\n",
    "# print(ob.next(100))\n",
    "# print(ob.next(80))\n",
    "# print(ob.next(60))\n",
    "# print(ob.next(70))\n",
    "# print(ob.next(60))\n",
    "# print(ob.next(75))\n",
    "# print(ob.next(85))"
   ]
  },
  {
   "cell_type": "code",
   "execution_count": 8,
   "metadata": {},
   "outputs": [
    {
     "name": "stdout",
     "output_type": "stream",
     "text": [
      "2\n"
     ]
    }
   ],
   "source": [
    "print(next(a))"
   ]
  },
  {
   "cell_type": "code",
   "execution_count": 12,
   "metadata": {},
   "outputs": [
    {
     "data": {
      "text/plain": [
       "[1, 1, 4, 2, 1, 1, 0, 0]"
      ]
     },
     "execution_count": 12,
     "metadata": {},
     "output_type": "execute_result"
    }
   ],
   "source": [
    "def dailyTemperature(T):\n",
    "    result = []\n",
    "    s = [] # t and index\n",
    "    for i in range(len(T)-1, -1, -1):\n",
    "        if len(s) == 0:\n",
    "            result.append(0)\n",
    "        elif len(s) > 0 and s[-1][0] > T[i]:\n",
    "            result.append(s[-1][1])\n",
    "        elif len(s) > 0 and s[-1][0] <= T[i]:\n",
    "            while len(s) > 0 and s[-1][0] <= T[i]:\n",
    "                s.pop()\n",
    "            if len(s) == 0:\n",
    "                result.append(0)\n",
    "            else:\n",
    "                result.append(s[-1][1])\n",
    "        s.append((T[i],i))\n",
    "    result = result[::-1]\n",
    "    for i in range(len(result)):\n",
    "        if result[i] != 0:\n",
    "            result[i] = abs(i - result[i])\n",
    "    return result\n",
    "dailyTemperature([73, 74, 75, 71, 69, 72, 76, 73])"
   ]
  },
  {
   "cell_type": "markdown",
   "metadata": {},
   "source": [
    "## Largest Histogram "
   ]
  },
  {
   "cell_type": "code",
   "execution_count": 38,
   "metadata": {},
   "outputs": [
    {
     "data": {
      "text/plain": [
       "1"
      ]
     },
     "execution_count": 38,
     "metadata": {},
     "output_type": "execute_result"
    }
   ],
   "source": [
    "class Solution:\n",
    "    def largestRectangleArea(self, heights):\n",
    "        r = self.NSER(heights)\n",
    "        l = self.NSEL(heights)\n",
    "        width = []\n",
    "        result = float('-inf')\n",
    "                \n",
    "        for i in range(len(heights)):\n",
    "            width.append(r[i] - l[i] - 1)\n",
    "        \n",
    "        for i in range(len(heights)):\n",
    "            area = width[i] * heights[i]\n",
    "            if area > result:\n",
    "                result = area\n",
    "        return result\n",
    "        \n",
    "    def NSER(self, heights):\n",
    "        \"\"\"Next small element from right\"\"\"\n",
    "        result = []\n",
    "        s = [] #val and index\n",
    "        ln = len(heights)\n",
    "        for i in range(ln-1, -1, -1):\n",
    "            if len(s) == 0:\n",
    "                result.append(ln)\n",
    "            elif len(s) > 0 and s[-1][0] < heights[i]:\n",
    "                result.append(s[-1][1])\n",
    "            elif len(s) > 0 and s[-1][0] >= heights[i]:\n",
    "                while len(s) and s[-1][0] >= heights[i]:\n",
    "                    s.pop()\n",
    "                if len(s) == 0:\n",
    "                    result.append(ln)\n",
    "                else:\n",
    "                    result.append(s[-1][1])\n",
    "            s.append((heights[i], i))\n",
    "        return result[::-1]\n",
    "    \n",
    "    def NSEL(self, heights):\n",
    "        \"\"\"Next small element from left\"\"\"\n",
    "        result = []\n",
    "        s = [] #val and index\n",
    "        ln = len(heights)\n",
    "        for i in range(ln):\n",
    "            if len(s) == 0:\n",
    "                result.append(-1)\n",
    "            elif len(s) > 0 and s[-1][0] < heights[i]:\n",
    "                result.append(s[-1][1])\n",
    "            elif len(s) > 0 and s[-1][0] >= heights[i]:\n",
    "                while len(s) and s[-1][0] >= heights[i]:\n",
    "                    s.pop()\n",
    "                if len(s) == 0:\n",
    "                    result.append(-1)\n",
    "                else:\n",
    "                    result.append(s[-1][1])\n",
    "            s.append((heights[i], i))\n",
    "        return result\n",
    "ob = Solution()\n",
    "ob.largestRectangleArea([0, 1])"
   ]
  },
  {
   "cell_type": "markdown",
   "metadata": {},
   "source": [
    "## Max area in binary matrix "
   ]
  },
  {
   "cell_type": "code",
   "execution_count": 27,
   "metadata": {},
   "outputs": [
    {
     "data": {
      "text/plain": [
       "8"
      ]
     },
     "execution_count": 27,
     "metadata": {},
     "output_type": "execute_result"
    }
   ],
   "source": [
    "arr = [['0', '1', '1', '0'],['1', '1', '1', '1'], ['1', '1', '1', '1'], ['1', '1', '0', '0']]\n",
    "class Solution:\n",
    "    def maximalRectangle(self, arr):\n",
    "        row = len(arr)\n",
    "        col = len(arr[0])\n",
    "        v = []\n",
    "        result = 0\n",
    "        for i in range(col):\n",
    "            v.append(int(arr[0][i]))\n",
    "        result = self.max_area(v)\n",
    "        for i in range(1, row):\n",
    "            for j in range(col):\n",
    "                if int(arr[i][j]) == 0:\n",
    "                    v[j] = 0\n",
    "                else:\n",
    "                    v[j] = v[j] + int(arr[i][j])\n",
    "            temp = self.max_area(v)\n",
    "            if temp > result:\n",
    "                result = temp\n",
    "        return result\n",
    "            \n",
    "                    \n",
    "    def max_area(self, heights):\n",
    "        r = self.NSER(heights)\n",
    "        l = self.NSEL(heights)\n",
    "        width = []\n",
    "        result = float('-inf')\n",
    "                \n",
    "        for i in range(len(heights)):\n",
    "            width.append(r[i] - l[i] - 1)\n",
    "        \n",
    "        for i in range(len(heights)):\n",
    "            area = width[i] * heights[i]\n",
    "            if area > result:\n",
    "                result = area\n",
    "        return result\n",
    "        \n",
    "    def NSER(self, heights):\n",
    "        result = []\n",
    "        s = [] #val and index\n",
    "        ln = len(heights)\n",
    "        for i in range(ln-1, -1, -1):\n",
    "            if len(s) == 0:\n",
    "                result.append(ln)\n",
    "            elif len(s) > 0 and s[-1][0] < heights[i]:\n",
    "                result.append(s[-1][1])\n",
    "            elif len(s) > 0 and s[-1][0] >= heights[i]:\n",
    "                while len(s) and s[-1][0] >= heights[i]:\n",
    "                    s.pop()\n",
    "                if len(s) == 0:\n",
    "                    result.append(ln)\n",
    "                else:\n",
    "                    result.append(s[-1][1])\n",
    "            s.append((heights[i], i))\n",
    "        return result[::-1]\n",
    "    \n",
    "    def NSEL(self, heights):\n",
    "        result = []\n",
    "        s = [] #val and index\n",
    "        ln = len(heights)\n",
    "        for i in range(ln):\n",
    "            if len(s) == 0:\n",
    "                result.append(-1)\n",
    "            elif len(s) > 0 and s[-1][0] < heights[i]:\n",
    "                result.append(s[-1][1])\n",
    "            elif len(s) > 0 and s[-1][0] >= heights[i]:\n",
    "                while len(s) and s[-1][0] >= heights[i]:\n",
    "                    s.pop()\n",
    "                if len(s) == 0:\n",
    "                    result.append(-1)\n",
    "                else:\n",
    "                    result.append(s[-1][1])\n",
    "            s.append((heights[i], i))\n",
    "        return result\n",
    "ob = Solution()\n",
    "ob.maximalRectangle(arr)\n"
   ]
  },
  {
   "cell_type": "code",
   "execution_count": 45,
   "metadata": {},
   "outputs": [
    {
     "data": {
      "text/plain": [
       "1"
      ]
     },
     "execution_count": 45,
     "metadata": {},
     "output_type": "execute_result"
    }
   ],
   "source": [
    "class Solution:\n",
    "    def maximalSquare(self, arr):\n",
    "        row = len(arr)\n",
    "        col = len(arr[0])\n",
    "        v = []\n",
    "        result = 0\n",
    "        for i in range(col):\n",
    "            v.append(int(arr[0][i]))\n",
    "        result = self.max_square(v)\n",
    "        for i in range(1, row):\n",
    "            for j in range(col):\n",
    "                if int(arr[i][j]) == 0:\n",
    "                    v[j] = 0\n",
    "                else:\n",
    "                    v[j] = v[j] + int(arr[i][j])\n",
    "            temp =  self.max_square(v)\n",
    "            if temp > result:\n",
    "                result = temp\n",
    "        return result\n",
    "    def max_square(self, heights):\n",
    "        r = self.NSER(heights)\n",
    "        l = self.NSEL(heights)\n",
    "        width = []\n",
    "        result = float('-inf')\n",
    "                \n",
    "        for i in range(len(heights)):\n",
    "            width.append(r[i] - l[i] - 1)\n",
    "        \n",
    "        for i in range(len(heights)):\n",
    "            if width[i] > heights[i]:\n",
    "                area = heights[i] * heights[i]\n",
    "            elif width[i] < heights[i]:\n",
    "                area = width[i] * width[i]\n",
    "            elif width[i] == heights[i]:\n",
    "                area = width[i] * width[i]\n",
    "            if area > result:\n",
    "                result = area\n",
    "        return result\n",
    "            \n",
    "    def NSER(self, heights):\n",
    "        \"\"\"Next small element from right\"\"\"\n",
    "        result = []\n",
    "        s = [] #val and index\n",
    "        ln = len(heights)\n",
    "        for i in range(ln-1, -1, -1):\n",
    "            if len(s) == 0:\n",
    "                result.append(ln)\n",
    "            elif len(s) > 0 and s[-1][0] < heights[i]:\n",
    "                result.append(s[-1][1])\n",
    "            elif len(s) > 0 and s[-1][0] >= heights[i]:\n",
    "                while len(s) and s[-1][0] >= heights[i]:\n",
    "                    s.pop()\n",
    "                if len(s) == 0:\n",
    "                    result.append(ln)\n",
    "                else:\n",
    "                    result.append(s[-1][1])\n",
    "            s.append((heights[i], i))\n",
    "        return result[::-1]\n",
    "    \n",
    "    def NSEL(self, heights):\n",
    "        \"\"\"Next small element from left\"\"\"\n",
    "        result = []\n",
    "        s = [] #val and index\n",
    "        ln = len(heights)\n",
    "        for i in range(ln):\n",
    "            if len(s) == 0:\n",
    "                result.append(-1)\n",
    "            elif len(s) > 0 and s[-1][0] < heights[i]:\n",
    "                result.append(s[-1][1])\n",
    "            elif len(s) > 0 and s[-1][0] >= heights[i]:\n",
    "                while len(s) and s[-1][0] >= heights[i]:\n",
    "                    s.pop()\n",
    "                if len(s) == 0:\n",
    "                    result.append(-1)\n",
    "                else:\n",
    "                    result.append(s[-1][1])\n",
    "            s.append((heights[i], i))\n",
    "        return result\n",
    "            \n",
    "ob = Solution()\n",
    "ob.max_square([1,1,1,1,1])"
   ]
  },
  {
   "cell_type": "markdown",
   "metadata": {},
   "source": [
    "## balance paranthesis"
   ]
  },
  {
   "cell_type": "code",
   "execution_count": 52,
   "metadata": {},
   "outputs": [
    {
     "data": {
      "text/plain": [
       "False"
      ]
     },
     "execution_count": 52,
     "metadata": {},
     "output_type": "execute_result"
    }
   ],
   "source": [
    "class Solution:\n",
    "    def isValid(self, string: str) -> bool:\n",
    "        s = []\n",
    "        for i in string:\n",
    "            if i in ['(', '[','{']:\n",
    "                s.append(i)\n",
    "            elif i in [')', ']','}']:\n",
    "                if len(s) >0 and self.arePair(s[-1], i):\n",
    "                    s.pop()\n",
    "                elif len(s) == 0 or not self.arePair(s[-1], i):\n",
    "                    return False\n",
    "        if len(s) == 0:\n",
    "            return True\n",
    "        else:\n",
    "            return False\n",
    "    def arePair(self, op, cl):\n",
    "        if op == '(' and cl == ')':\n",
    "            return True\n",
    "        elif op == '{' and cl == '}':\n",
    "            return True\n",
    "        elif op == '[' and cl == ']':\n",
    "            return True\n",
    "        return False\n",
    "ob = Solution()\n",
    "ob.isValid('(]')"
   ]
  },
  {
   "cell_type": "markdown",
   "metadata": {},
   "source": [
    "## Min stack with extraa space"
   ]
  },
  {
   "cell_type": "code",
   "execution_count": 11,
   "metadata": {},
   "outputs": [
    {
     "data": {
      "text/plain": [
       "10"
      ]
     },
     "execution_count": 11,
     "metadata": {},
     "output_type": "execute_result"
    }
   ],
   "source": [
    "class MinStack:\n",
    "\n",
    "    def __init__(self):\n",
    "        \"\"\"\n",
    "        initialize your data structure here.\n",
    "        \"\"\"\n",
    "        self.s = []\n",
    "        self.ss = []\n",
    "        \n",
    "    def push(self, x: int) -> None:\n",
    "        self.s.append(x)\n",
    "        if len(self.ss) == 0 or self.ss[-1] >= x:\n",
    "            self.ss.append(x)\n",
    "        \n",
    "\n",
    "    def pop(self) -> None:\n",
    "        if self.ss[-1] == self.s[-1]:\n",
    "            self.ss.pop()\n",
    "            self.s.pop()\n",
    "        else:\n",
    "            self.s.pop()\n",
    "        \n",
    "\n",
    "    def top(self) -> int:\n",
    "        return self.s[-1]\n",
    "        \n",
    "\n",
    "    def getMin(self) -> int:\n",
    "        return self.ss[-1]\n",
    "ob = MinStack()\n",
    "ob.push(10)\n",
    "ob.push(12)\n",
    "ob.push(50)\n",
    "ob.pop()\n",
    "ob.getMin()\n",
    "        "
   ]
  },
  {
   "cell_type": "code",
   "execution_count": 28,
   "metadata": {},
   "outputs": [
    {
     "data": {
      "text/plain": [
       "3"
      ]
     },
     "execution_count": 28,
     "metadata": {},
     "output_type": "execute_result"
    }
   ],
   "source": [
    "# without extra space\n",
    "class MinStack:\n",
    "\n",
    "    def __init__(self):\n",
    "        \"\"\"\n",
    "        initialize your data structure here.\n",
    "        \"\"\"\n",
    "        self.s = []\n",
    "        self.minElement = 0\n",
    "        \n",
    "\n",
    "    def push(self, x: int) -> None:\n",
    "        if len(self.s) == 0:\n",
    "            self.s.append(x)\n",
    "            self.minElement = x\n",
    "        else:\n",
    "            if x >=  self.minElement:\n",
    "                self.s.append(x)\n",
    "            elif x < self.minElement:\n",
    "                self.s.append(2*x - self.minElement)\n",
    "                self.minElement = x\n",
    "        \n",
    "\n",
    "    def pop(self) -> None:\n",
    "        if self.s[-1] >= self.minElement:\n",
    "            self.s.pop()\n",
    "        # if stack top is less than minelement, then stack stop works as a flag\n",
    "        elif self.s[-1] < self.minElement:\n",
    "            self.minElement = 2 * self.minElement - self.s[-1]\n",
    "            self.s.pop()\n",
    "\n",
    "    def top(self) -> int:\n",
    "        if self.s[-1] >= self.minElement:\n",
    "            return self.s[-1]\n",
    "        else:\n",
    "            return self.minElement\n",
    "\n",
    "    def getMin(self) -> int:\n",
    "        return self.minElement\n",
    "ob = MinStack()\n",
    "ob.push(5)\n",
    "ob.push(3)\n",
    "ob.top()\n",
    "ob.getMin()"
   ]
  },
  {
   "cell_type": "markdown",
   "metadata": {},
   "source": [
    "## infix to postfix"
   ]
  },
  {
   "cell_type": "code",
   "execution_count": 9,
   "metadata": {},
   "outputs": [
    {
     "data": {
      "text/plain": [
       "'AB+C*D-E*'"
      ]
     },
     "execution_count": 9,
     "metadata": {},
     "output_type": "execute_result"
    }
   ],
   "source": [
    "def isOperand(char):\n",
    "    return char.isalpha()\n",
    "def isOperator(op):\n",
    "    s = '-+*^/'\n",
    "    if op in s:\n",
    "        return True\n",
    "    return False\n",
    "def isOpening(c):\n",
    "    s = ['[', '(', '{']\n",
    "    return c in s\n",
    "def isClosing(c):\n",
    "    s = [')', '}', ']']\n",
    "    return c in s\n",
    "def hasHighRank(stack_top, eq_op):\n",
    "    rank = {'+':1, '-':1, '*':2, '/':2, '^': 3}\n",
    "    try:\n",
    "        if rank[stack_top] >= rank[eq_op]:\n",
    "            return True\n",
    "        return False\n",
    "    except:\n",
    "        return False\n",
    "def InfixtoPostfix(eq):\n",
    "    result = ''\n",
    "    s = []\n",
    "    for i in eq:\n",
    "        if isOperand(i):\n",
    "            result += i\n",
    "        elif isOperator(i):\n",
    "            # pop until stack top has higher rank than i and concatenate to string\n",
    "            while len(s) > 0 and hasHighRank(s[-1], i) and not isOpening(i):\n",
    "                result += s.pop()\n",
    "            # if no, push it to stack\n",
    "            s.append(i)\n",
    "        elif isOpening(i):\n",
    "            s.append(i)\n",
    "        elif isClosing(i):\n",
    "            while len(s) > 0 and not isOpening(s[-1]):\n",
    "                result += s.pop()\n",
    "            s.pop()\n",
    "        \n",
    "    while len(s) > 0:\n",
    "        result += s.pop()\n",
    "    return result\n",
    "InfixtoPostfix('A+B*C-D*E')\n",
    "InfixtoPostfix('((A+B)*C-D)*E')"
   ]
  },
  {
   "cell_type": "raw",
   "metadata": {},
   "source": [
    "## evaluate postfix"
   ]
  },
  {
   "cell_type": "code",
   "execution_count": 6,
   "metadata": {},
   "outputs": [
    {
     "name": "stdout",
     "output_type": "stream",
     "text": [
      "2\n"
     ]
    }
   ],
   "source": [
    "class Solution:\n",
    "    def evalRPN(self, tokens) -> int:\n",
    "        s = []\n",
    "        operator = ['-','+', '*','/','^']\n",
    "        for i in tokens:\n",
    "            if i in operator:\n",
    "                op2 = s.pop()\n",
    "                op1 = s.pop()\n",
    "                result = self.perform(op1, op2, i)\n",
    "                s.append(result)\n",
    "            elif i == ' ':\n",
    "                continue\n",
    "            else:\n",
    "                s.append(int(i))\n",
    "        return s[-1]\n",
    "    def perform(self, operand1, operand2, op):\n",
    "        if op == '-':\n",
    "            return operand1 - operand2\n",
    "        elif op == '/':\n",
    "            return int(operand1 / operand2)\n",
    "        elif op == '+':\n",
    "            return operand1 + operand2\n",
    "        elif op == '*':\n",
    "            return operand1 * operand2\n",
    "        elif op == '^':\n",
    "            return operand1 ^ operand2\n",
    "ob = Solution()\n",
    "print(ob.evalRPN(['2', '1', '-', '2', ' ']))\n"
   ]
  },
  {
   "cell_type": "code",
   "execution_count": 9,
   "metadata": {},
   "outputs": [
    {
     "name": "stdout",
     "output_type": "stream",
     "text": [
      "['2', '1', '-', '2', ' ']\n"
     ]
    },
    {
     "data": {
      "text/plain": [
       "7"
      ]
     },
     "execution_count": 9,
     "metadata": {},
     "output_type": "execute_result"
    }
   ],
   "source": [
    "class Solution:\n",
    "    def calculate(self, st: str) -> int:\n",
    "        s = []\n",
    "        tokens = self.InfixtoPostfix(st)\n",
    "        operator = ['-','+', '*','/','^']\n",
    "        for i in tokens:\n",
    "            if i in operator:\n",
    "                op2 = s.pop()\n",
    "                op1 = s.pop()\n",
    "                result = self.perform(op1, op2, i)\n",
    "                s.append(result)\n",
    "            elif i == ' ':\n",
    "                continue\n",
    "            else:\n",
    "                s.append(int(i))\n",
    "        return s[-1]\n",
    "    def perform(self, operand1, operand2, op):\n",
    "        if op == '-':\n",
    "            return operand1 - operand2\n",
    "        elif op == '/':\n",
    "            return int(operand1 / operand2)\n",
    "        elif op == '+':\n",
    "            return operand1 + operand2\n",
    "        elif op == '*':\n",
    "            return operand1 * operand2\n",
    "        elif op == '^':\n",
    "            return operand1 ^ operand2\n",
    "    \n",
    "    def isOperator(self, op):\n",
    "        s = '-+*^/'\n",
    "        if op in s:\n",
    "            return True\n",
    "        return False\n",
    "    def isOperand(self, char):\n",
    "        return char.isdigit()\n",
    "    \n",
    "    def isOpening(self, c):\n",
    "        s = ['[', '(', '{']\n",
    "        return c in s\n",
    "    \n",
    "    def isClosing(self, c):\n",
    "        s = [')', '}', ']']\n",
    "        return c in s\n",
    "    \n",
    "    def hasHighRank(self, stack_top, eq_op):\n",
    "        rank = {'+':1, '-':1, '*':2, '/':2, '^': 3}\n",
    "        try:\n",
    "            if rank[stack_top] >= rank[eq_op]:\n",
    "                return True\n",
    "            return False\n",
    "        except:\n",
    "            return False\n",
    "        \n",
    "    def InfixtoPostfix(self, eq):\n",
    "        result = []\n",
    "        s = []\n",
    "        i = 0\n",
    "        while i < len(eq):\n",
    "            if eq[i].isdigit():\n",
    "                w = ''\n",
    "                while i < len(eq) and self.isOperand(eq[i]):\n",
    "                    w += eq[i]\n",
    "                    i += 1\n",
    "                result.append(w)\n",
    "            elif eq[i] == ' ':\n",
    "                i += 1\n",
    "                continue\n",
    "\n",
    "            elif self.isOperator(eq[i]):\n",
    "                # pop until stack top has higher rank than i and concatenate to string\n",
    "                while len(s) > 0 and self.hasHighRank(s[-1], eq[i]) and not self.isOpening(eq[i]):\n",
    "                    result.append(s.pop())\n",
    "                    i += 1\n",
    "                # if no, push it to stack\n",
    "                s.append(eq[i])\n",
    "                i += 1\n",
    "            elif self.isOpening(eq[i]):\n",
    "                s.append(eq[i])\n",
    "                i += 1\n",
    "            elif self.isClosing(eq[i]):\n",
    "                while len(s) > 0 and not self.isOpening(s[-1]):\n",
    "                    result.append(s.pop())\n",
    "                    i += 1\n",
    "                s.pop()\n",
    "\n",
    "        while len(s) > 0:\n",
    "            result += s.pop()\n",
    "        return result\n",
    "ob = Solution()\n",
    "print(ob.InfixtoPostfix(\" 2-1 + 2 \"))\n",
    "ob.calculate('3 + 2*2')"
   ]
  },
  {
   "cell_type": "markdown",
   "metadata": {},
   "source": [
    "## Basic calculator leetcode"
   ]
  },
  {
   "cell_type": "code",
   "execution_count": 7,
   "metadata": {},
   "outputs": [
    {
     "data": {
      "text/plain": [
       "233"
      ]
     },
     "execution_count": 7,
     "metadata": {},
     "output_type": "execute_result"
    }
   ],
   "source": [
    "def calculate(string):\n",
    "    operand = 0\n",
    "    res = 0\n",
    "    sign = 1\n",
    "    s = []\n",
    "    for i in string:\n",
    "        if i.isdigit():\n",
    "            operand = operand*10 + int(i)\n",
    "        elif i == '(':\n",
    "            s.append(res)\n",
    "            s.append(sign)\n",
    "            \n",
    "            sign = 1\n",
    "            res = 0\n",
    "        elif i == '+':\n",
    "            res += operand * sign\n",
    "            sign = 1\n",
    "            operand = 0\n",
    "        elif i == '-':\n",
    "            res += operand * sign\n",
    "            sign = -1\n",
    "            operand = 0\n",
    "        elif i == ')':\n",
    "            res += operand * sign\n",
    "            res *= s.pop()\n",
    "            res += s.pop()\n",
    "            operand = 0\n",
    "            \n",
    "    return res + operand * sign\n",
    "calculate(\"(233)\")\n",
    "            "
   ]
  },
  {
   "cell_type": "markdown",
   "metadata": {},
   "source": [
    "## K stacks in one array"
   ]
  },
  {
   "cell_type": "code",
   "execution_count": 31,
   "metadata": {},
   "outputs": [
    {
     "name": "stdout",
     "output_type": "stream",
     "text": [
      "12\n",
      "10\n",
      "-1\n",
      "30\n"
     ]
    }
   ],
   "source": [
    "class Kstacks:\n",
    "    def __init__(self, k, n):\n",
    "        self.k = k  # total number of stacks\n",
    "        self.n = n  # total numbers of ittems\n",
    "        self.arr = [0] * self.n\n",
    "        self.top = [-1] * self.k  # to save stack top\n",
    "        self.next = [i + 1 for i in range(self.n)]\n",
    "        self.next[self.n - 1] = -1  # rightmost conner will point to no free space\n",
    "        self.free = 0\n",
    "\n",
    "    def push(self, k, item):\n",
    "        insert_at = self.free\n",
    "        self.free = self.next[self.free]  # checking next spot\n",
    "        self.arr[insert_at] = item\n",
    "        self.next[insert_at] = self.top[k - 1]\n",
    "        self.top[k - 1] = insert_at\n",
    "\n",
    "    def Print(self):\n",
    "        print(self.arr)\n",
    "        print(self.next)\n",
    "\n",
    "    def pop(self, k):\n",
    "        if self.top[k - 1] == -1:\n",
    "            return -1\n",
    "        else:\n",
    "            poped_index = self.top[k-1]\n",
    "            poped_item = self.arr[poped_index]\n",
    "            self.top[k - 1] = self.next[poped_index]\n",
    "            self.arr[poped_index] = 0\n",
    "            return poped_item\n",
    "\n",
    "\n",
    "ob = Kstacks(4, 5)\n",
    "ob.push(2, 10)\n",
    "ob.push(2, 12)\n",
    "# ob.push(2, 14)\n",
    "ob.push(1, 20)\n",
    "ob.push(1, 30)\n",
    "print(ob.pop(2))\n",
    "print(ob.pop(2))\n",
    "print(ob.pop(2))\n",
    "print(ob.pop(1))\n"
   ]
  },
  {
   "cell_type": "markdown",
   "metadata": {},
   "source": [
    "## Find middle element in stack in constant time\n"
   ]
  },
  {
   "cell_type": "code",
   "execution_count": 59,
   "metadata": {},
   "outputs": [
    {
     "name": "stdout",
     "output_type": "stream",
     "text": [
      "12\n"
     ]
    }
   ],
   "source": [
    "class Node:\n",
    "    def __init__(self, data):\n",
    "        self.data = data\n",
    "        self.next = None\n",
    "        self.prev = None\n",
    "\n",
    "\n",
    "class Stack:\n",
    "    def __init__(self):\n",
    "        self.head = None\n",
    "        self.count = 0\n",
    "        self.mid = None\n",
    "\n",
    "    def push(self, data):\n",
    "        if self.head is None:\n",
    "            self.head = Node(data)\n",
    "            self.count += 1\n",
    "            self.mid = self.head\n",
    "        else:\n",
    "            temp = self.head\n",
    "            new_node = Node(data)\n",
    "            self.head = new_node\n",
    "            new_node.next = temp\n",
    "            temp.prev = new_node\n",
    "            self.count += 1\n",
    "            if self.count % 2 != 0:\n",
    "                self.mid = self.mid.prev\n",
    "\n",
    "    def top(self):\n",
    "        print(self.head.data)\n",
    "\n",
    "    def middle(self):\n",
    "        return self.mid.data\n",
    "    def pop(self):\n",
    "        if self.head is None:\n",
    "            return -1\n",
    "        else:\n",
    "            self.head = self.head.next\n",
    "            self.count -= 1\n",
    "            if self.count % 2 == 0:\n",
    "                self.mid = self.mid.next\n",
    "\n",
    "            return self.head.data\n",
    "\n",
    "\n",
    "\n",
    "ob = Stack()\n",
    "ob.push(10)\n",
    "ob.push(12)\n",
    "ob.push(17)\n",
    "ob.push(22)\n",
    "ob.push(100)\n",
    "ob.pop()\n",
    "# ob.pop()\n",
    "print(ob.middle())"
   ]
  },
  {
   "cell_type": "markdown",
   "metadata": {},
   "source": [
    "## implement stack using queue"
   ]
  },
  {
   "cell_type": "code",
   "execution_count": 106,
   "metadata": {},
   "outputs": [
    {
     "data": {
      "text/plain": [
       "False"
      ]
     },
     "execution_count": 106,
     "metadata": {},
     "output_type": "execute_result"
    }
   ],
   "source": [
    "from collections import deque\n",
    "\n",
    "\n",
    "class MyStack:\n",
    "\n",
    "    def __init__(self):\n",
    "        \"\"\"\n",
    "        Initialize your data structure here.\n",
    "        \"\"\"\n",
    "        self.q1 = deque()\n",
    "        self.q2 = deque()\n",
    "        self.topp = None\n",
    "\n",
    "    def push(self, x: int) -> None:\n",
    "        \"\"\"\n",
    "        Push element x onto stack.\n",
    "        \"\"\"\n",
    "        self.q1.append(x)\n",
    "\n",
    "    def pop(self) -> int:\n",
    "        \"\"\"\n",
    "        Removes the element on top of the stack and returns that element.\n",
    "        \"\"\"\n",
    "        while len(self.q1) > 1:\n",
    "            self.q2.append(self.q1.popleft())\n",
    "        temp = self.q1.popleft()\n",
    "        self.q1 = self.q2\n",
    "        self.q2 = deque()\n",
    "        return temp\n",
    "\n",
    "    def top(self) -> int:\n",
    "        \"\"\"\n",
    "        Get the top element.\n",
    "        \"\"\"\n",
    "        while len(self.q1) > 1:\n",
    "            self.q2.append(self.q1.popleft())\n",
    "\n",
    "        temp = self.q1.popleft()\n",
    "        self.q2.append(temp)\n",
    "        self.q1 = self.q2\n",
    "        self.q2 = deque()\n",
    "        return temp\n",
    "\n",
    "    def empty(self) -> bool:\n",
    "        \"\"\"\n",
    "        Returns whether the stack is empty.\n",
    "        \"\"\"\n",
    "        return self.q1 == []\n",
    "\n",
    "\n",
    "# Your MyStack object will be instantiated and called as such:\n",
    "obj = MyStack()\n",
    "obj.push(10)\n",
    "obj.push(12)\n",
    "obj.pop()\n",
    "obj.pop()\n",
    "obj.empty()\n",
    "# param_4 = obj.empty()"
   ]
  },
  {
   "cell_type": "code",
   "execution_count": null,
   "metadata": {},
   "outputs": [],
   "source": []
  },
  {
   "cell_type": "code",
   "execution_count": null,
   "metadata": {},
   "outputs": [],
   "source": []
  },
  {
   "cell_type": "code",
   "execution_count": null,
   "metadata": {},
   "outputs": [],
   "source": []
  }
 ],
 "metadata": {
  "kernelspec": {
   "display_name": "Python 3",
   "language": "python",
   "name": "python3"
  },
  "language_info": {
   "codemirror_mode": {
    "name": "ipython",
    "version": 3
   },
   "file_extension": ".py",
   "mimetype": "text/x-python",
   "name": "python",
   "nbconvert_exporter": "python",
   "pygments_lexer": "ipython3",
   "version": "3.7.6"
  }
 },
 "nbformat": 4,
 "nbformat_minor": 4
}
