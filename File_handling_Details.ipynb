{
 "cells": [
  {
   "cell_type": "markdown",
   "metadata": {},
   "source": [
    "# Creating file in jupyter notebook"
   ]
  },
  {
   "cell_type": "code",
   "execution_count": 44,
   "metadata": {},
   "outputs": [
    {
     "name": "stdout",
     "output_type": "stream",
     "text": [
      "Overwriting test_file.txt\n"
     ]
    }
   ],
   "source": [
    "\n",
    "%%writefile test_file.txt \n",
    "this is test file\n",
    "this second line\n",
    "this is third line"
   ]
  },
  {
   "cell_type": "code",
   "execution_count": 11,
   "metadata": {},
   "outputs": [],
   "source": [
    "f = open(\"test_file.txt\",'r') #open for read\n",
    "f.readlines()\n",
    "f.close() \n",
    "#if we open any file,it's also important to close the file"
   ]
  },
  {
   "cell_type": "code",
   "execution_count": 12,
   "metadata": {},
   "outputs": [
    {
     "ename": "FileNotFoundError",
     "evalue": "[Errno 2] No such file or directory: 'test_none.txt'",
     "output_type": "error",
     "traceback": [
      "\u001b[1;31m---------------------------------------------------------------------------\u001b[0m",
      "\u001b[1;31mFileNotFoundError\u001b[0m                         Traceback (most recent call last)",
      "\u001b[1;32m<ipython-input-12-221d9261d372>\u001b[0m in \u001b[0;36m<module>\u001b[1;34m\u001b[0m\n\u001b[1;32m----> 1\u001b[1;33m \u001b[0mf\u001b[0m \u001b[1;33m=\u001b[0m \u001b[0mopen\u001b[0m\u001b[1;33m(\u001b[0m\u001b[1;34m\"test_none.txt\"\u001b[0m\u001b[1;33m,\u001b[0m\u001b[1;34m'r'\u001b[0m\u001b[1;33m)\u001b[0m\u001b[1;33m\u001b[0m\u001b[1;33m\u001b[0m\u001b[0m\n\u001b[0m",
      "\u001b[1;31mFileNotFoundError\u001b[0m: [Errno 2] No such file or directory: 'test_none.txt'"
     ]
    }
   ],
   "source": [
    "f = open(\"test_none.txt\",'r')"
   ]
  },
  {
   "cell_type": "code",
   "execution_count": 15,
   "metadata": {},
   "outputs": [
    {
     "data": {
      "text/plain": [
       "'C:\\\\Users\\\\HP'"
      ]
     },
     "execution_count": 15,
     "metadata": {},
     "output_type": "execute_result"
    }
   ],
   "source": [
    "pwd #current directory"
   ]
  },
  {
   "cell_type": "code",
   "execution_count": 18,
   "metadata": {},
   "outputs": [
    {
     "data": {
      "text/plain": [
       "'hi, my name is than win \\ni am 22 years old '"
      ]
     },
     "execution_count": 18,
     "metadata": {},
     "output_type": "execute_result"
    }
   ],
   "source": [
    "f = open('C:\\\\Users\\\\HP\\\\ok\\\\mydoc.txt','r')\n",
    "f.read()"
   ]
  },
  {
   "cell_type": "code",
   "execution_count": 19,
   "metadata": {},
   "outputs": [],
   "source": [
    "f.close()"
   ]
  },
  {
   "cell_type": "markdown",
   "metadata": {},
   "source": [
    "# with open-no worry to close file"
   ]
  },
  {
   "cell_type": "code",
   "execution_count": 45,
   "metadata": {},
   "outputs": [
    {
     "name": "stdout",
     "output_type": "stream",
     "text": [
      "test_file.txt\n",
      "r\n",
      "True\n"
     ]
    }
   ],
   "source": [
    "with open('test_file.txt','r') as f: #r:open for reading\n",
    "    pass\n",
    "print(f.name)\n",
    "print(f.mode)\n",
    "print(f.closed) #it proves that the file get closed automatic after we open the file\n",
    "#we dont have to worry about closing the file"
   ]
  },
  {
   "cell_type": "code",
   "execution_count": 46,
   "metadata": {},
   "outputs": [
    {
     "name": "stdout",
     "output_type": "stream",
     "text": [
      "this is test file\n",
      "this second line\n"
     ]
    }
   ],
   "source": [
    "with open('test_file.txt','r') as f:\n",
    "    #f_contents = f.read()\n",
    "    #f_contents = f.readlines() #it gives a list\n",
    "    f_contents = f.readline()\n",
    "    print(f_contents,end=\"\")\n",
    "    #it gives another line\n",
    "    f_contents = f.readline()\n",
    "    print(f_contents,end=\"\")"
   ]
  },
  {
   "cell_type": "code",
   "execution_count": 47,
   "metadata": {},
   "outputs": [],
   "source": [
    "with open('test_file.txt','a') as f: #a:it will append new line\n",
    "    f.write(\"A new line added\")\n",
    "    "
   ]
  },
  {
   "cell_type": "code",
   "execution_count": 48,
   "metadata": {},
   "outputs": [
    {
     "name": "stdout",
     "output_type": "stream",
     "text": [
      "this is test file\n",
      "this second line\n",
      "this is third line\n",
      "A new line added\n"
     ]
    }
   ],
   "source": [
    "with open('test_file.txt','r') as f:\n",
    "    f_contents = f.read()\n",
    "    print(f_contents)"
   ]
  },
  {
   "cell_type": "code",
   "execution_count": 49,
   "metadata": {},
   "outputs": [],
   "source": [
    "with open('test_file2.txt','w') as f: #Opens a file for writing, creates the file if it does not exist\n",
    "    f.write(\"This is new file\")\n",
    "    "
   ]
  },
  {
   "cell_type": "code",
   "execution_count": 50,
   "metadata": {},
   "outputs": [
    {
     "name": "stdout",
     "output_type": "stream",
     "text": [
      "This is new file\n"
     ]
    }
   ],
   "source": [
    "with open('test_file2.txt','r') as f:\n",
    "    f_contents = f.read()\n",
    "    print(f_contents)"
   ]
  },
  {
   "cell_type": "code",
   "execution_count": 53,
   "metadata": {},
   "outputs": [],
   "source": [
    "#over writting a file\n",
    "with open('test_file2.txt','w') as f:\n",
    "    f.write(\"I just overwrote\")"
   ]
  },
  {
   "cell_type": "code",
   "execution_count": 54,
   "metadata": {},
   "outputs": [
    {
     "name": "stdout",
     "output_type": "stream",
     "text": [
      "I just overwrote\n"
     ]
    }
   ],
   "source": [
    "with open(\"test_file2.txt\",\"r\") as f:\n",
    "    f_contents = f.read()\n",
    "    print(f_contents)"
   ]
  },
  {
   "cell_type": "code",
   "execution_count": 55,
   "metadata": {},
   "outputs": [
    {
     "name": "stdout",
     "output_type": "stream",
     "text": [
      "this is test file\n",
      "this second line\n",
      "this is third line\n",
      "A new line added\n"
     ]
    }
   ],
   "source": [
    "with open('test_file.txt','r') as f:\n",
    "    f_contents = f.read()\n",
    "    print(f_contents)"
   ]
  },
  {
   "cell_type": "code",
   "execution_count": 62,
   "metadata": {},
   "outputs": [
    {
     "name": "stdout",
     "output_type": "stream",
     "text": [
      "this is test file\n",
      "this second line\n",
      "this is third line\n",
      "A new line added73\n"
     ]
    }
   ],
   "source": [
    "with open('test_file.txt','r') as f:\n",
    "    f_con = f.read(50) #it only read first 30 character\n",
    "    print(f_con,end=\"\")\n",
    "    #it will pick up where it left of\n",
    "    f_con = f.read(50) \n",
    "    print(f_con,end=\"\")\n",
    "    print(f.tell()) #it tells where we are at\n",
    "    "
   ]
  },
  {
   "cell_type": "code",
   "execution_count": 64,
   "metadata": {},
   "outputs": [
    {
     "name": "stdout",
     "output_type": "stream",
     "text": [
      "this is te#st file\n",
      "th#"
     ]
    }
   ],
   "source": [
    "with open('test_file.txt','r') as f:\n",
    "    size_to_read = 10\n",
    "    f_con = f.read(size_to_read)\n",
    "    print(f_con,end=\"#\")\n",
    "    f_con = f.read(size_to_read)\n",
    "    print(f_con,end=\"#\")"
   ]
  },
  {
   "cell_type": "code",
   "execution_count": 65,
   "metadata": {},
   "outputs": [
    {
     "name": "stdout",
     "output_type": "stream",
     "text": [
      "this is test file\n",
      "this second line\n",
      "this is third line\n",
      "A new line added"
     ]
    }
   ],
   "source": [
    "with open('test_file.txt','r') as f:\n",
    "    size_to_read = 10\n",
    "    f_con = f.read(size_to_read)\n",
    "    while len(f_con)>0:\n",
    "        print(f_con,end=\"\")\n",
    "        f_con = f.read(size_to_read)"
   ]
  },
  {
   "cell_type": "markdown",
   "metadata": {},
   "source": [
    "# Using seek() "
   ]
  },
  {
   "cell_type": "code",
   "execution_count": 69,
   "metadata": {},
   "outputs": [
    {
     "name": "stdout",
     "output_type": "stream",
     "text": [
      "this is test fi\n",
      "his is test fil\n"
     ]
    }
   ],
   "source": [
    "with open('test_file.txt','r') as f:\n",
    "    size_to_read = 15\n",
    "    f_contents = f.read(size_to_read)\n",
    "    print(f_contents)\n",
    "    f.seek(1) #it will start from position one\n",
    "    f_contents = f.read(size_to_read)\n",
    "    print(f_contents)"
   ]
  },
  {
   "cell_type": "markdown",
   "metadata": {},
   "source": [
    "Test to Rest"
   ]
  },
  {
   "cell_type": "code",
   "execution_count": 72,
   "metadata": {},
   "outputs": [],
   "source": [
    "with open('my_file.txt','w') as p:\n",
    "    p.write(\"Test\")\n",
    "    p.seek(0)\n",
    "    p.write('R')"
   ]
  },
  {
   "cell_type": "code",
   "execution_count": 73,
   "metadata": {},
   "outputs": [
    {
     "name": "stdout",
     "output_type": "stream",
     "text": [
      "Rest\n"
     ]
    }
   ],
   "source": [
    "with open('my_file.txt','r') as p:\n",
    "    f_cont = p.read()\n",
    "    print(f_cont)\n",
    "    "
   ]
  },
  {
   "cell_type": "markdown",
   "metadata": {},
   "source": [
    "# How to copy all the contents to another file"
   ]
  },
  {
   "cell_type": "code",
   "execution_count": 76,
   "metadata": {},
   "outputs": [],
   "source": [
    "with open('test_file.txt','r') as rf:\n",
    "    with open('test_file_copy.txt','w') as wf:\n",
    "        for line in rf:\n",
    "            wf.write(line)\n",
    "    "
   ]
  },
  {
   "cell_type": "code",
   "execution_count": 78,
   "metadata": {},
   "outputs": [
    {
     "name": "stdout",
     "output_type": "stream",
     "text": [
      "this is test file\n",
      "this second line\n",
      "this is third line\n",
      "A new line added\n"
     ]
    }
   ],
   "source": [
    "with open('test_file_copy.txt','r') as f:\n",
    "    f_contents = f.read()\n",
    "    print(f_contents)"
   ]
  },
  {
   "cell_type": "code",
   "execution_count": 79,
   "metadata": {},
   "outputs": [],
   "source": [
    "with open('sample.jpg','rb') as rf:\n",
    "    with open('sample_copy.jpg','wb') as wf:\n",
    "        for line in rf:\n",
    "            wf.write(line) ##check in folder to see how it create another copy"
   ]
  },
  {
   "cell_type": "code",
   "execution_count": 80,
   "metadata": {},
   "outputs": [],
   "source": [
    "import os #it deletes file\n",
    "os.remove('test_file.txt')"
   ]
  },
  {
   "cell_type": "code",
   "execution_count": 81,
   "metadata": {},
   "outputs": [
    {
     "ename": "FileNotFoundError",
     "evalue": "[Errno 2] No such file or directory: 'test_file.txt'",
     "output_type": "error",
     "traceback": [
      "\u001b[1;31m---------------------------------------------------------------------------\u001b[0m",
      "\u001b[1;31mFileNotFoundError\u001b[0m                         Traceback (most recent call last)",
      "\u001b[1;32m<ipython-input-81-4f4d8e65fb9a>\u001b[0m in \u001b[0;36m<module>\u001b[1;34m\u001b[0m\n\u001b[1;32m----> 1\u001b[1;33m \u001b[1;32mwith\u001b[0m \u001b[0mopen\u001b[0m\u001b[1;33m(\u001b[0m\u001b[1;34m'test_file.txt'\u001b[0m\u001b[1;33m,\u001b[0m\u001b[1;34m'r'\u001b[0m\u001b[1;33m)\u001b[0m \u001b[1;32mas\u001b[0m \u001b[0mf\u001b[0m\u001b[1;33m:\u001b[0m\u001b[1;33m\u001b[0m\u001b[1;33m\u001b[0m\u001b[0m\n\u001b[0m\u001b[0;32m      2\u001b[0m     \u001b[1;32mpass\u001b[0m\u001b[1;33m\u001b[0m\u001b[1;33m\u001b[0m\u001b[0m\n",
      "\u001b[1;31mFileNotFoundError\u001b[0m: [Errno 2] No such file or directory: 'test_file.txt'"
     ]
    }
   ],
   "source": [
    "with open('test_file.txt','r') as f:\n",
    "    pass"
   ]
  },
  {
   "cell_type": "markdown",
   "metadata": {},
   "source": [
    "# Exercise for file handling"
   ]
  },
  {
   "cell_type": "markdown",
   "metadata": {},
   "source": [
    "write a python program to read an entire text file "
   ]
  },
  {
   "cell_type": "code",
   "execution_count": 83,
   "metadata": {},
   "outputs": [],
   "source": [
    "def read_whole(fname):\n",
    "    with open(fname,'r') as f:\n",
    "        f_contents = f.read()\n",
    "        print(f_contents)"
   ]
  },
  {
   "cell_type": "code",
   "execution_count": 85,
   "metadata": {},
   "outputs": [
    {
     "name": "stdout",
     "output_type": "stream",
     "text": [
      "this is test file\n",
      "this second line\n",
      "this is third line\n",
      "A new line added\n"
     ]
    }
   ],
   "source": [
    "read_whole('test_file_copy.txt')"
   ]
  },
  {
   "cell_type": "markdown",
   "metadata": {},
   "source": [
    " Write a Python program to append text to a file and display the text\n",
    " >>new text should be in new line"
   ]
  },
  {
   "cell_type": "code",
   "execution_count": 98,
   "metadata": {},
   "outputs": [],
   "source": [
    "def append_text():\n",
    "    f_name = input()\n",
    "    text =input()\n",
    "    with open(f_name,'a') as f:\n",
    "        f.write(\"{}\\n\".format(text))\n",
    "    with open(f_name,'r') as f:\n",
    "        f_contents = f.read()\n",
    "        print(f_contents)"
   ]
  },
  {
   "cell_type": "code",
   "execution_count": 99,
   "metadata": {},
   "outputs": [
    {
     "name": "stdout",
     "output_type": "stream",
     "text": [
      "test_file_copy.txt\n",
      "bob \n",
      "this is test file\n",
      "this second line\n",
      "this is third line\n",
      "A new line addedi just added againthan win\n",
      "bob \n",
      "\n"
     ]
    }
   ],
   "source": [
    "append_text()"
   ]
  },
  {
   "cell_type": "code",
   "execution_count": 3,
   "metadata": {},
   "outputs": [
    {
     "name": "stdout",
     "output_type": "stream",
     "text": [
      "What should i Rememberapple is my favourite\n"
     ]
    }
   ],
   "source": [
    "def remember(thing):\n",
    "    with open('database.txt', 'a') as file:\n",
    "        file.write(thing + '\\n')\n",
    "if __name__=='__main__':\n",
    "    remember(input(\"What should i Remember\"))"
   ]
  },
  {
   "cell_type": "code",
   "execution_count": 4,
   "metadata": {},
   "outputs": [
    {
     "name": "stdout",
     "output_type": "stream",
     "text": [
      "orange\n",
      "apple is my favourite\n",
      "\n"
     ]
    }
   ],
   "source": [
    "with open('database.txt', 'r') as f:\n",
    "    print(f.read())"
   ]
  },
  {
   "cell_type": "code",
   "execution_count": 23,
   "metadata": {},
   "outputs": [
    {
     "name": "stdout",
     "output_type": "stream",
     "text": [
      "Choose  choicekk\n",
      "What should i rememberthan win\n"
     ]
    }
   ],
   "source": [
    "\n",
    "def remember(thing):\n",
    "    with open('database.txt', 'a') as file:\n",
    "        file.write(thing + '\\n')\n",
    "def show():\n",
    "    # open file\n",
    "    with open('database.txt') as f:\n",
    "        for line in f:\n",
    "            print(line)\n",
    "    # print out each line in new file\n",
    "    pass\n",
    "if __name__=='__main__':\n",
    "    user = input('Choose  choice')\n",
    "    if user == 'show':\n",
    "        show()\n",
    "    else:\n",
    "        remember(input('What should i remember'))"
   ]
  },
  {
   "cell_type": "code",
   "execution_count": 28,
   "metadata": {},
   "outputs": [
    {
     "name": "stdout",
     "output_type": "stream",
     "text": [
      "\n",
      "egnaro\n",
      "\n",
      "etiruovaf ym si elppa\n",
      "\n",
      "egnaro\n",
      "\n",
      "elkppa\n",
      "\n",
      "niw naht\n"
     ]
    }
   ],
   "source": [
    "with open('database.txt') as p:\n",
    "    #print(p.read())\n",
    "    lines=p.readlines()\n",
    "# print all names in file in backward \n",
    "for line in lines:\n",
    "    print(line[::-1])"
   ]
  },
  {
   "cell_type": "code",
   "execution_count": 21,
   "metadata": {},
   "outputs": [],
   "source": [
    "import csv\n",
    "\n",
    "with open('neww.csv', 'r') as csv_file:\n",
    "    csv_reader = csv.reader(csv_file)\n",
    "    \n",
    "    for line in csv_reader:\n",
    "        #print(line)\n",
    "        print(line)"
   ]
  },
  {
   "cell_type": "code",
   "execution_count": null,
   "metadata": {},
   "outputs": [],
   "source": []
  },
  {
   "cell_type": "code",
   "execution_count": null,
   "metadata": {},
   "outputs": [],
   "source": []
  }
 ],
 "metadata": {
  "kernelspec": {
   "display_name": "Python 3",
   "language": "python",
   "name": "python3"
  },
  "language_info": {
   "codemirror_mode": {
    "name": "ipython",
    "version": 3
   },
   "file_extension": ".py",
   "mimetype": "text/x-python",
   "name": "python",
   "nbconvert_exporter": "python",
   "pygments_lexer": "ipython3",
   "version": "3.7.4"
  }
 },
 "nbformat": 4,
 "nbformat_minor": 2
}
