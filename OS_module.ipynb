{
 "cells": [
  {
   "cell_type": "markdown",
   "metadata": {},
   "source": [
    "# Os module\n",
    "\n",
    "The os module allow us to interact with underlying operating system in several different ways\n",
    "\n",
    ". Navigate the file system\n",
    "\n",
    ". Get the file information\n",
    "\n",
    ". Look up and change enviroment varaibles\n",
    "\n",
    ". Move files aroung and many more"
   ]
  },
  {
   "cell_type": "markdown",
   "metadata": {},
   "source": [
    "# get current location"
   ]
  },
  {
   "cell_type": "code",
   "execution_count": 5,
   "metadata": {},
   "outputs": [
    {
     "name": "stdout",
     "output_type": "stream",
     "text": [
      "C:\\Users\\HP\n"
     ]
    }
   ],
   "source": [
    "import os\n",
    "# dir(os)\n",
    "# get the current location\n",
    "print(os.getcwd())"
   ]
  },
  {
   "cell_type": "markdown",
   "metadata": {},
   "source": [
    "# change directory"
   ]
  },
  {
   "cell_type": "code",
   "execution_count": 9,
   "metadata": {},
   "outputs": [
    {
     "name": "stdout",
     "output_type": "stream",
     "text": [
      "D:\\New_semester\n"
     ]
    }
   ],
   "source": [
    "os.chdir('D:\\\\New_semester')\n",
    "print(os.getcwd())"
   ]
  },
  {
   "cell_type": "markdown",
   "metadata": {},
   "source": [
    "# list directory"
   ]
  },
  {
   "cell_type": "code",
   "execution_count": 16,
   "metadata": {},
   "outputs": [
    {
     "name": "stdout",
     "output_type": "stream",
     "text": [
      "['17.2.docx', 'AADocument', 'Adobe Photoshop CC 2015 (20150529.r.88) (32+64Bit) + Crack', 'ALL C', 'Allcofee', 'Antonio', 'aspnetlibraryadmintemplate.zip', 'ASSIGNMNET 06.docx', 'Coffee', 'DeliveryOptimization', 'Electrical', 'HP', 'JTattoo-1.6.11.jar', 'learArray04', 'LessonsPlan', 'Library-Management-System-JAVA-masterok', 'Library-Management-System-JAVA-masterok.zip', 'Library-management-system-master', 'Library-management-system-master.zip', 'Linear Algebra - Complete Guide', 'phplm', 'phplm.zip', 'PR2018CC（软件）.rar', 'problem 12.3.docx', 'sam assignment (1).rp']\n"
     ]
    }
   ],
   "source": [
    "# list directory, you can pass a path, but by default it is in the current directory\n",
    "# print(os.listdir()) # by default curent directory\n",
    "print(os.listdir('D:\\Classwork')) # passing file path"
   ]
  },
  {
   "cell_type": "markdown",
   "metadata": {},
   "source": [
    "# Creating directory"
   ]
  },
  {
   "cell_type": "code",
   "execution_count": 23,
   "metadata": {},
   "outputs": [],
   "source": [
    "os.chdir('D:\\\\New_semester')\n",
    "# print(os.listdir())"
   ]
  },
  {
   "cell_type": "code",
   "execution_count": 41,
   "metadata": {},
   "outputs": [
    {
     "name": "stdout",
     "output_type": "stream",
     "text": [
      "['Android Textbook.pdf', 'b_module', 'Discrete Mathematics and Its Applications Seventh Edition by Kenneth H. Rosen.pdf', 'Document 9.pdf', 'MIT6_0001F16_Lec8.pdf', 'Rosen_SSG_CommonMistakes.pdf', 'Security in Computing.pdf', \"Software Engineering - A Practitioner's Approach (Eighth Edition).pdf\", 'Susanna S. Epp - Discrete Mathematics with Applications-Cengage Learning (2019).pdf', 'WeChatSetup.exe', '`.pdf']\n"
     ]
    }
   ],
   "source": [
    "# os.mkdir('a_module') # it is used for one directory\n",
    "os.makedirs('b_module/sub_b_module/sub_sub_b') # use for multiple directory\n",
    "print(os.listdir())"
   ]
  },
  {
   "cell_type": "markdown",
   "metadata": {},
   "source": [
    "# removing directory"
   ]
  },
  {
   "cell_type": "code",
   "execution_count": 49,
   "metadata": {},
   "outputs": [],
   "source": [
    "# os.rmdir('b_module') # use one directory # recommended to use\n",
    "# os.removedirs('b_module/sub_b_module/sub_sub_b')\n",
    "os.removedirs('b_module/sub_b_module')\n"
   ]
  },
  {
   "cell_type": "code",
   "execution_count": 57,
   "metadata": {},
   "outputs": [
    {
     "name": "stdout",
     "output_type": "stream",
     "text": [
      "['Android Textbook.pdf', 'b_module', 'Discrete Mathematics and Its Applications Seventh Edition by Kenneth H. Rosen.pdf', 'Document 9.pdf', 'MIT6_0001F16_Lec8.pdf', 'Rosen_SSG_CommonMistakes.pdf', 'Security in Computing.pdf', \"Software Engineering - A Practitioner's Approach (Eighth Edition).pdf\", 'Susanna S. Epp - Discrete Mathematics with Applications-Cengage Learning (2019).pdf', 'WeChatSetup.exe', '`.pdf']\n"
     ]
    }
   ],
   "source": [
    "print(os.listdir())"
   ]
  },
  {
   "cell_type": "code",
   "execution_count": 56,
   "metadata": {},
   "outputs": [],
   "source": [
    "import os\n",
    "os.makedirs('b_module/sub_b_module/sub_sub_b')"
   ]
  },
  {
   "cell_type": "code",
   "execution_count": null,
   "metadata": {},
   "outputs": [],
   "source": []
  },
  {
   "cell_type": "markdown",
   "metadata": {},
   "source": [
    "# renaming and removing file"
   ]
  },
  {
   "cell_type": "code",
   "execution_count": 54,
   "metadata": {},
   "outputs": [],
   "source": [
    "import os\n",
    "# chaning test_again.txt to 'test_now.txt'\n",
    "# os.rename('test_again.txt', 'test_now.txt')"
   ]
  },
  {
   "cell_type": "code",
   "execution_count": 55,
   "metadata": {},
   "outputs": [],
   "source": [
    "os.remove('test_now.txt') # removes a file"
   ]
  },
  {
   "cell_type": "markdown",
   "metadata": {},
   "source": [
    "# working with stat"
   ]
  },
  {
   "cell_type": "code",
   "execution_count": 65,
   "metadata": {},
   "outputs": [
    {
     "data": {
      "text/plain": [
       "105"
      ]
     },
     "execution_count": 65,
     "metadata": {},
     "output_type": "execute_result"
    }
   ],
   "source": [
    "# os.stat('testing.txt') # it will print with all attribute\n",
    "print(os.stat('testing.txt').st_size) # it prints file size"
   ]
  },
  {
   "cell_type": "code",
   "execution_count": 68,
   "metadata": {},
   "outputs": [
    {
     "name": "stdout",
     "output_type": "stream",
     "text": [
      "2020-05-26 20:25:02.510788\n"
     ]
    }
   ],
   "source": [
    "from datetime import datetime\n",
    "mod_time = os.stat('testing.txt').st_mtime # checking when the file was modified \n",
    "print(datetime.fromtimestamp(mod_time))"
   ]
  },
  {
   "cell_type": "markdown",
   "metadata": {},
   "source": [
    "# os walk"
   ]
  },
  {
   "cell_type": "code",
   "execution_count": 70,
   "metadata": {},
   "outputs": [
    {
     "name": "stdout",
     "output_type": "stream",
     "text": [
      "D:\\New_semester\n",
      "dirpath: D:\\New_semester\n",
      "dirname ['b_module']\n",
      "filename ['Android Textbook.pdf', 'Discrete Mathematics and Its Applications Seventh Edition by Kenneth H. Rosen.pdf', 'Document 9.pdf', 'MIT6_0001F16_Lec8.pdf', 'Rosen_SSG_CommonMistakes.pdf', 'Security in Computing.pdf', \"Software Engineering - A Practitioner's Approach (Eighth Edition).pdf\", 'Susanna S. Epp - Discrete Mathematics with Applications-Cengage Learning (2019).pdf', 'testing.txt', 'WeChatSetup.exe', '`.pdf']\n",
      "dirpath: D:\\New_semester\\b_module\n",
      "dirname ['New folder']\n",
      "filename []\n",
      "dirpath: D:\\New_semester\\b_module\\New folder\n",
      "dirname []\n",
      "filename ['New Text Document.txt']\n"
     ]
    }
   ],
   "source": [
    "print(os.getcwd())\n",
    "for dirpath, dirname, filename in os.walk('D:\\\\New_semester'):\n",
    "    print('dirpath:', dirpath)\n",
    "    print('dirname', dirname)\n",
    "    print('filename', filename)"
   ]
  },
  {
   "cell_type": "markdown",
   "metadata": {},
   "source": [
    "# environ"
   ]
  },
  {
   "cell_type": "code",
   "execution_count": 75,
   "metadata": {},
   "outputs": [
    {
     "name": "stdout",
     "output_type": "stream",
     "text": [
      "C:\\Users\\HP\n"
     ]
    }
   ],
   "source": [
    "# accessing location by grabing enviroment variable\n",
    "print(os.environ.get('USERPROFILE'))"
   ]
  },
  {
   "cell_type": "markdown",
   "metadata": {},
   "source": [
    "# creating file in a specific location"
   ]
  },
  {
   "cell_type": "code",
   "execution_count": 80,
   "metadata": {},
   "outputs": [],
   "source": [
    "# print(os.environ.get('OneDriveConsumer'))\n",
    "file_path = os.path.join(os.environ.get('OneDriveConsumer'),'win.txt') # using enviroment variable\n",
    "with open(file_path, 'a') as f:\n",
    "    f.write('This is test file')\n",
    "    "
   ]
  },
  {
   "cell_type": "code",
   "execution_count": 90,
   "metadata": {},
   "outputs": [],
   "source": [
    "file_p = os.path.join('D:/New_semester','new_file2.txt')\n",
    "with open(file_p, 'w') as f:\n",
    "    f.write('This is new file')"
   ]
  },
  {
   "cell_type": "code",
   "execution_count": null,
   "metadata": {},
   "outputs": [],
   "source": []
  },
  {
   "cell_type": "code",
   "execution_count": 88,
   "metadata": {},
   "outputs": [
    {
     "name": "stdout",
     "output_type": "stream",
     "text": [
      "('D:\\\\New_semester', 'new_file.txt')\n",
      "new_file.txt\n",
      "True\n",
      "D:\\New_semester\n",
      "False\n"
     ]
    }
   ],
   "source": [
    "print(os.path.split('D:\\\\New_semester\\\\new_file.txt'))\n",
    "print(os.path.basename('D:\\\\New_semester\\\\new_file.txt'))\n",
    "print(os.path.isfile('D:\\\\New_semester\\\\new_file.txt'))\n",
    "print(os.path.dirname('D:\\\\New_semester\\\\new_file.txt'))\n",
    "print(os.path.exists('D:\\\\New_semester\\\\newfile.txt')) # path doens't exist"
   ]
  },
  {
   "cell_type": "code",
   "execution_count": null,
   "metadata": {},
   "outputs": [],
   "source": []
  },
  {
   "cell_type": "code",
   "execution_count": null,
   "metadata": {},
   "outputs": [],
   "source": []
  },
  {
   "cell_type": "code",
   "execution_count": null,
   "metadata": {},
   "outputs": [],
   "source": []
  },
  {
   "cell_type": "code",
   "execution_count": null,
   "metadata": {},
   "outputs": [],
   "source": []
  },
  {
   "cell_type": "code",
   "execution_count": null,
   "metadata": {},
   "outputs": [],
   "source": []
  },
  {
   "cell_type": "markdown",
   "metadata": {},
   "source": [
    "# "
   ]
  }
 ],
 "metadata": {
  "kernelspec": {
   "display_name": "Python 3",
   "language": "python",
   "name": "python3"
  },
  "language_info": {
   "codemirror_mode": {
    "name": "ipython",
    "version": 3
   },
   "file_extension": ".py",
   "mimetype": "text/x-python",
   "name": "python",
   "nbconvert_exporter": "python",
   "pygments_lexer": "ipython3",
   "version": "3.7.4"
  }
 },
 "nbformat": 4,
 "nbformat_minor": 2
}
