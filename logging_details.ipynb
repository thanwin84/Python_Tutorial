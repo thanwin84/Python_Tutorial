{
 "cells": [
  {
   "cell_type": "markdown",
   "metadata": {},
   "source": [
    "# Basic logging"
   ]
  },
  {
   "cell_type": "code",
   "execution_count": null,
   "metadata": {},
   "outputs": [],
   "source": [
    "import logging\n",
    "\n",
    "logging.warning(\"It will print to the console\")\n",
    "logging.info(\"It will not print\")\n",
    "logging.critical(\"It will also show this\")\n",
    "#the info doesn't appear in the console output because the default level is 'WARNING'"
   ]
  },
  {
   "cell_type": "raw",
   "metadata": {},
   "source": [
    "DEBUG: Detailed information, typically of interest only when diagnosing problems.\n",
    "INFO: Confirmation that things are working as expected.\n",
    "WARNING: An indication that something unexpected happened, or indicative of some problem in the near future (e.g. ‘disk space low’). The software is still working as expected.\n",
    "ERROR: Due to a more serious problem, the software has not been able to perform some function.\n",
    "CRITICAL: A serious error, indicating that the program itself may be unable to continue running."
   ]
  },
  {
   "cell_type": "code",
   "execution_count": null,
   "metadata": {},
   "outputs": [],
   "source": [
    "import logging\n",
    "\n",
    "#basic configuration and logging to a file\n",
    "logging.basicConfig(filename='initial_file.log', level=logging.DEBUG, format='%(asctime)s:%(levelname)s:%(message)s' )\n",
    "\n",
    "def add(x, y):\n",
    "    return x + y\n",
    "\n",
    "def subtract(x, y):\n",
    "    return x - y\n",
    "\n",
    "def multiply(x, y):\n",
    "    return x * y\n",
    "\n",
    "def devide(x, y):\n",
    "    return x / y\n",
    "\n",
    "num_1 = 30\n",
    "num_2 = 5\n",
    "\n",
    "add_result = add(num_1, num_2)\n",
    "logging.debug(\"add: {} + {} = {}\".format(num_1, num_2, add_result))\n",
    "\n",
    "sub_result = subtract(num_1, num_2)\n",
    "logging.debug(\"Sub: {} - {} = {}\".format(num_1, num_2, sub_result))\n",
    "\n",
    "mul_result = multiply(num_1, num_2)\n",
    "logging.debug(\"multiply: {} * {} = {}\".format(num_1, num_2, mul_result))\n",
    "\n",
    "devide_result = devide(num_1, num_2)\n",
    "logging.debug(\"devide: {} + {} = {}\".format(num_1, num_2, devide_result))"
   ]
  },
  {
   "cell_type": "code",
   "execution_count": null,
   "metadata": {},
   "outputs": [],
   "source": [
    "with open('initial_file.log') as f:\n",
    "    print(f.read())"
   ]
  },
  {
   "cell_type": "code",
   "execution_count": 1,
   "metadata": {},
   "outputs": [],
   "source": [
    "import logging\n",
    "\n",
    "logging.basicConfig(filename='emp_record.log', level=logging.INFO, format='%(asctime)s:%(levelname)s:%(message)s')\n",
    "class Employee:\n",
    "    def __init__(self,first,last):\n",
    "        self.first = first \n",
    "        self.last = last\n",
    "        logging.info('{}:{}'.format(self.email,self.full_name))\n",
    "    @property\n",
    "    def email(self):\n",
    "        return self.first + self.last + '@mail.com'\n",
    "    @property\n",
    "    def full_name(self):"
   ]
  },
  {
   "cell_type": "code",
   "execution_count": 2,
   "metadata": {},
   "outputs": [
    {
     "name": "stdout",
     "output_type": "stream",
     "text": [
      "2020-04-05 01:31:42,712:INFO:thanwin@mail.com:than win\n",
      "2020-04-05 01:31:42,713:INFO:alexzandra@mail.com:alex zandra\n",
      "\n"
     ]
    }
   ],
   "source": [
    "with open('emp_record.log') as f:\n",
    "    print(f.read())"
   ]
  },
  {
   "cell_type": "markdown",
   "metadata": {},
   "source": [
    "# Advance tutorial "
   ]
  },
  {
   "cell_type": "code",
   "execution_count": 5,
   "metadata": {},
   "outputs": [
    {
     "name": "stderr",
     "output_type": "stream",
     "text": [
      "thanwin@mail.com:thanwin\n",
      "thanwin@mail.com:thanwin\n",
      "EstherCung@mail.com:EstherCung\n",
      "EstherCung@mail.com:EstherCung\n"
     ]
    }
   ],
   "source": [
    "import logging\n",
    "\n",
    "# creating logger\n",
    "logger = logging.getLogger(__name__)\n",
    "# setting level \n",
    "logger.setLevel(logging.DEBUG)\n",
    "\n",
    "# creating formatter\n",
    "formatter = logging.Formatter('%(asctime)s:%(levelname)s:%(name)s:%(message)s')\n",
    "\n",
    "file_handler = logging.FileHandler('emp_record.log') # it needs to be added to logger\n",
    "file_handler.setFormatter(formatter)\n",
    "\n",
    "# adding file_handler to logger\n",
    "logger.addHandler(file_handler)\n",
    "\n",
    "#logging.basicConfig(filename='emp_record.log', level=logging.INFO, format='%(asctime)s:%(levelname)s:%(name)s:%(message)s')\n",
    "class Employee:\n",
    "    def __init__(self, first, last):\n",
    "        self.first = first \n",
    "        self.last = last\n",
    "        logger.debug('{}:{}'.format(self.email, self.full_name))\n",
    "    @property\n",
    "    def email(self):\n",
    "        return self.first + self.last + '@mail.com'\n",
    "    @property\n",
    "    def full_name(self):\n",
    "        return self.first + self.last\n",
    "emp_1 = Employee('than', 'win')\n",
    "emp_2 = Employee('Esther', 'Cung')"
   ]
  },
  {
   "cell_type": "code",
   "execution_count": 6,
   "metadata": {},
   "outputs": [
    {
     "name": "stdout",
     "output_type": "stream",
     "text": [
      "2020-04-05 01:31:42,712:INFO:thanwin@mail.com:than win\n",
      "2020-04-05 01:31:42,713:INFO:alexzandra@mail.com:alex zandra\n",
      "2020-04-06 21:27:09,975:INFO:thanwin@mail.com:thanwin\n",
      "2020-04-06 21:27:09,976:INFO:EstherCung@mail.com:EstherCung\n",
      "2020-04-06 21:29:20,880:INFO:root:thanwin@mail.com:thanwin\n",
      "2020-04-06 21:29:20,881:INFO:root:EstherCung@mail.com:EstherCung\n",
      "2020-04-06 21:31:25,488:INFO:__main__:thanwin@mail.com:thanwin\n",
      "2020-04-06 21:31:25,489:INFO:__main__:EstherCung@mail.com:EstherCung\n",
      "thanwin@mail.com:thanwin\n",
      "2020-04-06 21:47:59,492:DEBUG:__main__:thanwin@mail.com:thanwin\n",
      "EstherCung@mail.com:EstherCung\n",
      "2020-04-06 21:47:59,492:DEBUG:__main__:EstherCung@mail.com:EstherCung\n",
      "thanwin@mail.com:thanwin\n",
      "EstherCung@mail.com:EstherCung\n",
      "thanwin@mail.com:thanwin\n",
      "EstherCung@mail.com:EstherCung\n",
      "jimcarry@mail.com:jimcarry\n",
      "jimcarry@mail.com:jimcarry\n",
      "ArthurGun@mail.com:ArthurGun\n",
      "ArthurGun@mail.com:ArthurGun\n",
      "jimcarry@mail.com:jimcarry\n",
      "ArthurGun@mail.com:ArthurGun\n",
      "thanwin@mail.com:thanwin\n",
      "thanwin@mail.com:thanwin\n",
      "2020-04-06 22:11:17,153:DEBUG:__main__:thanwin@mail.com:thanwin\n",
      "EstherCung@mail.com:EstherCung\n",
      "EstherCung@mail.com:EstherCung\n",
      "2020-04-06 22:11:17,157:DEBUG:__main__:EstherCung@mail.com:EstherCung\n",
      "\n"
     ]
    }
   ],
   "source": [
    "with open('emp_record.log') as p:\n",
    "    print(p.read())"
   ]
  },
  {
   "cell_type": "markdown",
   "metadata": {},
   "source": [
    "# using stream handler"
   ]
  },
  {
   "cell_type": "code",
   "execution_count": 1,
   "metadata": {},
   "outputs": [
    {
     "name": "stderr",
     "output_type": "stream",
     "text": [
      "2020-04-06 22:14:02,596:DEBUG:__main__:jimcarry@mail.com:jimcarry\n",
      "2020-04-06 22:14:02,602:DEBUG:__main__:ArthurGun@mail.com:ArthurGun\n"
     ]
    }
   ],
   "source": [
    "import logging\n",
    "\n",
    "# creating logger\n",
    "logger = logging.getLogger(__name__)\n",
    "# setting level \n",
    "logger.setLevel(logging.DEBUG)\n",
    "\n",
    "# creating formatter\n",
    "formatter = logging.Formatter('%(asctime)s:%(levelname)s:%(name)s:%(message)s')\n",
    "\n",
    "file_handler = logging.FileHandler('Emp_Record2.log') # it needs to be added to logger\n",
    "file_handler.setFormatter(formatter)\n",
    "\n",
    "# creating stream handler\n",
    "# it will show to the console\n",
    "stream_handler = logging.StreamHandler()\n",
    "stream_handler.setFormatter(formatter)\n",
    "\n",
    "# adding file_handler to logger\n",
    "logger.addHandler(file_handler)\n",
    "\n",
    "logger.addHandler(stream_handler)\n",
    "#logging.basicConfig(filename='emp_record.log', level=logging.INFO, format='%(asctime)s:%(levelname)s:%(name)s:%(message)s')\n",
    "class Employee:\n",
    "    def __init__(self, first, last):\n",
    "        self.first = first \n",
    "        self.last = last\n",
    "        logger.debug('{}:{}'.format(self.email, self.full_name))\n",
    "    @property\n",
    "    def email(self):\n",
    "        return self.first + self.last + '@mail.com'\n",
    "    @property\n",
    "    def full_name(self):\n",
    "        return self.first + self.last\n",
    "emp_1 = Employee('jim', 'carry')\n",
    "emp_2 = Employee('Arthur', 'Gun')"
   ]
  },
  {
   "cell_type": "code",
   "execution_count": 2,
   "metadata": {},
   "outputs": [
    {
     "name": "stdout",
     "output_type": "stream",
     "text": [
      "2020-04-05 01:31:42,712:INFO:thanwin@mail.com:than win\n",
      "2020-04-05 01:31:42,713:INFO:alexzandra@mail.com:alex zandra\n",
      "2020-04-06 21:27:09,975:INFO:thanwin@mail.com:thanwin\n",
      "2020-04-06 21:27:09,976:INFO:EstherCung@mail.com:EstherCung\n",
      "2020-04-06 21:29:20,880:INFO:root:thanwin@mail.com:thanwin\n",
      "2020-04-06 21:29:20,881:INFO:root:EstherCung@mail.com:EstherCung\n",
      "2020-04-06 21:31:25,488:INFO:__main__:thanwin@mail.com:thanwin\n",
      "2020-04-06 21:31:25,489:INFO:__main__:EstherCung@mail.com:EstherCung\n",
      "thanwin@mail.com:thanwin\n",
      "2020-04-06 21:47:59,492:DEBUG:__main__:thanwin@mail.com:thanwin\n",
      "EstherCung@mail.com:EstherCung\n",
      "2020-04-06 21:47:59,492:DEBUG:__main__:EstherCung@mail.com:EstherCung\n",
      "thanwin@mail.com:thanwin\n",
      "EstherCung@mail.com:EstherCung\n",
      "thanwin@mail.com:thanwin\n",
      "EstherCung@mail.com:EstherCung\n",
      "jimcarry@mail.com:jimcarry\n",
      "jimcarry@mail.com:jimcarry\n",
      "ArthurGun@mail.com:ArthurGun\n",
      "ArthurGun@mail.com:ArthurGun\n",
      "jimcarry@mail.com:jimcarry\n",
      "ArthurGun@mail.com:ArthurGun\n",
      "thanwin@mail.com:thanwin\n",
      "thanwin@mail.com:thanwin\n",
      "2020-04-06 22:11:17,153:DEBUG:__main__:thanwin@mail.com:thanwin\n",
      "EstherCung@mail.com:EstherCung\n",
      "EstherCung@mail.com:EstherCung\n",
      "2020-04-06 22:11:17,157:DEBUG:__main__:EstherCung@mail.com:EstherCung\n",
      "\n"
     ]
    }
   ],
   "source": [
    "with open('Emp_Record.log') as p:\n",
    "    print(p.read())"
   ]
  },
  {
   "cell_type": "code",
   "execution_count": 2,
   "metadata": {},
   "outputs": [
    {
     "name": "stderr",
     "output_type": "stream",
     "text": [
      "2020-04-06 23:47:23,278 - __main__ - INFO - esther : 20\n",
      "2020-04-06 23:47:23,283 - __main__ - INFO - Kenneth : 40\n"
     ]
    }
   ],
   "source": [
    "import logging\n",
    "\n",
    "\n",
    "# creating logger\n",
    "logger = logging.getLogger(__name__)\n",
    "logger.setLevel(logging.INFO)\n",
    "\n",
    "#creating formatter\n",
    "formatter = logging.Formatter('%(asctime)s:%(levelname)s:%(name)s:%(message)s')\n",
    "\n",
    "# creating file_handler\n",
    "file_handler = logging.FileHandler('person5.log')\n",
    "\n",
    "file_handler.setFormatter(formatter)\n",
    "\n",
    "# adding file handler to logger\n",
    "logger.addHandler(file_handler)\n",
    "\n",
    "# creating stream handler and setting level\n",
    "stream_handler = logging.StreamHandler()\n",
    "stream_handler.setLevel(logging.DEBUG)\n",
    "\n",
    "# creating formatter for stream handler\n",
    "formatter2 = logging.Formatter('%(asctime)s - %(name)s - %(levelname)s - %(message)s')\n",
    "logger.addHandler(stream_handler)\n",
    "stream_handler.setFormatter(formatter2)\n",
    "#basic configuration\n",
    "#logging.basicConfig(filename='person3.log', level=logging.DEBUG, format='%(asctime)s:%(levelname)s:%(name)s:%(message)s')\n",
    "\n",
    "class Person:\n",
    "    \"\"\"A sample person class that take two argument\"\"\"\n",
    "    def __init__(self,name, age):\n",
    "        if not int(age):\n",
    "            raise ValueError(\"You must enter integer\")\n",
    "        self.name = name\n",
    "        self.age = age\n",
    "        logger.info('{} : {}'.format(self.name, self.age))\n",
    "\n",
    "person_1 = Person('esther', 20)\n",
    "person_2 = Person('Kenneth', 40)"
   ]
  },
  {
   "cell_type": "code",
   "execution_count": 3,
   "metadata": {},
   "outputs": [
    {
     "name": "stdout",
     "output_type": "stream",
     "text": [
      "2020-04-06 23:47:23,278:INFO:__main__:esther : 20\n",
      "2020-04-06 23:47:23,283:INFO:__main__:Kenneth : 40\n",
      "\n"
     ]
    }
   ],
   "source": [
    "with open('person5.log') as p:\n",
    "    print(p.read())"
   ]
  },
  {
   "cell_type": "code",
   "execution_count": 1,
   "metadata": {},
   "outputs": [],
   "source": [
    "#deleting file\n",
    "import os\n",
    "os.remove('person5.log')"
   ]
  },
  {
   "cell_type": "code",
   "execution_count": null,
   "metadata": {},
   "outputs": [],
   "source": []
  },
  {
   "cell_type": "code",
   "execution_count": null,
   "metadata": {},
   "outputs": [],
   "source": []
  },
  {
   "cell_type": "code",
   "execution_count": null,
   "metadata": {},
   "outputs": [],
   "source": []
  }
 ],
 "metadata": {
  "kernelspec": {
   "display_name": "Python 3",
   "language": "python",
   "name": "python3"
  },
  "language_info": {
   "codemirror_mode": {
    "name": "ipython",
    "version": 3
   },
   "file_extension": ".py",
   "mimetype": "text/x-python",
   "name": "python",
   "nbconvert_exporter": "python",
   "pygments_lexer": "ipython3",
   "version": "3.7.4"
  }
 },
 "nbformat": 4,
 "nbformat_minor": 2
}
