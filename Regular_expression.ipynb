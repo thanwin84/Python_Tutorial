{
 "cells": [
  {
   "cell_type": "markdown",
   "metadata": {},
   "source": [
    "# Basic search and match"
   ]
  },
  {
   "cell_type": "code",
   "execution_count": 8,
   "metadata": {},
   "outputs": [
    {
     "name": "stdout",
     "output_type": "stream",
     "text": [
      "<re.Match object; span=(0, 4), match='Love'>\n",
      "None\n",
      "<re.Match object; span=(6, 13), match='Kenneth'>\n"
     ]
    }
   ],
   "source": [
    "import re \n",
    "\n",
    "with open('names.txt') as open_file:\n",
    "    data = open_file.read()\n",
    "print(re.match(r'Love', data)) # Tries to match a pattern against the beginning of the text.\n",
    "print(re.match(r'Kenneth', data)) # it gives none cause it doesnt find any match in the  beginning\n",
    "print(re.search(r'Kenneth', data)) # Tries to match a pattern anywhere in the text. Returns the first match.\n"
   ]
  },
  {
   "cell_type": "markdown",
   "metadata": {},
   "source": [
    "# MetaCharacters (Need to be escaped): . ^ $ * + ? { } [ ] \\ | ( )"
   ]
  },
  {
   "cell_type": "code",
   "execution_count": 11,
   "metadata": {},
   "outputs": [
    {
     "name": "stdout",
     "output_type": "stream",
     "text": [
      "<re.Match object; span=(40, 54), match='(555) 555-5555'>\n"
     ]
    }
   ],
   "source": [
    "print(re.search(r'\\(\\d\\d\\d\\) \\d\\d\\d-\\d\\d\\d\\d',data)) #notice it gives the first match"
   ]
  },
  {
   "cell_type": "code",
   "execution_count": 13,
   "metadata": {},
   "outputs": [
    {
     "name": "stdout",
     "output_type": "stream",
     "text": [
      "<re.Match object; span=(40, 54), match='(555) 555-5555'>\n",
      "<re.Match object; span=(126, 140), match='(555) 555-5554'>\n",
      "<re.Match object; span=(385, 399), match='(555) 555-5543'>\n",
      "<re.Match object; span=(703, 717), match='(555) 555-5553'>\n",
      "<re.Match object; span=(783, 797), match='(555) 555-4444'>\n"
     ]
    }
   ],
   "source": [
    "# searching all the match \n",
    "pattern = re.compile(r'\\(\\d\\d\\d\\) \\d\\d\\d-\\d\\d\\d\\d')\n",
    "matches = pattern.finditer(data)\n",
    "for match in matches:\n",
    "    print(match)"
   ]
  },
  {
   "cell_type": "code",
   "execution_count": 1,
   "metadata": {},
   "outputs": [
    {
     "name": "stdout",
     "output_type": "stream",
     "text": [
      "<re.Match object; span=(5, 6), match=' '>\n",
      "<re.Match object; span=(7, 8), match=' '>\n",
      "<re.Match object; span=(16, 17), match=' '>\n",
      "<re.Match object; span=(20, 21), match=' '>\n",
      "<re.Match object; span=(25, 26), match=' '>\n",
      "<re.Match object; span=(31, 32), match=' '>\n",
      "<re.Match object; span=(34, 35), match=' '>\n",
      "<re.Match object; span=(37, 38), match=' '>\n",
      "<re.Match object; span=(40, 41), match=' '>\n"
     ]
    }
   ],
   "source": [
    "import re\n",
    "\n",
    "text_to_search = '''\n",
    "abcdefghijklmnopqurtuvwxyz\n",
    "ABCDEFGHIJKLMNOPQRSTUVWXYZ\n",
    "1234567890\n",
    "Ha Ha HaHa\n",
    "MetaCharacters (Need to be escaped):\n",
    ". ^ $ * + ? { } [ ] \\ | ( )\n",
    "coreyms.com\n",
    "321-555-4321\n",
    "123.555.1234\n",
    "123*555*1234\n",
    "800-555-1234\n",
    "900-555-1234\n",
    "Mr. Schafer\n",
    "Mr Smith\n",
    "Ms Davis\n",
    "Mrs. Robinson\n",
    "Mr. T\n",
    "'''\n",
    "\n",
    "sentence = 'Start a sentence and then bring it to an end'\n",
    "#print(r'\\ttab') # using raw string \n",
    "#pattern = re.compile(r'abc') # while searching,it is case sensentive and it search in the given order\n",
    "#pattern = re.compile(r'.') # any character except new line \n",
    "#pattern = re.compile(r'\\.') # if we wanna search '.',we have to use back slash cause '.' has special meaning\n",
    "#pattern = re.compile(r'coreyms\\.com') # searching url\n",
    "#pattern = re.compile(r'\\d') #digit 0-9\n",
    "#pattern = re.compile(r'\\D') # not digit\n",
    "#pattern = re.compile(r'\\w') # Word Character (a-z, A-Z, 0-9, _)\n",
    "#pattern = re.compile(r'\\W') # Not a word character\n",
    "pattern = re.compile(r'\\s') # space, tab, new line and \\S is opposite\n",
    "#pattern = re.compile(r'\\bHa') # word boundary and \\B is not word boundary \n",
    "#pattern = re.compile(r'^Start') # beginnign of a string\n",
    "#pattern = re.compile(r'end$') # end of a string\n",
    "#matches = pattern.finditer(text_to_search)\n",
    "matches = pattern.finditer(sentence)\n",
    "\n",
    "for match in matches:\n",
    "    print(match)"
   ]
  },
  {
   "cell_type": "code",
   "execution_count": 19,
   "metadata": {},
   "outputs": [
    {
     "name": "stdout",
     "output_type": "stream",
     "text": [
      "<re.Match object; span=(244, 255), match='Mr. Schafer'>\n",
      "<re.Match object; span=(257, 265), match='Mr Smith'>\n",
      "<re.Match object; span=(266, 274), match='Ms Davis'>\n",
      "<re.Match object; span=(275, 288), match='Mrs. Robinson'>\n",
      "<re.Match object; span=(289, 294), match='Mr. T'>\n"
     ]
    }
   ],
   "source": [
    "import re\n",
    "\n",
    "text_to_search = '''\n",
    "abcdefghijklmnopqurtuvwxyz\n",
    "ABCDEFGHIJKLMNOPQRSTUVWXYZ\n",
    "1234567890\n",
    "Ha Ha HaHa\n",
    "MetaCharacters (Need to be escaped):\n",
    ". ^ $ * + ? { } [ ] \\ | ( )\n",
    "coreyms.com\n",
    "321-555-4321\n",
    "123.555.1234\n",
    "123.666.1234\n",
    "123*555*1234\n",
    "800-555-1234\n",
    "900-555-1234\n",
    "cat\n",
    "dat\n",
    "bat\n",
    "Mr. Schafer,\n",
    "Mr Smith\n",
    "Ms Davis\n",
    "Mrs. Robinson\n",
    "Mr. T\n",
    "\n",
    "'''\n",
    "\n",
    "sentence = 'Start a sentence and then bring it to an end'\n",
    "#pattern = re.compile(r'\\d\\d\\d.\\d\\d\\d.\\d\\d\\d\\d') # searching phone numbers\n",
    "#pattern = re.compile(r'\\d\\d\\d[*-.]\\d\\d\\d[*-.]\\d\\d\\d\\d') #[]: a set of characters\n",
    "#pattern = re.compile(r'[98]00[-]\\d\\d\\d[-]\\d\\d\\d\\d') # searching mobile number start with 800 or 900\n",
    "#pattern = re.compile(r'[1-6a-dA-B]') #searching from 1-6,a-d and A-B\n",
    "#pattern = re.compile(r'[^a-j]') # Returns a match for any character EXCEPT a -j\n",
    "#pattern = re.compile(r'[^b]at') # printing out but not bat\n",
    "#pattern = re.compile(r'[0-9][0-5]')\n",
    "##using quantifier\n",
    "#pattern = re.compile(r'\\d{3}-\\d{3}-\\d{4}') # {}: using exact number quantifier\n",
    "#pattern = re.compile(r'Mr\\.?') # Mr. or Mr\n",
    "#pattern = re.compile(r'Mr\\.?\\s[A-Z]\\w*') # *: 0 or more\n",
    "pattern = re.compile(r'M(r|s|rs)\\.?\\s[A-Z]\\w*') #(): grouping \n",
    "matches = pattern.finditer(text_to_search)\n",
    "\n",
    "for match in matches:\n",
    "    print(match)"
   ]
  },
  {
   "cell_type": "code",
   "execution_count": 7,
   "metadata": {},
   "outputs": [
    {
     "name": "stdout",
     "output_type": "stream",
     "text": [
      "<re.Match object; span=(467, 479), match='800-555-6771'>\n",
      "<re.Match object; span=(1091, 1103), match='900-555-3205'>\n",
      "<re.Match object; span=(2051, 2063), match='900-555-5118'>\n",
      "<re.Match object; span=(2826, 2838), match='900-555-5428'>\n",
      "<re.Match object; span=(3971, 3983), match='900-555-9598'>\n",
      "<re.Match object; span=(5566, 5578), match='900-555-3567'>\n",
      "<re.Match object; span=(6189, 6201), match='800-555-3216'>\n",
      "<re.Match object; span=(6889, 6901), match='900-555-7755'>\n",
      "<re.Match object; span=(7864, 7876), match='800-555-1372'>\n",
      "<re.Match object; span=(8741, 8753), match='900-555-6426'>\n"
     ]
    }
   ],
   "source": [
    "import re\n",
    "with open('data.txt', 'r') as f:\n",
    "    contents = f.read()\n",
    "#find mobile number that starts with 800 or 900 but not including 9 and 0 in the end\n",
    "pattern = re.compile(r'[89]00-\\d{3}-\\d{3}[^90]')\n",
    "matches = pattern.finditer(contents)\n",
    "for match in matches:\n",
    "    print(match)"
   ]
  },
  {
   "cell_type": "code",
   "execution_count": null,
   "metadata": {},
   "outputs": [],
   "source": [
    "import re\n",
    "\n",
    "emails = '''\n",
    "CoreyMSchafer@gmail.com\n",
    "corey.schafer@university.edu\n",
    "corey-321-schafer@my-work.net\n",
    "'''\n",
    "pattern = re.compile(r'')\n",
    "matches = pattern.finditer(emails)\n",
    "for match in matches:\n",
    "    print(match)"
   ]
  },
  {
   "cell_type": "code",
   "execution_count": 2,
   "metadata": {},
   "outputs": [
    {
     "name": "stdout",
     "output_type": "stream",
     "text": [
      "<re.Match object; span=(1, 6), match='iiiig'>\n"
     ]
    }
   ],
   "source": [
    "import re\n",
    "print(re.search(r'...ig', 'piiiig'))"
   ]
  },
  {
   "cell_type": "markdown",
   "metadata": {},
   "source": [
    "# Email"
   ]
  },
  {
   "cell_type": "code",
   "execution_count": 15,
   "metadata": {},
   "outputs": [
    {
     "name": "stdout",
     "output_type": "stream",
     "text": [
      "<re.Match object; span=(1, 24), match='CoreyMSchafer@gmail.com'>\n",
      "<re.Match object; span=(25, 53), match='corey.schafer@university.edu'>\n",
      "<re.Match object; span=(54, 83), match='corey-321-schafer@my-work.net'>\n"
     ]
    }
   ],
   "source": [
    "import re\n",
    "\n",
    "emails = '''\n",
    "CoreyMSchafer@gmail.com\n",
    "corey.schafer@university.edu\n",
    "corey-321-schafer@my-work.net\n",
    "'''\n",
    "#pattern = re.compile(r'[a-zA-Z]+@[a-zA-Z]+\\.com') # matching first email\n",
    "pattern = re.compile(r'[a-zA-Z0-9.-]+@[a-zA-Z-]+\\.(com|edu|net)')\n",
    "matches = pattern.finditer(emails)\n",
    "\n",
    "for match in matches:\n",
    "    print(match)"
   ]
  },
  {
   "cell_type": "markdown",
   "metadata": {},
   "source": [
    "# urls"
   ]
  },
  {
   "cell_type": "code",
   "execution_count": 30,
   "metadata": {},
   "outputs": [
    {
     "name": "stdout",
     "output_type": "stream",
     "text": [
      "https://www.google.com\n",
      "http://coreyms.com\n",
      "https://youtube.com\n",
      "https://www.nasa.gov\n"
     ]
    }
   ],
   "source": [
    "import re\n",
    "\n",
    "urls = '''\n",
    "https://www.google.com\n",
    "http://coreyms.com\n",
    "https://youtube.com\n",
    "https://www.nasa.gov\n",
    "'''\n",
    "#pattern = re.compile(r'https?://(www.)?\\w+\\.\\w+')\n",
    "pattern = re.compile(r'https?://(www.)?(\\w+)(\\.\\w+)')\n",
    "matches = pattern.finditer(urls)\n",
    "for match in matches:\n",
    "    #print(match)\n",
    "    #print(match.group(3))\n",
    "    print(match.group(0)) # 0 indicate whole"
   ]
  },
  {
   "cell_type": "code",
   "execution_count": null,
   "metadata": {},
   "outputs": [],
   "source": []
  },
  {
   "cell_type": "markdown",
   "metadata": {},
   "source": [
    "# using sub"
   ]
  },
  {
   "cell_type": "code",
   "execution_count": 31,
   "metadata": {},
   "outputs": [
    {
     "name": "stdout",
     "output_type": "stream",
     "text": [
      "\n",
      "google.com\n",
      "coreyms.com\n",
      "youtube.com\n",
      "nasa.gov\n",
      "\n"
     ]
    }
   ],
   "source": [
    "# using sub \n",
    "import re\n",
    "\n",
    "urls = '''\n",
    "https://www.google.com\n",
    "http://coreyms.com\n",
    "https://youtube.com\n",
    "https://www.nasa.gov\n",
    "'''\n",
    "pattern = re.compile(r'https?://(www.)?(\\w+)(\\.\\w+)')\n",
    "subbed_urls = pattern.sub(r'\\2\\3',urls)\n",
    "print(subbed_urls)"
   ]
  },
  {
   "cell_type": "markdown",
   "metadata": {},
   "source": [
    "# using findall"
   ]
  },
  {
   "cell_type": "code",
   "execution_count": 1,
   "metadata": {},
   "outputs": [
    {
     "name": "stdout",
     "output_type": "stream",
     "text": [
      "['321-555-4321', '800-555-1234', '900-555-1234']\n"
     ]
    }
   ],
   "source": [
    "import re\n",
    "\n",
    "text_to_search = '''\n",
    "abcdefghijklmnopqurtuvwxyz\n",
    "ABCDEFGHIJKLMNOPQRSTUVWXYZ\n",
    "1234567890\n",
    "MetaCharacters (Need to be escaped):\n",
    ". ^ $ * + ? { } [ ] \\ | ( )\n",
    "coreyms.com\n",
    "321-555-4321\n",
    "123.555.1234\n",
    "123*555*1234\n",
    "800-555-1234\n",
    "900-555-1234\n",
    "\n",
    "'''\n",
    "pattern = re.compile(r'...-\\d{3}-\\d{4}')\n",
    "matches = pattern.findall(text_to_search)\n",
    "print(matches)"
   ]
  },
  {
   "cell_type": "markdown",
   "metadata": {},
   "source": [
    "# Python regex flags"
   ]
  },
  {
   "cell_type": "code",
   "execution_count": 37,
   "metadata": {},
   "outputs": [
    {
     "name": "stdout",
     "output_type": "stream",
     "text": [
      "<re.Match object; span=(0, 5), match='Start'>\n"
     ]
    }
   ],
   "source": [
    "sentence = 'Start a sentence and then bring it to an end'\n",
    "#pattern = re.compile(r'start',re.IGNORECASE)\n",
    "pattern = re.compile(r'start',re.I)\n",
    "\n",
    "match = pattern.search(sentence)\n",
    "print(match)"
   ]
  },
  {
   "cell_type": "raw",
   "metadata": {},
   "source": [
    "When specified, the pattern character ^ match the beginning of the string and the beginning of each line (immediately following each newline); and the pattern character $ match at the end of the string and at the end of each line (immediately preceding each newline)."
   ]
  },
  {
   "cell_type": "code",
   "execution_count": 1,
   "metadata": {},
   "outputs": [
    {
     "name": "stdout",
     "output_type": "stream",
     "text": [
      "['a']\n",
      "['a', 'd', 'g']\n",
      "['i']\n"
     ]
    }
   ],
   "source": [
    "import re\n",
    "\n",
    "ss = \"\"\"abc\n",
    "def\n",
    "ghi\"\"\"\n",
    "r1 = re.findall(r'^\\w',ss)\n",
    "#r2 = re.findall(r'^\\w', ss, re.MULTILINE)\n",
    "r2 = re.findall(r'^\\w', ss, re.M)\n",
    "r3 = re.findall(r'\\w$',ss)\n",
    "print(r1)\n",
    "print(r2)\n",
    "print(r3)"
   ]
  },
  {
   "cell_type": "code",
   "execution_count": 5,
   "metadata": {},
   "outputs": [
    {
     "name": "stdout",
     "output_type": "stream",
     "text": [
      "['once upon a time,', 'there lived a king']\n",
      "['once upon a time,\\nthere lived a king']\n"
     ]
    }
   ],
   "source": [
    "#Make the dot character . match any character, including a newline. Without this flag, \n",
    "#a dot will match anything except a newline.\n",
    "import re\n",
    "\n",
    "ss = \"\"\"once upon a time,\n",
    "there lived a king\"\"\"\n",
    "print(re.findall(r'.+', ss))\n",
    "print(re.findall(r'.+', ss, re.DOTALL))"
   ]
  },
  {
   "cell_type": "markdown",
   "metadata": {},
   "source": [
    "# counts"
   ]
  },
  {
   "cell_type": "code",
   "execution_count": 14,
   "metadata": {},
   "outputs": [
    {
     "name": "stdout",
     "output_type": "stream",
     "text": [
      "['Love, Kenneth', 'Teacher, Treehouse', 'McFarland, Dave', 'Teacher, Treehouse', 'Arthur, King', 'King, Camelot', 'sterberg, Sven', 'Governor, Norrbotten', ', Tim', 'Enchanter, Killer', 'Carson, Ryan', 'CEO, Treehouse', 'Doctor, The', 'Lord, Gallifrey', 'Exampleson, Example', 'Example, Example', 'Obama, Barack', 'President, United', 'Chalkley, Andrew', 'Teacher, Treehouse', 'Vader, Darth', 'Lord, Galactic', 'Sanz, María', 'Minister, Spanish']\n"
     ]
    }
   ],
   "source": [
    "import re\n",
    "with open('names.txt') as file_open:\n",
    "    contents = file_open.read()\n",
    "#print(re.search(r'\\w+, \\w+', contents)) # Tries to match a pattern anywhere in the text. Returns the first match\n",
    "print(re.findall(r'\\w*, \\w+', contents))"
   ]
  },
  {
   "cell_type": "markdown",
   "metadata": {},
   "source": [
    "# word lenght "
   ]
  },
  {
   "cell_type": "code",
   "execution_count": 15,
   "metadata": {},
   "outputs": [],
   "source": [
    "def find_words(count, data):\n",
    "    word = '\\w'*count\n",
    "    return re.findall(r'\\b{}+\\b'.format(word), data)"
   ]
  },
  {
   "cell_type": "code",
   "execution_count": 16,
   "metadata": {},
   "outputs": [
    {
     "data": {
      "text/plain": [
       "['baby', 'balloon']"
      ]
     },
     "execution_count": 16,
     "metadata": {},
     "output_type": "execute_result"
    }
   ],
   "source": [
    "find_words(4,\"dog, cat, baby, balloon, me\")"
   ]
  },
  {
   "cell_type": "code",
   "execution_count": 29,
   "metadata": {},
   "outputs": [
    {
     "name": "stdout",
     "output_type": "stream",
     "text": [
      "['dog', 'cat']\n",
      "['baby', 'balloon']\n"
     ]
    }
   ],
   "source": [
    "print(re.findall(r'\\b\\w{3}\\b', \"dog, cat, baby, balloon, me\"))\n",
    "#concatenate in regax\n",
    "print(re.findall(r\"\\b\\w{\"+str(4)+r\",}\\b\", \"dog, cat, baby, balloon, me\"))"
   ]
  },
  {
   "cell_type": "code",
   "execution_count": 46,
   "metadata": {},
   "outputs": [
    {
     "name": "stdout",
     "output_type": "stream",
     "text": [
      "['baby', 'balloon']\n"
     ]
    }
   ],
   "source": [
    "print(re.findall(r'\\b\\w{'+str(4)+r',}\\b', \"dog, cat, baby, balloon, me\"))\n"
   ]
  },
  {
   "cell_type": "code",
   "execution_count": 48,
   "metadata": {},
   "outputs": [],
   "source": [
    "pattern1 = r'pattern-1'\n",
    "pattern2 = r'pattern-2'\n",
    "pattern3 = r'pattern-3'\n",
    "\n",
    "patterns = [pattern1, pattern2, pattern3]\n",
    "\n",
    "compiled_combined = re.compile('|'.join(x for x in patterns))"
   ]
  },
  {
   "cell_type": "code",
   "execution_count": null,
   "metadata": {},
   "outputs": [],
   "source": []
  },
  {
   "cell_type": "code",
   "execution_count": null,
   "metadata": {},
   "outputs": [],
   "source": []
  },
  {
   "cell_type": "code",
   "execution_count": null,
   "metadata": {},
   "outputs": [],
   "source": []
  },
  {
   "cell_type": "code",
   "execution_count": null,
   "metadata": {},
   "outputs": [],
   "source": []
  }
 ],
 "metadata": {
  "kernelspec": {
   "display_name": "Python 3",
   "language": "python",
   "name": "python3"
  },
  "language_info": {
   "codemirror_mode": {
    "name": "ipython",
    "version": 3
   },
   "file_extension": ".py",
   "mimetype": "text/x-python",
   "name": "python",
   "nbconvert_exporter": "python",
   "pygments_lexer": "ipython3",
   "version": "3.7.4"
  }
 },
 "nbformat": 4,
 "nbformat_minor": 2
}
