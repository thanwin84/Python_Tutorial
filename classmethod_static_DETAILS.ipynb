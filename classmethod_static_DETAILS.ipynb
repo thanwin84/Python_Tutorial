{
 "cells": [
  {
   "cell_type": "markdown",
   "metadata": {},
   "source": [
    "# Classmethod and Static method"
   ]
  },
  {
   "cell_type": "raw",
   "metadata": {},
   "source": [
    "syntax: classmethod(function)\n",
    "parameter: this function accept function name as parameter\n",
    "return type: this function return converted class method\n",
    "\n",
    "classmethod() methods are bound to class rather than an object. Class methods can be called by both class and object. These methods can be call with class or with object.\n"
   ]
  },
  {
   "cell_type": "code",
   "execution_count": 12,
   "metadata": {},
   "outputs": [],
   "source": [
    "#class method can be called both by class and its object\n",
    "class Person:\n",
    "    age = 25\n",
    "    def print_age(cls):\n",
    "        print(\"The age is: \",cls.age)\n",
    "#creating print_age class method\n",
    "Person.print_age = classmethod(Person.print_age)\n",
    "#cls accepts the class \"Person\" as a parameter rather than Person's object/instance.\n",
    "#Now method Person.printAge as an argument to the function classmethod. \n",
    "#This converts the method to a class method so that it accepts the \n",
    "#first parameter as a class (i.e. Person).\n"
   ]
  },
  {
   "cell_type": "code",
   "execution_count": 13,
   "metadata": {},
   "outputs": [
    {
     "name": "stdout",
     "output_type": "stream",
     "text": [
      "The age is:  25\n"
     ]
    }
   ],
   "source": [
    "Person.print_age()"
   ]
  },
  {
   "cell_type": "code",
   "execution_count": 14,
   "metadata": {},
   "outputs": [
    {
     "name": "stdout",
     "output_type": "stream",
     "text": [
      "The age is:  25\n"
     ]
    }
   ],
   "source": [
    "person = Person()\n",
    "person.print_age()"
   ]
  },
  {
   "cell_type": "markdown",
   "metadata": {},
   "source": [
    "# Create factory method using classmethod"
   ]
  },
  {
   "cell_type": "code",
   "execution_count": 25,
   "metadata": {},
   "outputs": [],
   "source": [
    "from datetime import date\n",
    "class Person:\n",
    "    def __init__(self,name,age):\n",
    "        self.name = name\n",
    "        self.age = age\n",
    "    @classmethod\n",
    "    def from_birth_year(cls,name,birthyear): #cls refer to class\n",
    "        #return cls(name,date.today().year-birthyear) #class intstance\n",
    "        return Person(name,date.today().year-birthyear)\n",
    "    def display(self): #self refer to object or instance\n",
    "        print(self.name +\"'s age is: \"+ str(self.age))"
   ]
  },
  {
   "cell_type": "code",
   "execution_count": 26,
   "metadata": {},
   "outputs": [
    {
     "name": "stdout",
     "output_type": "stream",
     "text": [
      "tom's age is: 21\n"
     ]
    }
   ],
   "source": [
    "person = Person('tom',21)\n",
    "person.display()"
   ]
  },
  {
   "cell_type": "code",
   "execution_count": 27,
   "metadata": {},
   "outputs": [
    {
     "name": "stdout",
     "output_type": "stream",
     "text": [
      "alex's age is: 23\n"
     ]
    }
   ],
   "source": [
    "person1 = Person.from_birth_year('alex',1997)\n",
    "person1.display()"
   ]
  },
  {
   "cell_type": "markdown",
   "metadata": {},
   "source": [
    "EMPLOYEE"
   ]
  },
  {
   "cell_type": "code",
   "execution_count": 29,
   "metadata": {},
   "outputs": [],
   "source": [
    "import datetime\n",
    "class Employee:\n",
    "    raise_amount = 1.4\n",
    "    def __init__(self,first,last,pay):\n",
    "        self.first = first\n",
    "        self.last = last\n",
    "        self.pay = pay\n",
    "        self.email = first + last + '@mail.com'\n",
    "    def full_name(self):\n",
    "        return self.first + self.last\n",
    "    def apply_raise(self):\n",
    "        self.pay = int(self.pay*self.raise_amount)\n",
    "    @classmethod #when we only have to work with class attribute\n",
    "    def set_raise_amount(cls,amount):\n",
    "        cls.raise_amount = amount\n",
    "    #we can use classmethod to provide multiple ways to make object\n",
    "    @classmethod\n",
    "    def from_string(cls,string):\n",
    "        first,last,pay = string.split('-')\n",
    "        return cls(first,last,pay)\n",
    "    @staticmethod #when we dont have to work with class or instance variable\n",
    "    def work_day(day):\n",
    "        if day.weekday()==5 or day.weekday()==6:\n",
    "            return False\n",
    "        return True\n",
    "    "
   ]
  },
  {
   "cell_type": "code",
   "execution_count": 33,
   "metadata": {},
   "outputs": [
    {
     "name": "stdout",
     "output_type": "stream",
     "text": [
      "Esther\n",
      "Selena\n"
     ]
    }
   ],
   "source": [
    "new_string1 ='Esther-Cungneizi-3000'\n",
    "new_string2 = 'Selena-gomez-5000'\n",
    "new_emp1 = Employee.from_string(new_string1)\n",
    "new_emp2 = Employee.from_string(new_string2)\n",
    "print(new_emp1.first)\n",
    "print(new_emp2.first)"
   ]
  },
  {
   "cell_type": "code",
   "execution_count": 34,
   "metadata": {},
   "outputs": [
    {
     "name": "stdout",
     "output_type": "stream",
     "text": [
      "True\n"
     ]
    }
   ],
   "source": [
    "#for static method\n",
    "my_day = datetime.date(2020,3,26)\n",
    "print(Employee.work_day(my_day))"
   ]
  },
  {
   "cell_type": "markdown",
   "metadata": {},
   "source": [
    "Bookcase"
   ]
  },
  {
   "cell_type": "code",
   "execution_count": 50,
   "metadata": {},
   "outputs": [],
   "source": [
    "class Book:\n",
    "    def __init__(self,title,author):\n",
    "        self.title = title\n",
    "        self.author = author\n",
    "    def __str__(self):\n",
    "        return \"{} by {}\".format(self.title,self.author)\n",
    "class Book_case:\n",
    "    def __init__(self,books=None):\n",
    "        self.books = books\n",
    "    @classmethod\n",
    "    def create_bookcase(cls,book_list):\n",
    "        books = []\n",
    "        for title,author in book_list:\n",
    "            books.append(Book(title,author))\n",
    "        return cls(books)"
   ]
  },
  {
   "cell_type": "code",
   "execution_count": 51,
   "metadata": {},
   "outputs": [],
   "source": [
    "bc = Book_case.create_bookcase([('Crash course','than'),('English','esther')])"
   ]
  },
  {
   "cell_type": "code",
   "execution_count": 39,
   "metadata": {},
   "outputs": [
    {
     "data": {
      "text/plain": [
       "<__main__.Book_case at 0x23bb21d9208>"
      ]
     },
     "execution_count": 39,
     "metadata": {},
     "output_type": "execute_result"
    }
   ],
   "source": [
    "bc"
   ]
  },
  {
   "cell_type": "code",
   "execution_count": 53,
   "metadata": {},
   "outputs": [
    {
     "name": "stdout",
     "output_type": "stream",
     "text": [
      "Crash course by than\n",
      "English by esther\n"
     ]
    }
   ],
   "source": [
    "print(bc.books[0])\n",
    "print(bc.books[1])"
   ]
  },
  {
   "cell_type": "markdown",
   "metadata": {},
   "source": [
    "# morse code"
   ]
  },
  {
   "cell_type": "code",
   "execution_count": 55,
   "metadata": {},
   "outputs": [],
   "source": [
    "class Letter:\n",
    "    def __init__(self,pattern=None):\n",
    "        self.pattern= pattern\n",
    "    def __str__(self):\n",
    "        output = []\n",
    "        for m in self.pattern:\n",
    "            if m=='.':\n",
    "                output.append('dot')\n",
    "            elif m=='_':\n",
    "                output.append('dash')\n",
    "        return \"-\".join(output)\n",
    "    @classmethod\n",
    "    def from_string(cls,string):\n",
    "        result=[]\n",
    "        for n in string.split('-'):\n",
    "            if n=='dash':\n",
    "                result.append('_')\n",
    "            elif n=='dot':\n",
    "                result.append('.')\n",
    "        return cls(result)"
   ]
  },
  {
   "cell_type": "code",
   "execution_count": 57,
   "metadata": {},
   "outputs": [
    {
     "name": "stdout",
     "output_type": "stream",
     "text": [
      "dot-dash-dash-dot\n"
     ]
    }
   ],
   "source": [
    "pattern_1 = Letter('.__.')\n",
    "print(pattern_1)"
   ]
  },
  {
   "cell_type": "code",
   "execution_count": 62,
   "metadata": {},
   "outputs": [],
   "source": [
    "p_2 = Letter.from_string('dash-dot-dash')\n"
   ]
  },
  {
   "cell_type": "markdown",
   "metadata": {},
   "source": [
    "real datetime from string datetime"
   ]
  },
  {
   "cell_type": "code",
   "execution_count": 67,
   "metadata": {},
   "outputs": [],
   "source": [
    "class Datetime:\n",
    "    def __init__(self,day=10,month=8,year=2020):\n",
    "        self.day = day\n",
    "        self.month = month\n",
    "        self.year = year\n",
    "    def __str__(self):\n",
    "        return \"{}:{}:{}\".format(self.day,self.month,self.year)\n",
    "    @classmethod\n",
    "    def from_string(cls,string_date):\n",
    "        day,month,year = map(int,string_date.split('-'))\n",
    "        my_date = cls(day,month,year)\n",
    "        return my_date\n",
    "    @staticmethod\n",
    "    def valid_date(date_as_string):\n",
    "        day,month,year = map(int,date_as_string.split('-'))\n",
    "        return day<=31 and month<=12 and year<=2000"
   ]
  },
  {
   "cell_type": "code",
   "execution_count": 68,
   "metadata": {},
   "outputs": [
    {
     "name": "stdout",
     "output_type": "stream",
     "text": [
      "20:10:1991\n",
      "20\n",
      "True\n"
     ]
    }
   ],
   "source": [
    "our_date = Datetime.from_string('20-10-1991')\n",
    "print(our_date)\n",
    "print(our_date.day)\n",
    "print(Datetime.valid_date('20-10-1997'))"
   ]
  },
  {
   "cell_type": "code",
   "execution_count": null,
   "metadata": {},
   "outputs": [],
   "source": []
  },
  {
   "cell_type": "code",
   "execution_count": null,
   "metadata": {},
   "outputs": [],
   "source": []
  },
  {
   "cell_type": "code",
   "execution_count": null,
   "metadata": {},
   "outputs": [],
   "source": []
  },
  {
   "cell_type": "code",
   "execution_count": null,
   "metadata": {},
   "outputs": [],
   "source": []
  },
  {
   "cell_type": "code",
   "execution_count": null,
   "metadata": {},
   "outputs": [],
   "source": []
  },
  {
   "cell_type": "code",
   "execution_count": null,
   "metadata": {},
   "outputs": [],
   "source": []
  },
  {
   "cell_type": "code",
   "execution_count": null,
   "metadata": {},
   "outputs": [],
   "source": []
  },
  {
   "cell_type": "code",
   "execution_count": null,
   "metadata": {},
   "outputs": [],
   "source": []
  }
 ],
 "metadata": {
  "kernelspec": {
   "display_name": "Python 3",
   "language": "python",
   "name": "python3"
  },
  "language_info": {
   "codemirror_mode": {
    "name": "ipython",
    "version": 3
   },
   "file_extension": ".py",
   "mimetype": "text/x-python",
   "name": "python",
   "nbconvert_exporter": "python",
   "pygments_lexer": "ipython3",
   "version": "3.7.4"
  }
 },
 "nbformat": 4,
 "nbformat_minor": 2
}
