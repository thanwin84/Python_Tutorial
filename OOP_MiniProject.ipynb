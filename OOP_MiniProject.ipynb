{
 "cells": [
  {
   "cell_type": "markdown",
   "metadata": {},
   "source": [
    "# Employee "
   ]
  },
  {
   "cell_type": "code",
   "execution_count": 45,
   "metadata": {},
   "outputs": [],
   "source": [
    "class Employee:\n",
    "    def __init__(self,first,last,pay):\n",
    "        self.first = first\n",
    "        self.last = last\n",
    "        self.pay = pay\n",
    "    @property #we can access as attribute \n",
    "    def email(self):\n",
    "        return self.first + self.last + '@mail.com'\n",
    "    @property\n",
    "    def full_name(self):\n",
    "        return f'{self.first} { self.last}'\n",
    "    @full_name.setter\n",
    "    def full_name(self,name):\n",
    "        first,last = name.split(' ')\n",
    "        self.first = first\n",
    "        self.last = last\n",
    "    @classmethod\n",
    "    def from_string(cls,string):\n",
    "        first,last,pay = string.split('-')\n",
    "        return cls(first,last,pay)\n",
    "        \n",
    "class Developer(Employee):\n",
    "    def __init__(self,first,last,pay,prog_lan):\n",
    "        super().__init__(first,last,pay)\n",
    "        self.prog_lan = prog_lan\n",
    "    def __str__(self):\n",
    "        return self.full_name\n",
    "    def __add__(self,other):\n",
    "        return self.pay + other.pay\n",
    "class Manager(Employee):\n",
    "    def __init__(self,first,last,pay,employees=None):\n",
    "        super().__init__(first,last,pay)\n",
    "        if employees is None:\n",
    "            self.employees = []\n",
    "        else:\n",
    "            self.employees = employees\n",
    "    def add_emp(self,emp):\n",
    "        if emp not in self.employees:\n",
    "            self.employees.append(emp)\n",
    "    def remove_emp(self,emp):\n",
    "        if emp in self.employees:\n",
    "            self.employees.remove(emp)\n",
    "        \n",
    "    def display_emp(self):\n",
    "        for emp in self.employees:\n",
    "            print(\"--->>\",emp.full_name)\n",
    "    "
   ]
  },
  {
   "cell_type": "code",
   "execution_count": 52,
   "metadata": {},
   "outputs": [
    {
     "name": "stdout",
     "output_type": "stream",
     "text": [
      "than\n",
      "thanwin@mail.com\n",
      "than win\n",
      "annie esther\n",
      "annie esther\n",
      "9000\n",
      "Virat Cohli\n"
     ]
    }
   ],
   "source": [
    "#check if we change full_name,it changes everywhere or not\n",
    "emp1 = Employee('tom','jerry',5000)\n",
    "emp1.full_name= 'than win'\n",
    "print(emp1.first)\n",
    "print(emp1.email)\n",
    "#we can access method as attribute after using @property\n",
    "print(emp1.full_name)\n",
    "#lets create some developer instance\n",
    "dev_1 = Developer('annie','esther',3000,'python')\n",
    "dev_2 = Developer('yoki','sam',6000,'javascript')\n",
    "dev_3 = Developer('yamini','AOki',6000,'java')\n",
    "\n",
    "print(dev_1.full_name)\n",
    "#lets create Manafer instance\n",
    "ma_1= Manager('sundar','pichai',80000)\n",
    "#magic method output \n",
    "print(dev_1)\n",
    "print(dev_1+dev_3)\n",
    "#from string test-Employee\n",
    "emp_string1 = 'Virat-Cohli-40000'\n",
    "emp_string2 = 'john-Denver-50000'\n",
    "new_emp1 = Employee.from_string(emp_string1)\n",
    "print(new_emp1.full_name)\n",
    "\n"
   ]
  },
  {
   "cell_type": "code",
   "execution_count": 41,
   "metadata": {},
   "outputs": [
    {
     "name": "stdout",
     "output_type": "stream",
     "text": [
      "--->> annie esther\n",
      "--->> yoki sam\n",
      "None\n"
     ]
    }
   ],
   "source": [
    "ma_1.add_emp(dev_1)\n",
    "ma_1.add_emp(dev_2)\n",
    "print(ma_1.display_emp()) \n",
    "#This is because you are trying to print a function that doesn't have any return statement. \n",
    "#Hence, fact() returns None, which is being printed as you have print along with the function call. \n",
    "#Since the value is being printed inside the function itself."
   ]
  },
  {
   "cell_type": "code",
   "execution_count": 42,
   "metadata": {},
   "outputs": [
    {
     "name": "stdout",
     "output_type": "stream",
     "text": [
      "--->> yoki sam\n",
      "None\n"
     ]
    }
   ],
   "source": [
    "ma_1.remove_emp(dev_1)\n",
    "print(ma_1.display_emp())"
   ]
  },
  {
   "cell_type": "markdown",
   "metadata": {},
   "source": [
    "# Library Mini project"
   ]
  },
  {
   "cell_type": "code",
   "execution_count": null,
   "metadata": {},
   "outputs": [
    {
     "name": "stdout",
     "output_type": "stream",
     "text": [
      "Welcome to CodeWithThanwin library\n",
      " Enter your choice to continue\n",
      "1: Display the book\n",
      "2: Lend a Book\n",
      "3:Add a book\n",
      "4:return a book\n",
      "2\n",
      "Enter the book you want lend\n",
      "Enter the bookBasic python\n",
      "Please enter your namethan\n",
      "Book dictionary has been updated\n",
      "You can take the book now\n",
      "Enter q to quit or c Continue\n"
     ]
    }
   ],
   "source": [
    "class Library:\n",
    "    def __init__(self,list,name):\n",
    "        self.book_list = list\n",
    "        self.name = name\n",
    "        self.lend_dict = {}\n",
    "    def display_book(self):\n",
    "        print(f\"We have following book in {self.name} Library\")\n",
    "        for book in self.book_list:\n",
    "            print(book)\n",
    "    def lend_book(self,user,book):\n",
    "        if book not in self.lend_dict.keys():\n",
    "            self.lend_dict.update({book:user})\n",
    "            print(\"Book dictionary has been updated\")\n",
    "            print(\"You can take the book now\")\n",
    "        else:\n",
    "            print(f\"this book is already taken by {self.lend_dict[book]}\")\n",
    "    def add_book(self,book):\n",
    "        if book not in self.book_list:\n",
    "            self.book_list.append(book)\n",
    "            print('Boo has been added')\n",
    "    def return_book(self,book):\n",
    "        self.lend_dict.pop(book)\n",
    "if __name__=='__main__':\n",
    "    thanwin = Library(['Basic python','Basic C++','English'],'CodeWithThanwin')\n",
    "    \n",
    "    while(True):\n",
    "        print(f\"Welcome to {thanwin.name} library\\n Enter your choice to continue\")\n",
    "        print(\"1: Display the book\")\n",
    "        print(\"2: Lend a Book\")\n",
    "        print(\"3:Add a book\")\n",
    "        print(\"4:return a book\")\n",
    "        user_choice=int(input())\n",
    "        if user_choice==1:\n",
    "            thanwin.display_book()\n",
    "        elif user_choice==2:\n",
    "            print(\"Enter the book you want lend\")\n",
    "            book = input(\"Enter the book\")\n",
    "            user = input('Please enter your name')\n",
    "            thanwin.lend_book(user,book)\n",
    "        elif user_choice==3:\n",
    "            print(\"Enter the book you want to add\")\n",
    "            book = input(\"enter the book\")\n",
    "            thanwin.add_book(book)\n",
    "        elif user_choice ==4:\n",
    "            print(\"Ente the book you want to return\")\n",
    "            book = input(\"Entet the book\")\n",
    "            thanwin.return_book(book)\n",
    "        else:\n",
    "            print('Not a valid option')\n",
    "            \n",
    "        print(\"Enter q to quit or c Continue\")\n",
    "        user_choice2 = input(\"Enter q or c\").upper()\n",
    "        while(user_choice2!='Q' or user_choice2!='C'):\n",
    "            user_choice2 = input(\"Enter q or c\").upper()\n",
    "            if user_choice2=='Q':\n",
    "                False\n",
    "            elif user_choice2=='C':\n",
    "                continue\n",
    "        \n",
    "            \n",
    "        "
   ]
  },
  {
   "cell_type": "markdown",
   "metadata": {},
   "source": [
    "# Bank Account"
   ]
  },
  {
   "cell_type": "raw",
   "metadata": {},
   "source": [
    "For this challenge, create a bank account class that has two attributes:\n",
    "\n",
    "owner\n",
    "balance\n",
    "and two methods:\n",
    "\n",
    "deposit\n",
    "withdraw\n",
    "As an added requirement, withdrawals may not exceed the available balance.\n",
    "\n",
    "Instantiate your class, make several deposits and withdrawals, and test to make sure the account can't be overdrawn."
   ]
  },
  {
   "cell_type": "code",
   "execution_count": 2,
   "metadata": {},
   "outputs": [
    {
     "name": "stdout",
     "output_type": "stream",
     "text": [
      "Your available balance is: 400\n",
      "1.Show account owner\n",
      "2:Deposit amount\n",
      "3:Withdraw amount\n",
      "4:Show me available balane\n",
      "5:Exit the program\n",
      "Please enter1-5\n",
      "5\n"
     ]
    }
   ],
   "source": [
    "\n",
    "class Bank_account:\n",
    "    def __init__(self,owner,balance):\n",
    "        self.owner = owner\n",
    "        if balance is None:\n",
    "            self.balance=[ ]\n",
    "        else:\n",
    "            self.balance=balance\n",
    "    def deposit(self,amount):\n",
    "        self.balance+=amount\n",
    "        print('Deposit has been added')\n",
    "    def withdraw(self,amount):\n",
    "        if amount>self.balance:\n",
    "            print(\"Sorry,Insufficent Credit\")\n",
    "        else:\n",
    "            self.balance-=amount\n",
    "            print(\"Withraw has been successful!\")\n",
    "            print('Your available balance is: ',self.balance)\n",
    "    def show_balance(self):\n",
    "        print(f\"Your available balance is: {self.balance}\")\n",
    "    #this will show account owner\n",
    "    def __str__(self):\n",
    "        return f\"Account owner: {self.owner}\"\n",
    "if __name__=='__main__':\n",
    "    than = Bank_account('than win',300)\n",
    "    game_on=True\n",
    "    while game_on:\n",
    "        print('1.Show account owner')\n",
    "        print('2:Deposit amount')\n",
    "        print('3:Withdraw amount')\n",
    "        print(\"4:Show me available balane\")\n",
    "        print(\"5:Exit the program\")\n",
    "        print(\"Please enter1-5\")\n",
    "        ask_to=int(input())\n",
    "        while ask_to not in [1,2,3,4,5]:\n",
    "            print(\"Please Enter valid input\")\n",
    "            ask_to=int(input(\"Please enter(1-5)\"))\n",
    "        #This is to show the latest result\n",
    "        from IPython.display import clear_output\n",
    "        clear_output(wait=True)\n",
    "        if ask_to==1:\n",
    "            print(than)\n",
    "        elif ask_to==2:\n",
    "            amount = int(input(\"Enter the ammount you want to deposit\"))\n",
    "            than.deposit(amount)\n",
    "        elif ask_to==3:\n",
    "            amount=int(input('Enter the money you want to withdraw'))\n",
    "            than.withdraw(amount)\n",
    "        elif ask_to==4:\n",
    "            than.show_balance()\n",
    "        elif ask_to==5:\n",
    "            game_on=False\n",
    "    \n",
    "            \n",
    "       \n",
    "       "
   ]
  },
  {
   "cell_type": "code",
   "execution_count": null,
   "metadata": {},
   "outputs": [],
   "source": []
  },
  {
   "cell_type": "code",
   "execution_count": null,
   "metadata": {},
   "outputs": [],
   "source": []
  },
  {
   "cell_type": "code",
   "execution_count": null,
   "metadata": {},
   "outputs": [],
   "source": []
  },
  {
   "cell_type": "code",
   "execution_count": null,
   "metadata": {},
   "outputs": [],
   "source": []
  },
  {
   "cell_type": "code",
   "execution_count": null,
   "metadata": {},
   "outputs": [],
   "source": []
  },
  {
   "cell_type": "code",
   "execution_count": null,
   "metadata": {},
   "outputs": [],
   "source": []
  },
  {
   "cell_type": "code",
   "execution_count": null,
   "metadata": {},
   "outputs": [],
   "source": []
  },
  {
   "cell_type": "code",
   "execution_count": null,
   "metadata": {},
   "outputs": [],
   "source": []
  },
  {
   "cell_type": "code",
   "execution_count": null,
   "metadata": {},
   "outputs": [],
   "source": []
  },
  {
   "cell_type": "code",
   "execution_count": null,
   "metadata": {},
   "outputs": [],
   "source": []
  },
  {
   "cell_type": "code",
   "execution_count": null,
   "metadata": {},
   "outputs": [],
   "source": []
  },
  {
   "cell_type": "code",
   "execution_count": null,
   "metadata": {},
   "outputs": [],
   "source": []
  },
  {
   "cell_type": "code",
   "execution_count": null,
   "metadata": {},
   "outputs": [],
   "source": []
  },
  {
   "cell_type": "code",
   "execution_count": null,
   "metadata": {},
   "outputs": [],
   "source": []
  },
  {
   "cell_type": "code",
   "execution_count": null,
   "metadata": {},
   "outputs": [],
   "source": []
  }
 ],
 "metadata": {
  "kernelspec": {
   "display_name": "Python 3",
   "language": "python",
   "name": "python3"
  },
  "language_info": {
   "codemirror_mode": {
    "name": "ipython",
    "version": 3
   },
   "file_extension": ".py",
   "mimetype": "text/x-python",
   "name": "python",
   "nbconvert_exporter": "python",
   "pygments_lexer": "ipython3",
   "version": "3.7.4"
  }
 },
 "nbformat": 4,
 "nbformat_minor": 2
}
