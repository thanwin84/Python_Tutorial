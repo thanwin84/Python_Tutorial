{
 "cells": [
  {
   "cell_type": "markdown",
   "metadata": {},
   "source": [
    "# regax excercise "
   ]
  },
  {
   "cell_type": "markdown",
   "metadata": {},
   "source": [
    "Write a Python program that matches a string that has an a followed by zero or more b's.\n",
    "\n"
   ]
  },
  {
   "cell_type": "code",
   "execution_count": 43,
   "metadata": {},
   "outputs": [],
   "source": [
    "import re\n",
    "def text_match(string):\n",
    "    match = re.search(r'^ab*$', string)\n",
    "    if match:\n",
    "        return 'Found match'\n",
    "    else:\n",
    "        return 'Not Found'"
   ]
  },
  {
   "cell_type": "code",
   "execution_count": 45,
   "metadata": {},
   "outputs": [
    {
     "name": "stdout",
     "output_type": "stream",
     "text": [
      "Not Found\n",
      "Found match\n"
     ]
    }
   ],
   "source": [
    "print(text_match('abc'))\n",
    "print(text_match('abb'))"
   ]
  },
  {
   "cell_type": "markdown",
   "metadata": {},
   "source": [
    "Write a Python program that matches a string that has an a followed by one or more b's"
   ]
  },
  {
   "cell_type": "code",
   "execution_count": 46,
   "metadata": {},
   "outputs": [],
   "source": [
    "import re\n",
    "def text_match(string):\n",
    "    match = re.search(r'^ab+$', string)\n",
    "    if match:\n",
    "        return 'Found match'\n",
    "    else:\n",
    "        return 'Not Found'"
   ]
  },
  {
   "cell_type": "code",
   "execution_count": 47,
   "metadata": {},
   "outputs": [
    {
     "name": "stdout",
     "output_type": "stream",
     "text": [
      "Not Found\n",
      "Found match\n"
     ]
    }
   ],
   "source": [
    "print(text_match('abc'))\n",
    "print(text_match('abb'))"
   ]
  },
  {
   "cell_type": "markdown",
   "metadata": {},
   "source": [
    "Write a Python program that matches a string that has an a followed by zero or one 'b"
   ]
  },
  {
   "cell_type": "code",
   "execution_count": 1,
   "metadata": {},
   "outputs": [],
   "source": [
    "import re\n",
    "def text_match(string):\n",
    "    match = re.search(r'ab?', string)\n",
    "    if match:\n",
    "        return 'Found match'\n",
    "    else:\n",
    "        return 'Not Found'"
   ]
  },
  {
   "cell_type": "code",
   "execution_count": 2,
   "metadata": {},
   "outputs": [
    {
     "name": "stdout",
     "output_type": "stream",
     "text": [
      "Found match\n",
      "Found match\n"
     ]
    }
   ],
   "source": [
    "print(text_match('ab'))\n",
    "print(text_match('ad'))"
   ]
  },
  {
   "cell_type": "markdown",
   "metadata": {},
   "source": [
    "Write a Python program to find sequences of lowercase letters joined with a underscore.\n",
    "\n"
   ]
  },
  {
   "cell_type": "code",
   "execution_count": 10,
   "metadata": {},
   "outputs": [],
   "source": [
    "import re\n",
    "def text_match(string):\n",
    "    match = re.search(r'[a-z]+_[a-z]+', string)\n",
    "    if match:\n",
    "        return 'Found match'\n",
    "    else:\n",
    "        return 'Not Found'"
   ]
  },
  {
   "cell_type": "code",
   "execution_count": 12,
   "metadata": {},
   "outputs": [
    {
     "name": "stdout",
     "output_type": "stream",
     "text": [
      "Found match\n",
      "Not Found\n",
      "Found match\n"
     ]
    }
   ],
   "source": [
    "print(text_match(\"aab_cbbbc\"))\n",
    "print(text_match(\"aab_Abbbc\"))\n",
    "print(text_match(\"Aaab_abbbc\"))"
   ]
  },
  {
   "cell_type": "markdown",
   "metadata": {},
   "source": [
    " Write a Python program to find the sequences of one upper case letter followed by lower case letters"
   ]
  },
  {
   "cell_type": "code",
   "execution_count": 4,
   "metadata": {},
   "outputs": [],
   "source": [
    "import re\n",
    "def text_match(string):\n",
    "    match = re.search(r'[A-Z]+_[a-z]+', string)\n",
    "    if match:\n",
    "        return 'Found match'\n",
    "    else:\n",
    "        return 'Not Found'"
   ]
  },
  {
   "cell_type": "code",
   "execution_count": 5,
   "metadata": {},
   "outputs": [
    {
     "name": "stdout",
     "output_type": "stream",
     "text": [
      "Found match\n",
      "Not Found\n",
      "Not Found\n"
     ]
    }
   ],
   "source": [
    "print(text_match(\"aaB_cbbbc\"))\n",
    "print(text_match(\"aab_Abbbc\"))\n",
    "print(text_match(\"Aaab_abbbc\"))"
   ]
  },
  {
   "cell_type": "markdown",
   "metadata": {},
   "source": [
    "Write a Python program that matches a word containing 'z'.\n",
    "\n"
   ]
  },
  {
   "cell_type": "code",
   "execution_count": 6,
   "metadata": {},
   "outputs": [],
   "source": [
    "import re\n",
    "def text_match(string):\n",
    "    match = re.search(r'\\w*z\\w*', string)\n",
    "    if match:\n",
    "        return 'Found match'\n",
    "    else:\n",
    "        return 'Not Found'"
   ]
  },
  {
   "cell_type": "code",
   "execution_count": 8,
   "metadata": {},
   "outputs": [
    {
     "name": "stdout",
     "output_type": "stream",
     "text": [
      "Found match\n",
      "Not Found\n"
     ]
    }
   ],
   "source": [
    "print(text_match('the lazy dog'))\n",
    "print(text_match('the clever dog'))"
   ]
  },
  {
   "cell_type": "markdown",
   "metadata": {},
   "source": [
    " Write a Python program that matches a word containing 'z', not at the start or end of the word"
   ]
  },
  {
   "cell_type": "code",
   "execution_count": 9,
   "metadata": {},
   "outputs": [],
   "source": [
    "import re\n",
    "def text_match(string):\n",
    "    match = re.search(r'\\w+z\\w+', string)\n",
    "    if match:\n",
    "        return 'Found match'\n",
    "    else:\n",
    "        return 'Not Found'"
   ]
  },
  {
   "cell_type": "code",
   "execution_count": 12,
   "metadata": {},
   "outputs": [
    {
     "name": "stdout",
     "output_type": "stream",
     "text": [
      "Not Found\n",
      "Not Found\n",
      "Found match\n",
      "Not Found\n"
     ]
    }
   ],
   "source": [
    "print(text_match('the layz dog'))\n",
    "print(text_match('the clever dog'))\n",
    "print(text_match(\"The quick brown fox jumps over the lazy dog.\"))\n",
    "print(text_match(\"Python Exercises.\"))"
   ]
  },
  {
   "cell_type": "markdown",
   "metadata": {},
   "source": [
    "Write a Python program to match a string that contains only upper and lowercase letters, numbers, and underscores.\n",
    "\n"
   ]
  },
  {
   "cell_type": "code",
   "execution_count": 22,
   "metadata": {},
   "outputs": [],
   "source": [
    "import re\n",
    "def text_match(string):\n",
    "    match = re.search(r'^[A-Za-z0-9_]+$', string)\n",
    "    if match:\n",
    "        return 'Found match'\n",
    "    else:\n",
    "        return 'Not Found'"
   ]
  },
  {
   "cell_type": "code",
   "execution_count": 23,
   "metadata": {},
   "outputs": [
    {
     "name": "stdout",
     "output_type": "stream",
     "text": [
      "Not Found\n",
      "Found match\n"
     ]
    }
   ],
   "source": [
    "print(text_match(\"The quick brown fox jumps over the lazy dog.\"))\n",
    "print(text_match(\"Python_Exercises_1\"))\n"
   ]
  },
  {
   "cell_type": "markdown",
   "metadata": {},
   "source": [
    "Write a Python program where a string will start with a specific number.\n",
    "\n"
   ]
  },
  {
   "cell_type": "code",
   "execution_count": 26,
   "metadata": {},
   "outputs": [],
   "source": [
    "import re\n",
    "def match_num(string):\n",
    "    match = re.search(r'^5', string)\n",
    "    if match:\n",
    "        return 'Found match'\n",
    "    else:\n",
    "        return 'Not Found'"
   ]
  },
  {
   "cell_type": "code",
   "execution_count": 27,
   "metadata": {},
   "outputs": [
    {
     "name": "stdout",
     "output_type": "stream",
     "text": [
      "Found match\n",
      "Not Found\n"
     ]
    }
   ],
   "source": [
    "print(match_num('5-2345861'))\n",
    "print(match_num('6-2345861'))\n"
   ]
  },
  {
   "cell_type": "code",
   "execution_count": 31,
   "metadata": {},
   "outputs": [
    {
     "name": "stdout",
     "output_type": "stream",
     "text": [
      "None\n"
     ]
    }
   ],
   "source": [
    "print(re.match(r'[0-9]','ab9'))"
   ]
  },
  {
   "cell_type": "markdown",
   "metadata": {},
   "source": [
    "Write a Python program to check for a number at the end of a string.\n",
    "\n"
   ]
  },
  {
   "cell_type": "code",
   "execution_count": 33,
   "metadata": {},
   "outputs": [],
   "source": [
    "import re\n",
    "def match_num(string):\n",
    "    match = re.search(r'.*\\d$', string)\n",
    "    if match:\n",
    "        return 'Found match'\n",
    "    else:\n",
    "        return 'Not Found'"
   ]
  },
  {
   "cell_type": "code",
   "execution_count": 35,
   "metadata": {},
   "outputs": [
    {
     "name": "stdout",
     "output_type": "stream",
     "text": [
      "Found match\n"
     ]
    }
   ],
   "source": [
    "print(match_num('abc444'))"
   ]
  },
  {
   "cell_type": "markdown",
   "metadata": {},
   "source": [
    "Write a Python program to search the numbers (0-9) of length between 1 to 3 in a given string"
   ]
  },
  {
   "cell_type": "code",
   "execution_count": 78,
   "metadata": {},
   "outputs": [
    {
     "name": "stdout",
     "output_type": "stream",
     "text": [
      "1\n",
      "12\n",
      "13\n",
      "345\n"
     ]
    }
   ],
   "source": [
    "string = \"Exercises number 1, 12, 13, and 345 are important\"\n",
    "pattern = re.compile(r'[0-9]{1,3}')\n",
    "#matches = pattern.finditer(string)\n",
    "matches = pattern.findall(string)\n",
    "\n",
    "for match in matches:\n",
    "    #print(match.group(0))\n",
    "    print(match)"
   ]
  },
  {
   "cell_type": "raw",
   "metadata": {},
   "source": [
    "Write a Python program to search a literals string in a string and also find the location within the original string where the pattern occurs.\n"
   ]
  },
  {
   "cell_type": "code",
   "execution_count": 42,
   "metadata": {},
   "outputs": [
    {
     "name": "stdout",
     "output_type": "stream",
     "text": [
      "16\n",
      "19\n"
     ]
    }
   ],
   "source": [
    "string = 'the quick brown fox jumps over the river'\n",
    "pattern = r'fox'\n",
    "match = re.search(pattern,string)\n",
    "\n",
    "print(match.start())\n",
    "print(match.end())"
   ]
  },
  {
   "cell_type": "markdown",
   "metadata": {},
   "source": [
    "# start() and end()"
   ]
  },
  {
   "cell_type": "markdown",
   "metadata": {},
   "source": [
    "Write a Python program to find the occurrence and position of the substrings within a string.\n",
    "\n"
   ]
  },
  {
   "cell_type": "code",
   "execution_count": 45,
   "metadata": {},
   "outputs": [
    {
     "name": "stdout",
     "output_type": "stream",
     "text": [
      "exercises 7:16\n",
      "exercises 22:31\n",
      "exercises 36:45\n"
     ]
    }
   ],
   "source": [
    "string = 'Python exercises, PHP exercises, C# exercises'\n",
    "pattern = re.compile(r'exercises')\n",
    "matches = pattern.finditer(string)\n",
    "for match in matches:\n",
    "    start = match.start()\n",
    "    end = match.end()\n",
    "    print(\"{} {}:{}\".format(match.group(), start, end))"
   ]
  },
  {
   "cell_type": "markdown",
   "metadata": {},
   "source": [
    "Write a Python program to match if two words from a list of words starting with letter 'P'.\n",
    "\n"
   ]
  },
  {
   "cell_type": "code",
   "execution_count": 168,
   "metadata": {},
   "outputs": [
    {
     "name": "stdout",
     "output_type": "stream",
     "text": [
      "Python PHP\n"
     ]
    }
   ],
   "source": [
    "words = [\"Python PHP\", \"Java JavaScript\", \"c c++\"]\n",
    "for word in words:\n",
    "    result=re.match(r'(P\\w+)\\s(P\\w+)', word)\n",
    "    if result:\n",
    "        print(result.group())"
   ]
  },
  {
   "cell_type": "code",
   "execution_count": null,
   "metadata": {},
   "outputs": [],
   "source": [
    "# Write python program to find all adverbs and their positions in given sentence \n",
    "string = 'Clearly, He has no such behavior'\n",
    "match = re.findall(r'\\b\\w+ly\\b', string)\n",
    "print('{} at ({},{}) position'.format(match,match.start(),match.end()))"
   ]
  },
  {
   "cell_type": "markdown",
   "metadata": {},
   "source": [
    "# split"
   ]
  },
  {
   "cell_type": "code",
   "execution_count": 177,
   "metadata": {},
   "outputs": [
    {
     "name": "stdout",
     "output_type": "stream",
     "text": [
      "\n",
      "10\n",
      "20\n",
      "30\n"
     ]
    }
   ],
   "source": [
    "text = \"Ten 10, Twenty 20, Thirty 30\"\n",
    "for m in re.split(r'\\D+', text):\n",
    "    print(m)"
   ]
  },
  {
   "cell_type": "code",
   "execution_count": 178,
   "metadata": {},
   "outputs": [
    {
     "data": {
      "text/plain": [
       "['100', '100', '200']"
      ]
     },
     "execution_count": 178,
     "metadata": {},
     "output_type": "execute_result"
    }
   ],
   "source": [
    "string = '100.100-200'\n",
    "re.split(r'[.-]', string)"
   ]
  },
  {
   "cell_type": "code",
   "execution_count": 180,
   "metadata": {},
   "outputs": [
    {
     "name": "stdout",
     "output_type": "stream",
     "text": [
      "100.80,89\n",
      "100\n",
      "80\n",
      "89\n"
     ]
    }
   ],
   "source": [
    "# hacker rank problem \n",
    "regex_pattern = r\"[.,]\"\t# Do not delete 'r'.\n",
    "\n",
    "import re\n",
    "print(\"\\n\".join(re.split(regex_pattern, input())))"
   ]
  },
  {
   "cell_type": "markdown",
   "metadata": {},
   "source": [
    "Write a Python program to separate and print the numbers and their position of a given string."
   ]
  },
  {
   "cell_type": "markdown",
   "metadata": {},
   "source": [
    "Write a Python program to abbreviate 'Road' as 'Rd.' in a given string.\n",
    "\n"
   ]
  },
  {
   "cell_type": "code",
   "execution_count": 1,
   "metadata": {},
   "outputs": [
    {
     "name": "stdout",
     "output_type": "stream",
     "text": [
      "21 down Rd\n"
     ]
    }
   ],
   "source": [
    "import re \n",
    "street = '21 down Road'\n",
    "result = re.sub(r'Road', 'Rd', street)\n",
    "print(result)"
   ]
  },
  {
   "cell_type": "code",
   "execution_count": 120,
   "metadata": {},
   "outputs": [
    {
     "data": {
      "text/plain": [
       "['Python', 'Exercise', 'For', 'Everybody']"
      ]
     },
     "execution_count": 120,
     "metadata": {},
     "output_type": "execute_result"
    }
   ],
   "source": [
    "# write a python program to split a sting at uppercase letter\n",
    "string = 'PythonExerciseForEverybody'\n",
    "re.findall(r'[A-Z]+[^A-Z]*', string)"
   ]
  },
  {
   "cell_type": "markdown",
   "metadata": {},
   "source": [
    "# Words Length"
   ]
  },
  {
   "cell_type": "code",
   "execution_count": 10,
   "metadata": {},
   "outputs": [
    {
     "data": {
      "text/plain": [
       "['brown', 'longe', 'apple']"
      ]
     },
     "execution_count": 10,
     "metadata": {},
     "output_type": "execute_result"
    }
   ],
   "source": [
    "# Write a Python program to find all five characters long word in a string\n",
    "string = 'the brown fox:longe apple'\n",
    "re.findall(r'\\b\\w{5}\\b', string)"
   ]
  },
  {
   "cell_type": "code",
   "execution_count": 13,
   "metadata": {},
   "outputs": [
    {
     "data": {
      "text/plain": [
       "['the', 'brown', 'fox', 'apple']"
      ]
     },
     "execution_count": 13,
     "metadata": {},
     "output_type": "execute_result"
    }
   ],
   "source": [
    "# Write a Python program to find all three, four, five characters long words in a string\n",
    "string = 'the brown fox:longest apple'\n",
    "re.findall(r'\\b\\w{3,5}\\b', string)"
   ]
  },
  {
   "cell_type": "code",
   "execution_count": 12,
   "metadata": {},
   "outputs": [
    {
     "data": {
      "text/plain": [
       "['quick', 'brown', 'jumps', 'over', 'lazy']"
      ]
     },
     "execution_count": 12,
     "metadata": {},
     "output_type": "execute_result"
    }
   ],
   "source": [
    "# Write a Python program to find all words which are at least 4 characters long in a string.\n",
    "text = 'The quick brown fox jumps over the lazy dog.'\n",
    "re.findall(r'\\b\\w{4,}\\b', text)"
   ]
  },
  {
   "cell_type": "code",
   "execution_count": 14,
   "metadata": {},
   "outputs": [
    {
     "data": {
      "text/plain": [
       "['treehouse',\n",
       " 'Treehouse',\n",
       " 'treehouse',\n",
       " 'Treehouse',\n",
       " 'treehouse',\n",
       " 'Treehouse',\n",
       " 'treehouse',\n",
       " 'Treehouse']"
      ]
     },
     "execution_count": 14,
     "metadata": {},
     "output_type": "execute_result"
    }
   ],
   "source": [
    "# find all treehouse and ignore case\n",
    "with open('names.txt') as file:\n",
    "    data = file.read()\n",
    "re.findall(r'[trehouse]{9}', data, re.I)"
   ]
  },
  {
   "cell_type": "markdown",
   "metadata": {},
   "source": [
    "# camel case string to snake case string"
   ]
  },
  {
   "cell_type": "code",
   "execution_count": 89,
   "metadata": {},
   "outputs": [
    {
     "data": {
      "text/plain": [
       "'than_win'"
      ]
     },
     "execution_count": 89,
     "metadata": {},
     "output_type": "execute_result"
    }
   ],
   "source": [
    "text = 'PythonExercises'\n",
    "text2 = 'than_win'\n",
    "str1 = re.sub('(.)([A-Z][a-z]+)', r'\\1_\\2', text2)\n",
    "word = str1.lower()\n",
    "word"
   ]
  },
  {
   "cell_type": "code",
   "execution_count": 96,
   "metadata": {},
   "outputs": [
    {
     "data": {
      "text/plain": [
       "'Than win'"
      ]
     },
     "execution_count": 96,
     "metadata": {},
     "output_type": "execute_result"
    }
   ],
   "source": [
    "\" \".join(word.split('_')).capitalize()"
   ]
  },
  {
   "cell_type": "markdown",
   "metadata": {},
   "source": [
    "# Write a Python program to extract values between quotation marks of a string.\n",
    "\n"
   ]
  },
  {
   "cell_type": "code",
   "execution_count": 97,
   "metadata": {},
   "outputs": [
    {
     "data": {
      "text/plain": [
       "['Python', 'PHP', 'Java']"
      ]
     },
     "execution_count": 97,
     "metadata": {},
     "output_type": "execute_result"
    }
   ],
   "source": [
    "import re\n",
    "text1 = '\"Python\", \"PHP\", \"Java\"'\n",
    "re.findall(r'\"(\\w+)\"',text1)\n"
   ]
  },
  {
   "cell_type": "markdown",
   "metadata": {},
   "source": [
    "# using sub"
   ]
  },
  {
   "cell_type": "code",
   "execution_count": 115,
   "metadata": {},
   "outputs": [
    {
     "data": {
      "text/plain": [
       "'216.8.94.196'"
      ]
     },
     "execution_count": 115,
     "metadata": {},
     "output_type": "execute_result"
    }
   ],
   "source": [
    "#Write a Python program to remove leading zeros from an IP address.\n",
    "\n",
    "import re\n",
    "ip = \"216.08.094.196\"\n",
    "string = re.sub(r'0','', ip)\n",
    "string"
   ]
  },
  {
   "cell_type": "markdown",
   "metadata": {},
   "source": [
    "Write a Python program to remove everything except alphanumeric characters from a string.\n",
    "\n"
   ]
  },
  {
   "cell_type": "code",
   "execution_count": 106,
   "metadata": {},
   "outputs": [
    {
     "data": {
      "text/plain": [
       "'PythonExercises12'"
      ]
     },
     "execution_count": 106,
     "metadata": {},
     "output_type": "execute_result"
    }
   ],
   "source": [
    "text = '**//Python Exercises// - 12. '\n",
    "pattern = re.compile(r'([\\W]+)')\n",
    "pattern.sub(r'',text)\n"
   ]
  },
  {
   "cell_type": "code",
   "execution_count": 107,
   "metadata": {},
   "outputs": [
    {
     "data": {
      "text/plain": [
       "'PythonExercises12'"
      ]
     },
     "execution_count": 107,
     "metadata": {},
     "output_type": "execute_result"
    }
   ],
   "source": [
    "re.sub('\\W+','',text)"
   ]
  },
  {
   "cell_type": "markdown",
   "metadata": {},
   "source": [
    " Write a Python program to replace whitespaces with an underscore and vice vers"
   ]
  },
  {
   "cell_type": "code",
   "execution_count": 109,
   "metadata": {},
   "outputs": [
    {
     "name": "stdout",
     "output_type": "stream",
     "text": [
      "the_brown_fox_jumps_again\n",
      "the_brown_fox_jumps_again\n"
     ]
    }
   ],
   "source": [
    "string = 'the_brown fox jumps_again'\n",
    "match_1=re.sub(r'\\s','_', string)\n",
    "print(match_1)\n",
    "match_2=re.sub(r' ','_', match_1)\n",
    "print(match_2)"
   ]
  },
  {
   "cell_type": "code",
   "execution_count": 110,
   "metadata": {},
   "outputs": [
    {
     "name": "stdout",
     "output_type": "stream",
     "text": [
      "Check_this_one@@@out@@@!\n",
      "Check this one@@@out@@@!\n"
     ]
    },
    {
     "data": {
      "text/plain": [
       "'Check this one_out_!'"
      ]
     },
     "execution_count": 110,
     "metadata": {},
     "output_type": "execute_result"
    }
   ],
   "source": [
    "temp_string = re.sub(r' ', r'@@@','Check_this_one out !')\n",
    "print(temp_string)\n",
    "replaced = re.sub(r'_', ' ', temp_string)\n",
    "print(replaced)\n",
    "result = re.sub(r'@@@','_', replaced)\n",
    "result"
   ]
  },
  {
   "cell_type": "code",
   "execution_count": 108,
   "metadata": {},
   "outputs": [
    {
     "data": {
      "text/plain": [
       "'check this one_out_!'"
      ]
     },
     "execution_count": 108,
     "metadata": {},
     "output_type": "execute_result"
    }
   ],
   "source": [
    "def swap_it(string):\n",
    "    initial = re.sub(r\" \", \"@@\",string)\n",
    "    replaced = re.sub(r'_',  ' ', initial)\n",
    "    result = re.sub(r'@@', '_', replaced)\n",
    "    return result\n",
    "swap_it('check_this_one out !')"
   ]
  },
  {
   "cell_type": "markdown",
   "metadata": {},
   "source": [
    "Write a Python program to extract year, month and date from an url \n"
   ]
  },
  {
   "cell_type": "code",
   "execution_count": 113,
   "metadata": {},
   "outputs": [
    {
     "name": "stdout",
     "output_type": "stream",
     "text": [
      "('2016', '09', '02')\n"
     ]
    }
   ],
   "source": [
    "url= \"https://www.washingtonpost.com/news/football-insider/wp/2016/09/02/odell-beckhams-fame-rests-on-one-stupid-little-ball-josh-norman-tells-author/\"\n",
    "pattern = re.compile(r'(\\d{4})/(\\d{1,2})/(\\d{1,2})')\n",
    "matches = pattern.findall(url)\n",
    "for match in matches:\n",
    "    print(match)"
   ]
  },
  {
   "cell_type": "code",
   "execution_count": 114,
   "metadata": {},
   "outputs": [
    {
     "name": "stdout",
     "output_type": "stream",
     "text": [
      "02/09/2016\n",
      "{'year': '2016', 'month': '09', 'date': '02'}\n"
     ]
    }
   ],
   "source": [
    "# search date from url\n",
    "result = re.search(r\"\"\"\n",
    "    (?P<year>\\d{4})/ # year\n",
    "    (?P<month>\\d{1,2})/ #month\n",
    "    (?P<date>\\d{1,2})\n",
    "\"\"\", url, re.VERBOSE|re.M)\n",
    "# changing date to mm/dd/yy format\n",
    "print(re.sub(r'(\\d{4})/(\\d{1,2})/(\\d{1,2})','\\\\3/\\\\2/\\\\1',result.group()))\n",
    "print(result.groupdict())"
   ]
  },
  {
   "cell_type": "code",
   "execution_count": 11,
   "metadata": {},
   "outputs": [
    {
     "name": "stdout",
     "output_type": "stream",
     "text": [
      " quick brown jumps over lazy.\n"
     ]
    }
   ],
   "source": [
    "# Write a Python program to remove words from a string of length between 1 and a given number.\n",
    "import re\n",
    "text = \"The quick brown fox jumps over the lazy dog.\"\n",
    "print(re.sub(r'\\W*\\b\\w{1,3}\\b','',text))\n"
   ]
  },
  {
   "cell_type": "code",
   "execution_count": 14,
   "metadata": {},
   "outputs": [
    {
     "name": "stdout",
     "output_type": "stream",
     "text": [
      "example \n",
      "w3resource\n",
      "github \n",
      "stackoverflow \n"
     ]
    }
   ],
   "source": [
    "# Write a Python program to remove the parenthesis area in a string\n",
    "Sample = [\"example (.com)\", \"w3resource\", \"github (.com)\", \"stackoverflow (.com)\"]\n",
    "for word in Sample:\n",
    "    print(re.sub(r'\\(.+\\)','', word))\n"
   ]
  },
  {
   "cell_type": "code",
   "execution_count": 42,
   "metadata": {},
   "outputs": [
    {
     "data": {
      "text/plain": [
       "'Python Exercise'"
      ]
     },
     "execution_count": 42,
     "metadata": {},
     "output_type": "execute_result"
    }
   ],
   "source": [
    "# Write a Python program to insert spaces between words starting with capital letters.\n",
    "test_string = 'PythonExercise'\n",
    "#re.search(r'(\\w)([A-Z])', test_string)\n",
    "re.sub(r'(\\w)([A-Z])',r'\\1 \\2', test_string)"
   ]
  },
  {
   "cell_type": "code",
   "execution_count": 43,
   "metadata": {},
   "outputs": [
    {
     "data": {
      "text/plain": [
       "'PFE'"
      ]
     },
     "execution_count": 43,
     "metadata": {},
     "output_type": "execute_result"
    }
   ],
   "source": [
    "# remove all lowercase string\n",
    "string = 'PythonForEveryone'\n",
    "re.sub(r'[a-z]+','',string)"
   ]
  },
  {
   "cell_type": "markdown",
   "metadata": {},
   "source": [
    "# group(), groups(),groupdict()"
   ]
  },
  {
   "cell_type": "code",
   "execution_count": 51,
   "metadata": {},
   "outputs": [
    {
     "name": "stdout",
     "output_type": "stream",
     "text": [
      "username\n",
      "com\n",
      "username@hackerrank.com\n",
      "('username', 'hackerrank', 'com')\n",
      "('username', 'hackerrank', 'com')\n",
      "{'name': 'username', 'website': 'hackerrank'}\n"
     ]
    }
   ],
   "source": [
    "email = 'username@hackerrank.com'\n",
    "m = re.match(r'(?P<name>[a-zA-Z]+)@(?P<website>[\\w]+)\\.([\\w]+)', email)\n",
    "print(m.group(1))\n",
    "print(m.group(3))\n",
    "print(m.group(0))\n",
    "print(m.group(1,2,3))\n",
    "print(m.groups()) # A groups() expression returns a tuple containing all the subgroups of the match.\n",
    "print(m.groupdict())"
   ]
  },
  {
   "cell_type": "code",
   "execution_count": 2,
   "metadata": {},
   "outputs": [
    {
     "name": "stdout",
     "output_type": "stream",
     "text": [
      "123422233\n",
      "2\n"
     ]
    }
   ],
   "source": [
    "# hacker rank problem\n",
    "# Print the first occurrence of the repeating character. If there are no repeating characters, print -1.\n",
    "import re\n",
    "\n",
    "string = input()\n",
    "match = re.findall(r'([0-9])\\1+', string) \n",
    "if match:\n",
    "    print(match[0])\n",
    "else:\n",
    "    print('-1')"
   ]
  },
  {
   "cell_type": "code",
   "execution_count": 6,
   "metadata": {},
   "outputs": [
    {
     "name": "stdout",
     "output_type": "stream",
     "text": [
      "rabcdeefgyYhFjkIoomnpOeorteeeeet\n",
      "ee\n",
      "Ioo\n",
      "Oeo\n",
      "eeeee\n"
     ]
    }
   ],
   "source": [
    "import re\n",
    "s = '[bcdfghjklmnpqrstvwxyz]'\n",
    "string = input()\n",
    "pattern = re.compile('(?<='+s+')([AEIOU]{2,})'+s, re.I) #?<=: positive lookback assertion\n",
    "match = pattern.findall(string)\n",
    "print('\\n'.join(match or ['-1']))"
   ]
  },
  {
   "cell_type": "markdown",
   "metadata": {},
   "source": [
    "# Due to study: ANSSI escape"
   ]
  },
  {
   "cell_type": "code",
   "execution_count": null,
   "metadata": {},
   "outputs": [],
   "source": [
    "num = \"\"\"\n",
    "4253625879615786\n",
    "4424424424442444\n",
    "5122-2368-7954-3214\n",
    "\"\"\""
   ]
  },
  {
   "cell_type": "code",
   "execution_count": 1,
   "metadata": {},
   "outputs": [
    {
     "name": "stdout",
     "output_type": "stream",
     "text": [
      "(0, 1)\n",
      "(4, 5)\n"
     ]
    }
   ],
   "source": [
    "import re\n",
    "test = 'aaadaa'\n",
    "pat = re.compile(r'aa')\n",
    "matches = pat.finditer(test)\n",
    "for match in matches:\n",
    "    print('({}, {})'.format(match.start(),match.end()-1))\n",
    "    \n",
    "    "
   ]
  },
  {
   "cell_type": "code",
   "execution_count": 36,
   "metadata": {
    "scrolled": true
   },
   "outputs": [
    {
     "data": {
      "text/plain": [
       "<re.Match object; span=(1, 3), match='aa'>"
      ]
     },
     "execution_count": 36,
     "metadata": {},
     "output_type": "execute_result"
    }
   ],
   "source": [
    "pat = re.compile(r'aa')\n",
    "r =pat.search('aaadaa')\n",
    "#r = pattern.search('aaadaa',r.start() + 1)\n",
    "pat.search('aaadaa',r.start()+1)"
   ]
  },
  {
   "cell_type": "code",
   "execution_count": 40,
   "metadata": {},
   "outputs": [
    {
     "name": "stdout",
     "output_type": "stream",
     "text": [
      "<re.Match object; span=(0, 1), match='d'>\n",
      "None\n"
     ]
    }
   ],
   "source": [
    "pattern = re.compile(\"d\")\n",
    "print(pattern.search('dog')) # match at index 0\n",
    "print(pattern.search('dog',1))"
   ]
  },
  {
   "cell_type": "code",
   "execution_count": 58,
   "metadata": {},
   "outputs": [
    {
     "data": {
      "text/plain": [
       "<re.Match object; span=(1, 3), match='aa'>"
      ]
     },
     "execution_count": 58,
     "metadata": {},
     "output_type": "execute_result"
    }
   ],
   "source": [
    "pattern = re.compile('aa')\n",
    "pattern.search('aaadaa',1)"
   ]
  },
  {
   "cell_type": "code",
   "execution_count": 59,
   "metadata": {},
   "outputs": [
    {
     "name": "stdout",
     "output_type": "stream",
     "text": [
      "aaada\n",
      "aa\n",
      "(0, 1)\n",
      "(1, 2)\n"
     ]
    }
   ],
   "source": [
    "import re\n",
    "S = input()\n",
    "k = input()\n",
    "anymatch = 'No'\n",
    "for m in re.finditer(r'(?=('+k+'))',S):\n",
    "    anymatch = 'Yes'\n",
    "    print((m.start(1),m.end(1)-1))\n",
    "if anymatch == 'No':\n",
    "    print((-1, -1))"
   ]
  },
  {
   "cell_type": "code",
   "execution_count": 7,
   "metadata": {},
   "outputs": [
    {
     "name": "stdout",
     "output_type": "stream",
     "text": [
      "(0, 1)\n",
      "(1, 2)\n",
      "(4, 5)\n"
     ]
    }
   ],
   "source": [
    "for m in re.finditer(r'(?=(aa))','aaadaa'):\n",
    "    print((m.start(1),m.end(1)-1))\n",
    "    \n",
    "    "
   ]
  },
  {
   "cell_type": "code",
   "execution_count": null,
   "metadata": {},
   "outputs": [],
   "source": [
    "regex_pattern = r\"^...\\....\\....\\....$\"\t# Do not delete 'r'.\n",
    "\n",
    "import re\n",
    "import sys\n",
    "\n",
    "test_string = input()\n",
    "\n",
    "match = re.match(regex_pattern, test_string) is not None\n",
    "\n",
    "print(str(match).lower())"
   ]
  },
  {
   "cell_type": "code",
   "execution_count": 3,
   "metadata": {},
   "outputs": [
    {
     "data": {
      "text/plain": [
       "True"
      ]
     },
     "execution_count": 3,
     "metadata": {},
     "output_type": "execute_result"
    }
   ],
   "source": [
    "import re\n",
    "bool(re.search(r'[a-zA-Z]*s$','s'))"
   ]
  },
  {
   "cell_type": "code",
   "execution_count": 10,
   "metadata": {},
   "outputs": [
    {
     "data": {
      "text/plain": [
       "['2']"
      ]
     },
     "execution_count": 10,
     "metadata": {},
     "output_type": "execute_result"
    }
   ],
   "source": [
    "import re \n",
    "\n",
    "string = '123go'\n",
    "re.findall(r'(?<=[13579])[\\d]', string)"
   ]
  },
  {
   "cell_type": "code",
   "execution_count": 34,
   "metadata": {},
   "outputs": [
    {
     "name": "stdout",
     "output_type": "stream",
     "text": [
      "g\n",
      "o\n"
     ]
    }
   ],
   "source": [
    "for m in re.finditer(r'(.)(?!\\1)','gooo'):\n",
    "    print(m.group(0))"
   ]
  },
  {
   "cell_type": "code",
   "execution_count": 13,
   "metadata": {},
   "outputs": [
    {
     "data": {
      "text/plain": [
       "<re.Match object; span=(0, 8), match='thanwint'>"
      ]
     },
     "execution_count": 13,
     "metadata": {},
     "output_type": "execute_result"
    }
   ],
   "source": [
    "string = 'thanwint'\n",
    "re.search(r't[\\w]+t', string)"
   ]
  },
  {
   "cell_type": "code",
   "execution_count": 16,
   "metadata": {},
   "outputs": [
    {
     "data": {
      "text/plain": [
       "<re.Match object; span=(9, 46), match='http://www.hackerrank.com\">HackerRank'>"
      ]
     },
     "execution_count": 16,
     "metadata": {},
     "output_type": "execute_result"
    }
   ],
   "source": [
    "string ='<a href=\"http://www.hackerrank.com\">HackerRank</a>'\n",
    "re.search(r'http:?.*(?=</a>)',string)"
   ]
  },
  {
   "cell_type": "code",
   "execution_count": 18,
   "metadata": {},
   "outputs": [
    {
     "data": {
      "text/plain": [
       "['1', '877', '2638277']"
      ]
     },
     "execution_count": 18,
     "metadata": {},
     "output_type": "execute_result"
    }
   ],
   "source": [
    "number = '1 877 2638277'.split(' ')\n",
    "number"
   ]
  },
  {
   "cell_type": "code",
   "execution_count": 24,
   "metadata": {},
   "outputs": [
    {
     "name": "stdout",
     "output_type": "stream",
     "text": [
      "2\n",
      "1 877 263877\n",
      "91-011-23413627\n",
      "CountryCode=1,LocalAreaCode=877,Number=263877\n",
      "CountryCode=91,LocalAreaCode=011,Number=23413627\n"
     ]
    }
   ],
   "source": [
    "number_list = []\n",
    "for _ in range(int(input())):\n",
    "    number = input()\n",
    "    number_list.append(number)\n",
    "    \n",
    "for num in number_list:\n",
    "    if ' ' in num:\n",
    "        a=num.split()\n",
    "        print(f'CountryCode={a[0]},LocalAreaCode={a[1]},Number={a[2]}')\n",
    "    else:\n",
    "        a=num.split('-')\n",
    "        print(f'CountryCode={a[0]},LocalAreaCode={a[1]},Number={a[2]}')\n",
    "        "
   ]
  },
  {
   "cell_type": "code",
   "execution_count": 33,
   "metadata": {},
   "outputs": [
    {
     "name": "stdout",
     "output_type": "stream",
     "text": [
      "hackers@hackerrank.com;interviewstreet@hackerrank.com;product@hackerrank.com\n"
     ]
    }
   ],
   "source": [
    "email = \"\"\"\n",
    "hackers@hackerrank.com hi man interviewstreet@hackerrank.com this is email product@hackerrank.com\n",
    "\"\"\"\n",
    "email_list = []\n",
    "for em in re.finditer(r'[a-zA-Z\\d.-]+@[a-zA-Z-]+\\.(com|edu|net)', email):\n",
    "    email_list.append(em.group(0))\n",
    "print(\";\".join(email_list))\n",
    "    "
   ]
  },
  {
   "cell_type": "code",
   "execution_count": null,
   "metadata": {},
   "outputs": [],
   "source": [
    "reobj = re.compile('[\\w\\.]+@\\w+(\\.\\w+)*')\n",
    "ans = set()\n",
    "for i in xrange(input()):\n",
    "    s = raw_input()\n",
    "    for match in reobj.finditer(s):\n",
    "        ans.add(match.group())\n",
    "print (';').join(sorted(list(ans)))"
   ]
  },
  {
   "cell_type": "code",
   "execution_count": 40,
   "metadata": {},
   "outputs": [
    {
     "name": "stdout",
     "output_type": "stream",
     "text": [
      "1\n",
      "Traveler@ngs.org;apps@ngs.org;askngs@nationalgeographic.com;feedback@natgeotv.com;genographic@ngs.org;genographicespanol@ngs.org;givinginfo@ngs.org;jbmccorm@ngs.org;maps@ngs.org;mpotts@ngs.org;newsdesk@nationalgeographic.com;ngassignment@ngs.org;ngsdigital@customersvc.com;ngsforum@nationalgeographic.com;ngsline@customersvc.com;pressroom@ngs.org;speakers@ngs.org;stock@ngs.org;topo@ngs.org\n",
      "Traveler@ngs.org;apps@ngs.org;askngs@nationalgeographic.com;feedback@natgeotv.com;genographic@ngs.org;genographicespanol@ngs.org;givinginfo@ngs.org;jbmccorm@ngs.org;maps@ngs.org;mpotts@ngs.org;newsdesk@nationalgeographic.com;ngassignment@ngs.org;ngsdigital@customersvc.com;ngsforum@nationalgeographic.com;ngsline@customersvc.com;pressroom@ngs.org;speakers@ngs.org;stock@ngs.org;topo@ngs.org\n"
     ]
    }
   ],
   "source": [
    "import re\n",
    "email_list = []\n",
    "for _ in range(int(input())):\n",
    "    for match in re.finditer(r'[a-zA-Z\\d.-]+@[a-zA-Z-]+(\\.\\w+)*', input()):\n",
    "        email_list.append(match.group(0))\n",
    "print(';'.join(sorted(email_list)))\n",
    "        "
   ]
  },
  {
   "cell_type": "code",
   "execution_count": 11,
   "metadata": {},
   "outputs": [
    {
     "name": "stdout",
     "output_type": "stream",
     "text": [
      "<re.Match object; span=(0, 10), match='ABCDC1234Y'>\n"
     ]
    }
   ],
   "source": [
    "import re\n",
    "print(re.match('^([A-Z]){5}([0-9]){4}[A-Z]$','ABCDC1234Y'))"
   ]
  },
  {
   "cell_type": "code",
   "execution_count": 13,
   "metadata": {},
   "outputs": [
    {
     "name": "stdout",
     "output_type": "stream",
     "text": [
      "1\n",
      "ABCDS1234YD\n",
      "NO\n"
     ]
    }
   ],
   "source": [
    "# Validating pan number\n",
    "# pan number should be exacly 10\n",
    "# first five char should be A-Z\n",
    "# after this, 4 char must be digit\n",
    "# last char must be uppercase\n",
    "pan_list = []\n",
    "for _ in range(int(input())):\n",
    "    pan_num = input()\n",
    "    pan_list.append(pan_num)\n",
    "for pan in pan_list:\n",
    "    if re.match('^([A-Z]){5}([0-9]){4}[A-Z]$',pan):\n",
    "        print('YES')\n",
    "    else:\n",
    "        print('NO')"
   ]
  },
  {
   "cell_type": "code",
   "execution_count": 84,
   "metadata": {},
   "outputs": [
    {
     "data": {
      "text/plain": [
       "<re.Match object; span=(7, 17), match='hackerrank'>"
      ]
     },
     "execution_count": 84,
     "metadata": {},
     "output_type": "execute_result"
    }
   ],
   "source": [
    "import re\n",
    "string = \"hackerrank is love\"\n",
    "string2 ='i love hackerrank'\n",
    "re.search(r'hackerrank$',string2)"
   ]
  },
  {
   "cell_type": "code",
   "execution_count": 85,
   "metadata": {},
   "outputs": [
    {
     "name": "stdout",
     "output_type": "stream",
     "text": [
      "4\n",
      "i love hackerrank\n",
      "hackerrank is an awesome place for programmers\n",
      "hackerrank\n",
      "hackerrank\n",
      "2\n",
      "1\n",
      "0\n",
      "0\n"
     ]
    }
   ],
   "source": [
    "word_list = []\n",
    "for _ in range(int(input())):\n",
    "    sentence = input()\n",
    "    word_list.append(sentence)\n",
    "for single in word_list:\n",
    "    if re.search(r'^hackerrank.+',single): # conversation start with hackerrank-ok\n",
    "        print('1')\n",
    "    elif re.search(r'^\\bhackerrank\\b$',single): #start and end\n",
    "        print('0')\n",
    "    elif re.search(r'hackerrank$',single): # conversation start and end \n",
    "        print('2')\n",
    "    else:\n",
    "        print('-1') # if none above"
   ]
  },
  {
   "cell_type": "code",
   "execution_count": 90,
   "metadata": {},
   "outputs": [
    {
     "data": {
      "text/plain": [
       "<re.Match object; span=(0, 8), match='1234ABCD'>"
      ]
     },
     "execution_count": 90,
     "metadata": {},
     "output_type": "execute_result"
    }
   ],
   "source": [
    "string = '1234ABCD'\n",
    "re.search(r'^[a-z]{0,3}[0-9]+[A-Z]{3,}$',string)"
   ]
  },
  {
   "cell_type": "code",
   "execution_count": 92,
   "metadata": {},
   "outputs": [
    {
     "name": "stdout",
     "output_type": "stream",
     "text": [
      "1\n",
      "CdV{-truncated-}\n",
      "INVALID\n"
     ]
    }
   ],
   "source": [
    "utopian_id_list = []\n",
    "for _ in range(int(input())):\n",
    "    utopian_id = input()\n",
    "    utopian_id_list.append(utopian_id)\n",
    "for id in utopian_id_list:\n",
    "    if re.search(r'^[a-z]{0,3}[0-9]+[A-Z]{3,}',id):\n",
    "        print('VALID')\n",
    "    else:\n",
    "        print('INVALID')"
   ]
  },
  {
   "cell_type": "code",
   "execution_count": 109,
   "metadata": {},
   "outputs": [
    {
     "data": {
      "text/plain": [
       "1108"
      ]
     },
     "execution_count": 109,
     "metadata": {},
     "output_type": "execute_result"
    }
   ],
   "source": [
    "678+328+102"
   ]
  },
  {
   "cell_type": "code",
   "execution_count": 167,
   "metadata": {},
   "outputs": [],
   "source": [
    "float_string = \"\"\"\n",
    "10.10\n",
    "\"\"\""
   ]
  },
  {
   "cell_type": "code",
   "execution_count": 180,
   "metadata": {},
   "outputs": [
    {
     "name": "stdout",
     "output_type": "stream",
     "text": [
      "+10.10\n"
     ]
    },
    {
     "data": {
      "text/plain": [
       "True"
      ]
     },
     "execution_count": 180,
     "metadata": {},
     "output_type": "execute_result"
    }
   ],
   "source": [
    "bool(re.search(r'^[-+]?[0-9]*\\.[0-9]{1,}$', input()))"
   ]
  },
  {
   "cell_type": "code",
   "execution_count": 175,
   "metadata": {},
   "outputs": [
    {
     "name": "stdout",
     "output_type": "stream",
     "text": [
      "3\n",
      "10.10.10\n",
      "10.1\n",
      "+10.1\n",
      "False\n",
      "True\n",
      "True\n"
     ]
    }
   ],
   "source": [
    "import re\n",
    "test_case = []\n",
    "for _ in range(int(input())):\n",
    "    test_case.append(input())\n",
    "    \n",
    "for item in test_case:\n",
    "    if re.search(r'^[-+]?[0-9]*\\.[0-9]{1,}$', item):\n",
    "        print(True)\n",
    "    else:\n",
    "        print(False)\n",
    "    "
   ]
  },
  {
   "cell_type": "markdown",
   "metadata": {},
   "source": [
    "# matching roman numeral"
   ]
  },
  {
   "cell_type": "code",
   "execution_count": 10,
   "metadata": {},
   "outputs": [
    {
     "name": "stdout",
     "output_type": "stream",
     "text": [
      "MMM\n"
     ]
    },
    {
     "data": {
      "text/plain": [
       "<re.Match object; span=(2, 3), match='M'>"
      ]
     },
     "execution_count": 10,
     "metadata": {},
     "output_type": "execute_result"
    }
   ],
   "source": [
    "import re \n",
    "re.search(r'M{0,1}$', input())"
   ]
  },
  {
   "cell_type": "code",
   "execution_count": 17,
   "metadata": {},
   "outputs": [
    {
     "data": {
      "text/plain": [
       "(1+2j)"
      ]
     },
     "execution_count": 17,
     "metadata": {},
     "output_type": "execute_result"
    }
   ],
   "source": [
    "x = complex(1, 2)\n",
    "y = complex(2,3)\n",
    "x\n"
   ]
  },
  {
   "cell_type": "code",
   "execution_count": 15,
   "metadata": {},
   "outputs": [],
   "source": [
    "class Complex:\n",
    "    def __init__(self, real, imaginary):\n",
    "        self.real = real \n",
    "        self.imaginary = imaginary\n",
    "    def __add__(self, other):\n",
    "        real = self.real + other.real\n",
    "        imaginary = self.imaginary + other.imaginary\n",
    "        \n",
    "    def __str__(self):\n",
    "        return f'{self.real}+{self.imaginary}i'\n",
    "    "
   ]
  },
  {
   "cell_type": "code",
   "execution_count": 16,
   "metadata": {},
   "outputs": [
    {
     "name": "stdout",
     "output_type": "stream",
     "text": [
      "2+3i\n"
     ]
    }
   ],
   "source": [
    "com = Complex(2, 3)\n",
    "print(com)"
   ]
  },
  {
   "cell_type": "code",
   "execution_count": null,
   "metadata": {},
   "outputs": [],
   "source": []
  },
  {
   "cell_type": "code",
   "execution_count": null,
   "metadata": {},
   "outputs": [],
   "source": []
  },
  {
   "cell_type": "code",
   "execution_count": null,
   "metadata": {},
   "outputs": [],
   "source": []
  }
 ],
 "metadata": {
  "kernelspec": {
   "display_name": "Python 3",
   "language": "python",
   "name": "python3"
  },
  "language_info": {
   "codemirror_mode": {
    "name": "ipython",
    "version": 3
   },
   "file_extension": ".py",
   "mimetype": "text/x-python",
   "name": "python",
   "nbconvert_exporter": "python",
   "pygments_lexer": "ipython3",
   "version": "3.7.4"
  }
 },
 "nbformat": 4,
 "nbformat_minor": 2
}
