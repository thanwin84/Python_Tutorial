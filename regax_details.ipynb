{
 "cells": [
  {
   "cell_type": "markdown",
   "metadata": {},
   "source": [
    "# Basic pattern and example"
   ]
  },
  {
   "cell_type": "code",
   "execution_count": 1,
   "metadata": {},
   "outputs": [
    {
     "name": "stdout",
     "output_type": "stream",
     "text": [
      "<re.Match object; span=(0, 4), match='Love'>\n",
      "<re.Match object; span=(6, 13), match='Kenneth'>\n",
      "None\n"
     ]
    }
   ],
   "source": [
    "import re \n",
    "with open('names.txt') as file_open:\n",
    "    contents = file_open.read()\n",
    "print(re.match(r'love', contents, re.I)) # tries to match a pattern againts the beginning of the text \n",
    "print(re.search(r'Kenneth', contents)) # tries match a pattern anywhere in the text\n",
    "print(re.search(r'than', contents)) # it gives none cause it doesnt find any match "
   ]
  },
  {
   "cell_type": "code",
   "execution_count": 3,
   "metadata": {},
   "outputs": [
    {
     "data": {
      "text/plain": [
       "'iig'"
      ]
     },
     "execution_count": 3,
     "metadata": {},
     "output_type": "execute_result"
    }
   ],
   "source": [
    "import re \n",
    "match = re.search('iig','piiig')\n",
    "match.group()"
   ]
  },
  {
   "cell_type": "markdown",
   "metadata": {},
   "source": [
    "# MetaCharacters (Need to be escaped): . ^ $ * + ? { } [ ] \\ | ( )"
   ]
  },
  {
   "cell_type": "code",
   "execution_count": 7,
   "metadata": {},
   "outputs": [
    {
     "name": "stdout",
     "output_type": "stream",
     "text": [
      "<re.Match object; span=(40, 54), match='(555) 555-5555'>\n"
     ]
    }
   ],
   "source": [
    "print(re.search(r'\\(\\d\\d\\d\\) \\d\\d\\d-\\d\\d\\d\\d', contents)) #NOTICE: It gives the first match"
   ]
  },
  {
   "cell_type": "code",
   "execution_count": 8,
   "metadata": {},
   "outputs": [
    {
     "name": "stdout",
     "output_type": "stream",
     "text": [
      "<re.Match object; span=(40, 54), match='(555) 555-5555'>\n",
      "<re.Match object; span=(126, 140), match='(555) 555-5554'>\n",
      "<re.Match object; span=(385, 399), match='(555) 555-5543'>\n",
      "<re.Match object; span=(703, 717), match='(555) 555-5553'>\n",
      "<re.Match object; span=(783, 797), match='(555) 555-4444'>\n"
     ]
    }
   ],
   "source": [
    "pattern = re.compile(r'\\(\\d\\d\\d\\) \\d\\d\\d-\\d\\d\\d\\d')\n",
    "matches = pattern.finditer(contents)\n",
    "for match in matches:\n",
    "    print(match)"
   ]
  },
  {
   "cell_type": "code",
   "execution_count": 2,
   "metadata": {},
   "outputs": [
    {
     "name": "stdout",
     "output_type": "stream",
     "text": [
      "<re.Match object; span=(1, 4), match='abc'>\n"
     ]
    }
   ],
   "source": [
    "import re\n",
    "\n",
    "text_to_search = '''\n",
    "abcdefghijklmnopqurtuvwxyz\n",
    "ABCDEFGHIJKLMNOPQRSTUVWXYZ\n",
    "1234567890\n",
    "Ha Ha HaHa\n",
    "MetaCharacters (Need to be escaped):\n",
    ". ^ $ * + ? { } [ ] \\ | ( )\n",
    "coreyms.com\n",
    "321-555-4321\n",
    "123.555.1234\n",
    "123*555*1234\n",
    "800-555-1234\n",
    "900-555-1234\n",
    "Mr. Schafer\n",
    "Mr Smith\n",
    "Ms Davis\n",
    "Mrs. Robinson\n",
    "Mr. T\n",
    "'''\n",
    "\n",
    "sentence = 'Start a sentence and then bring it to an end'\n",
    "#print(r'\\ttab') # using raw string\n",
    "pattern = re.compile(r'abc')\n",
    "#pattern = re.compile(r'.') # any char except new line\n",
    "#pattern = re.compile(r'\\.') # if it'f special char we have to use back slash(\\)\n",
    "#pattern = re.compile(r'coreyms\\.com')\n",
    "#pattern = re.compile(r'\\d') # digit 0-9\n",
    "#pattern = re.compile(r'\\D') # not 0-9\n",
    "#pattern = re.compile(r'\\w') # A-Z, a-z, 0-9, _\n",
    "#pattern = re.compile(r'\\W')  # opposit of w\n",
    "#pattern = re.compile(r'\\s') # space, tab, new line\n",
    "#pattern = re.compile(r'\\S') # opposit of s\n",
    "\n",
    "matches = pattern.finditer(text_to_search)\n",
    "for match in matches:\n",
    "    print(match)"
   ]
  },
  {
   "cell_type": "code",
   "execution_count": 2,
   "metadata": {},
   "outputs": [],
   "source": [
    "import re\n",
    "def Find(pattern, text):\n",
    "    match = re.search(pattern, text)\n",
    "    if match: # if match is not none \n",
    "        print(match.group())\n",
    "    else:\n",
    "        print('Not Found')"
   ]
  },
  {
   "cell_type": "code",
   "execution_count": 3,
   "metadata": {},
   "outputs": [
    {
     "name": "stdout",
     "output_type": "stream",
     "text": [
      "iig\n",
      "Not Found\n",
      "iig\n",
      ":cat\n",
      "1 2 3\n",
      "1     2       3\n",
      "piii\n"
     ]
    }
   ],
   "source": [
    "Find('iig','piiiig')\n",
    "Find('iis','piiiig')\n",
    "Find('..g','piiiig') #.: any character except new line\n",
    "Find(':\\w\\w\\w',' called :cat blah piiig') # w: A-Z, a-z, 0-9,_\n",
    "Find('\\d\\s\\d\\s\\d','1 2 3') # s: space, tab, new line\n",
    "Find('\\d\\s+\\d\\s+\\d','1     2       3')\n",
    "Find('pi+','piiig') # + menas 1 or more "
   ]
  },
  {
   "cell_type": "code",
   "execution_count": 4,
   "metadata": {},
   "outputs": [
    {
     "name": "stdout",
     "output_type": "stream",
     "text": [
      "<re.Match object; span=(1, 4), match='abc'>\n"
     ]
    }
   ],
   "source": [
    "text_to_search = '''\n",
    "abcdefghijklmnopqurtuvwxyz\n",
    "ABCDEFGHIJKLMNOPQRSTUVWXYZ\n",
    "1234567890\n",
    "Ha Ha HaHa\n",
    "MetaCharacters (Need to be escaped):\n",
    ". ^ $ * + ? { } [ ] \\ | ( )\n",
    "coreyms.com\n",
    "321-555-4321\n",
    "123.555.1234\n",
    "123.666.1234\n",
    "123*555*1234\n",
    "800-555-1234\n",
    "900-555-1234\n",
    "cat\n",
    "dat\n",
    "bat\n",
    "Mr. Schafer,\n",
    "Mr Smith\n",
    "Ms Davis\n",
    "Mrs. Robinson\n",
    "Mr. T\n",
    "\n",
    "'''\n",
    "\n",
    "sentence = 'Start a sentence and then bring it to an end'\n",
    "#pattern = re.compile(r'\\d\\d\\d.\\d\\d\\d.\\d\\d\\d\\d') # searching phone number\n",
    "#pattern = re.compile(r'\\d\\d\\d[.*-]\\d\\d\\d[.*-]\\d\\d\\d\\d') # []: to use a set of characters\n",
    "#pattern = re.compile(r'[89]00.\\d\\d\\d.\\d\\d\\d\\d') # searching mobile number start with 800 and 900\n",
    "#pattern = re.compile(r'[a-cA-D7-9]') #searching a-c,A-B, 7-9\n",
    "#pattern = re.compile(r'[^a-k]') # return any char except a-k\n",
    "#pattern = re.compile(r'[^b]at') # print anything+at but not bat\n",
    "\n",
    "matches = pattern.finditer(text_to_search)\n",
    "for match in matches:\n",
    "    print(match)"
   ]
  },
  {
   "cell_type": "code",
   "execution_count": 27,
   "metadata": {},
   "outputs": [
    {
     "name": "stdout",
     "output_type": "stream",
     "text": [
      "['Start', 'a', 'sentence', 'and', 'then', 'bring', 'it', 'to', 'an', 'end']\n",
      "<re.Match object; span=(0, 5), match='Start'>\n"
     ]
    }
   ],
   "source": [
    "entence = 'Start a sentence and then bring it to an end'\n",
    "print(re.findall(r'\\b[\\w]+\\b', sentence))\n",
    "print(re.search(r'^Start', sentence))"
   ]
  },
  {
   "cell_type": "markdown",
   "metadata": {},
   "source": [
    "# Repitition"
   ]
  },
  {
   "cell_type": "code",
   "execution_count": 52,
   "metadata": {},
   "outputs": [
    {
     "name": "stdout",
     "output_type": "stream",
     "text": [
      "<re.Match object; span=(244, 255), match='Mr. Schafer'>\n",
      "<re.Match object; span=(257, 265), match='Mr Smith'>\n",
      "<re.Match object; span=(266, 274), match='Ms Davis'>\n",
      "<re.Match object; span=(275, 288), match='Mrs. Robinson'>\n",
      "<re.Match object; span=(289, 294), match='Mr. T'>\n"
     ]
    }
   ],
   "source": [
    "text_to_search = '''\n",
    "abcdefghijklmnopqurtuvwxyz\n",
    "ABCDEFGHIJKLMNOPQRSTUVWXYZ\n",
    "1234567890\n",
    "Ha Ha HaHa\n",
    "MetaCharacters (Need to be escaped):\n",
    ". ^ $ * + ? { } [ ] \\ | ( )\n",
    "coreyms.com\n",
    "321-555-4321\n",
    "123.555.1234\n",
    "123.666.1234\n",
    "123*555*1234\n",
    "800-555-1234\n",
    "900-555-1234\n",
    "cat\n",
    "dat\n",
    "bat\n",
    "Mr. Schafer,\n",
    "Mr Smith\n",
    "Ms Davis\n",
    "Mrs. Robinson\n",
    "Mr. T\n",
    "\n",
    "'''\n",
    "\n",
    "sentence = 'Start a sentence and then bring it to an end'\n",
    "#pattern = re.compile(r'\\d{3}.\\d{3}.\\d{4}') # {}: using exact number quantifier\n",
    "#pattern = re.compile(r'Mr\\.?') # searching Mr or Mr.\n",
    "pattern = re.compile(r'M(r|s|rs)\\.?\\s[A-Z]\\w*') #*: 0 or more \n",
    "\n",
    "matches = pattern.finditer(text_to_search)\n",
    "for match in matches:\n",
    "    print(match)"
   ]
  },
  {
   "cell_type": "code",
   "execution_count": 58,
   "metadata": {},
   "outputs": [
    {
     "name": "stdout",
     "output_type": "stream",
     "text": [
      "<re.Match object; span=(467, 479), match='800-555-6771'>\n",
      "<re.Match object; span=(1091, 1103), match='900-555-3205'>\n",
      "<re.Match object; span=(2051, 2063), match='900-555-5118'>\n",
      "<re.Match object; span=(2826, 2838), match='900-555-5428'>\n",
      "<re.Match object; span=(3971, 3983), match='900-555-9598'>\n",
      "<re.Match object; span=(6189, 6201), match='800-555-3216'>\n",
      "<re.Match object; span=(6889, 6901), match='900-555-7755'>\n",
      "<re.Match object; span=(7864, 7876), match='800-555-1372'>\n",
      "<re.Match object; span=(8741, 8753), match='900-555-6426'>\n"
     ]
    }
   ],
   "source": [
    "with open('data.txt') as f:\n",
    "    data = f.read()\n",
    "pattern = re.compile(r'[89]00-\\d{3}-\\d{3}[^790]')\n",
    "matches = pattern.finditer(data)\n",
    "for match in matches:\n",
    "    print(match)"
   ]
  },
  {
   "cell_type": "code",
   "execution_count": 6,
   "metadata": {},
   "outputs": [
    {
     "name": "stdout",
     "output_type": "stream",
     "text": [
      "['(555) 555-5555', '(555) 555-5554', '(555) 555-5543', '(555) 555-5553', '(555) 555-4444']\n"
     ]
    }
   ],
   "source": [
    "with open('names.txt') as file:\n",
    "    data = file.read()\n",
    "#print(re.search(r'\\w+,\\s\\w+', data))\n",
    "#print(re.findall(r'\\w*,\\s\\w+', data))\n",
    "print(re.findall(r'\\(\\d{3}\\)-?\\s?\\d{3}-\\d{4}', data))"
   ]
  },
  {
   "cell_type": "code",
   "execution_count": null,
   "metadata": {},
   "outputs": [],
   "source": []
  },
  {
   "cell_type": "markdown",
   "metadata": {},
   "source": [
    "# matching emails"
   ]
  },
  {
   "cell_type": "code",
   "execution_count": 43,
   "metadata": {},
   "outputs": [
    {
     "name": "stdout",
     "output_type": "stream",
     "text": [
      "<re.Match object; span=(1, 24), match='CoreyMSchafer@gmail.com'>\n",
      "<re.Match object; span=(25, 53), match='corey.schafer@university.edu'>\n",
      "<re.Match object; span=(86, 115), match='corey-321-schafer@my-work.net'>\n",
      "<re.Match object; span=(116, 134), match='than84@outlook.com'>\n"
     ]
    }
   ],
   "source": [
    "import re\n",
    "\n",
    "emails = '''\n",
    "CoreyMSchafer@gmail.com\n",
    "corey.schafer@university.edu\n",
    "corey.schafer@university.config\n",
    "corey-321-schafer@my-work.net\n",
    "than84@outlook.com\n",
    "'''\n",
    "pattern = re.compile(r'[a-zA-Z\\d.-]+@[a-zA-Z-]+\\.(com|edu|net)')\n",
    "#pattern = re.compile(r'[\\w.-]+@[\\w.-]+')\n",
    "\n",
    "matches = pattern.finditer(emails)\n",
    "for match in matches:\n",
    "    print(match)"
   ]
  },
  {
   "cell_type": "markdown",
   "metadata": {},
   "source": [
    "# Urls"
   ]
  },
  {
   "cell_type": "code",
   "execution_count": 56,
   "metadata": {},
   "outputs": [
    {
     "name": "stdout",
     "output_type": "stream",
     "text": [
      "google\n",
      "coreyms\n",
      "youtube\n",
      "nasa\n"
     ]
    }
   ],
   "source": [
    "import re\n",
    "\n",
    "urls = '''\n",
    "https://www.google.com\n",
    "http://coreyms.com\n",
    "https://youtube.com\n",
    "https://www.nasa.gov\n",
    "'''\n",
    "pattern = re.compile(r'https?://(www.)?(\\w+)(\\.\\w+)')\n",
    "matches = pattern.finditer(urls)\n",
    "for match in matches:\n",
    "    #print(match)\n",
    "    #print(match.group()) # print all\n",
    "    #group(0) indicates all\n",
    "    print(match.group(2))"
   ]
  },
  {
   "cell_type": "code",
   "execution_count": 1,
   "metadata": {},
   "outputs": [
    {
     "name": "stdout",
     "output_type": "stream",
     "text": [
      "\n",
      "google.com\n",
      "coreyms.com\n",
      "youtube.com\n",
      "nasa.gov\n",
      "\n"
     ]
    }
   ],
   "source": [
    "import re\n",
    "\n",
    "urls = '''\n",
    "https://www.google.com\n",
    "http://coreyms.com\n",
    "https://youtube.com\n",
    "https://www.nasa.gov\n",
    "'''\n",
    "pattern = re.compile(r'https?://(www.)?(\\w+)(\\.\\w+)')\n",
    "sub_urls = pattern.sub(r'\\2\\3', urls)\n",
    "print(sub_urls)"
   ]
  },
  {
   "cell_type": "markdown",
   "metadata": {},
   "source": [
    "# Team treehouse examples"
   ]
  },
  {
   "cell_type": "code",
   "execution_count": 2,
   "metadata": {},
   "outputs": [
    {
     "name": "stdout",
     "output_type": "stream",
     "text": [
      "['kenneth@teamtreehouse', 'dave@teamtreehouse', 'king_arthur@camelot', 'governor@norrbotten', 'tim@killerrabbit', 'ryan@teamtreehouse', 'doctor+companion@tardis', 'me@example', '44@us', 'andrew@teamtreehouse', 'darth-vader@empire', 'mtfvs@spain']\n"
     ]
    }
   ],
   "source": [
    "with open('names.txt') as f:\n",
    "    data = f.read()\n",
    "print(re.findall(r'[-\\w\\d+]+@[-\\w\\d]+', data))"
   ]
  },
  {
   "cell_type": "code",
   "execution_count": 3,
   "metadata": {},
   "outputs": [
    {
     "name": "stdout",
     "output_type": "stream",
     "text": [
      "['Treehouse', 'Treehouse', 'se', 'Treehouse', 'The', 'us', 'Treehouse']\n",
      "['Treehouse', 'Treehouse', 'Treehouse', 'Treehouse']\n"
     ]
    }
   ],
   "source": [
    "#find out all treehouse \n",
    "print(re.findall(r'\\b[trehouse]+\\b', data, re.I))\n",
    "print(re.findall(r'\\b[trehouse]{9}\\b', data, re.I))"
   ]
  },
  {
   "cell_type": "markdown",
   "metadata": {},
   "source": [
    "# Negation"
   ]
  },
  {
   "cell_type": "code",
   "execution_count": 2,
   "metadata": {},
   "outputs": [
    {
     "name": "stdout",
     "output_type": "stream",
     "text": [
      "['@teamtreehouse.com', '@teamtreehouse.com', '@camelot.co.uk', '@norrbotten.co.se', '@killerrabbit.com', '@teamtreehouse.com', '@tardis.co.uk', '@example.com', '@us.', '@teamtreehouse.com', '@empire.', '@spain.']\n"
     ]
    }
   ],
   "source": [
    "import re \n",
    "with open('names.txt') as file:\n",
    "    contents = file.read()\n",
    "print(re.findall(r\"\"\"\n",
    "    \\b@[\\w\\d.]+\n",
    "    [^govt\\t]+\n",
    "    \\b\n",
    "\"\"\", contents, re.VERBOSE))"
   ]
  },
  {
   "cell_type": "code",
   "execution_count": 3,
   "metadata": {},
   "outputs": [
    {
     "name": "stdout",
     "output_type": "stream",
     "text": [
      "['Love, Kenneth', 'Teacher, Treehouse', 'McFarland, Dave', 'Teacher, Treehouse', 'Arthur, King', 'King, Camelot', 'sterberg, Sven-Erik', 'Governor, Norrbotten', 'Enchanter, Killer', 'Carson, Ryan', 'CEO, Treehouse', 'Doctor, The', 'Lord, Gallifrey', 'Exampleson, Example', 'Example, Example', 'Obama, Barack', 'President, United', 'Chalkley, Andrew', 'Teacher, Treehouse', 'Vader, Darth', 'Lord, Galactic', 'Sanz, María', 'Minister, Spanish']\n"
     ]
    }
   ],
   "source": [
    "print(re.findall(r\"\"\"\n",
    "    \\b[-\\w]+, # find a word boundary, 1+ hyphens or characters and coma\n",
    "    \\s # find 1 white space\n",
    "    [-\\w]+\n",
    "    \\b\n",
    "\"\"\", contents, re.VERBOSE))"
   ]
  },
  {
   "cell_type": "code",
   "execution_count": 14,
   "metadata": {},
   "outputs": [
    {
     "data": {
      "text/plain": [
       "['0', '1', '2', '3', '4', '8', '9']"
      ]
     },
     "execution_count": 14,
     "metadata": {},
     "output_type": "execute_result"
    }
   ],
   "source": [
    "# find good number except 5,6,7\n",
    "string = '0123456789'\n",
    "good_number = re.findall(r'[^567]', string)\n",
    "good_number"
   ]
  },
  {
   "cell_type": "markdown",
   "metadata": {},
   "source": [
    "# Grouping\n"
   ]
  },
  {
   "cell_type": "code",
   "execution_count": 4,
   "metadata": {},
   "outputs": [
    {
     "name": "stdout",
     "output_type": "stream",
     "text": [
      "[('Love, Kenneth', 'kenneth@teamtreehouse.com', '(555) 555-5555', 'Teacher, Treehouse\\t', '@kennethlove'), ('McFarland, Dave', 'dave@teamtreehouse.com', '(555) 555-5554', 'Teacher, Treehouse', ''), ('Arthur, King', 'king_arthur@camelot.co.uk', '', 'King, Camelot', ''), (', Tim', 'tim@killerrabbit.com', '', 'Enchanter, Killer Rabbit Cave', ''), ('Carson, Ryan', 'ryan@teamtreehouse.com', '(555) 555-5543', 'CEO, Treehouse\\t', '@ryancarson'), ('Doctor, The', 'doctor+companion@tardis.co.uk', '', 'Time Lord, Gallifrey', ''), ('Exampleson, Example', 'me@example.com', '555-555-5552', 'Example, Example Co.\\t', '@example'), ('Obama, Barack', 'president.44@us.gov', '555 555-5551', 'President, United States of America\\t', '@potus44'), ('Chalkley, Andrew', 'andrew@teamtreehouse.com', '(555) 555-5553', 'Teacher, Treehouse\\t', '@chalkers'), ('Vader, Darth', 'darth-vader@empire.gov', '(555) 555-4444', 'Sith Lord, Galactic Empire\\t', '@darthvader')]\n"
     ]
    }
   ],
   "source": [
    "import re \n",
    "print(re.findall(r\"\"\"\n",
    "    ^(?P<name>[-\\w]*,\\s[-\\w]+)\\t # last name and first name \n",
    "    (?P<email>[-\\w\\d.+]+@[-\\w\\d.+]+)\\t #email\n",
    "    (?P<phone>\\(?\\d{3}\\)?-?\\s?\\d{3}-\\d{4})?\\t # phone number\n",
    "    (?P<job>[\\w\\s]+,\\s[\\w\\s.]+)\\t?\n",
    "    (?P<twitter>@[\\w\\d]+)?$\n",
    "\"\"\", contents, re.VERBOSE|re.M))\n",
    "#re.MULTILINE or re.M - flag to make a pattern regard lines in your text as the beginning or end of a string.\n",
    "#^ - specifies, in a pattern, the beginning of the string.\n",
    "#$ - specifies, in a pattern, the end of the string.\n"
   ]
  },
  {
   "cell_type": "markdown",
   "metadata": {},
   "source": [
    "# Converting into Dictionary"
   ]
  },
  {
   "cell_type": "code",
   "execution_count": 5,
   "metadata": {},
   "outputs": [
    {
     "name": "stdout",
     "output_type": "stream",
     "text": [
      "<re.Match object; span=(0, 86), match='Love, Kenneth\\tkenneth@teamtreehouse.com\\t(555) 5>\n",
      "{'name': 'Love, Kenneth', 'email': 'kenneth@teamtreehouse.com', 'phone': '(555) 555-5555', 'job': 'Teacher, Treehouse\\t', 'twitter': '@kennethlove'}\n"
     ]
    }
   ],
   "source": [
    "import re \n",
    "line = re.search(r\"\"\"\n",
    "    ^(?P<name>[-\\w]*,\\s[-\\w]+)\\t # last name and first name \n",
    "    (?P<email>[-\\w\\d.+]+@[-\\w\\d.+]+)\\t #email\n",
    "    (?P<phone>\\(?\\d{3}\\)?-?\\s?\\d{3}-\\d{4})?\\t # phone number\n",
    "    (?P<job>[\\w\\s]+,\\s[\\w\\s.]+)\\t?\n",
    "    (?P<twitter>@[\\w\\d]+)?$\n",
    "\"\"\", contents, re.VERBOSE|re.M)\n",
    "print(line)\n",
    "print(line.groupdict())"
   ]
  },
  {
   "cell_type": "code",
   "execution_count": 6,
   "metadata": {},
   "outputs": [
    {
     "name": "stdout",
     "output_type": "stream",
     "text": [
      "<re.Match object; span=(0, 21), match='Perotto, Pier Giorgio'>\n",
      "{'last_name': 'Perotto', 'first_name': ' Pier Giorgio'}\n"
     ]
    }
   ],
   "source": [
    "import re\n",
    "\n",
    "string = 'Perotto, Pier Giorgio'\n",
    "names = re.search(r\"\"\"\n",
    "    (?P<last_name>[\\w]+),\n",
    "    (?P<first_name>[\\w\\s]+)\n",
    "\"\"\",string, re.VERBOSE)\n",
    "print(names)\n",
    "print(names.groupdict())"
   ]
  },
  {
   "cell_type": "markdown",
   "metadata": {},
   "source": [
    "# compile and looping"
   ]
  },
  {
   "cell_type": "code",
   "execution_count": 7,
   "metadata": {},
   "outputs": [
    {
     "name": "stdout",
     "output_type": "stream",
     "text": [
      "{'name': 'Love, Kenneth', 'email': 'kenneth@teamtreehouse.com', 'phone': '(555) 555-5555', 'job': 'Teacher, Treehouse\\t', 'twitter': '@kennethlove'}\n"
     ]
    }
   ],
   "source": [
    "import re \n",
    "line = re.compile(r\"\"\"\n",
    "    ^(?P<name>[-\\w]*,\\s[-\\w]+)\\t # last name and first name \n",
    "    (?P<email>[-\\w\\d.+]+@[-\\w\\d.+]+)\\t #email\n",
    "    (?P<phone>\\(?\\d{3}\\)?-?\\s?\\d{3}-\\d{4})?\\t # phone number\n",
    "    (?P<job>[\\w\\s]+,\\s[\\w\\s.]+)\\t?\n",
    "    (?P<twitter>@[\\w\\d]+)?$\n",
    "\"\"\", re.VERBOSE|re.M)\n",
    "matches = line.search(contents)\n",
    "print(matches.groupdict())"
   ]
  },
  {
   "cell_type": "code",
   "execution_count": 35,
   "metadata": {},
   "outputs": [
    {
     "name": "stdout",
     "output_type": "stream",
     "text": [
      "Love, Kenneth\n",
      "McFarland, Dave\n",
      "Arthur, King\n",
      ", Tim\n",
      "Carson, Ryan\n",
      "Doctor, The\n",
      "Exampleson, Example\n",
      "Obama, Barack\n",
      "Chalkley, Andrew\n",
      "Vader, Darth\n"
     ]
    }
   ],
   "source": [
    "import re \n",
    "line = re.compile(r\"\"\"\n",
    "    ^(?P<name>(?P<last>[-\\w]*),\\s(?P<first>[-\\w]+))\\t # last name and first name \n",
    "    (?P<email>[-\\w\\d.+]+@[-\\w\\d.+]+)\\t #email\n",
    "    (?P<phone>\\(?\\d{3}\\)?-?\\s?\\d{3}-\\d{4})?\\t # phone number\n",
    "    (?P<job>[\\w\\s]+,\\s[\\w\\s.]+)\\t?\n",
    "    (?P<twitter>@[\\w\\d]+)?$\n",
    "\"\"\", re.VERBOSE|re.M)\n",
    "matches = line.finditer(contents)\n",
    "for match in matches:\n",
    "    print(match.group('name'))\n",
    "    #print('{first} {last} <{email}>'.format(**match.groupdict()))"
   ]
  },
  {
   "cell_type": "raw",
   "metadata": {},
   "source": [
    "Create a variable named players that is an re.search() or re.match() to capture three groups: last_name, first_name, and score. It should include re.MULTILINE."
   ]
  },
  {
   "cell_type": "code",
   "execution_count": 12,
   "metadata": {},
   "outputs": [
    {
     "name": "stdout",
     "output_type": "stream",
     "text": [
      "20\n",
      "25\n",
      "10\n",
      "22\n",
      "18\n"
     ]
    }
   ],
   "source": [
    "import re\n",
    "\n",
    "string = '''Love, Kenneth: 20\n",
    "Chalkley, Andrew: 25\n",
    "McFarland, Dave: 10\n",
    "Kesten, Joy: 22\n",
    "Stewart Pinchback, Pinckney Benton: 18'''\n",
    "players = re.compile(r\"\"\"\n",
    "    ^(?P<last_name>[\\w\\s]+),\\s\n",
    "    (?P<first_name>[\\w\\s]+):\\s\n",
    "    (?P<score>[\\d]+)$\n",
    "\"\"\", re.VERBOSE|re.M)\n",
    "#print(players)\n",
    "#print(players.groupdict())\n",
    "matches = players.finditer(string)\n",
    "for match in matches:\n",
    "    print(match.group('score'))\n"
   ]
  },
  {
   "cell_type": "code",
   "execution_count": 2,
   "metadata": {},
   "outputs": [],
   "source": [
    "class Player:\n",
    "    def __init__(self, last_name, first_name, score):\n",
    "        self.last_name = last_name\n",
    "        self.first_name = first_name\n",
    "        self.score = score"
   ]
  },
  {
   "cell_type": "markdown",
   "metadata": {},
   "source": [
    "# Modyfying string"
   ]
  },
  {
   "cell_type": "code",
   "execution_count": 15,
   "metadata": {},
   "outputs": [
    {
     "name": "stdout",
     "output_type": "stream",
     "text": [
      "\n",
      "google\n",
      "coreyms\n",
      "youtube\n",
      "nasa\n",
      "\n"
     ]
    }
   ],
   "source": [
    "import re\n",
    "\n",
    "urls = '''\n",
    "https://www.google.com\n",
    "http://coreyms.com\n",
    "https://youtube.com\n",
    "https://www.nasa.gov\n",
    "'''\n",
    "pattern = re.compile(r'https?://(www.)?(\\w+)(\\.\\w+)')\n",
    "sub_urls = pattern.sub(r'\\2', urls)\n",
    "print(sub_urls)"
   ]
  },
  {
   "cell_type": "code",
   "execution_count": 9,
   "metadata": {},
   "outputs": [
    {
     "data": {
      "text/plain": [
       "['This', 'is', 'a', 'test', 'short', 'and', 'sweet', 'of', 'split', '']"
      ]
     },
     "execution_count": 9,
     "metadata": {},
     "output_type": "execute_result"
    }
   ],
   "source": [
    "#split()\n",
    "string ='This is a test, short and sweet, of split().'\n",
    "pattern = re.compile(r'\\W+')\n",
    "pattern.split(string)"
   ]
  },
  {
   "cell_type": "code",
   "execution_count": 15,
   "metadata": {},
   "outputs": [
    {
     "data": {
      "text/plain": [
       "['Twelve:', ' Eighty nine:', '.']"
      ]
     },
     "execution_count": 15,
     "metadata": {},
     "output_type": "execute_result"
    }
   ],
   "source": [
    "# The re.split method splits the string where there is a match and returns a list of strings where the splits have occurred.\n",
    "import re\n",
    "string = 'Twelve:12 Eighty nine:89.'\n",
    "pattern = re.compile(r'\\d+')\n",
    "result = re.split(pattern, string)\n",
    "result"
   ]
  },
  {
   "cell_type": "code",
   "execution_count": 20,
   "metadata": {},
   "outputs": [
    {
     "data": {
      "text/plain": [
       "['Twelve:', ' Eighty nine:89 Nine:9.']"
      ]
     },
     "execution_count": 20,
     "metadata": {},
     "output_type": "execute_result"
    }
   ],
   "source": [
    "# we can pass maxsplit argument to the re.split() method. It's the maximum number of splits that will occur.\n",
    "\n",
    "import re\n",
    "string = 'Twelve:12 Eighty nine:89 Nine:9.'\n",
    "pattern = re.compile(r'\\d+')\n",
    "# split only at the first occurrence\n",
    "result = re.split(pattern, string, 1)\n",
    "result\n"
   ]
  },
  {
   "cell_type": "code",
   "execution_count": 2,
   "metadata": {},
   "outputs": [
    {
     "data": {
      "text/plain": [
       "'keigh'"
      ]
     },
     "execution_count": 2,
     "metadata": {},
     "output_type": "execute_result"
    }
   ],
   "source": [
    "import re\n",
    "result = re.sub('abc',  '','abckeigh')           # Delete pattern abc\n",
    "result"
   ]
  },
  {
   "cell_type": "code",
   "execution_count": 6,
   "metadata": {},
   "outputs": [
    {
     "data": {
      "text/plain": [
       "'wwwkeigh'"
      ]
     },
     "execution_count": 6,
     "metadata": {},
     "output_type": "execute_result"
    }
   ],
   "source": [
    "result = re.sub('abc',  'www','abckeigh') # replace pattern abc->www\n",
    "result"
   ]
  },
  {
   "cell_type": "markdown",
   "metadata": {},
   "source": [
    "\n",
    "# Regax Special characters"
   ]
  },
  {
   "cell_type": "code",
   "execution_count": 7,
   "metadata": {},
   "outputs": [
    {
     "name": "stdout",
     "output_type": "stream",
     "text": [
      "<re.Match object; span=(3, 7), match='defg'>\n",
      "None\n"
     ]
    }
   ],
   "source": [
    "# ?<= ::positive lookback assertion. it checks if the pattern exist or not but it doesn't count as string\n",
    "# it checks true\n",
    "print(re.search(r'(?<=abc)[\\w]+','abcdefg')) # it will check if 'abc' exist or not but it wont count into string\n",
    "print(re.search(r'(?<=abc)[\\w]+','defgabc'))"
   ]
  },
  {
   "cell_type": "code",
   "execution_count": 79,
   "metadata": {},
   "outputs": [
    {
     "name": "stdout",
     "output_type": "stream",
     "text": [
      "<re.Match object; span=(0, 7), match='abcdefg'>\n",
      "<re.Match object; span=(0, 7), match='defgabc'>\n"
     ]
    }
   ],
   "source": [
    "print(re.search(r'(?<!abc)[\\w]+','abcdefg')) \n",
    "print(re.search(r'(?<!abc)[\\w]+','defgabc'))"
   ]
  },
  {
   "cell_type": "code",
   "execution_count": 76,
   "metadata": {},
   "outputs": [
    {
     "data": {
      "text/plain": [
       "'egg'"
      ]
     },
     "execution_count": 76,
     "metadata": {},
     "output_type": "execute_result"
    }
   ],
   "source": [
    "m = re.search(r'(?<=-)\\w+', 'spam-egg')\n",
    "m.group(0)"
   ]
  },
  {
   "cell_type": "code",
   "execution_count": 11,
   "metadata": {},
   "outputs": [
    {
     "name": "stdout",
     "output_type": "stream",
     "text": [
      "<re.Match object; span=(0, 2), match='ab'>\n"
     ]
    }
   ],
   "source": [
    "string = 'abbbd'\n",
    "print(re.search(r'ab?', string)) # it will match a or ab\n",
    "# *,+,? these are greedy, they match as much text as possible\n"
   ]
  },
  {
   "cell_type": "markdown",
   "metadata": {},
   "source": [
    "# *?, +?, ??"
   ]
  },
  {
   "cell_type": "code",
   "execution_count": 25,
   "metadata": {},
   "outputs": [
    {
     "name": "stdout",
     "output_type": "stream",
     "text": [
      "<re.Match object; span=(0, 9), match='<a> b <c>'>\n",
      "<re.Match object; span=(0, 3), match='<a>'>\n"
     ]
    }
   ],
   "source": [
    "print(re.search(r'(<.*>)', '<a> b <c>')) # it match entire string\n",
    "print(re.search(r'(<.*?>)', '<a> b <c>')) #adding ? after quilifer makes non-greedy,it will match as few \n",
    "# characters as possible"
   ]
  },
  {
   "cell_type": "code",
   "execution_count": 28,
   "metadata": {},
   "outputs": [
    {
     "name": "stdout",
     "output_type": "stream",
     "text": [
      "<re.Match object; span=(0, 9), match='<a> b <c>'>\n",
      "<re.Match object; span=(0, 3), match='<a>'>\n"
     ]
    }
   ],
   "source": [
    "print(re.search(r'(<.+>)', '<a> b <c>'))\n",
    "print(re.search(r'(<.+?>)', '<a> b <c>'))"
   ]
  },
  {
   "cell_type": "markdown",
   "metadata": {},
   "source": [
    "# {}"
   ]
  },
  {
   "cell_type": "code",
   "execution_count": 38,
   "metadata": {},
   "outputs": [
    {
     "name": "stdout",
     "output_type": "stream",
     "text": [
      "<re.Match object; span=(1, 5), match='bbbb'>\n",
      "['bbbbb', 'bb']\n",
      "<re.Match object; span=(1, 3), match='bb'>\n",
      "['bbb', 'bbb']\n",
      "<re.Match object; span=(1, 7), match='bbbbbb'>\n"
     ]
    }
   ],
   "source": [
    "string = 'abbbbbbdbbk'\n",
    "print(re.search(r'b{4}', string)) # it will match only four characters\n",
    "print(re.findall(r'b{2,5}', string)) # it will match 2-5 characters\n",
    "# adding ? this makes non-greedy\n",
    "# it will match as few character as possible\n",
    "print(re.search(r'b{2,5}?', string)) \n",
    "print(re.findall(r'b{3,5}?', string))\n",
    "print(re.search(r'b{2,}', string)) # at least 2 and more than this as much as it match\n"
   ]
  },
  {
   "cell_type": "markdown",
   "metadata": {},
   "source": [
    "# sets"
   ]
  },
  {
   "cell_type": "code",
   "execution_count": 59,
   "metadata": {},
   "outputs": [
    {
     "name": "stdout",
     "output_type": "stream",
     "text": [
      "['abd', 'ej']\n",
      "123458\n",
      "<re.Match object; span=(0, 1), match='('>\n",
      "<re.Match object; span=(0, 1), match='('>\n"
     ]
    }
   ],
   "source": [
    "print(re.findall(r'[^^]+','abd^^ej'))\n",
    "#print out all number except 67\n",
    "print(\"\".join(re.findall(r'[^67]+','12345678')))\n",
    "string = '(3889409)'\n",
    "print(re.search( '[\\(]',string))\n",
    "print(re.search( '[(]',string))"
   ]
  },
  {
   "cell_type": "markdown",
   "metadata": {},
   "source": [
    "# Matching IP address"
   ]
  },
  {
   "cell_type": "code",
   "execution_count": 9,
   "metadata": {},
   "outputs": [
    {
     "name": "stdout",
     "output_type": "stream",
     "text": [
      "None\n"
     ]
    }
   ],
   "source": [
    "import re\n",
    "print(re.match(r'\\b(25[0-5]|2[0-4][0-9]|[01]?[0-9][0-9]?)\\.(25[0-5]|2[0-4][0-9]|[01]?[0-9][0-9]?)\\.(25[0-5]|2[0-4][0-9]|[01]?[0-9][0-9]?)\\.(25[0-5]|2[0-4][0-9]|[01]?[0-9][0-9]?)\\b', '2001:0db8:0000:0000:0000:ff00:0042:8329'))"
   ]
  },
  {
   "cell_type": "code",
   "execution_count": 26,
   "metadata": {},
   "outputs": [
    {
     "name": "stdout",
     "output_type": "stream",
     "text": [
      "<re.Match object; span=(0, 23), match='1762:0:0:0:0:B03:1:AF18'>\n"
     ]
    }
   ],
   "source": [
    "print(re.match(r'[\\dA-F]{0,4}:[\\dA-F]{0,4}:[\\dA-F]{0,4}:[\\dA-F]{0,4}:[\\dA-F]{0,4}\\:[\\dA-F]{0,4}:[\\dA-F]{0,4}:[\\dA-F]{0,4}','1762:0:0:0:0:B03:1:AF18',re.I))"
   ]
  },
  {
   "cell_type": "code",
   "execution_count": 65,
   "metadata": {},
   "outputs": [
    {
     "data": {
      "text/plain": [
       "<re.Match object; span=(0, 12), match='121.18.19.20'>"
      ]
     },
     "execution_count": 65,
     "metadata": {},
     "output_type": "execute_result"
    }
   ],
   "source": [
    "pattern = re.compile(r\"\"\"\n",
    "^(25[0-5]|2[0-4][0-9]|[01]?[0-9][0-9]?)\\.\n",
    "(25[0-5]|2[0-4][0-9]|[01]?[0-9][0-9]?)\\.\n",
    "(25[0-5]|2[0-4][0-9]|[01]?[0-9][0-9]?)\\.\n",
    "(25[0-5]|2[0-4][0-9]|[01]?[0-9][0-9]?)\"\"\",re.VERBOSE)\n",
    "re.match(pattern,'121.18.19.20')"
   ]
  },
  {
   "cell_type": "code",
   "execution_count": 72,
   "metadata": {},
   "outputs": [],
   "source": [
    "pattern2 = re.compile(r\"\"\"\n",
    "^[\\dA-F]{0,4}:[\\dA-F]{0,4}:\n",
    "[\\dA-F]{0,4}:[\\dA-F]{0,4}:\n",
    "[\\dA-F]{0,4}:[\\dA-F]{0,4}:\n",
    "[\\dA-F]{0,4}:[\\dA-F]{0,4}\"\"\",re.VERBOSE|re.I)\n",
    "re.search(pattern,'1762:0:0:0:0:B03:1:AF18')"
   ]
  },
  {
   "cell_type": "code",
   "execution_count": 88,
   "metadata": {},
   "outputs": [
    {
     "name": "stdout",
     "output_type": "stream",
     "text": [
      "1\n",
      "1050:1000:1000:a000:5:600:300c:326b\n",
      "IPv6\n"
     ]
    }
   ],
   "source": [
    "import re\n",
    "pat_1 = re.compile(r'^([0-9]|[01]?[0-9][0-9]|2[0-4][0-9]|25[0-5])(\\.([0-9]|[01]?[0-9][0-9]|2[0-4][0-9]|25[0-5])){3}$')\n",
    "pat_2 =re.compile(r'^([0-9a-fA-F]){1,4}(:([0-9a-fA-F]{1,4})){7}$')\n",
    "def check_ip(ip):\n",
    "    if re.search(pat_1,ip):\n",
    "        print('IPv4 ')\n",
    "    elif re.search(pat_2,ip):\n",
    "        print('IPv6')\n",
    "    else:\n",
    "        print('Neither')\n",
    "if __name__==\"__main__\":\n",
    "    ip_list = []\n",
    "    for _ in range(int(input())):\n",
    "        ip_address = input()\n",
    "        ip_list.append(ip_address)\n",
    "for IP in ip_list:\n",
    "    check_ip(IP)"
   ]
  },
  {
   "cell_type": "code",
   "execution_count": 79,
   "metadata": {},
   "outputs": [],
   "source": [
    "pat_2 = re.search('(0-9a-fA-F){1,4}(\\:(0-9a-fA-F)){7}')"
   ]
  },
  {
   "cell_type": "code",
   "execution_count": null,
   "metadata": {},
   "outputs": [],
   "source": []
  },
  {
   "cell_type": "code",
   "execution_count": null,
   "metadata": {},
   "outputs": [],
   "source": []
  },
  {
   "cell_type": "code",
   "execution_count": null,
   "metadata": {},
   "outputs": [],
   "source": []
  },
  {
   "cell_type": "code",
   "execution_count": null,
   "metadata": {},
   "outputs": [],
   "source": []
  },
  {
   "cell_type": "code",
   "execution_count": null,
   "metadata": {},
   "outputs": [],
   "source": []
  },
  {
   "cell_type": "code",
   "execution_count": null,
   "metadata": {},
   "outputs": [],
   "source": []
  },
  {
   "cell_type": "code",
   "execution_count": null,
   "metadata": {},
   "outputs": [],
   "source": []
  },
  {
   "cell_type": "code",
   "execution_count": null,
   "metadata": {},
   "outputs": [],
   "source": []
  },
  {
   "cell_type": "code",
   "execution_count": null,
   "metadata": {},
   "outputs": [],
   "source": []
  }
 ],
 "metadata": {
  "kernelspec": {
   "display_name": "Python 3",
   "language": "python",
   "name": "python3"
  },
  "language_info": {
   "codemirror_mode": {
    "name": "ipython",
    "version": 3
   },
   "file_extension": ".py",
   "mimetype": "text/x-python",
   "name": "python",
   "nbconvert_exporter": "python",
   "pygments_lexer": "ipython3",
   "version": "3.7.4"
  }
 },
 "nbformat": 4,
 "nbformat_minor": 2
}
