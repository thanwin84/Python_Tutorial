{
 "cells": [
  {
   "cell_type": "code",
   "execution_count": 24,
   "metadata": {},
   "outputs": [
    {
     "name": "stdout",
     "output_type": "stream",
     "text": [
      "1 2 3 4 "
     ]
    }
   ],
   "source": [
    "class Node:\n",
    "    def __init__(self, data, next=None):\n",
    "        self.data = data\n",
    "        self.next = next\n",
    "    \n",
    "class LinkedList:\n",
    "    def __init__(self):\n",
    "        self.head = None\n",
    "    \n",
    "    def insert_at_the_beginning(self, data):\n",
    "        node = Node(data, self.head)\n",
    "        self.head = node\n",
    "        \n",
    "    def insert_at_end(self, data):\n",
    "        if self.head is None:\n",
    "            self.head = Node(data, None)\n",
    "            return \n",
    "        else:\n",
    "            itr = self.head\n",
    "            \n",
    "            while itr.next:\n",
    "                itr = itr.next\n",
    "            itr.next = Node(data, None)\n",
    "        \n",
    "    def insertValues(self, datalist):\n",
    "        self.head = None\n",
    "        for data in datalist:\n",
    "            self.insert_at_end(data)\n",
    "    \n",
    "    def getLenght(self):\n",
    "        count = 0\n",
    "        itr = self.head\n",
    "        while itr:\n",
    "            count += 1\n",
    "            itr = itr.next\n",
    "        return count\n",
    "    def remove_at(self, index):\n",
    "        if index < 0 or index >= self.getLenght():\n",
    "            raise Exception('Invalid index')\n",
    "        elif index == 0:\n",
    "            self.head = self.head.next\n",
    "        \n",
    "        else:\n",
    "            count = 0\n",
    "            itr = self.head\n",
    "            while itr:\n",
    "                if count == index - 1:\n",
    "                    itr.next = itr.next.next\n",
    "                    break\n",
    "                itr = itr.next\n",
    "                count += 1\n",
    "    def insert_at(self,index, data):\n",
    "        if index < 0 and index >= self.getLenght():\n",
    "            raise Exception('Invalid Index')\n",
    "            \n",
    "        elif index == 0:\n",
    "            self.insert_at_the_beginning(data)\n",
    "            return \n",
    "        count = 0 \n",
    "        itr = self.head\n",
    "        while itr:\n",
    "            if count == index - 1:\n",
    "                node = Node(data, itr.next)\n",
    "                itr.next = node\n",
    "                break\n",
    "            itr = itr.next\n",
    "            count += 1\n",
    "                \n",
    "    def printList(self):\n",
    "        temp = self.head\n",
    "        while temp:\n",
    "            print(temp.data,end=' ')\n",
    "            temp =temp.next\n",
    "ll = LinkedList()\n",
    "ll.insert_at_the_beginning(9)\n",
    "ll.insert_at_the_beginning(10)\n",
    "# ll.insert_at_end(90)\n",
    "# ll.insert_at_end(110)\n",
    "# # ll.remove_at(1)\n",
    "# ll.insert_at(1, 20)\n",
    "ll.insertValues([1, 2, 3, 4])\n",
    "# print(ll.getLenght())\n",
    "ll.printList()\n",
    "\n"
   ]
  },
  {
   "cell_type": "code",
   "execution_count": 20,
   "metadata": {},
   "outputs": [
    {
     "name": "stdout",
     "output_type": "stream",
     "text": [
      "251\n"
     ]
    }
   ],
   "source": [
    "class Node:\n",
    "    def __init__(self, data, next=None):\n",
    "        self.data = data\n",
    "        self.next = next\n",
    "class LinkedList:\n",
    "    def __init__(self):\n",
    "        self.head = None\n",
    "        \n",
    "    def PushFront(self, data):\n",
    "        \"\"\"Add item at the beginning\"\"\"\n",
    "        node = Node(data, self.head)\n",
    "        self.head = node\n",
    "    \n",
    "    def PopFront(self):\n",
    "        \"\"\"remove item from the beginning\"\"\"\n",
    "        self.head = self.head.next\n",
    "    \n",
    "    def PopBack(self):\n",
    "        itr = self.head\n",
    "        while itr.next.next:\n",
    "            itr = itr.next\n",
    "        itr.next = None\n",
    "    \n",
    "    def PushBack(self, data):\n",
    "        \"\"\"Add item at the end\"\"\"\n",
    "        if self.head is None:\n",
    "            self.head = Node(data, None)\n",
    "            return \n",
    "        itr = self.head\n",
    "        while itr.next:\n",
    "            itr = itr.next\n",
    "        itr.next = Node(data, None)\n",
    "    def insert_at(self, index, data):\n",
    "        \"\"\"insert item at specific index\"\"\"\n",
    "        if index < 0 or index >= self.getLenght():\n",
    "            raise Exception('Invalid Index')\n",
    "        \n",
    "        elif index == 0:\n",
    "            self.PushFront(data)\n",
    "            \n",
    "        count = 0\n",
    "        itr = self.head\n",
    "        while itr:\n",
    "            if count == index - 1:\n",
    "                node = Node(data, itr.next)\n",
    "                itr.next = node\n",
    "                break\n",
    "            \n",
    "            itr= itr.next\n",
    "            count += 1\n",
    "    def remove_at(self, index,  data):\n",
    "        '''remove at specific index'''\n",
    "        if index < 0 or index >= self.getLenght():\n",
    "            raise Exception('Invalid Index')\n",
    "        elif index == 0:\n",
    "            self.PopFront()\n",
    "        else:\n",
    "            count = 0\n",
    "            itr = self.head\n",
    "            while itr:\n",
    "                if count == index - 1:\n",
    "                    itr.next = itr.next.next\n",
    "                    break\n",
    "                itr = itr.next\n",
    "                count += 1\n",
    "            \n",
    "\n",
    "    def getLenght(self):\n",
    "        count = 0\n",
    "        itr = self.head\n",
    "        while itr:\n",
    "            count += 1\n",
    "            itr = itr.next\n",
    "        return count\n",
    "    def insertValues(self, datalist):\n",
    "        self.head = None\n",
    "        for data in datalist:\n",
    "            self.PushBack(data)\n",
    "        \n",
    "    def getNthNode(self, index):\n",
    "        if index < 0 or index >= self.getLenght():\n",
    "            raise Exception('Invalid index')\n",
    "        itr = self.head\n",
    "        count = 0\n",
    "        while itr:\n",
    "            if count == index:\n",
    "                return itr.data\n",
    "            itr = itr.next\n",
    "            count += 1\n",
    "    def Print(self):\n",
    "        temp = self.head\n",
    "        while temp:\n",
    "            print(temp.data,end=' ')\n",
    "            temp =temp.next\n",
    "ll = LinkedList()\n",
    "ll.PushFront(10)\n",
    "ll.PushFront(20)\n",
    "ll.PushBack(2)\n",
    "ll.PushBack(11)\n",
    "ll.insert_at(1, 251)\n",
    "# ll.remove_at(2, 10)\n",
    "# ll.insertValues([1, 2, 3, 4])\n",
    "# ll.Print()\n",
    "print(ll.getNthNode(1))"
   ]
  },
  {
   "cell_type": "code",
   "execution_count": 1,
   "metadata": {},
   "outputs": [
    {
     "name": "stdout",
     "output_type": "stream",
     "text": [
      "0 10 20 30 "
     ]
    }
   ],
   "source": [
    "class Node:\n",
    "    def __init__(self,data):\n",
    "        self.data = data\n",
    "        self.next = None\n",
    "        self.prev = None\n",
    "class DoublyLinkedList:\n",
    "    def __init__(self):\n",
    "        self.head = None\n",
    "\n",
    "    def append(self, data):\n",
    "        if self.head is None:\n",
    "            new_node = Node(data)\n",
    "            new_node.prev = None\n",
    "            self.head = new_node\n",
    "        else:\n",
    "            new_node = Node(data)\n",
    "            curr = self.head\n",
    "            while curr.next:\n",
    "                curr = curr.next\n",
    "            curr.next = new_node\n",
    "            new_node.prev = curr\n",
    "            new_node.next = None\n",
    "    \n",
    "    def prepend(self, data):\n",
    "        if self.head is None:\n",
    "            new_node = Node(data)\n",
    "            new_node.prev = None\n",
    "            self.head = new_node\n",
    "        else:\n",
    "            new_node = Node(data)\n",
    "            self.head.prev = new_node\n",
    "            new_node.next = self.head\n",
    "            self.head = new_node\n",
    "            new_node.prev = None\n",
    "    def add_after_node(self, key, data):\n",
    "        cur = self.head\n",
    "        while cur:\n",
    "            if cur.next is None and cur.data == key:\n",
    "                self.append(data)\n",
    "                return \n",
    "            elif cur.data == key:\n",
    "                new_node = Node(data)\n",
    "                nxt = cur.next\n",
    "                cur.next = new_node\n",
    "                new_node.next = nxt\n",
    "                new_node.prev = cur\n",
    "                nxt.prev = new_node\n",
    "            cur = cur.next\n",
    "    def add_before_node(self, key, data):\n",
    "        cur = self.head\n",
    "        while cur:\n",
    "            if cur.prev is None and cur.data == key:\n",
    "                self.preprend(data)\n",
    "            elif cur.data == key:\n",
    "                new_node = Node(data)\n",
    "                prev = cur.prev\n",
    "                prev.next = new_node\n",
    "                cur.prev = new_node\n",
    "                new_node.next = cur\n",
    "                new_node.prev = prev\n",
    "                \n",
    "            \n",
    "            cur = cur.next\n",
    "    \n",
    "    def delete(self, key):\n",
    "        cur = self.head\n",
    "        while cur:\n",
    "            if cur.data == key and cur == self.head:\n",
    "                # case - 1\n",
    "                if not cur.next:\n",
    "                    cur = None\n",
    "                    self.head = None\n",
    "                    return \n",
    "                else:\n",
    "                    # case 2\n",
    "                    nxt = cur.next\n",
    "                    cur.next = None\n",
    "                    nxt.prev = None\n",
    "                    cur = None # get rid of the node\n",
    "                    self.head = nxt\n",
    "                    return \n",
    "            elif cur.data == key:\n",
    "                # case 3\n",
    "                if cur.next:\n",
    "                    nxt = cur.next\n",
    "                    prev = cur.prev\n",
    "                    prev.next = nxt\n",
    "                    nxt.prev = prev\n",
    "                    cur.next = None\n",
    "                    cur.prev = None\n",
    "                    cur = None\n",
    "                    return \n",
    "                # case 4\n",
    "                else:\n",
    "                    prev = cur.prev\n",
    "                    prev.next = None\n",
    "                    cur.prev = None\n",
    "                    cur = None\n",
    "                    return \n",
    "            cur = cur.next\n",
    "    \n",
    "    def Print(self):\n",
    "        cur = self.head\n",
    "        while cur:\n",
    "            print(cur.data, end = ' ')\n",
    "            cur = cur.next\n",
    "dblist = DoublyLinkedList()\n",
    "dblist.append(10)\n",
    "dblist.append(20)\n",
    "dblist.append(30)\n",
    "dblist.prepend(0)\n",
    "# dblist.delete(30)\n",
    "dblist.add_after_node(0, 110 )\n",
    "dblist.add_before_node(110, 200)\n",
    "dblist.Print()\n",
    "            "
   ]
  },
  {
   "cell_type": "code",
   "execution_count": null,
   "metadata": {},
   "outputs": [],
   "source": []
  },
  {
   "cell_type": "code",
   "execution_count": 1,
   "metadata": {},
   "outputs": [
    {
     "data": {
      "text/plain": [
       "True"
      ]
     },
     "execution_count": 1,
     "metadata": {},
     "output_type": "execute_result"
    }
   ],
   "source": [
    "2 <= 2"
   ]
  },
  {
   "cell_type": "code",
   "execution_count": 2,
   "metadata": {},
   "outputs": [
    {
     "data": {
      "text/plain": [
       "False"
      ]
     },
     "execution_count": 2,
     "metadata": {},
     "output_type": "execute_result"
    }
   ],
   "source": [
    "2 >= 3"
   ]
  },
  {
   "cell_type": "code",
   "execution_count": 4,
   "metadata": {},
   "outputs": [
    {
     "data": {
      "text/plain": [
       "True"
      ]
     },
     "execution_count": 4,
     "metadata": {},
     "output_type": "execute_result"
    }
   ],
   "source": [
    "2 ==2\n"
   ]
  },
  {
   "cell_type": "code",
   "execution_count": null,
   "metadata": {},
   "outputs": [],
   "source": []
  },
  {
   "cell_type": "code",
   "execution_count": null,
   "metadata": {},
   "outputs": [],
   "source": []
  },
  {
   "cell_type": "code",
   "execution_count": null,
   "metadata": {},
   "outputs": [],
   "source": []
  },
  {
   "cell_type": "code",
   "execution_count": null,
   "metadata": {},
   "outputs": [],
   "source": []
  },
  {
   "cell_type": "code",
   "execution_count": null,
   "metadata": {},
   "outputs": [],
   "source": []
  },
  {
   "cell_type": "code",
   "execution_count": null,
   "metadata": {},
   "outputs": [],
   "source": []
  },
  {
   "cell_type": "code",
   "execution_count": null,
   "metadata": {},
   "outputs": [],
   "source": []
  },
  {
   "cell_type": "code",
   "execution_count": null,
   "metadata": {},
   "outputs": [],
   "source": []
  },
  {
   "cell_type": "code",
   "execution_count": null,
   "metadata": {},
   "outputs": [],
   "source": []
  },
  {
   "cell_type": "code",
   "execution_count": null,
   "metadata": {},
   "outputs": [],
   "source": []
  },
  {
   "cell_type": "code",
   "execution_count": null,
   "metadata": {},
   "outputs": [],
   "source": []
  },
  {
   "cell_type": "code",
   "execution_count": null,
   "metadata": {},
   "outputs": [],
   "source": []
  },
  {
   "cell_type": "code",
   "execution_count": null,
   "metadata": {},
   "outputs": [],
   "source": []
  },
  {
   "cell_type": "code",
   "execution_count": null,
   "metadata": {},
   "outputs": [],
   "source": []
  },
  {
   "cell_type": "code",
   "execution_count": null,
   "metadata": {},
   "outputs": [],
   "source": []
  },
  {
   "cell_type": "code",
   "execution_count": null,
   "metadata": {},
   "outputs": [],
   "source": []
  },
  {
   "cell_type": "code",
   "execution_count": null,
   "metadata": {},
   "outputs": [],
   "source": []
  }
 ],
 "metadata": {
  "kernelspec": {
   "display_name": "Python 3",
   "language": "python",
   "name": "python3"
  },
  "language_info": {
   "codemirror_mode": {
    "name": "ipython",
    "version": 3
   },
   "file_extension": ".py",
   "mimetype": "text/x-python",
   "name": "python",
   "nbconvert_exporter": "python",
   "pygments_lexer": "ipython3",
   "version": "3.7.6"
  }
 },
 "nbformat": 4,
 "nbformat_minor": 4
}
