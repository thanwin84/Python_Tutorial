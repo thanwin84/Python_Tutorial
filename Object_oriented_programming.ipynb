{
 "cells": [
  {
   "cell_type": "markdown",
   "metadata": {},
   "source": [
    "# Basic class"
   ]
  },
  {
   "cell_type": "code",
   "execution_count": 12,
   "metadata": {},
   "outputs": [],
   "source": [
    "class Theif:\n",
    "    sneaky = True\n",
    "    "
   ]
  },
  {
   "cell_type": "code",
   "execution_count": 13,
   "metadata": {},
   "outputs": [
    {
     "name": "stdout",
     "output_type": "stream",
     "text": [
      "True\n",
      "True\n"
     ]
    }
   ],
   "source": [
    "kenneth = Theif()\n",
    "# accessing attribute\n",
    "print(kenneth.sneaky)\n",
    "# accessing attribut by class name\n",
    "print(Theif.sneaky)"
   ]
  },
  {
   "cell_type": "code",
   "execution_count": 14,
   "metadata": {},
   "outputs": [
    {
     "name": "stdout",
     "output_type": "stream",
     "text": [
      "False\n",
      "True\n"
     ]
    }
   ],
   "source": [
    "kenneth.sneaky = False\n",
    "print(kenneth.sneaky)\n",
    "print(Theif.sneaky) # This value still remain same\n"
   ]
  },
  {
   "cell_type": "markdown",
   "metadata": {},
   "source": [
    "# Method"
   ]
  },
  {
   "cell_type": "code",
   "execution_count": 17,
   "metadata": {},
   "outputs": [],
   "source": [
    "import random\n",
    "class Theif:\n",
    "    sneaky = True\n",
    "    def pick_pocket(self): # method is used by instance not by class, that's why it takes at least one parameter which is self\n",
    "        #self refer to 'instance'\n",
    "        print('Called by {}'.format(self))\n",
    "        return bool(random.randint(0,1))"
   ]
  },
  {
   "cell_type": "code",
   "execution_count": 23,
   "metadata": {},
   "outputs": [
    {
     "name": "stdout",
     "output_type": "stream",
     "text": [
      "Called by <__main__.Theif object at 0x000002019CBEFB48>\n",
      "False\n",
      "Called by <__main__.Theif object at 0x000002019CBEFB08>\n",
      "True\n"
     ]
    }
   ],
   "source": [
    "kenneth = Theif()\n",
    "than = Theif()\n",
    "print(kenneth.pick_pocket())\n",
    "print(than.pick_pocket())\n",
    "# The memory location is different cause 'kenneth' and 'than' both different instance or object"
   ]
  },
  {
   "cell_type": "code",
   "execution_count": 16,
   "metadata": {},
   "outputs": [
    {
     "data": {
      "text/plain": [
       "True"
      ]
     },
     "execution_count": 16,
     "metadata": {},
     "output_type": "execute_result"
    }
   ],
   "source": [
    "Theif.pick_pocket('kenneth')"
   ]
  },
  {
   "cell_type": "code",
   "execution_count": 26,
   "metadata": {},
   "outputs": [],
   "source": [
    "import random\n",
    "class Theif:\n",
    "    sneaky = True\n",
    "    def pick_pocket(self): \n",
    "        if self.sneaky:\n",
    "            return bool(random.randint(0,1))\n",
    "        return False"
   ]
  },
  {
   "cell_type": "code",
   "execution_count": 29,
   "metadata": {},
   "outputs": [
    {
     "data": {
      "text/plain": [
       "False"
      ]
     },
     "execution_count": 29,
     "metadata": {},
     "output_type": "execute_result"
    }
   ],
   "source": [
    "kenneth = Theif()\n",
    "kenneth.pick_pocket()\n",
    "# changing sneaky value\n",
    "kenneth.sneaky = False\n",
    "kenneth.pick_pocket() # Since the sneaky is False, The result will be always False"
   ]
  },
  {
   "cell_type": "code",
   "execution_count": 95,
   "metadata": {},
   "outputs": [],
   "source": [
    "class Student:\n",
    "    name = \"Your Name\"\n",
    "    \n",
    "    def praise(self):\n",
    "        return \"You inspire me, {}\".format(self.name)\n",
    "    \n",
    "    def reassurance(self):\n",
    "        return \"Chin up, {}. You'll get it next time!\".format(self.name)\n",
    "    \n",
    "    def feedback(self, grade, *args):\n",
    "        print(*args)\n",
    "        if grade>50:\n",
    "            return self.praise() #Just like we call any function\n",
    "        return self.reassurance()"
   ]
  },
  {
   "cell_type": "code",
   "execution_count": 99,
   "metadata": {},
   "outputs": [
    {
     "name": "stdout",
     "output_type": "stream",
     "text": [
      "than\n"
     ]
    },
    {
     "data": {
      "text/plain": [
       "'You inspire me, Your Name'"
      ]
     },
     "execution_count": 99,
     "metadata": {},
     "output_type": "execute_result"
    }
   ],
   "source": [
    "than = Student()\n",
    "than.feedback(60, 'than')"
   ]
  },
  {
   "cell_type": "code",
   "execution_count": 91,
   "metadata": {},
   "outputs": [],
   "source": [
    "import random\n",
    "class Theif:\n",
    "    #sneaky = True\n",
    "    def __init__(self, name, sneaky=True, **kwargs):\n",
    "        self.name = name\n",
    "        self.sneaky = sneaky\n",
    "        for key,value in kwargs.items():\n",
    "            setattr(self, key, value)\n",
    "    def pick_pocket(self): \n",
    "        return self.sneaky and bool(random.randint(0,1))\n",
    "        "
   ]
  },
  {
   "cell_type": "code",
   "execution_count": 92,
   "metadata": {},
   "outputs": [],
   "source": [
    "than = Theif(name='than',fav_color='Black')"
   ]
  },
  {
   "cell_type": "code",
   "execution_count": 93,
   "metadata": {},
   "outputs": [
    {
     "name": "stdout",
     "output_type": "stream",
     "text": [
      "False\n",
      "Black\n",
      "True\n"
     ]
    }
   ],
   "source": [
    "print(than.pick_pocket())\n",
    "print(than.fav_color)\n",
    "print(than.sneaky)"
   ]
  },
  {
   "cell_type": "markdown",
   "metadata": {},
   "source": [
    "# Practical Example"
   ]
  },
  {
   "cell_type": "code",
   "execution_count": 45,
   "metadata": {},
   "outputs": [],
   "source": [
    "people = {'people':[\n",
    "    {'name':'than',\n",
    "     'sneaky':False,\n",
    "     'fav_color':'Grey'\n",
    "    },\n",
    "     {'name':'Tom',\n",
    "     'sneaky':True,\n",
    "     'fav_color':'Grey'\n",
    "    },\n",
    "     {'name':'kenneth',\n",
    "     'sneaky':False,\n",
    "     'fav_color':'Yellow'\n",
    "    }\n",
    "]\n",
    "}"
   ]
  },
  {
   "cell_type": "code",
   "execution_count": 53,
   "metadata": {},
   "outputs": [
    {
     "name": "stdout",
     "output_type": "stream",
     "text": [
      "than\n",
      "Tom\n",
      "kenneth\n"
     ]
    }
   ],
   "source": [
    "# This is how we do mapping \n",
    "for m in people['people']:\n",
    "    print('{name}'.format(**m))"
   ]
  },
  {
   "cell_type": "code",
   "execution_count": 104,
   "metadata": {},
   "outputs": [],
   "source": [
    "class Person:\n",
    "    def __init__(self, **kwargs):\n",
    "        for key,value in kwargs.items():\n",
    "            setattr(self, key, value)\n",
    "    \n",
    "    #def __str__(self):\n",
    "        #return self.name\n",
    "    \n",
    "    #def __repr__(self):\n",
    "        #return str(self.name)"
   ]
  },
  {
   "cell_type": "code",
   "execution_count": 107,
   "metadata": {},
   "outputs": [
    {
     "name": "stdout",
     "output_type": "stream",
     "text": [
      "than\n",
      "Tom\n",
      "kenneth\n"
     ]
    }
   ],
   "source": [
    "my_list = [Person(**m) for m in people['people']]\n",
    "for person in my_list:\n",
    "    print(person.name)"
   ]
  },
  {
   "cell_type": "code",
   "execution_count": 106,
   "metadata": {},
   "outputs": [
    {
     "data": {
      "text/plain": [
       "[<__main__.Person at 0x2019c9664c8>,\n",
       " <__main__.Person at 0x2019c9a9d88>,\n",
       " <__main__.Person at 0x2019c9a99c8>]"
      ]
     },
     "execution_count": 106,
     "metadata": {},
     "output_type": "execute_result"
    }
   ],
   "source": [
    "my_list"
   ]
  },
  {
   "cell_type": "code",
   "execution_count": 16,
   "metadata": {},
   "outputs": [],
   "source": [
    "# Team Treehouse Chellenge\n",
    "class RaceCar:\n",
    "    # class attribute\n",
    "    name = 'cars'\n",
    "    def __init__(self, color, fuel_remaining, **kwargs):\n",
    "        self.color = color\n",
    "        self.fuel_remaining = fuel_remaining\n",
    "        self.laps = 0\n",
    "        for key,value in kwargs.items():\n",
    "            setattr(self, key, value)\n",
    "\n",
    "    def run_lap(self, length):\n",
    "        self.fuel_remaining -= length*0.125\n",
    "        self.laps +=1"
   ]
  },
  {
   "cell_type": "code",
   "execution_count": 20,
   "metadata": {},
   "outputs": [
    {
     "name": "stdout",
     "output_type": "stream",
     "text": [
      "cars\n",
      "cars\n"
     ]
    }
   ],
   "source": [
    "red = RaceCar(color='red',fuel_remaining=20)\n",
    "red.laps = 10\n",
    "#RaceCar.laps # It throws AttributeError cause laps attribute belong to instant not class\n",
    "print(red.name)\n",
    "print(RaceCar.name)"
   ]
  },
  {
   "cell_type": "markdown",
   "metadata": {},
   "source": [
    "# Inheritance"
   ]
  },
  {
   "cell_type": "code",
   "execution_count": 2,
   "metadata": {},
   "outputs": [],
   "source": [
    "import random\n",
    "class Character:\n",
    "    def __init__(self, name, **kwargs):\n",
    "        self.name = name\n",
    "        for key,value in kwargs.items():\n",
    "            setattr(self, key, value)\n",
    "\n",
    "class Theif(Character):\n",
    "    sneaky = True\n",
    "    def pick_pocket(self): \n",
    "        return self.sneaky and bool(random.randint(0,1))"
   ]
  },
  {
   "cell_type": "code",
   "execution_count": 13,
   "metadata": {},
   "outputs": [
    {
     "name": "stdout",
     "output_type": "stream",
     "text": [
      "False\n",
      "True\n"
     ]
    }
   ],
   "source": [
    "kenneth = Theif(name='kenneth',prog='python')\n",
    "#help(Theif)\n",
    "kenneth.sneaky = False\n",
    "print(kenneth.sneaky)\n",
    "print(Theif.sneaky)\n"
   ]
  },
  {
   "cell_type": "markdown",
   "metadata": {},
   "source": [
    "# Using super"
   ]
  },
  {
   "cell_type": "code",
   "execution_count": 1,
   "metadata": {},
   "outputs": [],
   "source": [
    "import random\n",
    "class Character:\n",
    "    def __init__(self, name, **kwargs):\n",
    "        self.name = name\n",
    "        for key,value in kwargs.items():\n",
    "            setattr(self, key, value)\n",
    "\n",
    "class Theif(Character):\n",
    "    sneaky = True\n",
    "    # we are overidding super class init\n",
    "    def __init__(self, name, sneaky=True, **kwargs):\n",
    "        super().__init__(name, **kwargs) #super refer to super class\n",
    "        self.sneaky = sneaky\n",
    "    def pick_pocket(self): \n",
    "        return self.sneaky and bool(random.randint(0,1))"
   ]
  },
  {
   "cell_type": "code",
   "execution_count": 2,
   "metadata": {},
   "outputs": [],
   "source": [
    "kenneth = Theif(name='kenneth', sneaky=False, clever=True)"
   ]
  },
  {
   "cell_type": "code",
   "execution_count": 42,
   "metadata": {},
   "outputs": [],
   "source": [
    "class Parent1:\n",
    "    def __init__(self, name):\n",
    "        print('parent__init__',name)\n",
    "\n",
    "class Parent2:\n",
    "    def __init__(self, name):\n",
    "        print('parent2.__init__',name)\n",
    "class Child(Parent1,Parent2):\n",
    "    def __init__(self):\n",
    "        # we are calling parent class init\n",
    "        #super().__init__('tom')\n",
    "        Parent1.__init__(self,'tom')\n",
    "        Parent2.__init__(self,'Max')"
   ]
  },
  {
   "cell_type": "code",
   "execution_count": 43,
   "metadata": {},
   "outputs": [
    {
     "name": "stdout",
     "output_type": "stream",
     "text": [
      "parent__init__ tom\n",
      "parent2.__init__ Max\n"
     ]
    }
   ],
   "source": [
    "child = Child()"
   ]
  },
  {
   "cell_type": "code",
   "execution_count": 44,
   "metadata": {},
   "outputs": [
    {
     "data": {
      "text/plain": [
       "(__main__.Child, __main__.Parent1, __main__.Parent2, object)"
      ]
     },
     "execution_count": 44,
     "metadata": {},
     "output_type": "execute_result"
    }
   ],
   "source": [
    "Child.__mro__"
   ]
  },
  {
   "cell_type": "code",
   "execution_count": 57,
   "metadata": {},
   "outputs": [],
   "source": [
    "#Super!Challenge-TeamTreehouse\n",
    "class Inventory:\n",
    "    def __init__(self):\n",
    "        self.slots = []\n",
    "\n",
    "    def add_item(self, item):\n",
    "        self.slots.append(item)\n",
    "    \n",
    "    def __str__(self):\n",
    "        return str(self.slots)\n",
    "class SortedInventory(Inventory):\n",
    "    # oeverriding add_item\n",
    "    def add_item(self, item):\n",
    "        # making sure item still gets added\n",
    "        super().add_item(item)\n",
    "        # sorting the list\n",
    "        self.slots.sort()"
   ]
  },
  {
   "cell_type": "code",
   "execution_count": 58,
   "metadata": {},
   "outputs": [
    {
     "name": "stdout",
     "output_type": "stream",
     "text": [
      "[1, 3, 4]\n"
     ]
    }
   ],
   "source": [
    "inventory = SortedInventory()\n",
    "inventory.add_item(4)\n",
    "inventory.add_item(3)\n",
    "inventory.add_item(1)\n",
    "print(inventory) #prints out the sorted list "
   ]
  },
  {
   "cell_type": "markdown",
   "metadata": {},
   "source": [
    "# Multiple Superclass and MRO"
   ]
  },
  {
   "cell_type": "markdown",
   "metadata": {},
   "source": [
    "# super\n",
    "\n",
    "The super() builtin returns a proxy object (temporary object of the superclass) that allows us to access methods of the base class.\n"
   ]
  },
  {
   "cell_type": "code",
   "execution_count": 31,
   "metadata": {},
   "outputs": [],
   "source": [
    "import random\n",
    "\n",
    "\n",
    "class Sneaky:\n",
    "    sneaky = True\n",
    "    \n",
    "    def __init__(self, sneaky=True, *args, **kwargs):\n",
    "        super().__init__(*args, **kwargs)\n",
    "        self.sneaky = sneaky\n",
    "        \n",
    "    def hide(self, light_level):\n",
    "        return self.sneaky and light_level < 10\n",
    "\n",
    "        \n",
    "class Agile:\n",
    "    agile = True\n",
    "    \n",
    "    def __init__(self, agile=True, *args, **kwargs):\n",
    "        super().__init__(*args, **kwargs)\n",
    "        self.agile = agile\n",
    "        \n",
    "    def evade(self):\n",
    "        return self.agile and random.randint(0, 1)"
   ]
  },
  {
   "cell_type": "code",
   "execution_count": 32,
   "metadata": {},
   "outputs": [],
   "source": [
    "class Character:\n",
    "    def __init__(self, name='', **kwargs):\n",
    "        self.name = name\n",
    "        \n",
    "        for key, value in kwargs.items():\n",
    "            setattr(self, key, value)\n"
   ]
  },
  {
   "cell_type": "code",
   "execution_count": 33,
   "metadata": {},
   "outputs": [],
   "source": [
    "class Theif(Character,Agile,Sneaky):\n",
    "    def pick_pocket(self):\n",
    "        return self.sneaky and bool(random.randit(1,6))"
   ]
  },
  {
   "cell_type": "code",
   "execution_count": 7,
   "metadata": {},
   "outputs": [
    {
     "data": {
      "text/plain": [
       "(__main__.Theif, __main__.Character, __main__.Agile, __main__.Sneaky, object)"
      ]
     },
     "execution_count": 7,
     "metadata": {},
     "output_type": "execute_result"
    }
   ],
   "source": [
    "Theif.__mro__"
   ]
  },
  {
   "cell_type": "code",
   "execution_count": 9,
   "metadata": {},
   "outputs": [
    {
     "name": "stdout",
     "output_type": "stream",
     "text": [
      "True\n",
      "False\n",
      "False\n"
     ]
    }
   ],
   "source": [
    "kenneth = Theif(name='kenneth',sneaky=False)\n",
    "print(kenneth.agile)\n",
    "print(kenneth.sneaky)\n",
    "print(kenneth.hide(8))"
   ]
  },
  {
   "cell_type": "code",
   "execution_count": 19,
   "metadata": {},
   "outputs": [],
   "source": [
    "#help(Theif)"
   ]
  },
  {
   "cell_type": "code",
   "execution_count": 12,
   "metadata": {},
   "outputs": [],
   "source": [
    "class Student:\n",
    "    def __init__(old=False,*args,**kwargs):\n",
    "        super().__init__(*args,**kwargs)\n",
    "        self.old = old\n",
    "\n",
    "class Employee:\n",
    "    def __init__(pro=True,*args,**kwargs):\n",
    "        super().__init__(*args,**kwargs)\n",
    "        self.pro = pro"
   ]
  },
  {
   "cell_type": "code",
   "execution_count": 15,
   "metadata": {},
   "outputs": [],
   "source": [
    "class Character(Student,Employee):\n",
    "    def __init__(self,name,**kwargs):\n",
    "        self.name = name\n",
    "        for key,value in kwargs.items():\n",
    "            setattr(self, key, value)"
   ]
  },
  {
   "cell_type": "code",
   "execution_count": 38,
   "metadata": {},
   "outputs": [
    {
     "name": "stdout",
     "output_type": "stream",
     "text": [
      "False\n"
     ]
    }
   ],
   "source": [
    "student = Character(name='Than',old=False,level='BSC')\n",
    "print(student.old)"
   ]
  },
  {
   "cell_type": "code",
   "execution_count": 62,
   "metadata": {},
   "outputs": [],
   "source": [
    "class Ractangle:\n",
    "    def __init__(self,length, width):\n",
    "        self.length = length\n",
    "        self.width = width\n",
    "    \n",
    "    def area(self):\n",
    "        return self.length * self.width \n",
    "    \n",
    "    def parameter(self):\n",
    "        return 2(self.length+self.width)\n",
    "class Square(Ractangle):\n",
    "    def __init__(self, length):\n",
    "        super().__init__(length, length)\n",
    "\n",
    "class Cube(Square):\n",
    "    def surface_area(self):\n",
    "        face_area = super().area()\n",
    "        return 6 * face_area\n",
    "    \n",
    "    def volume(self):\n",
    "        face_area = super().area()\n",
    "        return face_area * self.length\n",
    "        "
   ]
  },
  {
   "cell_type": "code",
   "execution_count": 63,
   "metadata": {},
   "outputs": [
    {
     "data": {
      "text/plain": [
       "24"
      ]
     },
     "execution_count": 63,
     "metadata": {},
     "output_type": "execute_result"
    }
   ],
   "source": [
    "cu = Cube(2)\n",
    "cu.surface_area()"
   ]
  },
  {
   "cell_type": "code",
   "execution_count": 10,
   "metadata": {},
   "outputs": [
    {
     "data": {
      "text/plain": [
       "(__main__.Cube, __main__.Square, __main__.Ractangle, object)"
      ]
     },
     "execution_count": 10,
     "metadata": {},
     "output_type": "execute_result"
    }
   ],
   "source": [
    "Cube.__mro__"
   ]
  },
  {
   "cell_type": "markdown",
   "metadata": {},
   "source": [
    "# Checking MRO resolution order"
   ]
  },
  {
   "cell_type": "code",
   "execution_count": 15,
   "metadata": {},
   "outputs": [],
   "source": [
    "#help(super)"
   ]
  },
  {
   "cell_type": "raw",
   "metadata": {},
   "source": [
    "#   A\n",
    "   / \\\n",
    "  B   C\n",
    "   \\ /\n",
    "    D\n",
    "let's construc classes according to this hairchy"
   ]
  },
  {
   "cell_type": "code",
   "execution_count": 22,
   "metadata": {},
   "outputs": [],
   "source": [
    "# creating class where super() is called after method resolution\n",
    "class  A:\n",
    "    def __init__(self):\n",
    "        print('I am from A')\n",
    "class B(A):\n",
    "    def __init__(self):\n",
    "        print('I am from B')\n",
    "        super().__init__()\n",
    "class C(A):\n",
    "    def __init__(self):\n",
    "        print('I am from C')\n",
    "        super().__init__()\n",
    "class D(B, C):\n",
    "    def __init__(self):\n",
    "        print(\"I am from D\")\n",
    "        super().__init__()"
   ]
  },
  {
   "cell_type": "code",
   "execution_count": 23,
   "metadata": {},
   "outputs": [
    {
     "name": "stdout",
     "output_type": "stream",
     "text": [
      "I am from D\n",
      "I am from B\n",
      "I am from C\n",
      "I am from A\n"
     ]
    }
   ],
   "source": [
    "d = D()\n",
    "# here the resolution order is as same as MRO\n"
   ]
  },
  {
   "cell_type": "code",
   "execution_count": 24,
   "metadata": {},
   "outputs": [
    {
     "data": {
      "text/plain": [
       "(__main__.D, __main__.B, __main__.C, __main__.A, object)"
      ]
     },
     "execution_count": 24,
     "metadata": {},
     "output_type": "execute_result"
    }
   ],
   "source": [
    "D.__mro__"
   ]
  },
  {
   "cell_type": "code",
   "execution_count": 1,
   "metadata": {},
   "outputs": [],
   "source": [
    "# creating class where super is in the beginning of the method\n",
    "class  A:\n",
    "    def __init__(self):\n",
    "        print('I am from A')\n",
    "class B(A):\n",
    "    def __init__(self):\n",
    "        super().__init__()\n",
    "        print('I am from B')\n",
    "        \n",
    "class C(A):\n",
    "    def __init__(self):\n",
    "        super().__init__()\n",
    "        print('I am from C')\n",
    "        \n",
    "class D(B, C):\n",
    "    def __init__(self):\n",
    "        super().__init__()\n",
    "        print(\"I am from D\")\n",
    "        "
   ]
  },
  {
   "cell_type": "code",
   "execution_count": 2,
   "metadata": {},
   "outputs": [
    {
     "name": "stdout",
     "output_type": "stream",
     "text": [
      "I am from A\n",
      "I am from C\n",
      "I am from B\n",
      "I am from D\n"
     ]
    }
   ],
   "source": [
    "d2 = D()\n",
    "# here it gives the reverse order result"
   ]
  },
  {
   "cell_type": "code",
   "execution_count": 3,
   "metadata": {},
   "outputs": [
    {
     "data": {
      "text/plain": [
       "(__main__.D, __main__.B, __main__.C, __main__.A, object)"
      ]
     },
     "execution_count": 3,
     "metadata": {},
     "output_type": "execute_result"
    }
   ],
   "source": [
    "D.__mro__"
   ]
  },
  {
   "cell_type": "code",
   "execution_count": 80,
   "metadata": {},
   "outputs": [],
   "source": [
    "class Person:\n",
    "    def __init__(self,name, age):\n",
    "        try:\n",
    "            if age<20:\n",
    "                raise ValueError('Age should not less than 20 ')\n",
    "        except ValueError as e:\n",
    "            print(e)\n",
    "        self.name = name \n",
    "        self.age = age\n",
    "    \n",
    "    def show_name(self):\n",
    "        return self.name\n",
    "    def show_age(self):\n",
    "        return self.age\n",
    "    def show_details(self):\n",
    "        print('printing {} profile'.format(self.name))\n",
    "        print('name:{} and  age:{}'.format(self.show_name(),self.show_age()))\n",
    "\n",
    "class Employee(Person):\n",
    "    def __init__(self, emp_name,age, job):\n",
    "        super().__init__(emp_name,age)\n",
    "        #Person.__init__(self,name,age)\n",
    "        self.job = job\n",
    "    \n",
    "    def show_info(self):\n",
    "        return 'Employee name is:{} and age is : {}'.format(super().show_name(),super().show_age())"
   ]
  },
  {
   "cell_type": "code",
   "execution_count": 81,
   "metadata": {},
   "outputs": [
    {
     "data": {
      "text/plain": [
       "'Employee name is:kally and age is : 28'"
      ]
     },
     "execution_count": 81,
     "metadata": {},
     "output_type": "execute_result"
    }
   ],
   "source": [
    "emp = Employee(emp_name='kally',age=28,job='programmer')\n",
    "emp.show_info()"
   ]
  },
  {
   "cell_type": "code",
   "execution_count": 82,
   "metadata": {},
   "outputs": [
    {
     "name": "stdout",
     "output_type": "stream",
     "text": [
      "printing than profile\n",
      "name:than and  age:20\n"
     ]
    }
   ],
   "source": [
    "person = Person(name='than', age=20)\n",
    "person.show_details()"
   ]
  },
  {
   "cell_type": "markdown",
   "metadata": {},
   "source": [
    "# Family Tree"
   ]
  },
  {
   "cell_type": "code",
   "execution_count": 22,
   "metadata": {},
   "outputs": [
    {
     "name": "stdout",
     "output_type": "stream",
     "text": [
      "True\n",
      "True\n",
      "False\n"
     ]
    }
   ],
   "source": [
    "print(isinstance(2,(int)))\n",
    "print(isinstance(2.2,(int,float))) #either float or int\n",
    "print(isinstance(2.2,(int,str,dict,bool)))"
   ]
  },
  {
   "cell_type": "code",
   "execution_count": 25,
   "metadata": {},
   "outputs": [
    {
     "name": "stdout",
     "output_type": "stream",
     "text": [
      "True\n"
     ]
    },
    {
     "data": {
      "text/plain": [
       "[bool,\n",
       " <enum 'IntEnum'>,\n",
       " <enum 'IntFlag'>,\n",
       " sre_constants._NamedIntConstant,\n",
       " subprocess.Handle]"
      ]
     },
     "execution_count": 25,
     "metadata": {},
     "output_type": "execute_result"
    }
   ],
   "source": [
    "print(isinstance(True,(int))) #bool is a subclass of int\n",
    "int.__subclasses__()"
   ]
  },
  {
   "cell_type": "code",
   "execution_count": 27,
   "metadata": {},
   "outputs": [],
   "source": [
    "#help(int)"
   ]
  },
  {
   "cell_type": "code",
   "execution_count": 34,
   "metadata": {},
   "outputs": [
    {
     "name": "stdout",
     "output_type": "stream",
     "text": [
      "True\n",
      "False\n",
      "True\n"
     ]
    }
   ],
   "source": [
    "print(issubclass(bool,(int)))\n",
    "print(issubclass(Character,Theif))\n",
    "print(issubclass(Theif,Character))"
   ]
  },
  {
   "cell_type": "code",
   "execution_count": 40,
   "metadata": {},
   "outputs": [
    {
     "data": {
      "text/plain": [
       "'Character'"
      ]
     },
     "execution_count": 40,
     "metadata": {},
     "output_type": "execute_result"
    }
   ],
   "source": [
    "student.__class__.__name__"
   ]
  },
  {
   "cell_type": "markdown",
   "metadata": {},
   "source": [
    "# Magic Method"
   ]
  },
  {
   "cell_type": "code",
   "execution_count": 72,
   "metadata": {},
   "outputs": [],
   "source": [
    "class NumString:\n",
    "    def __init__(self,value):\n",
    "        self.value = str(value)\n",
    "        \n",
    "    def __int__(self):\n",
    "        return int(self.value)\n",
    "    \n",
    "    # it decides what we want to print when we call print()\n",
    "    def __str__(self): \n",
    "        return self.value\n",
    "    \n",
    "    #official string representation\n",
    "    def __repr__(self): \n",
    "        return str(self.value)\n",
    "    \n",
    "    def __float__(self):\n",
    "        return float(self.value)\n",
    "    \n",
    "    # for adding \n",
    "    def __add__(self, other):\n",
    "        if '.' in self.value:\n",
    "            return float(self) + other\n",
    "        return int(self) + other \n",
    "    \n",
    "    # we can add  by swapping \n",
    "    def __radd__(self, other):\n",
    "        return self + other\n",
    "    \n",
    "    # we can increment \n",
    "    def __iadd__(self, other):\n",
    "        self.value = self + other\n",
    "        return self.value\n",
    "    \n",
    "    # for muliplication\n",
    "    def __mul__(self, other):\n",
    "        if '.' in self.value:\n",
    "            return float(self) * other\n",
    "        return int(self) * other\n",
    "    \n",
    "    def __rmul__(self, other):\n",
    "        return self * other\n",
    "    \n",
    "    def __imul__(self, other):\n",
    "        self.value = self * other\n",
    "        return self.value\n",
    "    \n",
    "    # for less than\n",
    "    def __lt__(self, other):\n",
    "        return int(self.value) < other\n",
    "    \n",
    "    def __le__(self, other):\n",
    "        return int(self.value) <= other"
   ]
  },
  {
   "cell_type": "code",
   "execution_count": 76,
   "metadata": {},
   "outputs": [
    {
     "data": {
      "text/plain": [
       "True"
      ]
     },
     "execution_count": 76,
     "metadata": {},
     "output_type": "execute_result"
    }
   ],
   "source": [
    "ten = NumString(10) \n",
    "ten != NumString(20)"
   ]
  },
  {
   "cell_type": "code",
   "execution_count": 43,
   "metadata": {},
   "outputs": [
    {
     "data": {
      "text/plain": [
       "25"
      ]
     },
     "execution_count": 43,
     "metadata": {},
     "output_type": "execute_result"
    }
   ],
   "source": []
  },
  {
   "cell_type": "code",
   "execution_count": 46,
   "metadata": {},
   "outputs": [
    {
     "data": {
      "text/plain": [
       "__main__.NumString"
      ]
     },
     "execution_count": 46,
     "metadata": {},
     "output_type": "execute_result"
    }
   ],
   "source": [
    "twenty = NumString(20)\n",
    "twenty.__class__"
   ]
  },
  {
   "cell_type": "code",
   "execution_count": null,
   "metadata": {},
   "outputs": [],
   "source": []
  },
  {
   "cell_type": "markdown",
   "metadata": {},
   "source": [
    "# Code chellange for magic method"
   ]
  },
  {
   "cell_type": "code",
   "execution_count": 21,
   "metadata": {},
   "outputs": [],
   "source": [
    "class Letter:\n",
    "    \"\"\"A class for morescode\"\"\"\n",
    "    def __init__(self, pattern=None):\n",
    "        self.pattern = pattern\n",
    "        \n",
    "    def __iter__(self):\n",
    "        yield from self.pattern\n",
    "    def __str__(self):\n",
    "        new = []\n",
    "        for pat in self.pattern:\n",
    "            if pat=='.':\n",
    "                new.append('dot')\n",
    "            elif pat == '_':\n",
    "                new.append('dash')\n",
    "        return '-'.join(new)\n",
    "    \n",
    "    def __repr__(self):\n",
    "        print('Class name is: {}'.format(self.__class__.__name__))\n",
    "        return self.__str__()"
   ]
  },
  {
   "cell_type": "code",
   "execution_count": 22,
   "metadata": {},
   "outputs": [
    {
     "name": "stdout",
     "output_type": "stream",
     "text": [
      "Class name is: Letter\n"
     ]
    },
    {
     "data": {
      "text/plain": [
       "dot-dot-dash-dot-dash"
      ]
     },
     "execution_count": 22,
     "metadata": {},
     "output_type": "execute_result"
    }
   ],
   "source": [
    "letter = Letter('.._._')\n",
    "letter #for repr test\n",
    "# print(letter) # for str test"
   ]
  },
  {
   "cell_type": "code",
   "execution_count": 100,
   "metadata": {},
   "outputs": [
    {
     "name": "stdout",
     "output_type": "stream",
     "text": [
      "A class for morescode\n",
      "<class '__main__.Letter'>\n",
      "Letter\n",
      "{'pattern': '.._._'}\n"
     ]
    }
   ],
   "source": [
    "print(letter.__doc__)\n",
    "print(letter.__class__)\n",
    "print(letter.__class__.__name__)\n",
    "print(letter.__dict__)\n",
    "letter.__getattribute__"
   ]
  },
  {
   "cell_type": "code",
   "execution_count": 24,
   "metadata": {},
   "outputs": [
    {
     "name": "stdout",
     "output_type": "stream",
     "text": [
      ".\n",
      ".\n",
      "_\n",
      ".\n",
      "_\n"
     ]
    }
   ],
   "source": [
    "for i in letter:\n",
    "    print(i)"
   ]
  },
  {
   "cell_type": "code",
   "execution_count": null,
   "metadata": {},
   "outputs": [],
   "source": []
  },
  {
   "cell_type": "markdown",
   "metadata": {},
   "source": [
    "# Emulating-built in"
   ]
  },
  {
   "cell_type": "code",
   "execution_count": 1,
   "metadata": {},
   "outputs": [],
   "source": [
    "class Item:\n",
    "    def __init__(self, name, description):\n",
    "        self.name = name\n",
    "        self.description = description\n",
    "        \n",
    "    def __str__(self):\n",
    "        return \"{}:{}\".format(self.name, self.description)\n",
    "class Weapon(Item):\n",
    "    def __init__(self, name, description, power):\n",
    "        super().__init__(name, description)\n",
    "        self.power = power\n",
    "        \n",
    "        "
   ]
  },
  {
   "cell_type": "code",
   "execution_count": 15,
   "metadata": {},
   "outputs": [],
   "source": [
    "class Inventory:\n",
    "    def __init__(self):\n",
    "        self.slots = []\n",
    "        \n",
    "    def add(self, item):\n",
    "        self.slots.append(item)\n",
    "        \n",
    "    def __len__(self):\n",
    "        return len(self.slots)\n",
    "    \n",
    "    def __contains__(self, item):\n",
    "        return item in self.slots\n",
    "    \n",
    "    def __iter__(self):\n",
    "        yield from self.slots"
   ]
  },
  {
   "cell_type": "code",
   "execution_count": 16,
   "metadata": {},
   "outputs": [
    {
     "data": {
      "text/plain": [
       "2"
      ]
     },
     "execution_count": 16,
     "metadata": {},
     "output_type": "execute_result"
    }
   ],
   "source": [
    "coin = Item('coin','a gold coin')\n",
    "sword =Item('sword','sharp')\n",
    "inventory = Inventory()\n",
    "inventory.add(coin)\n",
    "inventory.add(sword)\n",
    "len(inventory)"
   ]
  },
  {
   "cell_type": "code",
   "execution_count": 7,
   "metadata": {},
   "outputs": [
    {
     "data": {
      "text/plain": [
       "True"
      ]
     },
     "execution_count": 7,
     "metadata": {},
     "output_type": "execute_result"
    }
   ],
   "source": [
    "sword in inventory"
   ]
  },
  {
   "cell_type": "code",
   "execution_count": 20,
   "metadata": {},
   "outputs": [
    {
     "name": "stdout",
     "output_type": "stream",
     "text": [
      "coin\n",
      "sword\n"
     ]
    }
   ],
   "source": [
    "for i in inventory:\n",
    "    print(i.name)"
   ]
  },
  {
   "cell_type": "code",
   "execution_count": 9,
   "metadata": {},
   "outputs": [],
   "source": [
    "class Double(int):\n",
    "    def __new__(*args, **kwargs):\n",
    "        self = int.__new__(*args, **kwargs)\n",
    "        return self*2"
   ]
  },
  {
   "cell_type": "code",
   "execution_count": 10,
   "metadata": {},
   "outputs": [
    {
     "data": {
      "text/plain": [
       "10"
      ]
     },
     "execution_count": 10,
     "metadata": {},
     "output_type": "execute_result"
    }
   ],
   "source": [
    "d = Double(5)\n",
    "d"
   ]
  },
  {
   "cell_type": "markdown",
   "metadata": {},
   "source": [
    "# setitem and getitem"
   ]
  },
  {
   "cell_type": "code",
   "execution_count": 16,
   "metadata": {},
   "outputs": [],
   "source": [
    "class CustomList(object):\n",
    "    def __init__(self,element=1):\n",
    "        self.my_custom_list = [0] * element\n",
    "        \n",
    "    def __str__(self):\n",
    "        return str(self.my_custom_list)\n",
    "    \n",
    "    def __repr__(self):\n",
    "        return str(self.my_custom_list)\n",
    "    \n",
    "    def __setitem__(self, index, value):\n",
    "        self.my_custom_list[index] = value\n",
    "        \n",
    "    def __getitem__(self, item):\n",
    "        return self.my_custom_list[item]\n",
    "    \n",
    "    def __len__(self):\n",
    "        return len(self.my_custom_list)"
   ]
  },
  {
   "cell_type": "code",
   "execution_count": 17,
   "metadata": {},
   "outputs": [
    {
     "name": "stdout",
     "output_type": "stream",
     "text": [
      "2\n",
      "3\n"
     ]
    }
   ],
   "source": [
    "my_list = CustomList(3)\n",
    "my_list[0]=2\n",
    "print(my_list[0])\n",
    "print(len(my_list))"
   ]
  },
  {
   "cell_type": "code",
   "execution_count": 34,
   "metadata": {},
   "outputs": [],
   "source": [
    "class LiarList(CustomList):\n",
    "    # oeverridding len to get wrong len\n",
    "    def __len__(self):\n",
    "        return super().__len__() * 3\n",
    "    \n",
    "    # overriding getitem and making sure that it still gives correct anser \n",
    "    def __getitem__(self, item):\n",
    "        r = super().__getitem__(item)\n",
    "        return r\n",
    "        "
   ]
  },
  {
   "cell_type": "code",
   "execution_count": 33,
   "metadata": {},
   "outputs": [
    {
     "data": {
      "text/plain": [
       "0"
      ]
     },
     "execution_count": 33,
     "metadata": {},
     "output_type": "execute_result"
    }
   ],
   "source": [
    "l = LiarList(3)\n",
    "l[0]"
   ]
  },
  {
   "cell_type": "markdown",
   "metadata": {},
   "source": [
    "# classmethod\n",
    "\n",
    "tranforms a method to a class method\n",
    "\n",
    "A class method receives the class as implicit first argument, just like an instance method receives the instance\n",
    "\n",
    "classmethod can ben called either on class or on instance.\n",
    "\n",
    "we can use classmethod to provide multiple ways to make object.\n"
   ]
  },
  {
   "cell_type": "code",
   "execution_count": 12,
   "metadata": {},
   "outputs": [],
   "source": [
    "class Book:\n",
    "    def __init__(self, title, author):\n",
    "        self.title = title\n",
    "        self.author = author\n",
    "        \n",
    "    def __str__(self):\n",
    "        return '{} by {}'.format(self.title, self.author)\n",
    "    \n",
    "class Bookcase:\n",
    "    def __init__(self,books=None):\n",
    "        self.books = books\n",
    "        \n",
    "    @classmethod\n",
    "    def create_bookcase(cls, book_list):\n",
    "        books = []\n",
    "        for title,author in book_list:\n",
    "            books.append(Book(title, author))\n",
    "            return cls(books) # return instance of class"
   ]
  },
  {
   "cell_type": "code",
   "execution_count": 13,
   "metadata": {},
   "outputs": [
    {
     "name": "stdout",
     "output_type": "stream",
     "text": [
      "<__main__.Bookcase object at 0x0000020A95A35508>\n"
     ]
    }
   ],
   "source": [
    "bc = Bookcase.create_bookcase([('python Crashcourse','than win'),('jungle book','arthur gun')]) # not instancetiating Bookcase\n",
    "print(bc)"
   ]
  },
  {
   "cell_type": "code",
   "execution_count": 14,
   "metadata": {},
   "outputs": [
    {
     "data": {
      "text/plain": [
       "'python Crashcourse by than win'"
      ]
     },
     "execution_count": 14,
     "metadata": {},
     "output_type": "execute_result"
    }
   ],
   "source": [
    "str(bc.books[0])"
   ]
  },
  {
   "cell_type": "code",
   "execution_count": 26,
   "metadata": {},
   "outputs": [
    {
     "name": "stdout",
     "output_type": "stream",
     "text": [
      "1.05\n",
      "1.05\n",
      "1.05\n",
      "john.doe@mail.com\n"
     ]
    }
   ],
   "source": [
    "class Employee:\n",
    "    raise_amount = 1.04\n",
    "    \n",
    "    def __init__(self, first, last, pay):\n",
    "        self.first = first\n",
    "        self.last = last\n",
    "        self.pay = pay\n",
    "        self.email = first  + '.' + last + '@mail.com'\n",
    "        \n",
    "    def full_name(self):\n",
    "        return '{} {}'.format(self.first, self.last)\n",
    "    \n",
    "    def applyraise(self):\n",
    "        self.pay = int(self.pay * self.raise_amount)\n",
    "        \n",
    "    # classmethod decorator just altering the functionality of our method where it recieves class as first argument instead\n",
    "    # of instance \n",
    "    # we are working here with class instead of instance \n",
    "    @classmethod\n",
    "    def set_raise_amt(cls, amount):\n",
    "        cls.raise_amount = amount\n",
    "        \n",
    "    # using classmethod as alternating constructor\n",
    "    @classmethod\n",
    "    def from_string(cls, string):\n",
    "        first, last, pay = string.split('-')\n",
    "        return cls(first, last, pay) # return instance of class\n",
    "        \n",
    "    # classmethod: it doesn't have class or instance that is automatically passed as first positional argument\n",
    "    # but it has logical connection with class \n",
    "    @staticmethod \n",
    "    def is_workday(day):\n",
    "        if day.weekday()==5 or day.weekday()==6:\n",
    "            return False\n",
    "        return True\n",
    "    \n",
    "emp_1 = Employee('than', 'win',  400)\n",
    "emp_2 = Employee('esther', 'zahao', 500)\n",
    "\n",
    "# for classmethod\n",
    "emp_string_1 = 'john-doe-4000'\n",
    "emp_stinr_2 = 'smith-shref-5000'\n",
    "\n",
    "# calling classmethod on the class\n",
    "Employee.set_raise_amt(1.05) # this is common way to use \n",
    "\n",
    "# this is as same as Employee.raise_amount = 1.05\n",
    "# we can also call classmethod on instance but that doesn't make sense too much\n",
    "# emp_1.set_raise_amt(1.05)\n",
    "\n",
    "# classmethod is used for alternative constructor\n",
    "# it means we can use classmethod in order to provide multiple ways to make object \n",
    "\n",
    "# creating new emp from from_string classmethod\n",
    "new_emp_1 = Employee.from_string(emp_string_1)\n",
    "\n",
    "print(Employee.raise_amount)\n",
    "print(emp_1.raise_amount)\n",
    "print(emp_2.raise_amount)\n",
    "\n",
    "# for from_string\n",
    "print(new_emp_1.email)\n",
    "    "
   ]
  },
  {
   "cell_type": "code",
   "execution_count": 27,
   "metadata": {},
   "outputs": [
    {
     "name": "stdout",
     "output_type": "stream",
     "text": [
      "True\n"
     ]
    }
   ],
   "source": [
    "import datetime\n",
    "date = datetime.datetime(2020, 5, 19)\n",
    "\n",
    "print(Employee.is_workday(date))"
   ]
  },
  {
   "cell_type": "code",
   "execution_count": 28,
   "metadata": {},
   "outputs": [],
   "source": [
    "class Letter:\n",
    "    def __init__(self, pattern=None):\n",
    "        self.pattern= pattern\n",
    "        \n",
    "    def __str__(self):\n",
    "        output = []\n",
    "        for m in self.pattern:\n",
    "            if m=='.':\n",
    "                output.append('dot')\n",
    "            elif m=='_':\n",
    "                output.append('dash')\n",
    "        return \"-\".join(output)\n",
    "    \n",
    "    # this will help us to parse information to make object from string \n",
    "    @classmethod\n",
    "    def from_string(cls,string):\n",
    "        result=[]\n",
    "        for n in string.split('-'):\n",
    "            if n=='dash':\n",
    "                result.append('_')\n",
    "            elif n=='dot':\n",
    "                result.append('.')\n",
    "        return cls(result) # class intance "
   ]
  },
  {
   "cell_type": "code",
   "execution_count": 31,
   "metadata": {},
   "outputs": [
    {
     "name": "stdout",
     "output_type": "stream",
     "text": [
      "dash-dot-dot-dash\n"
     ]
    }
   ],
   "source": [
    "pattern = 'dash-dot-dot-dash'\n",
    "new_pat=Letter.from_string(pattern)\n",
    "print(new_pat)"
   ]
  },
  {
   "cell_type": "code",
   "execution_count": 37,
   "metadata": {},
   "outputs": [],
   "source": [
    "import datetime \n",
    "class Person:\n",
    "    def __init__(self, name, age):\n",
    "        self.name = name \n",
    "        self.age = age\n",
    "        \n",
    "    def info(self):\n",
    "        return '{} is {} years old'.format(self.name, self.age)\n",
    "    \n",
    "    @classmethod\n",
    "    def from_string(cls, name, birth_year):\n",
    "        return cls(name, datetime.datetime.today().year - birth_year)"
   ]
  },
  {
   "cell_type": "code",
   "execution_count": 40,
   "metadata": {},
   "outputs": [
    {
     "name": "stdout",
     "output_type": "stream",
     "text": [
      "than is 20 years old\n",
      "corey is 23 years old\n"
     ]
    }
   ],
   "source": [
    "person_1 = Person('than', 20)\n",
    "person_2 = Person.from_string('corey', 1997)\n",
    "print(person_1.info())\n",
    "print(person_2.info())"
   ]
  },
  {
   "cell_type": "markdown",
   "metadata": {},
   "source": [
    "# special method"
   ]
  },
  {
   "cell_type": "code",
   "execution_count": 41,
   "metadata": {},
   "outputs": [],
   "source": [
    "class Protected:\n",
    "    __name = 'security'\n",
    "    \n",
    "    def __method(self):\n",
    "        return self.__name"
   ]
  },
  {
   "cell_type": "code",
   "execution_count": 49,
   "metadata": {},
   "outputs": [
    {
     "name": "stdout",
     "output_type": "stream",
     "text": [
      "security\n",
      "security\n"
     ]
    }
   ],
   "source": [
    "prot = Protected()\n",
    "print(prot._Protected__name)\n",
    "print(prot._Protected__method())"
   ]
  },
  {
   "cell_type": "code",
   "execution_count": 1,
   "metadata": {},
   "outputs": [],
   "source": [
    "# dir(prot)"
   ]
  },
  {
   "cell_type": "code",
   "execution_count": 8,
   "metadata": {},
   "outputs": [],
   "source": [
    "class Circle:\n",
    "    def __init__(self, diameter):\n",
    "        self.diameter = diameter \n",
    "    \n",
    "    # property is like attribute\n",
    "    # We can access as attribute but we can't set value like we by attribute\n",
    "    @property\n",
    "    def radius(self):\n",
    "        return self.diameter/2\n",
    "    \n",
    "    @radius.setter\n",
    "    def radius(self, radius):\n",
    "        self.diameter = radius * 2"
   ]
  },
  {
   "cell_type": "code",
   "execution_count": 10,
   "metadata": {},
   "outputs": [
    {
     "name": "stdout",
     "output_type": "stream",
     "text": [
      "10\n",
      "5.0\n",
      "30\n"
     ]
    }
   ],
   "source": [
    "cir = Circle(10)\n",
    "print(cir.diameter)\n",
    "print(cir.radius)\n",
    "cir.radius = 15\n",
    "print(cir.diameter)"
   ]
  },
  {
   "cell_type": "markdown",
   "metadata": {},
   "source": [
    "# Property decorators"
   ]
  },
  {
   "cell_type": "code",
   "execution_count": 6,
   "metadata": {},
   "outputs": [
    {
     "name": "stdout",
     "output_type": "stream",
     "text": [
      "than\n",
      "than.win.com\n",
      "than win\n",
      "deleted\n",
      "None None\n"
     ]
    }
   ],
   "source": [
    "class Employee:\n",
    "    \n",
    "    def __init__(self, first, last):\n",
    "        self.first = first\n",
    "        self.last = last\n",
    "#         self.email = first  + '.' + last + '@mail.com'\n",
    "        \n",
    "    # property is a like attribute, we can access like attribute\n",
    "    # we can't set value, it will show attribut error \n",
    "    @property\n",
    "    def email(self):\n",
    "        return '{}.{}.com'.format(self.first, self.last)\n",
    "    \n",
    "    @property    \n",
    "    def full_name(self):\n",
    "        return '{} {}'.format(self.first, self.last)\n",
    "    \n",
    "    # we can set new value by using setter\n",
    "    # it will change everywhere \n",
    "    @full_name.setter\n",
    "    def full_name(self, name):\n",
    "        first, last = name.split(' ')\n",
    "        self.first = first \n",
    "        self.last = last \n",
    "        \n",
    "    @full_name.deleter\n",
    "    def full_name(self):\n",
    "        print('deleted')\n",
    "        self.first = None\n",
    "        self.last = None\n",
    "    \n",
    "emp_1 = Employee('john', 'smith')\n",
    "\n",
    "# when we change the first name, it doesnt change email \n",
    "# emp_1.first = 'jim'\n",
    "\n",
    "emp_1.full_name = 'than win'\n",
    "\n",
    "print(emp_1.first)\n",
    "print(emp_1.email)\n",
    "print(emp_1.full_name)\n",
    "\n",
    "del emp_1.full_name\n",
    "\n",
    "print(emp_1.full_name)"
   ]
  },
  {
   "cell_type": "code",
   "execution_count": 8,
   "metadata": {},
   "outputs": [
    {
     "name": "stdout",
     "output_type": "stream",
     "text": [
      "None\n",
      "None.None.com\n",
      "None None\n"
     ]
    }
   ],
   "source": [
    "print(emp_1.first)\n",
    "print(emp_1.email)\n",
    "print(emp_1.full_name)\n"
   ]
  },
  {
   "cell_type": "markdown",
   "metadata": {},
   "source": [
    "# using ** "
   ]
  },
  {
   "cell_type": "code",
   "execution_count": 2,
   "metadata": {},
   "outputs": [],
   "source": [
    "class Person:\n",
    "    def __init__(self, name, age):\n",
    "        self.name = name \n",
    "        self.age = age\n",
    "\n",
    "    def __str__(self):\n",
    "        return '{} is {} years old'.format(self.name, self.age)"
   ]
  },
  {
   "cell_type": "code",
   "execution_count": 1,
   "metadata": {},
   "outputs": [],
   "source": [
    "people = {\n",
    "    'people':[{\n",
    "        'name': 'than',\n",
    "        'age' : 20\n",
    "    },\n",
    "    {\n",
    "        'name': 'john doe',\n",
    "        'age' : 22\n",
    "    },\n",
    "    {\n",
    "        'name': 'foo bar',\n",
    "        'age' : 30\n",
    "    }]\n",
    "}"
   ]
  },
  {
   "cell_type": "code",
   "execution_count": 7,
   "metadata": {},
   "outputs": [
    {
     "name": "stdout",
     "output_type": "stream",
     "text": [
      "than is 20 years old\n",
      "john doe is 22 years old\n",
      "foo bar is 30 years old\n"
     ]
    }
   ],
   "source": [
    "for m in people['people']:\n",
    "#     print(Person(**m))\n",
    "     print(Person(**m))"
   ]
  },
  {
   "cell_type": "code",
   "execution_count": 1,
   "metadata": {},
   "outputs": [],
   "source": [
    "def subtract(x, y, switch=False):\n",
    "    return x - y if switch else y - x"
   ]
  },
  {
   "cell_type": "code",
   "execution_count": 3,
   "metadata": {},
   "outputs": [
    {
     "data": {
      "text/plain": [
       "2"
      ]
     },
     "execution_count": 3,
     "metadata": {},
     "output_type": "execute_result"
    }
   ],
   "source": [
    "subtract(5, 3, True)"
   ]
  },
  {
   "cell_type": "code",
   "execution_count": null,
   "metadata": {},
   "outputs": [],
   "source": []
  },
  {
   "cell_type": "code",
   "execution_count": null,
   "metadata": {},
   "outputs": [],
   "source": []
  },
  {
   "cell_type": "code",
   "execution_count": null,
   "metadata": {},
   "outputs": [],
   "source": []
  },
  {
   "cell_type": "code",
   "execution_count": null,
   "metadata": {},
   "outputs": [],
   "source": []
  },
  {
   "cell_type": "code",
   "execution_count": null,
   "metadata": {},
   "outputs": [],
   "source": []
  },
  {
   "cell_type": "code",
   "execution_count": null,
   "metadata": {},
   "outputs": [],
   "source": []
  },
  {
   "cell_type": "code",
   "execution_count": null,
   "metadata": {},
   "outputs": [],
   "source": []
  },
  {
   "cell_type": "code",
   "execution_count": null,
   "metadata": {},
   "outputs": [],
   "source": []
  },
  {
   "cell_type": "code",
   "execution_count": null,
   "metadata": {},
   "outputs": [],
   "source": []
  },
  {
   "cell_type": "code",
   "execution_count": null,
   "metadata": {},
   "outputs": [],
   "source": []
  },
  {
   "cell_type": "code",
   "execution_count": null,
   "metadata": {},
   "outputs": [],
   "source": []
  },
  {
   "cell_type": "code",
   "execution_count": null,
   "metadata": {},
   "outputs": [],
   "source": []
  },
  {
   "cell_type": "code",
   "execution_count": null,
   "metadata": {},
   "outputs": [],
   "source": []
  }
 ],
 "metadata": {
  "kernelspec": {
   "display_name": "Python 3",
   "language": "python",
   "name": "python3"
  },
  "language_info": {
   "codemirror_mode": {
    "name": "ipython",
    "version": 3
   },
   "file_extension": ".py",
   "mimetype": "text/x-python",
   "name": "python",
   "nbconvert_exporter": "python",
   "pygments_lexer": "ipython3",
   "version": "3.7.6"
  }
 },
 "nbformat": 4,
 "nbformat_minor": 2
}
