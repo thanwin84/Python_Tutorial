{
 "cells": [
  {
   "cell_type": "markdown",
   "metadata": {},
   "source": [
    "# First-class Function\n",
    "\n",
    "A programming is said to have first class function if it treats function as first class citizen."
   ]
  },
  {
   "cell_type": "markdown",
   "metadata": {},
   "source": [
    "# First-class Citizen\n",
    "\n",
    "A first-class citizen(sometimes called first class object) in a programming language is an entity which supports all the operations generally available to other entities. Their opearations typically include being passed as argument, returned from a function and assinged to variable."
   ]
  },
  {
   "cell_type": "code",
   "execution_count": 1,
   "metadata": {},
   "outputs": [],
   "source": [
    "def square(x):\n",
    "    return x*x\n",
    "\n",
    "def cube(x):\n",
    "    return x * x * x"
   ]
  },
  {
   "cell_type": "code",
   "execution_count": 7,
   "metadata": {},
   "outputs": [
    {
     "name": "stdout",
     "output_type": "stream",
     "text": [
      "<class 'function'>\n",
      "9\n",
      "27\n"
     ]
    }
   ],
   "source": [
    "f = square # we are not executing the function, it is wating to be executed\n",
    "p = cube\n",
    "print(type(f))\n",
    "print(f(3))\n",
    "print(p(3))"
   ]
  },
  {
   "cell_type": "code",
   "execution_count": 11,
   "metadata": {},
   "outputs": [
    {
     "name": "stdout",
     "output_type": "stream",
     "text": [
      "4\n"
     ]
    }
   ],
   "source": [
    "f = square(2) # this f is here treated as variable \n",
    "print(f)"
   ]
  },
  {
   "cell_type": "markdown",
   "metadata": {},
   "source": [
    "# Higher order function: Passing function as argument\n",
    "\n",
    "1. Takes one or more function as argument\n",
    "2. Returns a functin as its result"
   ]
  },
  {
   "cell_type": "code",
   "execution_count": 12,
   "metadata": {},
   "outputs": [],
   "source": [
    "# we can pas function as argument and return function as the resutl of other function - higher order function\n",
    "def my_map(func, arg_list):\n",
    "    result = []\n",
    "    for i in arg_list:\n",
    "        result.append(func(i))\n",
    "    return result "
   ]
  },
  {
   "cell_type": "code",
   "execution_count": 14,
   "metadata": {},
   "outputs": [
    {
     "name": "stdout",
     "output_type": "stream",
     "text": [
      "[1, 4, 9]\n",
      "[1, 8, 27]\n"
     ]
    }
   ],
   "source": [
    "sq = my_map(square, [1, 2, 3])\n",
    "cb = my_map(cube, [1, 2, 3])\n",
    "print(sq)\n",
    "print(cb)"
   ]
  },
  {
   "cell_type": "code",
   "execution_count": 15,
   "metadata": {},
   "outputs": [],
   "source": [
    "def logger(msg):\n",
    "    def log_message():\n",
    "        print('Log message:', msg)\n",
    "    return log_message"
   ]
  },
  {
   "cell_type": "code",
   "execution_count": 22,
   "metadata": {},
   "outputs": [
    {
     "name": "stdout",
     "output_type": "stream",
     "text": [
      "log_message\n",
      "Log message: says hi\n",
      "Log message: says hello\n"
     ]
    }
   ],
   "source": [
    "hi_log = logger('says hi')\n",
    "hello_log = logger('says hello')\n",
    "# these two function is eqaul to log_message which is waiting to execute\n",
    "print(hi_log.__name__)\n",
    "hi_log()\n",
    "hello_log()"
   ]
  },
  {
   "cell_type": "code",
   "execution_count": 23,
   "metadata": {},
   "outputs": [],
   "source": [
    "def html_tag(tag):\n",
    "    def wrap_text(msg):\n",
    "        print('<{0}>{1}<{0}>'.format(tag, msg))\n",
    "    return wrap_text"
   ]
  },
  {
   "cell_type": "code",
   "execution_count": 24,
   "metadata": {},
   "outputs": [
    {
     "name": "stdout",
     "output_type": "stream",
     "text": [
      "<h1>This h1 tag<h1>\n",
      "<p>This is p tag<p>\n"
     ]
    }
   ],
   "source": [
    "h1_tag = html_tag('h1')\n",
    "p_tag = html_tag('p')\n",
    "\n",
    "h1_tag('This h1 tag')\n",
    "p_tag('This is p tag')"
   ]
  },
  {
   "cell_type": "markdown",
   "metadata": {},
   "source": [
    "# Closure\n",
    "\n",
    "1. A nested function, also called inner function which is defined inside another function\n",
    "2. It has access to free variable in outer scope\n",
    "3. It is returned from the enclosing function."
   ]
  },
  {
   "cell_type": "code",
   "execution_count": 37,
   "metadata": {},
   "outputs": [],
   "source": [
    "def outer_function():\n",
    "    message = 'Hello world'\n",
    "    def inner_function():\n",
    "        print(message)\n",
    "    return inner_function() # This function is executed"
   ]
  },
  {
   "cell_type": "code",
   "execution_count": 29,
   "metadata": {},
   "outputs": [
    {
     "name": "stdout",
     "output_type": "stream",
     "text": [
      "Hello world\n",
      "outer_function\n"
     ]
    }
   ],
   "source": [
    "outer_function()\n",
    "print(outer_function.__name__)"
   ]
  },
  {
   "cell_type": "markdown",
   "metadata": {},
   "source": [
    "Explaining closure"
   ]
  },
  {
   "cell_type": "code",
   "execution_count": 38,
   "metadata": {},
   "outputs": [],
   "source": [
    "# without executing the function\n",
    "def outer_function(msg):\n",
    "    message = msg\n",
    "    def inner_function():\n",
    "        print(message) # This is free variable\n",
    "    return inner_function # return a closure"
   ]
  },
  {
   "cell_type": "code",
   "execution_count": 44,
   "metadata": {},
   "outputs": [
    {
     "name": "stdout",
     "output_type": "stream",
     "text": [
      "Welcome to Closure\n"
     ]
    }
   ],
   "source": [
    "my_func = outer_function('Welcome to Closure')\n",
    "my_func()\n",
    "# outer_function() returns inner_function and assign to 'my_func' variable.At this moment it has finished its execution\n",
    "# however inner_function() clousure still has access to msg varible\n",
    "\n",
    "###what is closure???????\n",
    "# So closure is a inner function that remembers and has access to local scope in which it was created\n",
    "# even after the outer function has finished excecuting "
   ]
  },
  {
   "cell_type": "code",
   "execution_count": 45,
   "metadata": {},
   "outputs": [
    {
     "data": {
      "text/plain": [
       "'inner_function'"
      ]
     },
     "execution_count": 45,
     "metadata": {},
     "output_type": "execute_result"
    }
   ],
   "source": [
    "my_func.__name__"
   ]
  },
  {
   "cell_type": "markdown",
   "metadata": {},
   "source": [
    "Practical example"
   ]
  },
  {
   "cell_type": "code",
   "execution_count": 53,
   "metadata": {},
   "outputs": [],
   "source": [
    "import logging\n",
    "logging.basicConfig(filename='sample2.log', level=logging.INFO)\n",
    "def logger(function):\n",
    "    def log_func(*args):\n",
    "        logging.info('Running with {} and arguments{}'.format(function.__name__, args))\n",
    "        return function(*args)\n",
    "    return log_func"
   ]
  },
  {
   "cell_type": "code",
   "execution_count": 47,
   "metadata": {},
   "outputs": [],
   "source": [
    "def add(x, y):\n",
    "    return x + y\n",
    "\n",
    "def sub(x, y):\n",
    "    return x - y"
   ]
  },
  {
   "cell_type": "code",
   "execution_count": 54,
   "metadata": {},
   "outputs": [
    {
     "data": {
      "text/plain": [
       "6"
      ]
     },
     "execution_count": 54,
     "metadata": {},
     "output_type": "execute_result"
    }
   ],
   "source": [
    "add_logger = logger(add)\n",
    "sub_logger = logger(sub) #waiting to execute\n",
    "# Here add_logger and sub_logger is closure and they are waiting to execute\n",
    "add_logger(10, 4)\n",
    "sub_logger(10, 4)"
   ]
  },
  {
   "cell_type": "code",
   "execution_count": 55,
   "metadata": {},
   "outputs": [
    {
     "name": "stdout",
     "output_type": "stream",
     "text": [
      "INFO:root:Running with add and arguments\n",
      "INFO:root:Running with add and arguments\n",
      "INFO:root:Running with sub and arguments\n",
      "INFO:root:Running with add and arguments(10, 4)\n",
      "INFO:root:Running with sub and arguments(10, 4)\n",
      "\n"
     ]
    }
   ],
   "source": [
    "with open('sample2.log') as f:\n",
    "    print(f.read())"
   ]
  },
  {
   "cell_type": "markdown",
   "metadata": {},
   "source": [
    "# Decoraters\n",
    "\n",
    "A decorater is a function that takes a function as its only parameter and returns a function. It allows programmer to modify the behavior of a function or class.Decorators allow us to wrap another function in order to extend the behavior of wrapped function, without permanently modifying it.\n",
    "\n",
    "In Decorators, functions are taken as the argument into another function and then called inside the wrapper function."
   ]
  },
  {
   "cell_type": "code",
   "execution_count": 56,
   "metadata": {},
   "outputs": [],
   "source": [
    "def outer_function(msg):\n",
    "    message = msg\n",
    "    def inner_function():\n",
    "        print(message) # This is free variable\n",
    "    return inner_function "
   ]
  },
  {
   "cell_type": "code",
   "execution_count": 57,
   "metadata": {},
   "outputs": [
    {
     "name": "stdout",
     "output_type": "stream",
     "text": [
      "hi\n",
      "Bye\n"
     ]
    }
   ],
   "source": [
    "hi_func = outer_function('hi')\n",
    "bye_func = outer_function('Bye')\n",
    "\n",
    "hi_func()\n",
    "bye_func()"
   ]
  },
  {
   "cell_type": "code",
   "execution_count": 58,
   "metadata": {},
   "outputs": [],
   "source": [
    "def decorator_function(orginal_func): # Taking function as argument which will be called in another function\n",
    "    def wrapper_function():\n",
    "        # Adding some functionality\n",
    "        print('Wrapper executed this before {}'.format(orginal_func.__name__))\n",
    "        return orginal_func() # called inside wrapper_function\n",
    "    return wrapper_function"
   ]
  },
  {
   "cell_type": "code",
   "execution_count": 60,
   "metadata": {},
   "outputs": [
    {
     "name": "stdout",
     "output_type": "stream",
     "text": [
      "display function RAN\n"
     ]
    }
   ],
   "source": [
    "def display():\n",
    "    print('display function RAN')\n",
    "display()\n",
    "# We can extend the behavior of this function using decorater"
   ]
  },
  {
   "cell_type": "code",
   "execution_count": 64,
   "metadata": {},
   "outputs": [
    {
     "name": "stdout",
     "output_type": "stream",
     "text": [
      "Wrapper executed this before display\n",
      "display function RAN\n",
      "wrapper_function\n"
     ]
    }
   ],
   "source": [
    "decorated_function = decorator_function(display) #decorated_function is waiting to be executed\n",
    "decorated_function()\n",
    "print(decorated_function.__name__)"
   ]
  },
  {
   "cell_type": "code",
   "execution_count": 66,
   "metadata": {},
   "outputs": [
    {
     "name": "stdout",
     "output_type": "stream",
     "text": [
      "Wrapper executed this before display\n",
      "display function RAN\n"
     ]
    }
   ],
   "source": [
    "# this is common way to use decorator\n",
    "@decorator_function\n",
    "def display():\n",
    "    print('display function RAN')\n",
    "display()\n",
    "# This equavalent to 'decorated_function = decorator_function(display)'"
   ]
  },
  {
   "cell_type": "code",
   "execution_count": 69,
   "metadata": {},
   "outputs": [
    {
     "ename": "TypeError",
     "evalue": "wrapper_function() takes 0 positional arguments but 2 were given",
     "output_type": "error",
     "traceback": [
      "\u001b[1;31m---------------------------------------------------------------------------\u001b[0m",
      "\u001b[1;31mTypeError\u001b[0m                                 Traceback (most recent call last)",
      "\u001b[1;32m<ipython-input-69-849965a4308e>\u001b[0m in \u001b[0;36m<module>\u001b[1;34m\u001b[0m\n\u001b[0;32m      3\u001b[0m \u001b[1;32mdef\u001b[0m \u001b[0mdisplay_info\u001b[0m\u001b[1;33m(\u001b[0m\u001b[0mname\u001b[0m\u001b[1;33m,\u001b[0m \u001b[0mage\u001b[0m\u001b[1;33m)\u001b[0m\u001b[1;33m:\u001b[0m\u001b[1;33m\u001b[0m\u001b[1;33m\u001b[0m\u001b[0m\n\u001b[0;32m      4\u001b[0m     \u001b[0mprint\u001b[0m\u001b[1;33m(\u001b[0m\u001b[1;34m'{} is {} years old'\u001b[0m\u001b[1;33m.\u001b[0m\u001b[0mformat\u001b[0m\u001b[1;33m(\u001b[0m\u001b[0mname\u001b[0m\u001b[1;33m,\u001b[0m \u001b[0mage\u001b[0m\u001b[1;33m)\u001b[0m\u001b[1;33m)\u001b[0m\u001b[1;33m\u001b[0m\u001b[1;33m\u001b[0m\u001b[0m\n\u001b[1;32m----> 5\u001b[1;33m \u001b[0mdisplay_info\u001b[0m\u001b[1;33m(\u001b[0m\u001b[1;34m'Catherin'\u001b[0m\u001b[1;33m,\u001b[0m \u001b[1;36m20\u001b[0m\u001b[1;33m)\u001b[0m\u001b[1;33m\u001b[0m\u001b[1;33m\u001b[0m\u001b[0m\n\u001b[0m",
      "\u001b[1;31mTypeError\u001b[0m: wrapper_function() takes 0 positional arguments but 2 were given"
     ]
    }
   ],
   "source": [
    "# Let's write a function with some arguments\n",
    "@decorator_function\n",
    "def display_info(name, age):\n",
    "    print('{} is {} years old'.format(name, age))\n",
    "display_info('Catherin', 20)\n",
    "# this throws an error because the wrapper_function take to any positional argument"
   ]
  },
  {
   "cell_type": "markdown",
   "metadata": {},
   "source": [
    "Modyfing decorator so that it takes argument"
   ]
  },
  {
   "cell_type": "code",
   "execution_count": 70,
   "metadata": {},
   "outputs": [],
   "source": [
    "def decorator_function(orginal_func): \n",
    "    def wrapper_function(*args, **kwargs):\n",
    "        print('Wrapper executed this before {}'.format(orginal_func.__name__))\n",
    "        return orginal_func(*args, **kwargs) # called inside wrapper_function\n",
    "    return wrapper_function"
   ]
  },
  {
   "cell_type": "code",
   "execution_count": 76,
   "metadata": {},
   "outputs": [
    {
     "name": "stdout",
     "output_type": "stream",
     "text": [
      "Wrapper executed this before display_info\n",
      "Catherin is 20 years old\n",
      "Wrapper executed this before display\n",
      "display function RAN\n"
     ]
    }
   ],
   "source": [
    "# Testing decorator for both function\n",
    "@decorator_function\n",
    "def display_info(name, age):\n",
    "    print('{} is {} years old'.format(name, age))\n",
    "display_info('Catherin', 20)\n",
    "\n",
    "@decorator_function\n",
    "def display():\n",
    "    print('display function RAN')\n",
    "display()"
   ]
  },
  {
   "cell_type": "code",
   "execution_count": 74,
   "metadata": {},
   "outputs": [
    {
     "name": "stdout",
     "output_type": "stream",
     "text": [
      "Wrapper executed this before display_info\n",
      "tom is 22 years old\n"
     ]
    }
   ],
   "source": [
    "decorated_function = decorator_function(display_info)\n",
    "decorated_function('tom', 22)"
   ]
  },
  {
   "cell_type": "markdown",
   "metadata": {},
   "source": [
    "# Converting to class decorator"
   ]
  },
  {
   "cell_type": "code",
   "execution_count": 77,
   "metadata": {},
   "outputs": [],
   "source": [
    "class decorator_class(object):\n",
    "    def __init__(self, original_function):\n",
    "        self.original_function = original_function\n",
    "        \n",
    "    def __call__(self, *args, **kwargs):\n",
    "        print('Call method executed this before {}'.format(self.original_function.__name__))\n",
    "        return self.original_function(*args, **kwargs)"
   ]
  },
  {
   "cell_type": "code",
   "execution_count": 78,
   "metadata": {},
   "outputs": [
    {
     "name": "stdout",
     "output_type": "stream",
     "text": [
      "Call method executed this before display_info\n",
      "Catherin is 20 years old\n",
      "Call method executed this before display\n",
      "display function RAN\n"
     ]
    }
   ],
   "source": [
    "# Testing decorator for both function\n",
    "@decorator_class\n",
    "def display_info(name, age):\n",
    "    print('{} is {} years old'.format(name, age))\n",
    "display_info('Catherin', 20)\n",
    "\n",
    "@decorator_class\n",
    "def display():\n",
    "    print('display function RAN')\n",
    "display()"
   ]
  },
  {
   "cell_type": "markdown",
   "metadata": {},
   "source": [
    "# Practical example"
   ]
  },
  {
   "cell_type": "code",
   "execution_count": 4,
   "metadata": {},
   "outputs": [],
   "source": [
    "def my_logger(original_function):\n",
    "    import logging\n",
    "    logging.basicConfig(filename='{}.log'.format(original_function.__name__), level=logging.INFO)\n",
    "    def wrapper(*args, **kwargs):\n",
    "        logging.info('Ran with args: {} and kwars: {}'.format(*args, **kwargs))\n",
    "        return original_function(*args, **kwargs)\n",
    "    return wrapper"
   ]
  },
  {
   "cell_type": "code",
   "execution_count": 5,
   "metadata": {},
   "outputs": [
    {
     "name": "stdout",
     "output_type": "stream",
     "text": [
      "Tom is 22 years old\n"
     ]
    }
   ],
   "source": [
    "@my_logger\n",
    "def display_info3(name, age):\n",
    "    print('{} is {} years old'.format(name, age))\n",
    "display_info3('Tom', 22)\n"
   ]
  },
  {
   "cell_type": "code",
   "execution_count": 9,
   "metadata": {},
   "outputs": [
    {
     "name": "stdout",
     "output_type": "stream",
     "text": [
      "INFO:root:Ran with args: Catherin and kwars: 20\n",
      "INFO:root:Ran with args: Tom and kwars: 22\n",
      "\n"
     ]
    }
   ],
   "source": [
    "with open('display_info3.log') as f:\n",
    "    print(f.read())"
   ]
  },
  {
   "cell_type": "code",
   "execution_count": 14,
   "metadata": {},
   "outputs": [],
   "source": [
    "def my_timer(original_function):\n",
    "    import time\n",
    "    def wrapper(*args, **kwargs):\n",
    "        t1 = time.time()\n",
    "        result = original_function(*args, **kwargs)\n",
    "        t2 = time.time() - t1\n",
    "        print('{} ran in sec {}'.format(original_function.__name__, t2))\n",
    "        return result\n",
    "    return wrapper"
   ]
  },
  {
   "cell_type": "code",
   "execution_count": 16,
   "metadata": {},
   "outputs": [
    {
     "name": "stdout",
     "output_type": "stream",
     "text": [
      "Tom is 22 years old\n",
      "display_info ran in sec 2.001345634460449\n",
      "display function RAN\n",
      "display ran in sec 2.00026798248291\n"
     ]
    }
   ],
   "source": [
    "import time\n",
    "@my_timer\n",
    "def display_info(name, age):\n",
    "    time.sleep(2)\n",
    "    print('{} is {} years old'.format(name, age))\n",
    "display_info('Tom', 22)\n",
    "\n",
    "@my_timer\n",
    "def display():\n",
    "    time.sleep(2)\n",
    "    print('display function RAN')\n",
    "display()"
   ]
  },
  {
   "cell_type": "markdown",
   "metadata": {},
   "source": [
    "# how to use two decorators - check pycharm - projectname:Decorator"
   ]
  },
  {
   "cell_type": "code",
   "execution_count": 6,
   "metadata": {},
   "outputs": [],
   "source": [
    "from functools import wraps\n",
    "def my_logger(original_function):\n",
    "    import logging\n",
    "    logging.basicConfig(filename='{}.log'.format(original_function.__name__), level=logging.INFO)\n",
    "    @wraps(original_function)\n",
    "    def wrapper(*args, **kwargs):\n",
    "        logging.info('Ran with args: {} and kwargs: {}'.format(args, kwargs))\n",
    "        return original_function(*args, **kwargs)\n",
    "    return wrapper\n",
    "\n",
    "def my_timer(original_function):\n",
    "    import time\n",
    "    @wraps(original_function)\n",
    "    def wrapper(*args, **kwargs):\n",
    "        t1 = time.time()\n",
    "        result = original_function(*args, **kwargs)\n",
    "        t2 = time.time() - t1\n",
    "        print(\"{} ran in {} sec\".format(original_function.__name__, t2))\n",
    "        return result\n",
    "    return wrapper"
   ]
  },
  {
   "cell_type": "code",
   "execution_count": 5,
   "metadata": {},
   "outputs": [
    {
     "name": "stdout",
     "output_type": "stream",
     "text": [
      "display info ran with arguments jerry 55\n",
      "dis_info ran in 1.0027625560760498 sec\n"
     ]
    }
   ],
   "source": [
    "@my_logger\n",
    "@my_timer\n",
    "def dis_info(name, age):\n",
    "    import time\n",
    "    time.sleep(1)\n",
    "    print(\"display info ran with arguments {} {}\".format(name, age))\n",
    "dis_info('jerry', 55)"
   ]
  },
  {
   "cell_type": "code",
   "execution_count": 6,
   "metadata": {},
   "outputs": [
    {
     "name": "stdout",
     "output_type": "stream",
     "text": [
      "INFO:root:Ran with args: ('tom', 55) and kwargs: {}\n",
      "INFO:root:Ran with args: ('jerry', 55) and kwargs: {}\n",
      "\n"
     ]
    }
   ],
   "source": [
    "with open('dis_info.log') as f:\n",
    "    print(f.read())"
   ]
  },
  {
   "cell_type": "markdown",
   "metadata": {},
   "source": [
    "# example of decorater"
   ]
  },
  {
   "cell_type": "markdown",
   "metadata": {},
   "source": [
    "# Repeater"
   ]
  },
  {
   "cell_type": "code",
   "execution_count": 16,
   "metadata": {},
   "outputs": [],
   "source": [
    "def repeater(original_function):\n",
    "    def wrapper(*args, **kwargs):\n",
    "        # executing twice\n",
    "        original_function(*args, **kwargs)\n",
    "        original_function(*args, **kwargs)\n",
    "    return wrapper"
   ]
  },
  {
   "cell_type": "code",
   "execution_count": 17,
   "metadata": {},
   "outputs": [
    {
     "name": "stdout",
     "output_type": "stream",
     "text": [
      "10\n",
      "10\n"
     ]
    }
   ],
   "source": [
    "@repeater\n",
    "def add(x, y):\n",
    "    print(x + y)\n",
    "add(5, 5)"
   ]
  },
  {
   "cell_type": "markdown",
   "metadata": {},
   "source": [
    "# Decorator that will accept only positive int"
   ]
  },
  {
   "cell_type": "code",
   "execution_count": 31,
   "metadata": {},
   "outputs": [],
   "source": [
    "def check_correct(orginal_function):\n",
    "    def wrapper(arg):\n",
    "        if arg <0:\n",
    "            raise ValueError('Negative Argument')\n",
    "        return orginal_function(arg*2) # modyfing output\n",
    "    return wrapper"
   ]
  },
  {
   "cell_type": "code",
   "execution_count": 34,
   "metadata": {},
   "outputs": [
    {
     "name": "stdout",
     "output_type": "stream",
     "text": [
      "the number is 20\n"
     ]
    }
   ],
   "source": [
    "@check_correct\n",
    "def show_num(arg):\n",
    "    print(f'the number is {arg}')\n",
    "show_num(10)\n",
    "#show_num(-10) # it will throw error"
   ]
  },
  {
   "cell_type": "markdown",
   "metadata": {},
   "source": [
    "# multiply decorator"
   ]
  },
  {
   "cell_type": "code",
   "execution_count": 36,
   "metadata": {},
   "outputs": [],
   "source": [
    "# what if we wanna multiply the output by a variable amount\n",
    "def multiply_decorator(multiplier):\n",
    "    def multiply_generator(orginal_function):\n",
    "        def wrapper(*args):\n",
    "            return multiplier * orginal_function(*args)\n",
    "        return wrapper\n",
    "    return multiply_generator"
   ]
  },
  {
   "cell_type": "code",
   "execution_count": 38,
   "metadata": {},
   "outputs": [
    {
     "data": {
      "text/plain": [
       "15"
      ]
     },
     "execution_count": 38,
     "metadata": {},
     "output_type": "execute_result"
    }
   ],
   "source": [
    "@multiply_decorator(3)\n",
    "def return_num(num):\n",
    "    return num\n",
    "return_num(5)"
   ]
  },
  {
   "cell_type": "code",
   "execution_count": 51,
   "metadata": {},
   "outputs": [],
   "source": [
    "# team treehouse example\n",
    "from functools import wraps\n",
    "def my_logger(original_function):\n",
    "    import logging\n",
    "    logging.basicConfig(filename='{}.log'.format(original_function.__name__), level=logging.INFO)\n",
    "    @wraps(original_function)\n",
    "    def wrapper(*args, **kwargs):\n",
    "        logging.info('Ran with args: {} and kwargs: {}'.format(args, kwargs))\n",
    "        return original_function(*args, **kwargs)\n",
    "    return wrapper"
   ]
  },
  {
   "cell_type": "code",
   "execution_count": 52,
   "metadata": {},
   "outputs": [
    {
     "data": {
      "text/plain": [
       "2"
      ]
     },
     "execution_count": 52,
     "metadata": {},
     "output_type": "execute_result"
    }
   ],
   "source": [
    "@my_logger\n",
    "def sub(x, y):\n",
    "    \"\"\"This is docstring\"\"\"\n",
    "    return x - y\n",
    "sub(5,3)"
   ]
  },
  {
   "cell_type": "code",
   "execution_count": 53,
   "metadata": {},
   "outputs": [
    {
     "data": {
      "text/plain": [
       "'This is docstring'"
      ]
     },
     "execution_count": 53,
     "metadata": {},
     "output_type": "execute_result"
    }
   ],
   "source": [
    "sub.__name__\n",
    "sub.__doc__ # without functool it will give nothing\n",
    "# functool deos all the assigning stuff"
   ]
  },
  {
   "cell_type": "markdown",
   "metadata": {},
   "source": [
    "# make a decorator which will inverse string"
   ]
  },
  {
   "cell_type": "code",
   "execution_count": 2,
   "metadata": {},
   "outputs": [
    {
     "name": "stdout",
     "output_type": "stream",
     "text": [
      "2\n",
      "than\n",
      "win\n",
      "naht\n",
      "niw\n"
     ]
    }
   ],
   "source": [
    "\n",
    "def string_decorator(orginal_func):\n",
    "    def wrapper(l):\n",
    "        result = [s[::-1] for s in l]\n",
    "        return orginal_func(result)\n",
    "        \n",
    "    return wrapper\n",
    "@string_decorator\n",
    "def string_func(l):\n",
    "    print(*l,sep='\\n')\n",
    "if __name__=='__main__':\n",
    "    l = [input() for _ in range(int(input()))]\n",
    "    string_func(l)"
   ]
  },
  {
   "cell_type": "markdown",
   "metadata": {},
   "source": [
    "# make a decorator which will print number in +91 xxxxx xxxxx format"
   ]
  },
  {
   "cell_type": "code",
   "execution_count": 11,
   "metadata": {},
   "outputs": [
    {
     "name": "stdout",
     "output_type": "stream",
     "text": [
      "1\n",
      "001235412345\n",
      "+91 12354 12345\n"
     ]
    }
   ],
   "source": [
    "\n",
    "def wrapper(f):\n",
    "    def fun(l):\n",
    "        # complete the function\n",
    "        f(['+91 '+s[-10:-5] + ' '+s[-5:] for s in l])\n",
    "    return fun\n",
    "\n",
    "@wrapper\n",
    "def sort_phone(l):\n",
    "    print(*sorted(l), sep='\\n')\n",
    "\n",
    "if __name__ == '__main__':\n",
    "    l = [input() for _ in range(int(input()))]\n",
    "    sort_phone(l) "
   ]
  },
  {
   "cell_type": "code",
   "execution_count": 1,
   "metadata": {},
   "outputs": [],
   "source": [
    "def add_together(x, y):\n",
    "    return x + y"
   ]
  },
  {
   "cell_type": "markdown",
   "metadata": {},
   "source": [
    "# decorator_list\n",
    "\n",
    " We would like add_together to be able to take a list of 2 element tuples as its argument and return a list of integers which represents the summation of their values. We can achieve this through the use of a decorator."
   ]
  },
  {
   "cell_type": "code",
   "execution_count": 5,
   "metadata": {},
   "outputs": [],
   "source": [
    "def decorator_list(orginal_func):\n",
    "    def wrapper(list_of_tuple):\n",
    "        result = [orginal_func(m[0],m[1]) for m in list_of_tuple]\n",
    "        return result\n",
    "    return wrapper"
   ]
  },
  {
   "cell_type": "code",
   "execution_count": 6,
   "metadata": {},
   "outputs": [
    {
     "data": {
      "text/plain": [
       "[3, 5, 10]"
      ]
     },
     "execution_count": 6,
     "metadata": {},
     "output_type": "execute_result"
    }
   ],
   "source": [
    "@decorator_list\n",
    "def add_together(x, y):\n",
    "    return x + y\n",
    "add_together([(1,2),(2,3),(5,5)])"
   ]
  },
  {
   "cell_type": "markdown",
   "metadata": {},
   "source": [
    "# Decorator that can take argument"
   ]
  },
  {
   "cell_type": "code",
   "execution_count": 9,
   "metadata": {},
   "outputs": [],
   "source": [
    "def meta_decorator(power):\n",
    "    def decorator_list(orginal_func): # this is typically a decorator itself\n",
    "        def wrapper(list_of_tuple):\n",
    "            result = [orginal_func(m[0],m[1])*power for m in list_of_tuple]\n",
    "            return result\n",
    "        return wrapper\n",
    "    return decorator_list"
   ]
  },
  {
   "cell_type": "code",
   "execution_count": 10,
   "metadata": {},
   "outputs": [
    {
     "data": {
      "text/plain": [
       "[6, 10, 20]"
      ]
     },
     "execution_count": 10,
     "metadata": {},
     "output_type": "execute_result"
    }
   ],
   "source": [
    "@meta_decorator(2)\n",
    "def add_together(x, y):\n",
    "    return x + y\n",
    "add_together([(1,2),(2,3),(5,5)])"
   ]
  },
  {
   "cell_type": "code",
   "execution_count": 19,
   "metadata": {},
   "outputs": [
    {
     "data": {
      "text/plain": [
       "'wrapper'"
      ]
     },
     "execution_count": 19,
     "metadata": {},
     "output_type": "execute_result"
    }
   ],
   "source": [
    "add_together.__name__"
   ]
  },
  {
   "cell_type": "code",
   "execution_count": 11,
   "metadata": {},
   "outputs": [
    {
     "data": {
      "text/plain": [
       "15"
      ]
     },
     "execution_count": 11,
     "metadata": {},
     "output_type": "execute_result"
    }
   ],
   "source": [
    "def decorator(argument):\n",
    "    def middle(orginal_function): # this is typical decorator by itsetf\n",
    "        def wrapper(*args, **kwargs):\n",
    "            return argument * orginal_function(*args, **kwargs)\n",
    "        return wrapper\n",
    "    return middle\n",
    "@decorator(3)\n",
    "def add(x, y):\n",
    "    return x + y\n",
    "add(2, 3)"
   ]
  },
  {
   "cell_type": "code",
   "execution_count": 12,
   "metadata": {},
   "outputs": [],
   "source": [
    "def add(a,b):\n",
    "    return a + b"
   ]
  },
  {
   "cell_type": "code",
   "execution_count": 16,
   "metadata": {},
   "outputs": [
    {
     "data": {
      "text/plain": [
       "True"
      ]
     },
     "execution_count": 16,
     "metadata": {},
     "output_type": "execute_result"
    }
   ],
   "source": [
    "callable(int)"
   ]
  },
  {
   "cell_type": "code",
   "execution_count": 16,
   "metadata": {},
   "outputs": [],
   "source": [
    "# default argument \n",
    "from functools import wraps\n",
    "def meta_decorator(args): # if no argument is passed here, args is considered as a function\n",
    "    def decorator_list(orginal_func): # this is typically a decorator itself\n",
    "        import logging\n",
    "        import datetime\n",
    "        logging.basicConfig(filename='{}.log'.format(orginal_func.__name__), level=logging.INFO)\n",
    "        @wraps(orginal_func)\n",
    "        def wrapper(list_of_tuple):\n",
    "            print(\"This {} ran first\".format(orginal_func.__name__))\n",
    "            logging.info(\"ran with args:{}\".format(list_of_tuple))\n",
    "            logging.info('This function ran in this datetime {}'.format(datetime.datetime.now()))\n",
    "            result = [orginal_func(m[0],m[1])*power for m in list_of_tuple]\n",
    "            return result\n",
    "        return wrapper\n",
    "    if callable(args):\n",
    "        power = 2\n",
    "        return decorator_list(args)\n",
    "    else:\n",
    "        power = args\n",
    "        return decorator_list"
   ]
  },
  {
   "cell_type": "code",
   "execution_count": 17,
   "metadata": {},
   "outputs": [
    {
     "name": "stdout",
     "output_type": "stream",
     "text": [
      "This add_together ran first\n"
     ]
    },
    {
     "data": {
      "text/plain": [
       "[6, 10, 20]"
      ]
     },
     "execution_count": 17,
     "metadata": {},
     "output_type": "execute_result"
    }
   ],
   "source": [
    "@meta_decorator\n",
    "def add_together(x, y):\n",
    "    \"\"\"This is docstring\"\"\"\n",
    "    return x + y\n",
    "add_together([(1,2),(2,3),(5,5)])\n",
    "\n",
    "# @meta_decorator(3)\n",
    "# def add_together(x, y):\n",
    "#     return x + y\n",
    "# add_together([(1,2),(2,3),(5,5)])"
   ]
  },
  {
   "cell_type": "code",
   "execution_count": 14,
   "metadata": {},
   "outputs": [
    {
     "data": {
      "text/plain": [
       "'This is docstring'"
      ]
     },
     "execution_count": 14,
     "metadata": {},
     "output_type": "execute_result"
    }
   ],
   "source": [
    "add_together.__name__\n",
    "add_together.__doc__"
   ]
  },
  {
   "cell_type": "code",
   "execution_count": 16,
   "metadata": {},
   "outputs": [
    {
     "name": "stdout",
     "output_type": "stream",
     "text": [
      "Help on function add_together in module __main__:\n",
      "\n",
      "add_together(x, y)\n",
      "    This is docstring\n",
      "\n"
     ]
    }
   ],
   "source": [
    "help(add_together)"
   ]
  },
  {
   "cell_type": "code",
   "execution_count": 18,
   "metadata": {},
   "outputs": [
    {
     "name": "stdout",
     "output_type": "stream",
     "text": [
      "INFO:root:ran with args:{} and kwargs:{}\n",
      "INFO:root:ran with args:[(1, 2), (2, 3), (5, 5)]\n",
      "INFO:root:ran with args:[(1, 2), (2, 3), (5, 5)]\n",
      "INFO:root:This function ran in 2020-05-16 22:47:48.506264\n",
      "INFO:root:ran with args:[(1, 2), (2, 3), (5, 5)]\n",
      "INFO:root:This function ran in this datetime 2020-05-16 22:48:36.487666\n",
      "\n"
     ]
    }
   ],
   "source": [
    "with open('add_together.log') as f:\n",
    "    print(f.read())"
   ]
  },
  {
   "cell_type": "code",
   "execution_count": null,
   "metadata": {},
   "outputs": [],
   "source": []
  },
  {
   "cell_type": "code",
   "execution_count": null,
   "metadata": {},
   "outputs": [],
   "source": []
  },
  {
   "cell_type": "code",
   "execution_count": null,
   "metadata": {},
   "outputs": [],
   "source": []
  },
  {
   "cell_type": "code",
   "execution_count": null,
   "metadata": {},
   "outputs": [],
   "source": []
  },
  {
   "cell_type": "code",
   "execution_count": null,
   "metadata": {},
   "outputs": [],
   "source": []
  },
  {
   "cell_type": "code",
   "execution_count": null,
   "metadata": {},
   "outputs": [],
   "source": []
  },
  {
   "cell_type": "code",
   "execution_count": null,
   "metadata": {},
   "outputs": [],
   "source": []
  },
  {
   "cell_type": "code",
   "execution_count": null,
   "metadata": {},
   "outputs": [],
   "source": []
  },
  {
   "cell_type": "code",
   "execution_count": null,
   "metadata": {},
   "outputs": [],
   "source": []
  },
  {
   "cell_type": "code",
   "execution_count": null,
   "metadata": {},
   "outputs": [],
   "source": []
  },
  {
   "cell_type": "code",
   "execution_count": null,
   "metadata": {},
   "outputs": [],
   "source": []
  },
  {
   "cell_type": "code",
   "execution_count": null,
   "metadata": {},
   "outputs": [],
   "source": []
  },
  {
   "cell_type": "code",
   "execution_count": null,
   "metadata": {},
   "outputs": [],
   "source": []
  },
  {
   "cell_type": "code",
   "execution_count": null,
   "metadata": {},
   "outputs": [],
   "source": []
  },
  {
   "cell_type": "code",
   "execution_count": null,
   "metadata": {},
   "outputs": [],
   "source": []
  },
  {
   "cell_type": "code",
   "execution_count": null,
   "metadata": {},
   "outputs": [],
   "source": []
  },
  {
   "cell_type": "code",
   "execution_count": null,
   "metadata": {},
   "outputs": [],
   "source": []
  },
  {
   "cell_type": "code",
   "execution_count": null,
   "metadata": {},
   "outputs": [],
   "source": []
  },
  {
   "cell_type": "code",
   "execution_count": null,
   "metadata": {},
   "outputs": [],
   "source": []
  },
  {
   "cell_type": "code",
   "execution_count": null,
   "metadata": {},
   "outputs": [],
   "source": []
  },
  {
   "cell_type": "code",
   "execution_count": null,
   "metadata": {},
   "outputs": [],
   "source": []
  },
  {
   "cell_type": "code",
   "execution_count": null,
   "metadata": {},
   "outputs": [],
   "source": []
  },
  {
   "cell_type": "code",
   "execution_count": null,
   "metadata": {},
   "outputs": [],
   "source": []
  },
  {
   "cell_type": "code",
   "execution_count": null,
   "metadata": {},
   "outputs": [],
   "source": []
  },
  {
   "cell_type": "code",
   "execution_count": null,
   "metadata": {},
   "outputs": [],
   "source": []
  },
  {
   "cell_type": "code",
   "execution_count": null,
   "metadata": {},
   "outputs": [],
   "source": []
  },
  {
   "cell_type": "code",
   "execution_count": null,
   "metadata": {},
   "outputs": [],
   "source": []
  },
  {
   "cell_type": "code",
   "execution_count": null,
   "metadata": {},
   "outputs": [],
   "source": []
  },
  {
   "cell_type": "markdown",
   "metadata": {},
   "source": [
    "# "
   ]
  }
 ],
 "metadata": {
  "kernelspec": {
   "display_name": "Python 3",
   "language": "python",
   "name": "python3"
  },
  "language_info": {
   "codemirror_mode": {
    "name": "ipython",
    "version": 3
   },
   "file_extension": ".py",
   "mimetype": "text/x-python",
   "name": "python",
   "nbconvert_exporter": "python",
   "pygments_lexer": "ipython3",
   "version": "3.7.4"
  }
 },
 "nbformat": 4,
 "nbformat_minor": 2
}
