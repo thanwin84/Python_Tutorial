{
 "cells": [
  {
   "cell_type": "markdown",
   "metadata": {},
   "source": [
    "### Rule of sum\n",
    "\n",
    "If there are n objects of the first type and there are k objects of the second type, then there are n + k objects of one of two types"
   ]
  },
  {
   "cell_type": "code",
   "execution_count": 1,
   "metadata": {},
   "outputs": [
    {
     "name": "stdout",
     "output_type": "stream",
     "text": [
      "['Alice', 'Bob', 'Charlie', 0, 1, 2, 3, 4]\n"
     ]
    }
   ],
   "source": [
    "print(['Alice', 'Bob', 'Charlie']  + [0, 1, 2, 3, 4])"
   ]
  },
  {
   "cell_type": "markdown",
   "metadata": {},
   "source": [
    "### Rule of product\n",
    "\n",
    "If there are n objects of the first type and there are k objects of the second type, then there are n × k pairs of objects, the first of the first type and the second of the second type"
   ]
  },
  {
   "cell_type": "code",
   "execution_count": 2,
   "metadata": {},
   "outputs": [
    {
     "name": "stdout",
     "output_type": "stream",
     "text": [
      "ax\n",
      "ay\n",
      "bx\n",
      "by\n",
      "cx\n",
      "cy\n"
     ]
    }
   ],
   "source": [
    "from itertools import product\n",
    "for p in product(['a', 'b', 'c'], ['x', 'y']):\n",
    "    print(\"\".join(p))"
   ]
  },
  {
   "cell_type": "markdown",
   "metadata": {},
   "source": [
    "### Tuples \n",
    "\n",
    "The number of sequences of length k composed out of n symbols is n**k."
   ]
  },
  {
   "cell_type": "code",
   "execution_count": 4,
   "metadata": {},
   "outputs": [
    {
     "name": "stdout",
     "output_type": "stream",
     "text": [
      "aaa\n",
      "aab\n",
      "aba\n",
      "abb\n",
      "baa\n",
      "bab\n",
      "bba\n",
      "bbb\n"
     ]
    }
   ],
   "source": [
    "from itertools import product\n",
    "for p in product(\"ab\", repeat=3):\n",
    "    print(\"\".join(p))"
   ]
  },
  {
   "cell_type": "markdown",
   "metadata": {},
   "source": [
    "### K permutations\n",
    "\n",
    "The number of sequences of length k with no repetitions composed out of n symbols is n(n − 1)· · ·(n − k + 1) = n!/(n−k)! ."
   ]
  },
  {
   "cell_type": "code",
   "execution_count": 5,
   "metadata": {},
   "outputs": [
    {
     "name": "stdout",
     "output_type": "stream",
     "text": [
      "ab\n",
      "ac\n",
      "ad\n",
      "ba\n",
      "bc\n",
      "bd\n",
      "ca\n",
      "cb\n",
      "cd\n",
      "da\n",
      "db\n",
      "dc\n"
     ]
    }
   ],
   "source": [
    "from itertools import permutations\n",
    "for p in permutations(\"abcd\", 2):\n",
    "      print(\"\".join(p))"
   ]
  },
  {
   "cell_type": "markdown",
   "metadata": {},
   "source": [
    "## Tournament\n",
    "    Five teams played a tournament: each team played with each other. What was the number of games?\n",
    "    Each team played four games (with each ofthe other four teams)\n",
    "    • Hence, there were 5 × 4 games\n",
    "    • Do you see a flaw in this argument?"
   ]
  },
  {
   "cell_type": "markdown",
   "metadata": {},
   "source": [
    "### let's arrange the game\n",
    "#### ab ac ad ae bc bd be cd ce de\n",
    "#### ba ca da ea cb db eb dc ec ed\n",
    "\n",
    "     the flaw is each game is counted twice\n",
    "     thus the number of game is (5*4)/2\n"
   ]
  },
  {
   "cell_type": "markdown",
   "metadata": {},
   "source": [
    "### Theorem\n",
    "\n",
    "    The number of games in a tournament with n teams (each pair of teams played each other exactly once) is n(n − 1)/2.\n",
    "\n",
    "### proof\n",
    "\n",
    "    • There are n choices of the first team in\n",
    "    a game and (n − 1) choices of the second\n",
    "    team\n",
    "    • Each game is counted twice: the game\n",
    "    between teams i and j is counted as ij and\n",
    "    as ji\n",
    "    • Thus, the total number of games is\n",
    "    n(n − 1)/2"
   ]
  },
  {
   "cell_type": "code",
   "execution_count": 21,
   "metadata": {},
   "outputs": [
    {
     "name": "stdout",
     "output_type": "stream",
     "text": [
      "ab\n",
      "ac\n",
      "ad\n",
      "ae\n",
      "bc\n",
      "bd\n",
      "be\n",
      "cd\n",
      "ce\n",
      "de\n"
     ]
    }
   ],
   "source": [
    "# the correct way of counting games played by each team\n",
    "from itertools import combinations\n",
    "for i in combinations('abcde', 2): # (5*5)/2=10 (combinations--- ab and ba is considered as one element)\n",
    "    print(''.join(i))"
   ]
  },
  {
   "cell_type": "markdown",
   "metadata": {},
   "source": [
    "### Let’s count the number of games recursively\n",
    "\n",
    "    • Denote by T(n) the number of games in a tournament with n teams\n",
    "    • There are two types of games:\n",
    "        1. games that involve the first team: n − 1\n",
    "        2. games that don’t involve it: T(n − 1)\n",
    "     Hence, T(n) = (n − 1) + T(n − 1)"
   ]
  },
  {
   "cell_type": "code",
   "execution_count": 23,
   "metadata": {},
   "outputs": [],
   "source": [
    "def T(n):\n",
    "    if n <= 1:\n",
    "        return 0\n",
    "    return (n-1) + T(n-1)"
   ]
  },
  {
   "cell_type": "code",
   "execution_count": 24,
   "metadata": {},
   "outputs": [
    {
     "data": {
      "text/plain": [
       "6"
      ]
     },
     "execution_count": 24,
     "metadata": {},
     "output_type": "execute_result"
    }
   ],
   "source": [
    "T(4)"
   ]
  },
  {
   "cell_type": "markdown",
   "metadata": {},
   "source": [
    "### combination formula\n",
    "nCk=n!/k!(n-k)!"
   ]
  },
  {
   "cell_type": "code",
   "execution_count": null,
   "metadata": {},
   "outputs": [],
   "source": [
    "n = 1000\n",
    "count = 0\n",
    "\n",
    "for i in range(n):\n",
    "    for j in range(n):\n",
    "        for k in range(n):\n",
    "            if i < j and j < k:\n",
    "                count += 1\n",
    "\n",
    "print(count)"
   ]
  },
  {
   "cell_type": "code",
   "execution_count": null,
   "metadata": {},
   "outputs": [],
   "source": [
    "n = 1000\n",
    "count = 0\n",
    "\n",
    "for i in range(n):\n",
    "    for j in range(n):\n",
    "        for k in range(n):\n",
    "            if i < j and j < k:\n",
    "                count += 1\n",
    "\n",
    "print(count)"
   ]
  },
  {
   "cell_type": "code",
   "execution_count": 1,
   "metadata": {},
   "outputs": [
    {
     "data": {
      "text/plain": [
       "974098327"
      ]
     },
     "execution_count": 1,
     "metadata": {},
     "output_type": "execute_result"
    }
   ],
   "source": [
    "394798237409723974098327 % 10**9 # printing the last nine element"
   ]
  },
  {
   "cell_type": "markdown",
   "metadata": {},
   "source": [
    "## Pascal Triagle\n"
   ]
  },
  {
   "cell_type": "code",
   "execution_count": 51,
   "metadata": {},
   "outputs": [],
   "source": [
    "def nCk(x, y): # C ( [x, y] ) i s equal to n choose k\n",
    "    C = dict() \n",
    "    for row in range(x+1):\n",
    "        C[row, 0] = 1\n",
    "        C[row, row] = 1 # second row is considered as column \n",
    "        for col in range(1, row):\n",
    "#             print(col,row)\n",
    "            C [row, col] = C[row - 1, col - 1] + C[row-1, col]\n",
    "    return (C[x, y])\n",
    "#     print(C)"
   ]
  },
  {
   "cell_type": "code",
   "execution_count": 52,
   "metadata": {},
   "outputs": [
    {
     "data": {
      "text/plain": [
       "2"
      ]
     },
     "execution_count": 52,
     "metadata": {},
     "output_type": "execute_result"
    }
   ],
   "source": [
    "nCk(2, 1)"
   ]
  },
  {
   "cell_type": "code",
   "execution_count": 78,
   "metadata": {},
   "outputs": [
    {
     "name": "stdout",
     "output_type": "stream",
     "text": [
      "1\n",
      "25\n",
      "1, 25, 300, 2300, 12650, 53130, 177100, 480700, 1081575, 2042975, 3268760, 4457400, 5200300, 5200300, 4457400, 3268760, 2042975, 1081575, 480700, 177100, 53130, 12650, 2300, 300, 25, 1\n"
     ]
    }
   ],
   "source": [
    "# hackerrank nCr table\n",
    "# print the nth row of pascal traingle\n",
    "# the formula is: nCr = nCr-1*(n-r+1)/r where 1<=r<=N\n",
    "def solve(n):\n",
    "    prev = 1\n",
    "    print(prev, end='')\n",
    "    # the loop will run 1 to n+1\n",
    "    # so it's O(n)\n",
    "    for r in range(1, n+1):\n",
    "        # prev = nCr-1\n",
    "        # if the number is large, just print the last 9 digit\n",
    "        current = (prev*(n - r + 1) // r)\n",
    "        print(',',current%10**9, end='')\n",
    "        prev=current\n",
    "    print()\n",
    "if __name__=='__main__':\n",
    "    t = int(input())\n",
    "    test = []\n",
    "    for _ in range(t):\n",
    "        test.append(int(input()))\n",
    "    for n in test:\n",
    "        solve(n)\n",
    "        \n",
    "# time complexity is O(n)\n",
    "# auxillary space O(1)\n",
    "        "
   ]
  },
  {
   "cell_type": "code",
   "execution_count": 18,
   "metadata": {},
   "outputs": [
    {
     "name": "stdout",
     "output_type": "stream",
     "text": [
      "1, 4, 6, 4, 1"
     ]
    }
   ],
   "source": [
    "solve(4)"
   ]
  },
  {
   "cell_type": "code",
   "execution_count": 30,
   "metadata": {},
   "outputs": [
    {
     "data": {
      "text/plain": [
       "678908989"
      ]
     },
     "execution_count": 30,
     "metadata": {},
     "output_type": "execute_result"
    }
   ],
   "source": [
    "12345678908989%10**9"
   ]
  },
  {
   "cell_type": "markdown",
   "metadata": {},
   "source": [
    "### practice counting"
   ]
  },
  {
   "cell_type": "code",
   "execution_count": 40,
   "metadata": {},
   "outputs": [
    {
     "name": "stdout",
     "output_type": "stream",
     "text": [
      "2598960\n"
     ]
    }
   ],
   "source": [
    "# what is the number of five cards hand dealt off of a 52-deck card?\n",
    "# (52C5)\n",
    "nCk(52, 5)"
   ]
  },
  {
   "cell_type": "code",
   "execution_count": 54,
   "metadata": {},
   "outputs": [
    {
     "data": {
      "text/plain": [
       "22308"
      ]
     },
     "execution_count": 54,
     "metadata": {},
     "output_type": "execute_result"
    }
   ],
   "source": [
    "# what is the number of ways selecting 5 cards with two hearts and 3 spades from 52 deck card\n",
    "\n",
    "a = (nCk(13,2))\n",
    "b = (nCk(13, 3))\n",
    "a * b"
   ]
  },
  {
   "cell_type": "code",
   "execution_count": 69,
   "metadata": {},
   "outputs": [
    {
     "data": {
      "text/plain": [
       "81796"
      ]
     },
     "execution_count": 69,
     "metadata": {},
     "output_type": "execute_result"
    }
   ],
   "source": [
    "a = (nCk(13,3))\n",
    "b = (nCk(13, 3))\n",
    "a * b"
   ]
  },
  {
   "cell_type": "code",
   "execution_count": 55,
   "metadata": {},
   "outputs": [
    {
     "data": {
      "text/plain": [
       "3439"
      ]
     },
     "execution_count": 55,
     "metadata": {},
     "output_type": "execute_result"
    }
   ],
   "source": [
    "# what is the number of non negative integers with at most four digits at least one of which is equal to 7?\n",
    "result = 10**4-9**4\n",
    "result"
   ]
  },
  {
   "cell_type": "code",
   "execution_count": 64,
   "metadata": {},
   "outputs": [
    {
     "name": "stdout",
     "output_type": "stream",
     "text": [
      "3439\n"
     ]
    }
   ],
   "source": [
    "from itertools import product\n",
    "count = 0\n",
    "for i in product((range(10)), repeat=4):\n",
    "    if 7 in i:\n",
    "        count += 1\n",
    "    \n",
    "print(count)"
   ]
  },
  {
   "cell_type": "code",
   "execution_count": 65,
   "metadata": {},
   "outputs": [
    {
     "data": {
      "text/plain": [
       "210"
      ]
     },
     "execution_count": 65,
     "metadata": {},
     "output_type": "execute_result"
    }
   ],
   "source": [
    "# What is the number of non-negative integers with at most four digits whose digits are increasing\n",
    "nCk(10,4)"
   ]
  },
  {
   "cell_type": "code",
   "execution_count": 68,
   "metadata": {},
   "outputs": [
    {
     "name": "stdout",
     "output_type": "stream",
     "text": [
      "210\n"
     ]
    }
   ],
   "source": [
    "from itertools import product\n",
    "count = 0\n",
    "for i in product((range(10)), repeat=4):\n",
    "    if i[0] < i[1] and i[1] < i[2] and i[2] < i[3]:\n",
    "#         print(i)\n",
    "        count += 1\n",
    "print(count)\n",
    "    "
   ]
  },
  {
   "cell_type": "code",
   "execution_count": 73,
   "metadata": {},
   "outputs": [
    {
     "name": "stdout",
     "output_type": "stream",
     "text": [
      "20\n"
     ]
    }
   ],
   "source": [
    "# What is the number of bit-strings (that is, strings consisting of 0's and 1's) of length 6 \n",
    "# where the number of 0's is equal to the number of 1's?\n",
    "from itertools import product\n",
    "count = 0\n",
    "for i in product(range(2), repeat=6):\n",
    "    if list(i).count(0) == list(i).count(1):\n",
    "        count +=1\n",
    "#     print(i)\n",
    "print(count)"
   ]
  },
  {
   "cell_type": "code",
   "execution_count": 74,
   "metadata": {},
   "outputs": [
    {
     "name": "stdout",
     "output_type": "stream",
     "text": [
      "312500\n"
     ]
    }
   ],
   "source": [
    "# What is the number of sequences of six digits where the number of even digits is equal to the number of odd digits?\n",
    "from itertools import product\n",
    "count = 0\n",
    "for i in product(range(10), repeat=6):\n",
    "    a = list(i)\n",
    "    even = []\n",
    "    odd = []\n",
    "    for i in a:\n",
    "        if i % 2 == 0:\n",
    "            even.append(i)\n",
    "        else:\n",
    "            odd.append(i)\n",
    "    if len(even) == len(odd):\n",
    "        count += 1\n",
    "print(count)\n",
    "# this is slow"
   ]
  },
  {
   "cell_type": "code",
   "execution_count": 83,
   "metadata": {},
   "outputs": [
    {
     "data": {
      "text/plain": [
       "210"
      ]
     },
     "execution_count": 83,
     "metadata": {},
     "output_type": "execute_result"
    }
   ],
   "source": [
    "nCk(10, 4)"
   ]
  },
  {
   "cell_type": "code",
   "execution_count": null,
   "metadata": {},
   "outputs": [],
   "source": []
  }
 ],
 "metadata": {
  "kernelspec": {
   "display_name": "Python 3",
   "language": "python",
   "name": "python3"
  },
  "language_info": {
   "codemirror_mode": {
    "name": "ipython",
    "version": 3
   },
   "file_extension": ".py",
   "mimetype": "text/x-python",
   "name": "python",
   "nbconvert_exporter": "python",
   "pygments_lexer": "ipython3",
   "version": "3.7.4"
  }
 },
 "nbformat": 4,
 "nbformat_minor": 2
}
