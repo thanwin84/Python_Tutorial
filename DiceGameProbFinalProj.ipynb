{
 "cells": [
  {
   "cell_type": "markdown",
   "metadata": {},
   "source": [
    "## which dice is better?"
   ]
  },
  {
   "cell_type": "code",
   "execution_count": 38,
   "metadata": {},
   "outputs": [
    {
     "name": "stdout",
     "output_type": "stream",
     "text": [
      "dice1 is better than dice2\n"
     ]
    }
   ],
   "source": [
    "from random import randint \n",
    "dice1=[2, 2, 2, 2, 3, 3]\n",
    "dice2=[1, 1, 1, 1, 6, 6]\n",
    "numOfrounds = 36\n",
    "dice1_win = 0\n",
    "dice2_win = 0\n",
    "for i in range(numOfrounds):\n",
    "    dice1_result = dice1[randint(0,5)]\n",
    "    dice2_result = dice2[randint(0,5)]\n",
    "    if dice1_result > dice2_result:\n",
    "        dice1_win += 1\n",
    "    else:\n",
    "        dice2_win += 1\n",
    "if dice1_win > dice2_win:\n",
    "    print('dice1 is better than dice2')\n",
    "else:\n",
    "    print('dice 2 is better than dice1')"
   ]
  },
  {
   "cell_type": "markdown",
   "metadata": {},
   "source": [
    "## first task"
   ]
  },
  {
   "cell_type": "code",
   "execution_count": null,
   "metadata": {},
   "outputs": [],
   "source": [
    "def count_wins(dice1, dice2):\n",
    "    assert len(dice1) == 6 and len(dice2) == 6\n",
    "    dice1_wins, dice2_wins = 0, 0\n",
    "    \n",
    "    # write your code here\n",
    "\n",
    "    return (dice1_wins, dice2_wins)"
   ]
  },
  {
   "cell_type": "code",
   "execution_count": 46,
   "metadata": {},
   "outputs": [
    {
     "data": {
      "text/plain": [
       "(16, 20)"
      ]
     },
     "execution_count": 46,
     "metadata": {},
     "output_type": "execute_result"
    }
   ],
   "source": [
    "# dice1=[2, 2, 2, 2, 3, 3]\n",
    "# dice2=[1, 1, 1, 1, 6, 6]\n",
    "# dice1 = [1, 2, 3, 4, 5, 6]\n",
    "# dice2 = [1, 2, 3, 4, 5, 6]\n",
    "dice1 = [1, 1, 6, 6, 8, 8]\n",
    "dice2 = [2, 2, 4, 4, 9, 9]\n",
    "def count_wins(dice1, dice2):\n",
    "    dice1_wins, dice2_wins = 0, 0\n",
    "    for i in dice1:\n",
    "        for j in dice2:\n",
    "            if i > j:\n",
    "                dice1_wins += 1\n",
    "            elif j > i:\n",
    "                dice2_wins +=1\n",
    "    return (dice1_wins, dice2_wins)\n",
    "count_wins(dice1, dice2)\n",
    "            "
   ]
  },
  {
   "cell_type": "markdown",
   "metadata": {},
   "source": [
    "## is there a best dice ?"
   ]
  },
  {
   "cell_type": "code",
   "execution_count": 146,
   "metadata": {},
   "outputs": [
    {
     "data": {
      "text/plain": [
       "{'choose_first': False, 'first_dice': 0, 0: 2, 1: 0, 2: 1, 3: 1}"
      ]
     },
     "execution_count": 146,
     "metadata": {},
     "output_type": "execute_result"
    }
   ],
   "source": [
    "# dices = [[1, 1, 2, 4, 5, 7], [1, 2, 2, 3, 4, 7], [1, 2, 3, 4, 5, 6]]\n",
    "dices =  [[3, 3, 3, 3, 3, 3], [6, 6, 2, 2, 2, 2], [4, 4, 4, 4, 0, 0], [5, 5, 5, 1, 1, 1]]\n",
    "# dices = [[4, 4, 4, 4, 0, 0], [7, 7, 3, 3, 3, 3], [6, 6, 2, 2, 2, 2], [5, 5, 5, 1, 1, 1]]\n",
    "# d = {}\n",
    "# # best_dice = 0\n",
    "def count_wins(dice1, dice2):\n",
    "    dice1_wins, dice2_wins = 0, 0\n",
    "    for i in dice1:\n",
    "        for j in dice2:\n",
    "            if i > j:\n",
    "                dice1_wins += 1\n",
    "            elif j > i:\n",
    "                dice2_wins +=1\n",
    "    return (dice1_wins, dice2_wins)\n",
    "\n",
    "def find_the_best_dice(dices):\n",
    "    assert all(len(dice) == 6 for dice in dices)\n",
    "    for first in range(len(dices)):\n",
    "        best = []\n",
    "        for second in range(len(dices)):\n",
    "            if first != second:\n",
    "                d1, d2 = count_wins(dices[first], dices[second])\n",
    "                if d1 > d2:\n",
    "                    best.append(1)\n",
    "        if best.count(1) == len(dices)-1:\n",
    "            return first\n",
    "    return -1\n",
    "# find_the_best_dice([[4, 4, 4, 4, 0, 0], [7, 7, 3, 3, 3, 3], [6, 6, 2, 2, 2, 2], [5, 5, 5, 1, 1, 1]])\n",
    "def compute_strategy(dices):\n",
    "    assert all(len(dice) == 6 for dice in dices)\n",
    "\n",
    "    strategy = dict()\n",
    "    strategy[\"choose_first\"] = True\n",
    "    strategy[\"first_dice\"] = 0\n",
    "    for i in range(len(dices)):\n",
    "        strategy[i] = (i + 1) % len(dices)\n",
    "        \n",
    "    # write your code here\n",
    "    res = find_the_best_dice(dices)\n",
    "    if res != -1:\n",
    "        strategy['first_dice'] = res\n",
    "    else:\n",
    "        strategy['choose_first'] = False\n",
    "        for i in range(len(dices)):\n",
    "            for j in range(len(dices)):\n",
    "                if i != j:\n",
    "                    d1, d2 = count_wins(dices[i], dices[j])\n",
    "                    if d1 < d2:\n",
    "                        break\n",
    "            strategy[i] = j\n",
    "                        \n",
    "    \n",
    "    return strategy\n",
    "compute_strategy(dices)\n"
   ]
  },
  {
   "cell_type": "code",
   "execution_count": null,
   "metadata": {},
   "outputs": [],
   "source": []
  },
  {
   "cell_type": "code",
   "execution_count": null,
   "metadata": {},
   "outputs": [],
   "source": []
  },
  {
   "cell_type": "code",
   "execution_count": null,
   "metadata": {},
   "outputs": [],
   "source": []
  },
  {
   "cell_type": "code",
   "execution_count": null,
   "metadata": {},
   "outputs": [],
   "source": []
  },
  {
   "cell_type": "code",
   "execution_count": null,
   "metadata": {},
   "outputs": [],
   "source": []
  },
  {
   "cell_type": "code",
   "execution_count": null,
   "metadata": {},
   "outputs": [],
   "source": []
  },
  {
   "cell_type": "code",
   "execution_count": null,
   "metadata": {},
   "outputs": [],
   "source": []
  }
 ],
 "metadata": {
  "kernelspec": {
   "display_name": "Python 3",
   "language": "python",
   "name": "python3"
  },
  "language_info": {
   "codemirror_mode": {
    "name": "ipython",
    "version": 3
   },
   "file_extension": ".py",
   "mimetype": "text/x-python",
   "name": "python",
   "nbconvert_exporter": "python",
   "pygments_lexer": "ipython3",
   "version": "3.7.6"
  }
 },
 "nbformat": 4,
 "nbformat_minor": 4
}
