{
 "cells": [
  {
   "cell_type": "markdown",
   "metadata": {},
   "source": [
    "# Inheritance in Python"
   ]
  },
  {
   "cell_type": "code",
   "execution_count": 6,
   "metadata": {},
   "outputs": [],
   "source": [
    "class Person(object): #superclass or parent class\n",
    "    #constructor\n",
    "    # __init__ is known as constructor \n",
    "    def __init__(self,name):\n",
    "        self.name = name\n",
    "    def get_name(self):\n",
    "        return self.name\n",
    "    #check if the person is employee\n",
    "    def is_emp(self):\n",
    "        return False\n",
    "class Employee(Person): #sub class or child claSS OR DERIEVED CLASS\n",
    "    def is_emp(self):\n",
    "        return True"
   ]
  },
  {
   "cell_type": "code",
   "execution_count": 9,
   "metadata": {},
   "outputs": [
    {
     "name": "stdout",
     "output_type": "stream",
     "text": [
      "False\n",
      "True\n"
     ]
    }
   ],
   "source": [
    "p1 = Person('tom')\n",
    "print(p1.is_emp())\n",
    "emp1 = Employee('jerry')\n",
    "print(emp1.is_emp())"
   ]
  },
  {
   "cell_type": "code",
   "execution_count": 11,
   "metadata": {},
   "outputs": [],
   "source": [
    "# Python code to demonstrate how parent constructors \n",
    "# are called. \n",
    "\n",
    "#parent class\n",
    "class Person(object):\n",
    "    def __init__(self,name,id_number):\n",
    "        self.name = name\n",
    "        self.id_number = id_number\n",
    "    def display(self):\n",
    "        print(self.name)\n",
    "        print(self.id_number)\n",
    "#child class\n",
    "class Employee(Person):\n",
    "    def __init__(self,name,id_number,salary,post):\n",
    "        super().__init__(name,id_number)\n",
    "        #Employee.__init__(self,name,id_number)\n",
    "        self.salary = salary = salary\n",
    "        self.post = post\n",
    "    "
   ]
  },
  {
   "cell_type": "code",
   "execution_count": 13,
   "metadata": {},
   "outputs": [
    {
     "name": "stdout",
     "output_type": "stream",
     "text": [
      "tommy\n",
      "9090\n"
     ]
    }
   ],
   "source": [
    "#creating instance \n",
    "a = Person('tommy',9090)\n",
    "# calling a function of the class Person using its instance \n",
    "a.display()"
   ]
  },
  {
   "cell_type": "raw",
   "metadata": {},
   "source": [
    "# Single inheritance: When a child class inherits from only one parent class, it is called as single inheritance\n",
    "#Multiple inheritance: When a child class inherits from multiple parent classes, it is called as multiple inheritance.\n"
   ]
  },
  {
   "cell_type": "code",
   "execution_count": 15,
   "metadata": {},
   "outputs": [],
   "source": [
    "class Parent:\n",
    "    def __init__(self):\n",
    "        print('parent__init__')\n",
    "class Child(Parent):\n",
    "    def __init__(self):\n",
    "        print('child __init__')"
   ]
  },
  {
   "cell_type": "code",
   "execution_count": 17,
   "metadata": {},
   "outputs": [
    {
     "name": "stdout",
     "output_type": "stream",
     "text": [
      "child __init__\n",
      "(<class '__main__.Child'>, <class '__main__.Parent'>, <class 'object'>)\n"
     ]
    }
   ],
   "source": [
    "#what happend when we call child class\n",
    "child = Child()\n",
    "print(Child.__mro__) #method resolution order"
   ]
  },
  {
   "cell_type": "code",
   "execution_count": 20,
   "metadata": {},
   "outputs": [],
   "source": [
    "class Parent:\n",
    "    def __init__(self,name):\n",
    "        print('parent__init__',name)\n",
    "\n",
    "class Child(Parent):\n",
    "    def __init__(self):\n",
    "        print('child __init__')\n",
    "        super().__init__('max') #super() refer to parent class\n",
    "                                #we are calling parent class __init__ by Super() and\n",
    "                                #passing 'max'"
   ]
  },
  {
   "cell_type": "code",
   "execution_count": 21,
   "metadata": {},
   "outputs": [
    {
     "name": "stdout",
     "output_type": "stream",
     "text": [
      "child __init__\n",
      "parent__init__ max\n",
      "(<class '__main__.Child'>, <class '__main__.Parent'>, <class 'object'>)\n"
     ]
    }
   ],
   "source": [
    "child = Child()\n",
    "print(Child.__mro__)"
   ]
  },
  {
   "cell_type": "code",
   "execution_count": 36,
   "metadata": {},
   "outputs": [],
   "source": [
    "#Multiple inheritance \n",
    "class Parent:\n",
    "    def __init__(self,name):\n",
    "        print('parent__init__',name)\n",
    "class Parent2:\n",
    "    def __init__(self,name):\n",
    "        print('parent2__init__',name)\n",
    "\n",
    "\n",
    "class Child(Parent,Parent2):\n",
    "    def __init__(self):\n",
    "        print('child __init__')\n",
    "        #calling constructor\n",
    "        Parent.__init__(self,'max')\n",
    "        Parent2.__init__(self,'tommy')"
   ]
  },
  {
   "cell_type": "code",
   "execution_count": 35,
   "metadata": {},
   "outputs": [
    {
     "name": "stdout",
     "output_type": "stream",
     "text": [
      "child __init__\n",
      "parent__init__ max\n",
      "parent2__init__ tommy\n"
     ]
    }
   ],
   "source": [
    "child = Child()"
   ]
  },
  {
   "cell_type": "code",
   "execution_count": 40,
   "metadata": {},
   "outputs": [],
   "source": [
    "# A Python program to demonstrate inheritance  \n",
    "class Base(object):\n",
    "    def __init__(self,name):\n",
    "        self.name = name\n",
    "    def get_name(self):\n",
    "        return self.name\n",
    "class Child(Base):\n",
    "    def __init__(self,name,age):\n",
    "        Base.__init__(self,name)\n",
    "        self.age = age\n",
    "    def get_age(self):\n",
    "        return self.age\n",
    "class Grand_child(Child):\n",
    "    def __init__(self,name,age,address):\n",
    "        super().__init__(name,age)\n",
    "        self.address = address\n",
    "    def get_address(self):\n",
    "        return self.address"
   ]
  },
  {
   "cell_type": "code",
   "execution_count": 45,
   "metadata": {},
   "outputs": [
    {
     "name": "stdout",
     "output_type": "stream",
     "text": [
      "nancy 21 LA\n"
     ]
    }
   ],
   "source": [
    "grand = Grand_child('nancy',21,'LA')\n",
    "print(grand.get_name(),grand.get_age(),grand.get_address())"
   ]
  },
  {
   "cell_type": "markdown",
   "metadata": {},
   "source": [
    "# Inner class"
   ]
  },
  {
   "cell_type": "code",
   "execution_count": 47,
   "metadata": {},
   "outputs": [],
   "source": [
    "class Person:\n",
    "    def __init__(self):\n",
    "        self.name = 'than win'\n",
    "        self.db = self.Dob()\n",
    "    def display(self):\n",
    "        return self.name\n",
    "    class Dob:\n",
    "        def __init__(self):\n",
    "            self.dd=21\n",
    "            self.mm=2\n",
    "            self.yy=2010\n",
    "        def display(self):\n",
    "            print('Dob= {}/{}/{}'.format(self.dd,self.mm,self.yy))"
   ]
  },
  {
   "cell_type": "code",
   "execution_count": 53,
   "metadata": {},
   "outputs": [
    {
     "name": "stdout",
     "output_type": "stream",
     "text": [
      "than win\n",
      "Dob= 21/2/2010\n"
     ]
    }
   ],
   "source": [
    "#creating Person class object\n",
    "p = Person()\n",
    "print(p.display())\n",
    "#creating inner class object\n",
    "x=p.db\n",
    "x.display()"
   ]
  },
  {
   "cell_type": "markdown",
   "metadata": {},
   "source": [
    "Python to demostrate Multiple inheritance"
   ]
  },
  {
   "cell_type": "code",
   "execution_count": 71,
   "metadata": {},
   "outputs": [],
   "source": [
    "class Person(object):\n",
    "    def __init__(self,name,id_num):\n",
    "        self.name = name\n",
    "        self.id_num = id_num\n",
    "    def get_name(self):\n",
    "        print('The name is',self.name)\n",
    "        \n",
    "class Employee:\n",
    "    def __init__(self,salary,post):\n",
    "        self.salary = salary\n",
    "        self.post = post\n",
    "class Leader(Person,Employee):\n",
    "    def __init__(self,name,id_num,salary,post,points):\n",
    "        Person.__init__(self,name,id_num)\n",
    "        Employee.__init__(self,salary,post)\n",
    "        self.points = points\n",
    "    def get_name(self):\n",
    "        print('In leader class name is',self.name)"
   ]
  },
  {
   "cell_type": "code",
   "execution_count": 74,
   "metadata": {},
   "outputs": [
    {
     "name": "stdout",
     "output_type": "stream",
     "text": [
      "The name is jony\n",
      "None\n",
      "sarah\n",
      "2000\n",
      "In leader class name is sarah\n"
     ]
    }
   ],
   "source": [
    "my_leader = Leader('sarah',202020,2000,'Senior',2.0)\n",
    "p = Person('jony',20012)\n",
    "print(p.get_name())\n",
    "print(my_leader.name)\n",
    "print(my_leader.salary)\n",
    "my_leader.get_name()\n"
   ]
  },
  {
   "cell_type": "code",
   "execution_count": 75,
   "metadata": {},
   "outputs": [
    {
     "name": "stdout",
     "output_type": "stream",
     "text": [
      "(<class '__main__.Leader'>, <class '__main__.Person'>, <class '__main__.Employee'>, <class 'object'>)\n"
     ]
    }
   ],
   "source": [
    "print(Leader.__mro__)"
   ]
  },
  {
   "cell_type": "markdown",
   "metadata": {},
   "source": [
    "# Inheritance Example"
   ]
  },
  {
   "cell_type": "code",
   "execution_count": 102,
   "metadata": {},
   "outputs": [],
   "source": [
    "class Ractangle:\n",
    "    def __init__(self,lenght,width):\n",
    "        self.lenght = lenght \n",
    "        self.width = width\n",
    "    def area(self):\n",
    "        return self.lenght*self.width\n",
    "    def paremeter(self):\n",
    "        return 2*self.lenght+self.width*2\n",
    "class Square(Ractangle):\n",
    "    def __init__(self,lenght):\n",
    "        super(Square,self).__init__(lenght,lenght)\n",
    "class Cube(Square):\n",
    "    def volume(self):\n",
    "        face_area=super().area()\n",
    "        return face_area*self.lenght\n",
    "    def surface_area(self):\n",
    "        face_area=super().area()\n",
    "        return face_area*6\n",
    "    "
   ]
  },
  {
   "cell_type": "code",
   "execution_count": 103,
   "metadata": {},
   "outputs": [
    {
     "name": "stdout",
     "output_type": "stream",
     "text": [
      "4\n",
      "8\n",
      "4\n",
      "27\n"
     ]
    }
   ],
   "source": [
    "#for ractangle\n",
    "my_rac = Ractangle(2,2)\n",
    "print(my_rac.area())\n",
    "print(my_rac.paremeter())\n",
    "#for Square\n",
    "my_sq = Square(2)\n",
    "print(my_sq.area())\n",
    "#for Cube\n",
    "c = Cube(3)\n",
    "print(c.volume())"
   ]
  },
  {
   "cell_type": "code",
   "execution_count": 1,
   "metadata": {},
   "outputs": [],
   "source": [
    "#print(help(Cube))"
   ]
  },
  {
   "cell_type": "code",
   "execution_count": null,
   "metadata": {},
   "outputs": [],
   "source": []
  }
 ],
 "metadata": {
  "kernelspec": {
   "display_name": "Python 3",
   "language": "python",
   "name": "python3"
  },
  "language_info": {
   "codemirror_mode": {
    "name": "ipython",
    "version": 3
   },
   "file_extension": ".py",
   "mimetype": "text/x-python",
   "name": "python",
   "nbconvert_exporter": "python",
   "pygments_lexer": "ipython3",
   "version": "3.7.4"
  }
 },
 "nbformat": 4,
 "nbformat_minor": 2
}
