{
 "cells": [
  {
   "cell_type": "markdown",
   "metadata": {},
   "source": [
    "# Working with Datetime"
   ]
  },
  {
   "cell_type": "code",
   "execution_count": 1,
   "metadata": {},
   "outputs": [
    {
     "data": {
      "text/plain": [
       "['MAXYEAR',\n",
       " 'MINYEAR',\n",
       " '__builtins__',\n",
       " '__cached__',\n",
       " '__doc__',\n",
       " '__file__',\n",
       " '__loader__',\n",
       " '__name__',\n",
       " '__package__',\n",
       " '__spec__',\n",
       " 'date',\n",
       " 'datetime',\n",
       " 'datetime_CAPI',\n",
       " 'sys',\n",
       " 'time',\n",
       " 'timedelta',\n",
       " 'timezone',\n",
       " 'tzinfo']"
      ]
     },
     "execution_count": 1,
     "metadata": {},
     "output_type": "execute_result"
    }
   ],
   "source": [
    "import datetime \n",
    "dir(datetime)"
   ]
  },
  {
   "cell_type": "code",
   "execution_count": 10,
   "metadata": {},
   "outputs": [
    {
     "name": "stdout",
     "output_type": "stream",
     "text": [
      "2020-04-10 18:39:23.601368\n",
      "10\n",
      "4\n",
      "18:39:23.601368\n",
      "2020-04-10\n"
     ]
    }
   ],
   "source": [
    "import datetime \n",
    "my_date = datetime.datetime.now()\n",
    "print(my_date)\n",
    "print(my_date.day)\n",
    "print(my_date.month)\n",
    "print(my_date.time()) # it will print out time\n",
    "print(my_date.date()) # it will print out date\n",
    "#dir(my_date)"
   ]
  },
  {
   "cell_type": "markdown",
   "metadata": {},
   "source": [
    "# replace "
   ]
  },
  {
   "cell_type": "code",
   "execution_count": 32,
   "metadata": {},
   "outputs": [
    {
     "name": "stdout",
     "output_type": "stream",
     "text": [
      "0\n",
      "202.0\n"
     ]
    }
   ],
   "source": [
    "our_date = datetime.datetime.now()\n",
    "our_date = our_date.replace(hour=9, minute=0, second=0, microsecond=0)\n",
    "print(our_date.second)\n",
    "print(our_date.year/10)"
   ]
  },
  {
   "cell_type": "markdown",
   "metadata": {},
   "source": [
    "# timedelta"
   ]
  },
  {
   "cell_type": "code",
   "execution_count": 27,
   "metadata": {},
   "outputs": [
    {
     "name": "stdout",
     "output_type": "stream",
     "text": [
      "2020-04-10\n",
      "2020-04-17\n",
      "2020-04-03\n"
     ]
    }
   ],
   "source": [
    "import datetime \n",
    "\n",
    "today = datetime.date.today()\n",
    "print(today)\n",
    "# after 7 days \n",
    "after_7_days = today + datetime.timedelta(days=7)\n",
    "print(after_7_days)\n",
    "# before 7 days \n",
    "before_7_days = today + datetime.timedelta(days=-7)\n",
    "print(before_7_days)"
   ]
  },
  {
   "cell_type": "markdown",
   "metadata": {},
   "source": [
    "# Getting off from work"
   ]
  },
  {
   "cell_type": "code",
   "execution_count": 35,
   "metadata": {},
   "outputs": [
    {
     "name": "stdout",
     "output_type": "stream",
     "text": [
      "16:00:00\n"
     ]
    }
   ],
   "source": [
    "# when we will get off from work tomorrow if work start from 8:00 and working duration is 8hours\n",
    "now = datetime.datetime.now()\n",
    "hour = datetime.timedelta(hours=1)\n",
    "work_time = hour * 8\n",
    "tomorrow = now.replace(hour=8, minute=0, second=0, microsecond=0) + datetime.timedelta(days=1)\n",
    "off_datetime=tomorrow + work_time\n",
    "print(off_datetime.time())"
   ]
  },
  {
   "cell_type": "markdown",
   "metadata": {},
   "source": [
    "# appointment "
   ]
  },
  {
   "cell_type": "code",
   "execution_count": 37,
   "metadata": {},
   "outputs": [
    {
     "name": "stdout",
     "output_type": "stream",
     "text": [
      "2020-04-20 08:45:00\n"
     ]
    }
   ],
   "source": [
    "appointment_time = datetime.timedelta(minutes=45)\n",
    "start = datetime.datetime(2020,4,20,8,0)\n",
    "end = start + appointment_time\n",
    "print(end)"
   ]
  },
  {
   "cell_type": "code",
   "execution_count": 39,
   "metadata": {},
   "outputs": [
    {
     "name": "stdout",
     "output_type": "stream",
     "text": [
      "3600.0\n"
     ]
    }
   ],
   "source": [
    "import datetime\n",
    "time_delta = datetime.timedelta(hours=1)\n",
    "result = datetime.timedelta.total_seconds(time_delta)\n",
    "print(result)"
   ]
  },
  {
   "cell_type": "markdown",
   "metadata": {},
   "source": [
    "# weekdays "
   ]
  },
  {
   "cell_type": "code",
   "execution_count": 42,
   "metadata": {},
   "outputs": [
    {
     "name": "stdout",
     "output_type": "stream",
     "text": [
      "4\n",
      "5\n"
     ]
    }
   ],
   "source": [
    "naive = datetime.datetime.today()\n",
    "print(naive.weekday()) # monday 0 and sunday 6\n",
    "print(naive.isoweekday()) # monday 1 and sunday 7"
   ]
  },
  {
   "cell_type": "markdown",
   "metadata": {},
   "source": [
    "# strftime - Method to create a string from a datetime\n"
   ]
  },
  {
   "cell_type": "markdown",
   "metadata": {},
   "source": [
    "# strptime - Method to create a datetime from a string according to a format string"
   ]
  },
  {
   "cell_type": "code",
   "execution_count": 65,
   "metadata": {},
   "outputs": [
    {
     "name": "stdout",
     "output_type": "stream",
     "text": [
      "April 10\n",
      "04:10:2020 23:24:42\n"
     ]
    }
   ],
   "source": [
    "import datetime \n",
    "now = datetime.datetime.now()\n",
    "print(now.strftime('%B %d'))\n",
    "print(now.strftime('%m:%d:%Y %H:%M:%S'))"
   ]
  },
  {
   "cell_type": "code",
   "execution_count": 74,
   "metadata": {},
   "outputs": [
    {
     "name": "stdout",
     "output_type": "stream",
     "text": [
      "1997-10-28 12:30:00\n"
     ]
    }
   ],
   "source": [
    "my_birthday = datetime.datetime.strptime('1997-10-28 12:30','%Y-%m-%d %H:%M')\n",
    "print(my_birthday)"
   ]
  },
  {
   "cell_type": "code",
   "execution_count": 86,
   "metadata": {},
   "outputs": [
    {
     "name": "stdout",
     "output_type": "stream",
     "text": [
      "October_28\n"
     ]
    }
   ],
   "source": [
    "result = datetime.datetime.strptime('10/28','%m/%d')\n",
    "result = result.strftime('%B_%d')\n",
    "print(result)"
   ]
  },
  {
   "cell_type": "markdown",
   "metadata": {},
   "source": [
    "# wikipedia link"
   ]
  },
  {
   "cell_type": "code",
   "execution_count": 4,
   "metadata": {},
   "outputs": [
    {
     "name": "stdout",
     "output_type": "stream",
     "text": [
      "Which date you want to see?Enter in MM/DD format and enter quit to Quit10/28\n",
      "https://en.wikipedia.org/wiki/October_28\n",
      "Thank you for using this app\n",
      "Which date you want to see?Enter in MM/DD format and enter quit to Quitquit\n"
     ]
    }
   ],
   "source": [
    "import datetime \n",
    "answer_format = '%m/%d'\n",
    "link_format = '%B_%d'\n",
    "link = 'https://en.wikipedia.org/wiki/{}'\n",
    "\n",
    "while True:\n",
    "    answer = input('Which date you want to see?Enter in MM/DD format and enter quit to Quit').upper()\n",
    "    if answer == 'QUIT':\n",
    "        break\n",
    "    else:\n",
    "        try:\n",
    "            date = datetime.datetime.strptime(answer,answer_format)\n",
    "            result = link.format(date.strftime(link_format))\n",
    "            print(result)\n",
    "        except ValueError:\n",
    "            print(\"{} not a valid date\".format(answer))\n",
    "        finally:\n",
    "            print(\"Thank you for using this app\")"
   ]
  },
  {
   "cell_type": "markdown",
   "metadata": {},
   "source": [
    "# combine datetime"
   ]
  },
  {
   "cell_type": "code",
   "execution_count": 6,
   "metadata": {},
   "outputs": [
    {
     "data": {
      "text/plain": [
       "datetime.datetime(2020, 4, 11, 0, 1, 38, 983150)"
      ]
     },
     "execution_count": 6,
     "metadata": {},
     "output_type": "execute_result"
    }
   ],
   "source": [
    "naive = datetime.datetime.now()\n",
    "date = naive.date()\n",
    "time = naive.time()\n",
    "\n",
    "def combine(d,t):\n",
    "    return datetime.datetime.combine(d, t)\n",
    "combine(date,time)"
   ]
  },
  {
   "cell_type": "markdown",
   "metadata": {},
   "source": [
    "# time machine "
   ]
  },
  {
   "cell_type": "code",
   "execution_count": 10,
   "metadata": {},
   "outputs": [
    {
     "data": {
      "text/plain": [
       "datetime.datetime(2015, 10, 21, 20, 29)"
      ]
     },
     "execution_count": 10,
     "metadata": {},
     "output_type": "execute_result"
    }
   ],
   "source": [
    "import datetime\n",
    "starter = datetime.datetime(2015, 10, 21, 16, 29)\n",
    "\n",
    "def time_machine(time,string):\n",
    "    result = 0\n",
    "    if string == 'minutes':\n",
    "        result = starter + datetime.timedelta(minutes=time)\n",
    "    elif string == 'hours':\n",
    "        result = starter + datetime.timedelta(hours=time)\n",
    "    elif string == 'days':\n",
    "        result = starter + datetime.timedelta(days=time)\n",
    "    elif string == 'years':\n",
    "        result = starter + datetime.timedelta(days=time*365)\n",
    "    return result\n",
    "time_machine(4,'hours')"
   ]
  },
  {
   "cell_type": "markdown",
   "metadata": {},
   "source": [
    "# Quiz App"
   ]
  },
  {
   "cell_type": "code",
   "execution_count": 3,
   "metadata": {},
   "outputs": [],
   "source": [
    "class Question:\n",
    "    text = None\n",
    "    answer = None\n",
    "    \n",
    "class Add(Question):\n",
    "    def __init__(self, num1, num2):\n",
    "        self.text = '{} + {}'.format(num1, num2)\n",
    "        self.answer = num1 + num2\n",
    "        \n",
    "class Multiply(Question):\n",
    "    def __init__(self, num1, num2):\n",
    "        self.text = '{} * {}'.format(num1,num2)\n",
    "        self.answer = num1 * num2\n",
    "        "
   ]
  },
  {
   "cell_type": "code",
   "execution_count": 15,
   "metadata": {},
   "outputs": [
    {
     "name": "stdout",
     "output_type": "stream",
     "text": [
      "2 + 3\n",
      "5\n"
     ]
    }
   ],
   "source": [
    "#Testing \n",
    "add = Add(2,3)\n",
    "print(add.text)\n",
    "print(add.answer)"
   ]
  },
  {
   "cell_type": "code",
   "execution_count": null,
   "metadata": {},
   "outputs": [
    {
     "name": "stdout",
     "output_type": "stream",
     "text": [
      "6 * 5 = 30\n",
      "1 * 3 = kl\n",
      "Please enter correct input\n",
      "1 * 3 = 3\n"
     ]
    }
   ],
   "source": [
    "import datetime\n",
    "import random\n",
    "\n",
    "class Quiz:\n",
    "    questions = []\n",
    "    answers = []\n",
    "    def __init__(self):\n",
    "        question_type = (Add,Multiply)\n",
    "        # generate 10 random questions with number 1-10\n",
    "        for _ in range(10):\n",
    "            num1 = random.randint(1, 10)\n",
    "            num2 = random.randint(1, 10)\n",
    "            question = random.choice(question_type)(num1, num2)\n",
    "             # store all in quesions\n",
    "            self.questions.append(question)\n",
    "        \n",
    "    \n",
    "    def take_quiz(self):\n",
    "        # log the start time\n",
    "        self.start_time = datetime.datetime.now()\n",
    "        # ask all the questions\n",
    "        for question in self.questions:\n",
    "            self.answers.append(self.ask(question))\n",
    "        else:\n",
    "            self.end_time = datetime.datetime.now()\n",
    "        return self.summary()\n",
    "    \n",
    "    def ask(self,question):\n",
    "        correct = False\n",
    "        # log the start time\n",
    "        question_start = datetime.datetime.now()\n",
    "        # capture the right answer\n",
    "        while True:\n",
    "            try:\n",
    "                answer = int(input(question.text + ' = '))\n",
    "                break\n",
    "            except ValueError:\n",
    "                print('Please enter correct input')\n",
    "                continue\n",
    "    \n",
    "        # check the answer \n",
    "        if answer == str(question.answer):\n",
    "            correct = True\n",
    "        else:\n",
    "            correct = False\n",
    "        # log the end time\n",
    "        question_end = datetime.datetime.now()\n",
    "        \n",
    "        return correct, (question_end - question_start)\n",
    "        \n",
    "    \n",
    "    def total_correct(self):\n",
    "        total = 0\n",
    "        for answer in self.answers:\n",
    "            if answer[0] == True:\n",
    "                total += 1\n",
    "        return total\n",
    "            \n",
    "    \n",
    "    def summary(self):\n",
    "        # print out how many you got right \n",
    "        print(\"You got {} out of {}\".format(self.total_correct(),len(self.questions)))\n",
    "        # print out how much time you took\n",
    "        print('you took {} seconds'.format((self.end_time-self.start_time).seconds))\n",
    "Quiz().take_quiz()"
   ]
  },
  {
   "cell_type": "code",
   "execution_count": 23,
   "metadata": {},
   "outputs": [
    {
     "data": {
      "text/plain": [
       "[<__main__.Multiply at 0x1c611bc2cc8>,\n",
       " <__main__.Add at 0x1c611bdc848>,\n",
       " <__main__.Multiply at 0x1c611bdcac8>,\n",
       " <__main__.Multiply at 0x1c611bdcd08>,\n",
       " <__main__.Multiply at 0x1c611bdcdc8>,\n",
       " <__main__.Add at 0x1c611bdc9c8>,\n",
       " <__main__.Add at 0x1c611bdce88>,\n",
       " <__main__.Multiply at 0x1c611bdcfc8>,\n",
       " <__main__.Add at 0x1c611bdce08>,\n",
       " <__main__.Add at 0x1c611bdc408>]"
      ]
     },
     "execution_count": 23,
     "metadata": {},
     "output_type": "execute_result"
    }
   ],
   "source": [
    "# testing\n",
    "test_quiz = Quiz()\n",
    "test_quiz.questions"
   ]
  },
  {
   "cell_type": "code",
   "execution_count": 28,
   "metadata": {},
   "outputs": [
    {
     "name": "stdout",
     "output_type": "stream",
     "text": [
      "3 * 6\n",
      "18\n"
     ]
    }
   ],
   "source": [
    "print(test_quiz.questions[0].text)\n",
    "print(test_quiz.questions[0].answer)"
   ]
  },
  {
   "cell_type": "markdown",
   "metadata": {},
   "source": [
    "# time zone "
   ]
  },
  {
   "cell_type": "code",
   "execution_count": 4,
   "metadata": {},
   "outputs": [],
   "source": [
    "import datetime\n",
    "\n",
    "pacific = datetime.timezone(datetime.timedelta(hours=-8))\n",
    "eastern = datetime.timezone(datetime.timedelta(hours=-5))\n",
    "mumbai = datetime.timezone(datetime.timedelta(hours=5, minutes=30))"
   ]
  },
  {
   "cell_type": "code",
   "execution_count": 2,
   "metadata": {},
   "outputs": [
    {
     "name": "stdout",
     "output_type": "stream",
     "text": [
      "2020-02-10 09:00:00-08:00\n"
     ]
    }
   ],
   "source": [
    "aware = datetime.datetime(2020, 2, 10,9, tzinfo=pacific)\n",
    "print(aware) "
   ]
  },
  {
   "cell_type": "code",
   "execution_count": 3,
   "metadata": {},
   "outputs": [
    {
     "data": {
      "text/plain": [
       "datetime.timezone(datetime.timedelta(days=-1, seconds=68400))"
      ]
     },
     "execution_count": 3,
     "metadata": {},
     "output_type": "execute_result"
    }
   ],
   "source": [
    "# coverting to eastern timezone \n",
    "eastern_time = aware.astimezone(eastern)\n",
    "eastern"
   ]
  },
  {
   "cell_type": "code",
   "execution_count": 5,
   "metadata": {},
   "outputs": [
    {
     "data": {
      "text/plain": [
       "datetime.datetime(2020, 2, 10, 22, 30, tzinfo=datetime.timezone(datetime.timedelta(seconds=19800)))"
      ]
     },
     "execution_count": 5,
     "metadata": {},
     "output_type": "execute_result"
    }
   ],
   "source": [
    "mumbai_time = aware.astimezone(mumbai)\n",
    "mumbai_time"
   ]
  },
  {
   "cell_type": "code",
   "execution_count": 10,
   "metadata": {},
   "outputs": [
    {
     "name": "stdout",
     "output_type": "stream",
     "text": [
      "2020-04-10 09:00:00-08:00\n"
     ]
    }
   ],
   "source": [
    "import datetime \n",
    "\n",
    "naive = datetime.datetime(2020,4,10,9)\n",
    "us_timezone = datetime.timezone(datetime.timedelta(hours=-8))\n",
    "us_time = naive.replace(tzinfo=us_timezone)\n",
    "print(us_time)"
   ]
  },
  {
   "cell_type": "markdown",
   "metadata": {},
   "source": [
    "# Using pytz "
   ]
  },
  {
   "cell_type": "code",
   "execution_count": 25,
   "metadata": {},
   "outputs": [
    {
     "name": "stdout",
     "output_type": "stream",
     "text": [
      "2020-04-11 18:53:28.260148\n",
      "2020-04-11 18:53:28.260147\n",
      "2020-04-11 12:53:28.260147\n"
     ]
    }
   ],
   "source": [
    "import datetime\n",
    "\n",
    "dt_today = datetime.datetime.today() # it's a local timezone without timezone aware\n",
    "dt_now = datetime.datetime.now() # it gives the opportunity to pass the timezone\n",
    "dt_utc = datetime.datetime.utcnow() # it's a timeazone aware but tzinfo is still set to none\n",
    "\n",
    "print(dt_today)\n",
    "print(dt_now)\n",
    "print(dt_utc)"
   ]
  },
  {
   "cell_type": "code",
   "execution_count": 34,
   "metadata": {},
   "outputs": [
    {
     "name": "stdout",
     "output_type": "stream",
     "text": [
      "2020-04-11 12:58:07.379894+00:00\n",
      "2020-04-11 18:58:07 +06+0600\n",
      "2020-04-11 18:28:07.379894+05:30\n"
     ]
    }
   ],
   "source": [
    "import datetime\n",
    "import pytz\n",
    "fmt = '%Y-%m-%d %H:%M:%S %Z%z'\n",
    "\n",
    "dt_utcnow = datetime.datetime.now(tz=pytz.UTC)\n",
    "print(dt_utcnow)\n",
    "dt_dhaka = dt_utcnow.astimezone(pytz.timezone('Asia/Dhaka')).strftime(fmt)\n",
    "print(dt_dhaka)\n",
    "dt_mumbai = dt_utcnow.astimezone(pytz.timezone('Asia/Calcutta'))\n",
    "print(dt_mumbai)"
   ]
  },
  {
   "cell_type": "code",
   "execution_count": 36,
   "metadata": {},
   "outputs": [],
   "source": [
    "#for tz in pytz.all_timezones:\n",
    "    #print(tz)"
   ]
  },
  {
   "cell_type": "code",
   "execution_count": 39,
   "metadata": {},
   "outputs": [
    {
     "name": "stdout",
     "output_type": "stream",
     "text": [
      "2020-04-11 19:07:42.515482-06:00\n",
      "2020-04-11 21:07:42.515482-04:00\n"
     ]
    }
   ],
   "source": [
    "# this is how we convert naive datetime to timezone aware \n",
    "\n",
    "naive = datetime.datetime.now()\n",
    "mountain_timezone = pytz.timezone('US/Mountain')\n",
    "mountain_datetime = mountain_timezone.localize(naive)\n",
    "print(mountain_datetime)\n",
    "us_eastern = mountain_datetime.astimezone(pytz.timezone('US/Eastern'))\n",
    "print(us_eastern)"
   ]
  },
  {
   "cell_type": "markdown",
   "metadata": {},
   "source": [
    "# meeting in different time"
   ]
  },
  {
   "cell_type": "code",
   "execution_count": 5,
   "metadata": {},
   "outputs": [
    {
     "name": "stdout",
     "output_type": "stream",
     "text": [
      "Please enter date in MM/DD/YY HH:MM 10/28/2020 10:10\n",
      "2020-10-28 10:10:00 PDT-0700\n",
      "2020-10-28 13:10:00 EDT-0400\n",
      "2020-10-29 01:10:00 CST+0800\n",
      "2020-10-28 23:10:00 +06+0600\n",
      "2020-10-28 22:40:00 IST+0530\n"
     ]
    }
   ],
   "source": [
    "from datetime import datetime\n",
    "import pytz\n",
    "\n",
    "other_timezones = [\n",
    "    pytz.timezone('US/Pacific'),\n",
    "    pytz.timezone('US/Eastern'),\n",
    "    pytz.timezone('Asia/Chongqing'),\n",
    "    pytz.timezone('Asia/Dhaka'),\n",
    "    pytz.timezone('Asia/Calcutta')\n",
    "]\n",
    "fmt = '%Y-%m-%d %H:%M:%S %Z%z'\n",
    "while True:\n",
    "    input_date = input('Please enter date in MM/DD/YY HH:MM ')\n",
    "    try:\n",
    "        local_date = datetime.strptime(input_date,'%m/%d/%Y %H:%M')\n",
    "    except ValueError:\n",
    "        print(input_date,' is not a valid date')\n",
    "    else:\n",
    "        local_date = pytz.timezone('US/Pacific').localize(local_date)\n",
    "        utc_date = local_date.astimezone(pytz.utc)\n",
    "        output = []\n",
    "        \n",
    "        for timezone in other_timezones:\n",
    "            output.append(utc_date.astimezone(timezone)) # this is convertin to another timezone\n",
    "        for appointment in output:\n",
    "            print(appointment.strftime(fmt))\n",
    "        break"
   ]
  },
  {
   "cell_type": "markdown",
   "metadata": {},
   "source": [
    "# Take timezone as string and convert starter to that timezone"
   ]
  },
  {
   "cell_type": "code",
   "execution_count": 6,
   "metadata": {},
   "outputs": [],
   "source": [
    "import datetime\n",
    "\n",
    "import pytz\n",
    "\n",
    "starter = pytz.utc.localize(datetime.datetime(2015, 10, 21, 23, 29))\n",
    "def to_timezone(timezone_as_string):\n",
    "    result = starter.astimezone(pytz.timezone(timezone_as_string))\n",
    "    return result"
   ]
  },
  {
   "cell_type": "code",
   "execution_count": 7,
   "metadata": {},
   "outputs": [
    {
     "data": {
      "text/plain": [
       "datetime.datetime(2015, 10, 21, 19, 29, tzinfo=<DstTzInfo 'US/Eastern' EDT-1 day, 20:00:00 DST>)"
      ]
     },
     "execution_count": 7,
     "metadata": {},
     "output_type": "execute_result"
    }
   ],
   "source": [
    "to_timezone('US/Eastern')"
   ]
  },
  {
   "cell_type": "code",
   "execution_count": null,
   "metadata": {},
   "outputs": [],
   "source": []
  },
  {
   "cell_type": "code",
   "execution_count": null,
   "metadata": {},
   "outputs": [],
   "source": []
  },
  {
   "cell_type": "code",
   "execution_count": null,
   "metadata": {},
   "outputs": [],
   "source": []
  },
  {
   "cell_type": "code",
   "execution_count": null,
   "metadata": {},
   "outputs": [],
   "source": []
  },
  {
   "cell_type": "code",
   "execution_count": null,
   "metadata": {},
   "outputs": [],
   "source": []
  },
  {
   "cell_type": "code",
   "execution_count": null,
   "metadata": {},
   "outputs": [],
   "source": []
  },
  {
   "cell_type": "code",
   "execution_count": null,
   "metadata": {},
   "outputs": [],
   "source": []
  },
  {
   "cell_type": "code",
   "execution_count": null,
   "metadata": {},
   "outputs": [],
   "source": []
  },
  {
   "cell_type": "code",
   "execution_count": null,
   "metadata": {},
   "outputs": [],
   "source": []
  }
 ],
 "metadata": {
  "kernelspec": {
   "display_name": "Python 3",
   "language": "python",
   "name": "python3"
  },
  "language_info": {
   "codemirror_mode": {
    "name": "ipython",
    "version": 3
   },
   "file_extension": ".py",
   "mimetype": "text/x-python",
   "name": "python",
   "nbconvert_exporter": "python",
   "pygments_lexer": "ipython3",
   "version": "3.7.4"
  }
 },
 "nbformat": 4,
 "nbformat_minor": 2
}
