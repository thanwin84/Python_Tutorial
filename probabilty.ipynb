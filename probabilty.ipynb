{
 "cells": [
  {
   "cell_type": "code",
   "execution_count": 1,
   "metadata": {},
   "outputs": [
    {
     "data": {
      "text/plain": [
       "{2: [2],\n",
       " 3: [3, 3],\n",
       " 4: [4, 4, 4],\n",
       " 5: [5, 5, 5, 5],\n",
       " 6: [6, 6, 6, 6, 6],\n",
       " 7: [7, 7, 7, 7, 7, 7],\n",
       " 8: [8, 8, 8, 8, 8],\n",
       " 9: [9, 9, 9, 9],\n",
       " 10: [10, 10, 10],\n",
       " 11: [11, 11],\n",
       " 12: [12]}"
      ]
     },
     "execution_count": 1,
     "metadata": {},
     "output_type": "execute_result"
    }
   ],
   "source": [
    "# what is most probable value when we roll two 6-sided dice\n",
    "from itertools import product\n",
    "c = 0\n",
    "R = {}\n",
    "for i in product(range(1, 7), repeat=2):\n",
    "    c += 1\n",
    "    if sum(i) not in R.keys():\n",
    "        R[sum(i)] = []\n",
    "        R[sum(i)].append(sum(i))\n",
    "    else:\n",
    "        R[sum(i)].append(sum(i))\n",
    "R"
   ]
  },
  {
   "cell_type": "code",
   "execution_count": 7,
   "metadata": {},
   "outputs": [
    {
     "data": {
      "text/plain": [
       "0.375"
      ]
     },
     "execution_count": 7,
     "metadata": {},
     "output_type": "execute_result"
    }
   ],
   "source": [
    "# find the probality fo flipping exactly teo heads on three coins\n",
    "# it gives 2^n outcome \n",
    "from itertools import product\n",
    "count = 0\n",
    "total = 0\n",
    "for i in product(['H', 'T'], repeat=3):\n",
    "    h = 0\n",
    "    total += 1\n",
    "    for j in i:\n",
    "        if j == 'H':\n",
    "            h += 1\n",
    "    if h == 2:\n",
    "        count += 1\n",
    "exactly_two_heads = count/ total\n",
    "exactly_two_heads"
   ]
  },
  {
   "cell_type": "code",
   "execution_count": 38,
   "metadata": {},
   "outputs": [
    {
     "data": {
      "text/plain": [
       "(240, 720)"
      ]
     },
     "execution_count": 38,
     "metadata": {},
     "output_type": "execute_result"
    }
   ],
   "source": [
    "from itertools import permutations\n",
    "count = 0\n",
    "total = 0\n",
    "for i in permutations(['a','b','c','d','e','f']):\n",
    "    total += 1\n",
    "    l = list(i)\n",
    "    a = l.index('a')\n",
    "    b = l.index('b')\n",
    "    if abs(a-b) == 1:\n",
    "#         print(i)\n",
    "        count += 1\n",
    "count, total"
   ]
  },
  {
   "cell_type": "markdown",
   "metadata": {},
   "source": [
    "## Experimental probability"
   ]
  },
  {
   "cell_type": "code",
   "execution_count": 3,
   "metadata": {},
   "outputs": [
    {
     "data": {
      "text/plain": [
       "100"
      ]
     },
     "execution_count": 3,
     "metadata": {},
     "output_type": "execute_result"
    }
   ],
   "source": [
    "from itertools import product\n",
    "count = 0\n",
    "for i in product([1, 2, 3, 4, 5, 6, 1, 2, 3, 4], repeat=2):\n",
    "    count += 1\n",
    "count"
   ]
  },
  {
   "cell_type": "code",
   "execution_count": 2,
   "metadata": {},
   "outputs": [
    {
     "data": {
      "text/plain": [
       "5"
      ]
     },
     "execution_count": 2,
     "metadata": {},
     "output_type": "execute_result"
    }
   ],
   "source": [
    "from itertools import product\n",
    "count = 0\n",
    "for i in product(range(1, 7), repeat=2):\n",
    "    if sum(i) == 8:\n",
    "        count +=1 \n",
    "count"
   ]
  },
  {
   "cell_type": "code",
   "execution_count": 3,
   "metadata": {},
   "outputs": [
    {
     "name": "stdout",
     "output_type": "stream",
     "text": [
      "(1, 3)\n",
      "(2, 3)\n",
      "(3, 1)\n",
      "(3, 2)\n",
      "(3, 3)\n",
      "(3, 4)\n",
      "(3, 5)\n",
      "(3, 6)\n",
      "(4, 3)\n",
      "(5, 3)\n",
      "(6, 3)\n"
     ]
    },
    {
     "data": {
      "text/plain": [
       "11"
      ]
     },
     "execution_count": 3,
     "metadata": {},
     "output_type": "execute_result"
    }
   ],
   "source": [
    "from itertools import product\n",
    "count = 0\n",
    "for i in product(range(1, 7), repeat=2):\n",
    "    if 3 in i:\n",
    "        count += 1\n",
    "        print(i)\n",
    "count"
   ]
  },
  {
   "cell_type": "code",
   "execution_count": 4,
   "metadata": {},
   "outputs": [
    {
     "data": {
      "text/plain": [
       "360"
      ]
     },
     "execution_count": 4,
     "metadata": {},
     "output_type": "execute_result"
    }
   ],
   "source": [
    "from itertools import permutations\n",
    "count = 0\n",
    "for i in permutations(['A', 'B', 'C', 'D', 'E', 'F']):\n",
    "    if i[0] != 'A': # under this condition\n",
    "        if i.index('B') < i.index('A'):\n",
    "#             print(i)\n",
    "            count += 1\n",
    "count"
   ]
  },
  {
   "cell_type": "code",
   "execution_count": 7,
   "metadata": {},
   "outputs": [
    {
     "name": "stdout",
     "output_type": "stream",
     "text": [
      "(1, 5)\n",
      "(2, 4)\n",
      "(3, 3)\n",
      "(4, 2)\n",
      "(5, 1)\n"
     ]
    },
    {
     "data": {
      "text/plain": [
       "5"
      ]
     },
     "execution_count": 7,
     "metadata": {},
     "output_type": "execute_result"
    }
   ],
   "source": [
    "from itertools import product\n",
    "c = 0\n",
    "for i in product(range(1, 7), repeat=2):\n",
    "    if sum(i) == 6:\n",
    "        c += 1\n",
    "        print(i)\n",
    "c"
   ]
  },
  {
   "cell_type": "code",
   "execution_count": 10,
   "metadata": {},
   "outputs": [
    {
     "name": "stdout",
     "output_type": "stream",
     "text": [
      "('H', 'T', 'T')\n",
      "('T', 'H', 'T')\n",
      "('T', 'T', 'H')\n",
      "('T', 'T', 'T')\n"
     ]
    }
   ],
   "source": [
    "from itertools import product\n",
    "c = 0\n",
    "for i in product(['H','T'],repeat = 3):\n",
    "    if list(i).count('T') >= 2:\n",
    "        print(i)"
   ]
  },
  {
   "cell_type": "code",
   "execution_count": 5,
   "metadata": {},
   "outputs": [
    {
     "data": {
      "text/plain": [
       "0"
      ]
     },
     "execution_count": 5,
     "metadata": {},
     "output_type": "execute_result"
    }
   ],
   "source": [
    "a = [1, 2, 3]\n",
    "a.index(1)"
   ]
  },
  {
   "cell_type": "code",
   "execution_count": null,
   "metadata": {},
   "outputs": [],
   "source": []
  },
  {
   "cell_type": "code",
   "execution_count": null,
   "metadata": {},
   "outputs": [],
   "source": []
  },
  {
   "cell_type": "code",
   "execution_count": null,
   "metadata": {},
   "outputs": [],
   "source": []
  },
  {
   "cell_type": "code",
   "execution_count": null,
   "metadata": {},
   "outputs": [],
   "source": []
  },
  {
   "cell_type": "code",
   "execution_count": null,
   "metadata": {},
   "outputs": [],
   "source": []
  },
  {
   "cell_type": "code",
   "execution_count": null,
   "metadata": {},
   "outputs": [],
   "source": []
  },
  {
   "cell_type": "code",
   "execution_count": null,
   "metadata": {},
   "outputs": [],
   "source": []
  }
 ],
 "metadata": {
  "kernelspec": {
   "display_name": "Python 3",
   "language": "python",
   "name": "python3"
  },
  "language_info": {
   "codemirror_mode": {
    "name": "ipython",
    "version": 3
   },
   "file_extension": ".py",
   "mimetype": "text/x-python",
   "name": "python",
   "nbconvert_exporter": "python",
   "pygments_lexer": "ipython3",
   "version": "3.7.6"
  }
 },
 "nbformat": 4,
 "nbformat_minor": 2
}
