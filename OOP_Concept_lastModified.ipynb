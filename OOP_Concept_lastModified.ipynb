{
 "cells": [
  {
   "cell_type": "markdown",
   "metadata": {},
   "source": [
    "# What is object?"
   ]
  },
  {
   "cell_type": "raw",
   "metadata": {},
   "source": [
    "In python,everything is object.Python supports many kinds of data.\n",
    "for example: 12,'hello',[1,2,3],8.8\n",
    "each is an object and each object\n",
    ">>has a type\n",
    ">>an internal data representation \n",
    ">> a set of procedures for interaction with the object\n",
    "an object is an instance of a type\n",
    ">>23 is an instance ot int\n",
    ">>'hello' is an instance of string\n",
    "   ****instance is something that gives a seperate identity\n"
   ]
  },
  {
   "cell_type": "markdown",
   "metadata": {},
   "source": [
    "# What is class?"
   ]
  },
  {
   "cell_type": "raw",
   "metadata": {},
   "source": [
    "# object:                    object:\n",
    "        name: 'tom'              name: 'jerry'\n",
    "r1=     color: 'red'       r2=   color: 'blue'\n",
    "        weight: 30               weight: 40\n",
    "       +introduceself()          +introduceself()\n",
    "       object/instance= instance variable + methods(functions)\n",
    "             class(it's a design or blueprint)\n",
    "                    name:.....\n",
    "                    color:.....\n",
    "                    weight:.....\n",
    "                    +introduceself\n",
    "                ***class doesn't refer to any particular object\n",
    "                ***it's just the design \n",
    "                ***many objects can be created  from class\n",
    "              \n",
    "               \n",
    "      "
   ]
  },
  {
   "cell_type": "markdown",
   "metadata": {},
   "source": [
    "# what is attributes ?"
   ]
  },
  {
   "cell_type": "raw",
   "metadata": {},
   "source": [
    "data and procedures that belong to class."
   ]
  },
  {
   "cell_type": "markdown",
   "metadata": {},
   "source": [
    "# How to create class and its object?"
   ]
  },
  {
   "cell_type": "code",
   "execution_count": 38,
   "metadata": {},
   "outputs": [],
   "source": [
    "#create a new object type called 'Sample'\n",
    "class Sample:\n",
    "    pass\n",
    "#creating new objec from class \n",
    "#instance of class \n",
    "#instance is something that gives a seprerate identity \n",
    "a1 = Sample()\n",
    "a2 = Sample()\n",
    "#objec is instance\n",
    "#so we can say,a1 is instance of Sample class"
   ]
  },
  {
   "cell_type": "code",
   "execution_count": 40,
   "metadata": {},
   "outputs": [
    {
     "name": "stdout",
     "output_type": "stream",
     "text": [
      "<class '__main__.Sample'>\n",
      "<__main__.Sample object at 0x0000020313629688>\n",
      "<class 'type'>\n",
      "<class '__main__.Sample'>\n",
      "True\n"
     ]
    }
   ],
   "source": [
    "print(Sample)\n",
    "print(a2)\n",
    "#look at the type\n",
    "print(type(Sample))\n",
    "print(type(a2))\n",
    "print(type(a2) is type(a1))"
   ]
  },
  {
   "cell_type": "code",
   "execution_count": 11,
   "metadata": {},
   "outputs": [
    {
     "name": "stdout",
     "output_type": "stream",
     "text": [
      "1000\n",
      "john doe\n",
      "1000\n"
     ]
    }
   ],
   "source": [
    "class Employee:\n",
    "    #class attibute\n",
    "    salary = 1000\n",
    "    name = 'john doe'\n",
    "emp1 = Employee()\n",
    "#accessing class attribute\n",
    "print(emp1.salary)\n",
    "print(emp1.name)\n",
    "#class attributes can be accessed by its class name also\n",
    "print(Employee.salary)"
   ]
  },
  {
   "cell_type": "markdown",
   "metadata": {},
   "source": [
    "# How to create an instance of class?"
   ]
  },
  {
   "cell_type": "code",
   "execution_count": 13,
   "metadata": {},
   "outputs": [
    {
     "name": "stdout",
     "output_type": "stream",
     "text": [
      "2\n",
      "0\n"
     ]
    }
   ],
   "source": [
    "#the process of creating instance from class is called 'instantiation'\n",
    "class Coordinate(object):\n",
    "    #constructor\n",
    "    #__init__ method to create some data initialize\n",
    "    def __init__(self,x,y): #self refer to an instance of the clas\n",
    "        #instance variable\n",
    "        self.x = x\n",
    "        self.y = y\n",
    "#creating new object\n",
    "c = Coordinate(2,3)\n",
    "origin = Coordinate(0,0)\n",
    "#accessing an attribute of instance 'c'\n",
    "print(c.x)\n",
    "print(origin.y)"
   ]
  },
  {
   "cell_type": "markdown",
   "metadata": {},
   "source": [
    "# Creating method and calling method"
   ]
  },
  {
   "cell_type": "code",
   "execution_count": 16,
   "metadata": {},
   "outputs": [
    {
     "name": "stdout",
     "output_type": "stream",
     "text": [
      "3.605551275463989\n",
      "3.605551275463989\n"
     ]
    }
   ],
   "source": [
    "class Coordinate(object):\n",
    "    def __init__(self,x,y):\n",
    "        self.x = x\n",
    "        self.y = y \n",
    "        #instance method\n",
    "    def distance(self,other):\n",
    "        x_diff_sq = (self.x + other.x)**2\n",
    "        y_diff_sq = (self.y + other.y)**2\n",
    "        return (x_diff_sq + y_diff_sq)**0.5\n",
    "c1 = Coordinate(2,3)\n",
    "zero = Coordinate(0,0)\n",
    "#accessing method\n",
    "print(c1.distance(zero))\n",
    "print(Coordinate.distance(c1,zero))"
   ]
  },
  {
   "cell_type": "markdown",
   "metadata": {},
   "source": [
    "# Why we need to use class?"
   ]
  },
  {
   "cell_type": "code",
   "execution_count": 19,
   "metadata": {},
   "outputs": [
    {
     "name": "stdout",
     "output_type": "stream",
     "text": [
      "devid\n",
      "than\n"
     ]
    }
   ],
   "source": [
    "class Employee:\n",
    "    pass\n",
    "#class attribue or variable \n",
    "emp_1 = Employee()\n",
    "emp_2 = Employee()\n",
    "#instance variable \n",
    "emp_1.first = 'devid'\n",
    "emp_1.last = 'backham'\n",
    "\n",
    "emp_2.first = 'than'\n",
    "emp_2.last = 'win'\n",
    "print(emp_1.first)\n",
    "print(emp_2.first)\n",
    "#this a lot of code and we wont get too much benifit of using class \n",
    "#so we have to use special method so that we dont write code every single time \n",
    "# we need to create new object "
   ]
  },
  {
   "cell_type": "code",
   "execution_count": 25,
   "metadata": {},
   "outputs": [],
   "source": [
    "class Employee:\n",
    "    def __init__(self,first,last,pay):\n",
    "        self.first = first\n",
    "        self.last = last \n",
    "        self.pay  = pay\n",
    "        self.email = first + last + '@mail.com'\n",
    "    def full_name(self):\n",
    "        return self.first+self.last\n",
    "    \n",
    "emp_1 = Employee('tom','jerry',2000)\n",
    "emp_2 = Employee(first='than',last='win',pay=3000)\n",
    "#print(f\"{emp_1.first} {emp_1.last}\")\n",
    "#we can use method so that we dont have to write code every single we need full name\n"
   ]
  },
  {
   "cell_type": "code",
   "execution_count": 26,
   "metadata": {},
   "outputs": [
    {
     "name": "stdout",
     "output_type": "stream",
     "text": [
      "tomjerry@mail.com\n",
      "thanwin@mail.com\n",
      "tomjerry\n"
     ]
    }
   ],
   "source": [
    "print(emp_1.email)\n",
    "print(emp_2.email)\n",
    "print(emp_1.full_name()) #parenthesis is must when we are accessing the method"
   ]
  },
  {
   "cell_type": "markdown",
   "metadata": {},
   "source": [
    "# dog class and updating value"
   ]
  },
  {
   "cell_type": "code",
   "execution_count": 33,
   "metadata": {},
   "outputs": [],
   "source": [
    "class Dog:\n",
    "    def __init__(self,name,breed,spots):\n",
    "        self.name = name\n",
    "        self.breed = breed \n",
    "        self.spots = spots \n",
    "a_dog = Dog('rocky','huski',False)\n",
    "b_dog = Dog('rony','lab',True)\n",
    "a_dog.name = 'new_rocky'"
   ]
  },
  {
   "cell_type": "code",
   "execution_count": 34,
   "metadata": {},
   "outputs": [
    {
     "data": {
      "text/plain": [
       "'new_rocky'"
      ]
     },
     "execution_count": 34,
     "metadata": {},
     "output_type": "execute_result"
    }
   ],
   "source": [
    "a_dog.name"
   ]
  },
  {
   "cell_type": "code",
   "execution_count": 35,
   "metadata": {},
   "outputs": [],
   "source": [
    "del b_dog.name"
   ]
  },
  {
   "cell_type": "markdown",
   "metadata": {},
   "source": [
    "# Class variable"
   ]
  },
  {
   "cell_type": "code",
   "execution_count": 46,
   "metadata": {},
   "outputs": [
    {
     "name": "stdout",
     "output_type": "stream",
     "text": [
      "2000\n",
      "2800\n",
      "{'first': 'tom', 'last': 'jerry', 'pay': 2800, 'email': 'tomjerry@mail.com'}\n",
      "{'__module__': '__main__', '__init__': <function Employee.__init__ at 0x000002031362D1F8>, 'full_name': <function Employee.full_name at 0x000002031362D3A8>, 'apply_raise': <function Employee.apply_raise at 0x000002031362D558>, '__dict__': <attribute '__dict__' of 'Employee' objects>, '__weakref__': <attribute '__weakref__' of 'Employee' objects>, '__doc__': None}\n"
     ]
    }
   ],
   "source": [
    "class Employee:\n",
    "    def __init__(self,first,last,pay):\n",
    "        self.first = first\n",
    "        self.last = last \n",
    "        self.pay  = pay\n",
    "        self.email = first + last + '@mail.com'\n",
    "    def full_name(self):\n",
    "        return self.first+self.last\n",
    "    def apply_raise(self):\n",
    "        self.pay = int(self.pay*1.4)\n",
    "    \n",
    "emp_1 = Employee('tom','jerry',2000)\n",
    "emp_2 = Employee(first='than',last='win',pay=3000)\n",
    "print(emp_1.pay)\n",
    "emp_1.apply_raise()\n",
    "print(emp_1.pay)\n",
    "\n",
    "print(emp_1.__dict__)\n",
    "print(Employee.__dict__)"
   ]
  },
  {
   "cell_type": "code",
   "execution_count": 58,
   "metadata": {},
   "outputs": [
    {
     "name": "stdout",
     "output_type": "stream",
     "text": [
      "2\n"
     ]
    }
   ],
   "source": [
    "class Employee:\n",
    "    raise_amount = 1.4\n",
    "    num_of_emps = 0\n",
    "    def __init__(self,first,last,pay):\n",
    "        self.first = first\n",
    "        self.last = last \n",
    "        self.pay  = pay\n",
    "        self.email = first + last + '@mail.com'\n",
    "        Employee.num_of_emps+=1\n",
    "\n",
    "    def full_name(self):\n",
    "        return self.first+self.last\n",
    "    def apply_raise(self):\n",
    "        self.pay = int(self.pay*self.raise_amount)\n",
    "    \n",
    "emp_1 = Employee('tom','jerry',2000)\n",
    "emp_2 = Employee(first='than',last='win',pay=3000)\n",
    "print(Employee.num_of_emps)\n",
    "\n",
    "#we modify class attribute\n",
    "Employee.raise_amount = 2.1\n",
    "#lets modify instance attribute\n",
    "emp_1.raise_amount = 1.8\n"
   ]
  },
  {
   "cell_type": "code",
   "execution_count": 60,
   "metadata": {},
   "outputs": [
    {
     "name": "stdout",
     "output_type": "stream",
     "text": [
      "1.8\n",
      "2.1\n",
      "2.1\n"
     ]
    }
   ],
   "source": [
    "print(emp_1.raise_amount)\n",
    "print(emp_2.raise_amount)\n",
    "print(Employee.raise_amount)"
   ]
  },
  {
   "cell_type": "code",
   "execution_count": 62,
   "metadata": {},
   "outputs": [],
   "source": [
    "#dog class\n",
    "class Dog:\n",
    "    species = 'Mammal'\n",
    "    def __init__(self,name,breed,spots):\n",
    "        self.name = name\n",
    "        self.breed = breed \n",
    "        self.spots = spots \n",
    "a_dog = Dog('rocky','huski',False)\n",
    "b_dog = Dog('rony','lab',True)\n",
    "a_dog.name = 'new_rocky'"
   ]
  },
  {
   "cell_type": "code",
   "execution_count": 66,
   "metadata": {},
   "outputs": [
    {
     "name": "stdout",
     "output_type": "stream",
     "text": [
      "Mammal\n",
      "Mammal\n"
     ]
    }
   ],
   "source": [
    "print(a_dog.species)\n",
    "print(Dog.species)"
   ]
  },
  {
   "cell_type": "code",
   "execution_count": 76,
   "metadata": {},
   "outputs": [],
   "source": [
    "#make a class for CSS student\n",
    "class CSS():\n",
    "    school = 'McCannel'\n",
    "    def __init__(self,name,age=None):\n",
    "        self.name = name\n",
    "        if age is None:\n",
    "            self.age = []\n",
    "        else:\n",
    "            self.age = age\n",
    "    def display_age(self):\n",
    "        if self.age== []:\n",
    "            print('Sorry, nothing to show')\n",
    "        else:\n",
    "            return self.age\n",
    "a = CSS('Ben')\n",
    "b = CSS('Annie',21)\n",
    "        "
   ]
  },
  {
   "cell_type": "code",
   "execution_count": 79,
   "metadata": {},
   "outputs": [
    {
     "name": "stdout",
     "output_type": "stream",
     "text": [
      "Sorry, nothing to show\n"
     ]
    }
   ],
   "source": [
    "a.display_age()"
   ]
  },
  {
   "cell_type": "code",
   "execution_count": 80,
   "metadata": {},
   "outputs": [
    {
     "name": "stdout",
     "output_type": "stream",
     "text": [
      "McCannel\n",
      "McCannel\n"
     ]
    }
   ],
   "source": [
    "print(a.school)\n",
    "print(CSS.school)"
   ]
  },
  {
   "cell_type": "markdown",
   "metadata": {},
   "source": [
    "# Class method and static method"
   ]
  },
  {
   "cell_type": "code",
   "execution_count": 101,
   "metadata": {},
   "outputs": [
    {
     "name": "stdout",
     "output_type": "stream",
     "text": [
      "EstherCungneizi\n",
      "Selenagomez@mail.com\n"
     ]
    }
   ],
   "source": [
    " class Employee:\n",
    "    raise_amount = 1.4\n",
    "    def __init__(self,first,last,pay):\n",
    "        self.first = first\n",
    "        self.last = last \n",
    "        self.pay  = pay\n",
    "        self.email = first + last + '@mail.com'\n",
    "\n",
    "\n",
    "    def full_name(self):\n",
    "        return self.first+self.last\n",
    "    def apply_raise(self):\n",
    "        self.pay = int(self.pay*self.raise_amount)\n",
    "    @classmethod #when we only have to work  with class attribute\n",
    "    def set_raise_amount(cls,amount):\n",
    "        cls.raise_amount = amount\n",
    "        #we can use class method to provide multiple ways to make object\n",
    "    @classmethod\n",
    "    def from_string(cls,string):\n",
    "        first,last,pay= string.split('-')\n",
    "        return cls(first,last,pay)\n",
    "    #when we dont have to work class or instance variable \n",
    "    @staticmethod\n",
    "    def work_day(day):\n",
    "        if day.weekday()==5 or day.weekday()==6:\n",
    "            return False\n",
    "        return True\n",
    "\n",
    "           \n",
    "\n",
    "        #creating objeccts    \n",
    "emp_1 = Employee('tom','jerry',2000)\n",
    "emp_2 = Employee('than','win',3000)\n",
    "#print(emp_1.raise_amount)\n",
    "emp_1.set_raise_amount(2) #it changes everywhere\n",
    "#print(emp_1.raise_amount)\n",
    "#print(Employee.raise_amount)\n",
    "#end of example of using set_raise_amount\n",
    "\n",
    "new_string1 ='Esther-Cungneizi-3000'\n",
    "new_string2 = 'Selena-gomez-5000'\n",
    "\n",
    "new_emp1= Employee.from_string(new_string1)\n",
    "new_emp2= Employee.from_string(new_string2)\n",
    "print(new_emp1.full_name())\n",
    "print(new_emp2.email)"
   ]
  },
  {
   "cell_type": "code",
   "execution_count": 104,
   "metadata": {},
   "outputs": [
    {
     "name": "stdout",
     "output_type": "stream",
     "text": [
      "True\n"
     ]
    }
   ],
   "source": [
    "import datetime\n",
    "my_date = datetime.date(2020,3,4)\n",
    "print(Employee.work_day(my_date))"
   ]
  },
  {
   "cell_type": "code",
   "execution_count": 107,
   "metadata": {},
   "outputs": [],
   "source": [
    "#make a class of 'Person'\n",
    "#use classmethod to create a ways to create object\n",
    "from datetime import date\n",
    "class Person():\n",
    "    def __init__(self,name,age):\n",
    "        self.name = name\n",
    "        self.age = age \n",
    "    @classmethod\n",
    "    def from_birthyear(cls,name,year):\n",
    "        return cls(name,date.today().year-year)\n",
    "p1 = Person('munmunsan',16)\n",
    "p2 = Person.from_birthyear('gray',1997)"
   ]
  },
  {
   "cell_type": "code",
   "execution_count": 109,
   "metadata": {},
   "outputs": [
    {
     "name": "stdout",
     "output_type": "stream",
     "text": [
      "23\n",
      "16\n"
     ]
    }
   ],
   "source": [
    "print(p2.age)\n",
    "print(p1.age)"
   ]
  },
  {
   "cell_type": "markdown",
   "metadata": {},
   "source": [
    "# Inheritance "
   ]
  },
  {
   "cell_type": "code",
   "execution_count": 139,
   "metadata": {},
   "outputs": [],
   "source": [
    "class Employee: #super class\n",
    "    raise_amount = 1.4\n",
    "    num_of_emps = 0\n",
    "    def __init__(self,first,last,pay):\n",
    "        self.first = first\n",
    "        self.last = last \n",
    "        self.pay  = pay\n",
    "        self.email = first + last + '@mail.com'\n",
    "        Employee.num_of_emps+=1\n",
    "\n",
    "    def full_name(self):\n",
    "        return self.first+self.last\n",
    "    def apply_raise(self):\n",
    "        self.pay = int(self.pay*self.raise_amount)"
   ]
  },
  {
   "cell_type": "code",
   "execution_count": 113,
   "metadata": {},
   "outputs": [],
   "source": [
    "class Developer(Employee): #derieved claSS \n",
    "    pass"
   ]
  },
  {
   "cell_type": "code",
   "execution_count": 118,
   "metadata": {},
   "outputs": [
    {
     "name": "stdout",
     "output_type": "stream",
     "text": [
      "yablarry\n",
      "princeharry@mail.com\n"
     ]
    }
   ],
   "source": [
    "#print(help(Developer))\n",
    "dev_1 = Developer('yab','larry',2000)\n",
    "dev_2 = Developer('prince','harry',2000)\n",
    "print(dev_1.full_name())\n",
    "print(dev_2.email)"
   ]
  },
  {
   "cell_type": "code",
   "execution_count": 119,
   "metadata": {},
   "outputs": [
    {
     "name": "stdout",
     "output_type": "stream",
     "text": [
      "2000\n",
      "2800\n"
     ]
    }
   ],
   "source": [
    "print(dev_1.pay)\n",
    "dev_1.apply_raise()\n",
    "print(dev_1.pay)"
   ]
  },
  {
   "cell_type": "code",
   "execution_count": 140,
   "metadata": {},
   "outputs": [],
   "source": [
    "class Developer(Employee):\n",
    "    raise_amount = 2.2\n",
    "    #now it access this amount instead of parent class\n",
    "    def __init__(self,first,last,pay,prog_lan):\n",
    "        super().__init__(first,last,pay)\n",
    "        #Employee.__init__(self,first,last,pay)\n",
    "        self.prog_lan = prog_lan\n",
    "dev_1 = Developer('yab','larry',2000,'python')\n",
    "dev_2 = Developer('prince','harry',2000,'java')"
   ]
  },
  {
   "cell_type": "code",
   "execution_count": 124,
   "metadata": {},
   "outputs": [
    {
     "name": "stdout",
     "output_type": "stream",
     "text": [
      "2.2\n",
      "python\n",
      "yablarry\n"
     ]
    }
   ],
   "source": [
    "print(dev_1.raise_amount) #notice where it takes this value\n",
    "print(dev_1.prog_lan)\n",
    "print(dev_1.full_name())"
   ]
  },
  {
   "cell_type": "code",
   "execution_count": 143,
   "metadata": {},
   "outputs": [],
   "source": [
    "class Manager(Employee):\n",
    "    def __init__(self,first,last,pay,employees=None):\n",
    "        super().__init__(first,last,pay)\n",
    "        if employees is None:\n",
    "            self.employees = []\n",
    "        else:\n",
    "            self.employees = employees\n",
    "    def add_emp(self,emp):\n",
    "        if emp not in self.employees:\n",
    "            self.employees.append(emp)\n",
    "    def remove_emp(self,emp):\n",
    "        if emp in self.employees:\n",
    "            self.employees.remove(emp)\n",
    "    def display_emps(self):\n",
    "        for emp in self.employees:\n",
    "            print('---->',emp.full_name())"
   ]
  },
  {
   "cell_type": "code",
   "execution_count": 147,
   "metadata": {},
   "outputs": [
    {
     "name": "stdout",
     "output_type": "stream",
     "text": [
      "SundarPichai@mail.com\n",
      "----> yablarry\n",
      "----> princeharry\n",
      "None\n"
     ]
    }
   ],
   "source": [
    "a_manager = Manager('Sundar','Pichai',2000)\n",
    "print(a_manager.email)\n",
    "#adding employess\n",
    "a_manager.add_emp(dev_1)\n",
    "a_manager.add_emp(dev_2)\n",
    "#displaying employee after adding\n",
    "print(a_manager.display_emps())\n"
   ]
  },
  {
   "cell_type": "code",
   "execution_count": 149,
   "metadata": {},
   "outputs": [
    {
     "name": "stdout",
     "output_type": "stream",
     "text": [
      "----> princeharry\n",
      "None\n"
     ]
    }
   ],
   "source": [
    "a_manager.remove_emp(dev_1)\n",
    "print(a_manager.display_emps())\n"
   ]
  },
  {
   "cell_type": "code",
   "execution_count": 150,
   "metadata": {},
   "outputs": [
    {
     "name": "stdout",
     "output_type": "stream",
     "text": [
      "True\n"
     ]
    }
   ],
   "source": [
    "print(issubclass(Manager,Employee))"
   ]
  },
  {
   "cell_type": "code",
   "execution_count": 151,
   "metadata": {},
   "outputs": [
    {
     "name": "stdout",
     "output_type": "stream",
     "text": [
      "True\n"
     ]
    }
   ],
   "source": [
    "print(isinstance(a_manager,Employee))"
   ]
  },
  {
   "cell_type": "code",
   "execution_count": 152,
   "metadata": {},
   "outputs": [
    {
     "name": "stdout",
     "output_type": "stream",
     "text": [
      "True\n"
     ]
    }
   ],
   "source": [
    "print(isinstance(a_manager,Manager))"
   ]
  },
  {
   "cell_type": "code",
   "execution_count": 153,
   "metadata": {},
   "outputs": [
    {
     "name": "stdout",
     "output_type": "stream",
     "text": [
      "False\n"
     ]
    }
   ],
   "source": [
    "print(isinstance(dev_1,Manager))"
   ]
  },
  {
   "cell_type": "code",
   "execution_count": 167,
   "metadata": {},
   "outputs": [],
   "source": [
    "#another example\n",
    "class Animal(object):\n",
    "    def __init__(self):\n",
    "        print('Animal is created')\n",
    "    def whoAmI(self):\n",
    "        print('I am Animal')\n",
    "    def eat(self):\n",
    "        print('I am eating ')\n",
    "class Dog(Animal):\n",
    "    def __init__(self):\n",
    "        Animal.__init__(self)\n",
    "        print('Dog is created')\n",
    "    def whoAmI(self): #overriting method\n",
    "        print('I am Dog')"
   ]
  },
  {
   "cell_type": "code",
   "execution_count": 168,
   "metadata": {},
   "outputs": [
    {
     "name": "stdout",
     "output_type": "stream",
     "text": [
      "Animal is created\n",
      "Animal is created\n",
      "Dog is created\n"
     ]
    }
   ],
   "source": [
    "my_animal = Animal()\n",
    "my_dog = Dog()"
   ]
  },
  {
   "cell_type": "code",
   "execution_count": 171,
   "metadata": {},
   "outputs": [
    {
     "name": "stdout",
     "output_type": "stream",
     "text": [
      "I am Animal\n",
      "I am Dog\n"
     ]
    }
   ],
   "source": [
    "my_animal.whoAmI()\n",
    "my_dog.whoAmI()\n"
   ]
  },
  {
   "cell_type": "markdown",
   "metadata": {},
   "source": [
    "# Magic method or Dunder method"
   ]
  },
  {
   "cell_type": "code",
   "execution_count": 20,
   "metadata": {},
   "outputs": [],
   "source": [
    "class AddNum:\n",
    "    def __init__(self,x,y):\n",
    "        self.x = x\n",
    "        self.y = y \n",
    "    def __add__(self,other):\n",
    "        return self.x + other.x"
   ]
  },
  {
   "cell_type": "code",
   "execution_count": 21,
   "metadata": {},
   "outputs": [
    {
     "name": "stdout",
     "output_type": "stream",
     "text": [
      "5\n"
     ]
    }
   ],
   "source": [
    "a1 = AddNum(2,3)\n",
    "a2 = AddNum(3,2)\n",
    "print(a1 + a2)\n",
    "#when we try to add b1 and b2,it checks if 'AddNum' class has a method to add this\n",
    "#otherwise it will give an error"
   ]
  },
  {
   "cell_type": "code",
   "execution_count": 46,
   "metadata": {},
   "outputs": [],
   "source": [
    "class Employee: #super class\n",
    "    raise_amount = 1.4\n",
    "    def __init__(self,first,last,pay):\n",
    "        self.first = first\n",
    "        self.last = last \n",
    "        self.pay  = pay\n",
    "        self.email = first + last + '@mail.com'\n",
    "\n",
    "    def full_name(self):\n",
    "        return self.first+self.last\n",
    "    def apply_raise(self):\n",
    "        self.pay = int(self.pay*self.raise_amount)\n",
    "    #def __repr__(self):\n",
    "       # return \"Employee('{}','{}',{})\".format(self.first,self.last,self.pay)\n",
    "    def __str__(self):\n",
    "        return f\"{self.full_name()}-{self.email}\"\n",
    "    def __add__(self,other):\n",
    "        return self.pay + other.pay\n",
    "    def __len__(self):\n",
    "        return len(self.full_name())\n",
    "        \n",
    "emp_1 = Employee(first='david',last = 'bachham',pay = 2000)\n",
    "emp_2 = Employee(first='than',last = 'win',pay = 6000)\n",
    "    "
   ]
  },
  {
   "cell_type": "code",
   "execution_count": 47,
   "metadata": {},
   "outputs": [
    {
     "name": "stdout",
     "output_type": "stream",
     "text": [
      "davidbachham-davidbachham@mail.com\n",
      "8000\n",
      "12\n"
     ]
    }
   ],
   "source": [
    "print(emp_1) #for str\n",
    "print(emp_1+emp_2) # for add\n",
    "print(len(emp_1)) #for len"
   ]
  },
  {
   "cell_type": "code",
   "execution_count": 49,
   "metadata": {},
   "outputs": [
    {
     "name": "stdout",
     "output_type": "stream",
     "text": [
      "4\n",
      "5\n"
     ]
    }
   ],
   "source": [
    "print(1+3)\n",
    "#in the backgrounnd it uses special method called __add__\n",
    "#we can also call it directly\n",
    "print(int.__add__(2,3))"
   ]
  },
  {
   "cell_type": "code",
   "execution_count": 78,
   "metadata": {},
   "outputs": [],
   "source": [
    "class Order:\n",
    "    def __init__(self,cart,customer):\n",
    "        self.cart = list(cart)\n",
    "        self.customr = customer\n",
    "    def show_list(self):\n",
    "        return list(self.cart)\n",
    "    def __str__(self):\n",
    "        return self.customer\n",
    "    def __len__(self):\n",
    "        return len(list(self.cart))\n",
    "    def __getitem__(self,key):\n",
    "        return self.cart[key]\n",
    "    def __bool__(self):\n",
    "        return len(self.cart)>2\n",
    "    def __mul__(self,other):\n",
    "        mul_list = []\n",
    "        for x,y in zip(self.cart,other.cart):\n",
    "            mul_list.append(x*y)\n",
    "        return f'The multiplied list is: {mul_list}'\n",
    "        "
   ]
  },
  {
   "cell_type": "code",
   "execution_count": 79,
   "metadata": {},
   "outputs": [
    {
     "name": "stdout",
     "output_type": "stream",
     "text": [
      "[1, 2, 3]\n",
      "3\n",
      "1\n",
      "True\n",
      "The multiplied list is: [2, 6, 6]\n"
     ]
    }
   ],
   "source": [
    "a1 = Order([1,2,3],'win')\n",
    "a2 = Order([2,3,2],'than')\n",
    "print(a1.show_list())\n",
    "print(len(a1))\n",
    "print(a1[0])\n",
    "print(bool(a1))\n",
    "print(a1*a2)"
   ]
  },
  {
   "cell_type": "code",
   "execution_count": 83,
   "metadata": {},
   "outputs": [
    {
     "name": "stdout",
     "output_type": "stream",
     "text": [
      "5\n"
     ]
    }
   ],
   "source": [
    "string = 'hello'\n",
    "print(str.__len__('hello'))"
   ]
  },
  {
   "cell_type": "markdown",
   "metadata": {},
   "source": [
    "# Polymorshism "
   ]
  },
  {
   "cell_type": "raw",
   "metadata": {},
   "source": [
    "The word polymorphism means having many forms. In programming, polymorphism means same function name (but different signatures) being uses for different types.\n",
    "Suppose, we need to color a shape, there are multiple shape option (rectangle, square, circle). However we could use same method to color any shape. This concept is called Polymorphism."
   ]
  },
  {
   "cell_type": "code",
   "execution_count": 10,
   "metadata": {},
   "outputs": [
    {
     "name": "stdout",
     "output_type": "stream",
     "text": [
      "5\n",
      "3\n"
     ]
    }
   ],
   "source": [
    "#example of inbult polymorhism function\n",
    "#len() being used for a string\n",
    "print(len('geeks'))\n",
    "#len() being used for a list \n",
    "print(len([1,2,3]))"
   ]
  },
  {
   "cell_type": "code",
   "execution_count": 1,
   "metadata": {},
   "outputs": [],
   "source": [
    "class Dog:\n",
    "    def __init__(self,name):\n",
    "        self.name = name\n",
    "    def speak(self):\n",
    "        return self.name + ' Says Woof!'\n",
    "class Cat:\n",
    "    def __init__(self,name):\n",
    "        self.name = name\n",
    "    def speak(self):\n",
    "        return self.name + ' Says Meow!'"
   ]
  },
  {
   "cell_type": "code",
   "execution_count": 2,
   "metadata": {},
   "outputs": [],
   "source": [
    "niko = Dog('niko')\n",
    "felix = Cat('felix')"
   ]
  },
  {
   "cell_type": "code",
   "execution_count": 3,
   "metadata": {},
   "outputs": [
    {
     "data": {
      "text/plain": [
       "'niko Says Woof!'"
      ]
     },
     "execution_count": 3,
     "metadata": {},
     "output_type": "execute_result"
    }
   ],
   "source": [
    "niko.speak()"
   ]
  },
  {
   "cell_type": "code",
   "execution_count": 4,
   "metadata": {},
   "outputs": [
    {
     "data": {
      "text/plain": [
       "'felix Says Meow!'"
      ]
     },
     "execution_count": 4,
     "metadata": {},
     "output_type": "execute_result"
    }
   ],
   "source": [
    "felix.speak()"
   ]
  },
  {
   "cell_type": "raw",
   "metadata": {},
   "source": [
    "In literal sense, Polymorphism means the ability to take various forms. In python, Polymorphism allows us to define class with same name as defined in their parent class.If a child class object is used to call an overridden method then the child class version of the method is called."
   ]
  },
  {
   "cell_type": "code",
   "execution_count": 6,
   "metadata": {},
   "outputs": [
    {
     "name": "stdout",
     "output_type": "stream",
     "text": [
      "<class '__main__.Dog'>\n",
      "niko Says Woof!\n",
      "<class '__main__.Cat'>\n",
      "felix Says Meow!\n"
     ]
    }
   ],
   "source": [
    "for pet in [niko,felix]:\n",
    "    print(type(pet))\n",
    "    print(pet.speak())\n",
    "    #they share the same method name but they belong to different class."
   ]
  },
  {
   "cell_type": "code",
   "execution_count": 7,
   "metadata": {},
   "outputs": [],
   "source": [
    "#common interface \n",
    "def pet_speak(pet):\n",
    "    print(pet.speak())"
   ]
  },
  {
   "cell_type": "code",
   "execution_count": 8,
   "metadata": {},
   "outputs": [
    {
     "name": "stdout",
     "output_type": "stream",
     "text": [
      "niko Says Woof!\n"
     ]
    }
   ],
   "source": [
    "pet_speak(niko)"
   ]
  },
  {
   "cell_type": "code",
   "execution_count": 9,
   "metadata": {},
   "outputs": [
    {
     "name": "stdout",
     "output_type": "stream",
     "text": [
      "felix Says Meow!\n"
     ]
    }
   ],
   "source": [
    "pet_speak(felix)"
   ]
  },
  {
   "cell_type": "markdown",
   "metadata": {},
   "source": [
    "Polymorphism example by using abstract method"
   ]
  },
  {
   "cell_type": "code",
   "execution_count": 16,
   "metadata": {},
   "outputs": [],
   "source": [
    "class Animal: # we are not expacting to create any object from this class\n",
    "    def __init__(self,name):\n",
    "        self.name = name\n",
    "    def speak(self):\n",
    "        raise NotImplementedError(\"Subsclass must implement this abstract method\")"
   ]
  },
  {
   "cell_type": "code",
   "execution_count": 19,
   "metadata": {},
   "outputs": [
    {
     "ename": "NotImplementedError",
     "evalue": "Subsclass must implement this abstract method",
     "output_type": "error",
     "traceback": [
      "\u001b[1;31m---------------------------------------------------------------------------\u001b[0m",
      "\u001b[1;31mNotImplementedError\u001b[0m                       Traceback (most recent call last)",
      "\u001b[1;32m<ipython-input-19-8b698fe8eb5c>\u001b[0m in \u001b[0;36m<module>\u001b[1;34m\u001b[0m\n\u001b[0;32m      1\u001b[0m \u001b[0mmy_ani\u001b[0m \u001b[1;33m=\u001b[0m \u001b[0mAnimal\u001b[0m\u001b[1;33m(\u001b[0m\u001b[1;34m'ro'\u001b[0m\u001b[1;33m)\u001b[0m\u001b[1;33m\u001b[0m\u001b[1;33m\u001b[0m\u001b[0m\n\u001b[1;32m----> 2\u001b[1;33m \u001b[0mmy_ani\u001b[0m\u001b[1;33m.\u001b[0m\u001b[0mspeak\u001b[0m\u001b[1;33m(\u001b[0m\u001b[1;33m)\u001b[0m\u001b[1;33m\u001b[0m\u001b[1;33m\u001b[0m\u001b[0m\n\u001b[0m",
      "\u001b[1;32m<ipython-input-16-fbd84c6241e3>\u001b[0m in \u001b[0;36mspeak\u001b[1;34m(self)\u001b[0m\n\u001b[0;32m      3\u001b[0m         \u001b[0mself\u001b[0m\u001b[1;33m.\u001b[0m\u001b[0mname\u001b[0m \u001b[1;33m=\u001b[0m \u001b[0mname\u001b[0m\u001b[1;33m\u001b[0m\u001b[1;33m\u001b[0m\u001b[0m\n\u001b[0;32m      4\u001b[0m     \u001b[1;32mdef\u001b[0m \u001b[0mspeak\u001b[0m\u001b[1;33m(\u001b[0m\u001b[0mself\u001b[0m\u001b[1;33m)\u001b[0m\u001b[1;33m:\u001b[0m\u001b[1;33m\u001b[0m\u001b[1;33m\u001b[0m\u001b[0m\n\u001b[1;32m----> 5\u001b[1;33m         \u001b[1;32mraise\u001b[0m \u001b[0mNotImplementedError\u001b[0m\u001b[1;33m(\u001b[0m\u001b[1;34m\"Subsclass must implement this abstract method\"\u001b[0m\u001b[1;33m)\u001b[0m\u001b[1;33m\u001b[0m\u001b[1;33m\u001b[0m\u001b[0m\n\u001b[0m",
      "\u001b[1;31mNotImplementedError\u001b[0m: Subsclass must implement this abstract method"
     ]
    }
   ],
   "source": [
    "my_ani = Animal('ro')\n",
    "my_ani.speak()"
   ]
  },
  {
   "cell_type": "code",
   "execution_count": 20,
   "metadata": {},
   "outputs": [],
   "source": [
    "#it gives error because it expact to inherit Animal and override speak()\n",
    "class Dog(Animal):\n",
    "    def speak(self):\n",
    "        return self.name + ' says Woof'"
   ]
  },
  {
   "cell_type": "code",
   "execution_count": 22,
   "metadata": {},
   "outputs": [
    {
     "data": {
      "text/plain": [
       "'tony says Woof'"
      ]
     },
     "execution_count": 22,
     "metadata": {},
     "output_type": "execute_result"
    }
   ],
   "source": [
    "my_dog = Dog('tony')\n",
    "my_dog.speak()"
   ]
  },
  {
   "cell_type": "code",
   "execution_count": 11,
   "metadata": {},
   "outputs": [],
   "source": [
    "#another example\n",
    "class Parrot:\n",
    "    def fly(self):\n",
    "        print('Parrot can fly')\n",
    "    def swim(self):\n",
    "        print('Parrot cant swim')\n",
    "class Panguine:\n",
    "    def fly(self):\n",
    "        print('Parrot cant fly')\n",
    "    def swim(self):\n",
    "        print('Parrot can swim')"
   ]
  },
  {
   "cell_type": "code",
   "execution_count": 12,
   "metadata": {},
   "outputs": [],
   "source": [
    "blue = Parrot()\n",
    "peggy = Panguine()"
   ]
  },
  {
   "cell_type": "code",
   "execution_count": 13,
   "metadata": {},
   "outputs": [],
   "source": [
    "#common interface\n",
    "def bird_fly(bird):\n",
    "    print(bird.fly())"
   ]
  },
  {
   "cell_type": "code",
   "execution_count": 14,
   "metadata": {},
   "outputs": [
    {
     "name": "stdout",
     "output_type": "stream",
     "text": [
      "Parrot can fly\n",
      "None\n"
     ]
    }
   ],
   "source": [
    "bird_fly(blue)"
   ]
  },
  {
   "cell_type": "code",
   "execution_count": 15,
   "metadata": {},
   "outputs": [
    {
     "name": "stdout",
     "output_type": "stream",
     "text": [
      "Parrot cant fly\n",
      "None\n"
     ]
    }
   ],
   "source": [
    "bird_fly(peggy)"
   ]
  },
  {
   "cell_type": "markdown",
   "metadata": {},
   "source": [
    "# Encapsulation"
   ]
  },
  {
   "cell_type": "raw",
   "metadata": {},
   "source": [
    "Using OOP in Python, we can restrict access to methods and variables. This prevent data from direct modification which is called encapsulation. In Python, we denote private attribute using underscore as prefix i.e single “ _ “ or double “ __“."
   ]
  },
  {
   "cell_type": "code",
   "execution_count": 6,
   "metadata": {},
   "outputs": [],
   "source": [
    " class Computer:\n",
    "        def __init__(self):\n",
    "            self.__maxprice=900 #private attribue\n",
    "        def sell(self):\n",
    "            return f\"Selling price is: {self.__maxprice}\"\n",
    "        def setmax_price(self,amount):\n",
    "            self.__maxprice = amount\n",
    "            "
   ]
  },
  {
   "cell_type": "code",
   "execution_count": 7,
   "metadata": {},
   "outputs": [
    {
     "data": {
      "text/plain": [
       "'Selling price is: 900'"
      ]
     },
     "execution_count": 7,
     "metadata": {},
     "output_type": "execute_result"
    }
   ],
   "source": [
    "my_com = Computer()\n",
    "my_com.sell()"
   ]
  },
  {
   "cell_type": "code",
   "execution_count": 8,
   "metadata": {},
   "outputs": [
    {
     "data": {
      "text/plain": [
       "'Selling price is: 900'"
      ]
     },
     "execution_count": 8,
     "metadata": {},
     "output_type": "execute_result"
    }
   ],
   "source": [
    "#lets change the value\n",
    "my_com.__maxprice=1000\n",
    "my_com.sell()\n",
    "# We tried to modify the price. However, we can’t change it because Python treats \n",
    "#the __maxprice as private attributes"
   ]
  },
  {
   "cell_type": "code",
   "execution_count": 9,
   "metadata": {},
   "outputs": [
    {
     "data": {
      "text/plain": [
       "'Selling price is: 1000'"
      ]
     },
     "execution_count": 9,
     "metadata": {},
     "output_type": "execute_result"
    }
   ],
   "source": [
    "my_com.setmax_price(1000)\n",
    "my_com.sell()"
   ]
  },
  {
   "cell_type": "markdown",
   "metadata": {},
   "source": [
    "# How to create a list of objects in python class"
   ]
  },
  {
   "cell_type": "code",
   "execution_count": 1,
   "metadata": {},
   "outputs": [
    {
     "name": "stdout",
     "output_type": "stream",
     "text": [
      "Akash 2\n",
      "rahul 3\n",
      "than 4\n"
     ]
    }
   ],
   "source": [
    "class geeks:\n",
    "    def __init__(self,name,roll):\n",
    "        self.name = name \n",
    "        self.roll = roll\n",
    "    def __str__(self):\n",
    "        return f\"{self.name}:{self.roll}\"\n",
    "#creating list\n",
    "list = []\n",
    "list.append(geeks('Akash',2))\n",
    "list.append(geeks('rahul',3))\n",
    "list.append(geeks('than',4))\n",
    "for obj in list:\n",
    "    print(obj.name,obj.roll)"
   ]
  },
  {
   "cell_type": "code",
   "execution_count": null,
   "metadata": {},
   "outputs": [
    {
     "name": "stdout",
     "output_type": "stream",
     "text": [
      "Enter namethan\n",
      "Enter roll num12\n",
      "[<__main__.geeks object at 0x0000018EF23BB8C8>]\n",
      "than roll number is: 12\n"
     ]
    }
   ],
   "source": [
    "#ask user to make object\n",
    "def make_object():\n",
    "    count = 0\n",
    "    while count<3:\n",
    "        count+=1\n",
    "        name=input('Enter name')\n",
    "        roll=input(\"Enter roll num\")\n",
    "        collect_list = []\n",
    "        collect_list.append(geeks(name,roll))\n",
    "        for i in collect_list:\n",
    "            print(f\"{i.name} roll number is: {i.roll}\")\n",
    "make_object()"
   ]
  },
  {
   "cell_type": "code",
   "execution_count": 2,
   "metadata": {},
   "outputs": [
    {
     "data": {
      "text/plain": [
       "'lo'"
      ]
     },
     "execution_count": 2,
     "metadata": {},
     "output_type": "execute_result"
    }
   ],
   "source": [
    "a = 'hello'\n",
    "a[-2:]"
   ]
  },
  {
   "cell_type": "code",
   "execution_count": null,
   "metadata": {},
   "outputs": [],
   "source": []
  },
  {
   "cell_type": "code",
   "execution_count": null,
   "metadata": {},
   "outputs": [],
   "source": []
  },
  {
   "cell_type": "code",
   "execution_count": null,
   "metadata": {},
   "outputs": [],
   "source": []
  },
  {
   "cell_type": "code",
   "execution_count": null,
   "metadata": {},
   "outputs": [],
   "source": []
  },
  {
   "cell_type": "code",
   "execution_count": null,
   "metadata": {},
   "outputs": [],
   "source": []
  },
  {
   "cell_type": "code",
   "execution_count": null,
   "metadata": {},
   "outputs": [],
   "source": []
  },
  {
   "cell_type": "code",
   "execution_count": null,
   "metadata": {},
   "outputs": [],
   "source": []
  },
  {
   "cell_type": "code",
   "execution_count": null,
   "metadata": {},
   "outputs": [],
   "source": []
  }
 ],
 "metadata": {
  "kernelspec": {
   "display_name": "Python 3",
   "language": "python",
   "name": "python3"
  },
  "language_info": {
   "codemirror_mode": {
    "name": "ipython",
    "version": 3
   },
   "file_extension": ".py",
   "mimetype": "text/x-python",
   "name": "python",
   "nbconvert_exporter": "python",
   "pygments_lexer": "ipython3",
   "version": "3.7.4"
  }
 },
 "nbformat": 4,
 "nbformat_minor": 2
}
