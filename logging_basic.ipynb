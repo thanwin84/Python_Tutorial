{
 "cells": [
  {
   "cell_type": "code",
   "execution_count": null,
   "metadata": {},
   "outputs": [],
   "source": [
    "import logging \n",
    "\n",
    "logging.basicConfig(filename='test2.log',level=logging.DEBUG,format = '%(asctime)s:%(levelname)s:%(message)s')\n",
    "\n",
    "def add(x,y):\n",
    "    return x + y\n",
    "x = 5\n",
    "y = 2\n",
    "result = add(x, y)\n",
    "logging.debug(f\"{x} + {y} = {result}\")"
   ]
  },
  {
   "cell_type": "code",
   "execution_count": null,
   "metadata": {},
   "outputs": [],
   "source": [
    "with open('test2.log') as f:\n",
    "    print(f.read())"
   ]
  },
  {
   "cell_type": "code",
   "execution_count": null,
   "metadata": {},
   "outputs": [],
   "source": [
    "with open('test3.log') as p:\n",
    "    print(p.read())"
   ]
  },
  {
   "cell_type": "code",
   "execution_count": null,
   "metadata": {},
   "outputs": [],
   "source": [
    "import logging\n",
    "logging.warning('You will see this')\n",
    "logging.info('watch out')\n",
    "#the info doesn't appear in the console output because the default level is 'WARNING'"
   ]
  },
  {
   "cell_type": "code",
   "execution_count": null,
   "metadata": {},
   "outputs": [],
   "source": [
    "import logging\n",
    "logging.basicConfig(level=logging.INFO)\n",
    "logging.warning('You will see this')\n",
    "logging.info('watch out')\n",
    "logging.critical(\"you will also see this\")"
   ]
  },
  {
   "cell_type": "code",
   "execution_count": 1,
   "metadata": {},
   "outputs": [],
   "source": [
    "import logging\n",
    "logger = logging.getLogger(__name__)\n",
    "\n",
    "logging.basicConfig(filename='emp.log',level=logging.INFO,format='%(asctime)s:%(name)s:%(message)s')\n",
    "\n",
    "class Employee:\n",
    "    def __init__(self,first,last):\n",
    "        self.first = first \n",
    "        self.last = last\n",
    "        logger.info('{}:{}'.format(self.full_name,self.email))\n",
    "    @property\n",
    "    def full_name(self):\n",
    "        return f\"{self.first} {self.last}\"\n",
    "    @property\n",
    "    def email(self):\n",
    "        return \"{}{}mail.com\".format(self.first,self.last)\n",
    "emp_1 = Employee('tom','Carry')\n",
    "emp_2 = Employee('than','win')"
   ]
  },
  {
   "cell_type": "code",
   "execution_count": 2,
   "metadata": {},
   "outputs": [
    {
     "name": "stdout",
     "output_type": "stream",
     "text": [
      "INFO:root:tom Carry:tomCarrymail.com\n",
      "INFO:root:than win:thanwinmail.com\n",
      "INFO:root:tom Carry:tomCarrymail.com\n",
      "INFO:root:than win:thanwinmail.com\n",
      "2020-04-03 17:40:12,788\n",
      "2020-04-03 17:40:12,788\n",
      "2020-04-03 17:41:09,950:<ipython-input-1-b927becbd3d1>:tom Carry:tomCarrymail.com\n",
      "2020-04-03 17:41:09,951:<ipython-input-1-b927becbd3d1>:than win:thanwinmail.com\n",
      "2020-04-03 17:45:21,332:<ipython-input-1-83d239d3517d>:tom Carry:tomCarrymail.com\n",
      "2020-04-03 17:45:21,333:<ipython-input-1-83d239d3517d>:than win:thanwinmail.com\n",
      "2020-04-03 17:46:26,179:tom Carry:tomCarrymail.com\n",
      "2020-04-03 17:46:26,180:than win:thanwinmail.com\n",
      "2020-04-03 17:47:31,094:root:tom Carry:tomCarrymail.com\n",
      "2020-04-03 17:47:31,095:root:than win:thanwinmail.com\n",
      "2020-04-03 22:54:05,818:root:tom Carry:tomCarrymail.com\n",
      "2020-04-03 22:54:05,818:root:than win:thanwinmail.com\n",
      "2020-04-03 22:54:46,824:__main__:tom Carry:tomCarrymail.com\n",
      "2020-04-03 22:54:46,825:__main__:than win:thanwinmail.com\n",
      "\n"
     ]
    }
   ],
   "source": [
    "with open('emp.log') as f:\n",
    "    print(f.read())"
   ]
  },
  {
   "cell_type": "markdown",
   "metadata": {},
   "source": [
    "# pdb"
   ]
  },
  {
   "cell_type": "code",
   "execution_count": null,
   "metadata": {},
   "outputs": [
    {
     "name": "stdout",
     "output_type": "stream",
     "text": [
      "--Return--\n",
      "> <ipython-input-1-a2d005d8dfa2>(4)<module>()->None\n",
      "-> pdb.set_trace()\n",
      "(Pdb) help(str)\n",
      "*** No help for '(str)'\n",
      "(Pdb) my_list\n",
      "[5, 2, 1, 'abcddefg', 3, False, 5]\n",
      "(Pdb) n\n",
      "> c:\\programdata\\anaconda3\\lib\\site-packages\\ipython\\core\\interactiveshell.py(3329)run_code()\n",
      "-> sys.excepthook = old_excepthook\n"
     ]
    }
   ],
   "source": [
    "import pdb\n",
    "my_list = [5, 2, 1, 'abcddefg', 3, False, 5]\n",
    "\n",
    "pdb.set_trace()\n",
    "del my_list[3]\n",
    "del my_list[4]\n",
    "del my_list[5]\n",
    "print(my_list)"
   ]
  },
  {
   "cell_type": "code",
   "execution_count": null,
   "metadata": {},
   "outputs": [],
   "source": []
  },
  {
   "cell_type": "code",
   "execution_count": null,
   "metadata": {},
   "outputs": [],
   "source": []
  }
 ],
 "metadata": {
  "kernelspec": {
   "display_name": "Python 3",
   "language": "python",
   "name": "python3"
  },
  "language_info": {
   "codemirror_mode": {
    "name": "ipython",
    "version": 3
   },
   "file_extension": ".py",
   "mimetype": "text/x-python",
   "name": "python",
   "nbconvert_exporter": "python",
   "pygments_lexer": "ipython3",
   "version": "3.7.4"
  }
 },
 "nbformat": 4,
 "nbformat_minor": 2
}
