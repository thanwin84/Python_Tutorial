{
 "cells": [
  {
   "cell_type": "code",
   "execution_count": 4,
   "metadata": {},
   "outputs": [],
   "source": [
    "class Parent():\n",
    "    def __init__(self):\n",
    "        print('parent__init__')\n",
    "class Child(Parent):\n",
    "    def __init__(self):\n",
    "        print('child__init__')"
   ]
  },
  {
   "cell_type": "code",
   "execution_count": 5,
   "metadata": {},
   "outputs": [
    {
     "name": "stdout",
     "output_type": "stream",
     "text": [
      "child__init__\n"
     ]
    }
   ],
   "source": [
    "child = Child()"
   ]
  },
  {
   "cell_type": "code",
   "execution_count": 6,
   "metadata": {},
   "outputs": [
    {
     "name": "stdout",
     "output_type": "stream",
     "text": [
      "(<class '__main__.Child'>, <class '__main__.Parent'>, <class 'object'>)\n"
     ]
    }
   ],
   "source": [
    "print(Child.__mro__)"
   ]
  },
  {
   "cell_type": "code",
   "execution_count": 12,
   "metadata": {},
   "outputs": [],
   "source": [
    "#how can we call parent class __init__ function using child class instance\n",
    "class Parent():\n",
    "    def __init__(self,name):\n",
    "        print('parent__init__',name)\n",
    "class Child(Parent):\n",
    "    def __init__(self):\n",
    "        print('child__init__')\n",
    "        #super() refer to parent class\n",
    "        super().__init__('max')#we are calling Parent class __init__ by super() funcion\n",
    "                                #and we can pass the 'name'\n"
   ]
  },
  {
   "cell_type": "code",
   "execution_count": 13,
   "metadata": {},
   "outputs": [
    {
     "name": "stdout",
     "output_type": "stream",
     "text": [
      "child__init__\n",
      "parent__init__ max\n",
      "(<class '__main__.Child'>, <class '__main__.Parent'>, <class 'object'>)\n"
     ]
    }
   ],
   "source": [
    "my_child = Child()\n",
    "print(Child.__mro__) #method resolution order"
   ]
  },
  {
   "cell_type": "markdown",
   "metadata": {},
   "source": [
    "Multiple Inheritence"
   ]
  },
  {
   "cell_type": "code",
   "execution_count": 23,
   "metadata": {},
   "outputs": [],
   "source": [
    "#how can we call parent class __init__ function using child class instance\n",
    "class Parent():\n",
    "    def __init__(self,name):\n",
    "        print('parent__init__',name)\n",
    "class Parent2():\n",
    "    def __init__(self,name):\n",
    "        print('parent2__init__',name)\n",
    "class Child(Parent2,Parent):\n",
    "    def __init__(self):\n",
    "        print('child__init__')\n",
    "        #super() refer to parent class\n",
    "        Parent2.__init__(self,'alex')\n",
    "        Parent.__init__(self,'tomy')\n",
    "        "
   ]
  },
  {
   "cell_type": "code",
   "execution_count": 24,
   "metadata": {},
   "outputs": [
    {
     "name": "stdout",
     "output_type": "stream",
     "text": [
      "child__init__\n",
      "parent2__init__ alex\n",
      "parent__init__ tomy\n"
     ]
    }
   ],
   "source": [
    "a_child = Child()"
   ]
  },
  {
   "cell_type": "code",
   "execution_count": 25,
   "metadata": {},
   "outputs": [
    {
     "name": "stdout",
     "output_type": "stream",
     "text": [
      "(<class '__main__.Child'>, <class '__main__.Parent2'>, <class '__main__.Parent'>, <class 'object'>)\n"
     ]
    }
   ],
   "source": [
    "print(Child.__mro__)"
   ]
  },
  {
   "cell_type": "code",
   "execution_count": 28,
   "metadata": {},
   "outputs": [],
   "source": [
    "#Rantangle properties#Square\n",
    "class Ractangle:\n",
    "    def __init__(self,lenght,width):\n",
    "        self.lenght = lenght \n",
    "        self.width = width\n",
    "    def area(self):\n",
    "        return self.lenght*self.width\n",
    "    def perameter(self):\n",
    "        return 2(self.lenght+self.width)\n",
    "class Square:\n",
    "    def __init__(self,lenght):\n",
    "        self.lenght= lenght \n",
    "    def area(self):\n",
    "        return self.lenght*self.lenght\n",
    "    def perameter(self):\n",
    "        return 4*self.lenght"
   ]
  },
  {
   "cell_type": "code",
   "execution_count": 31,
   "metadata": {},
   "outputs": [
    {
     "name": "stdout",
     "output_type": "stream",
     "text": [
      "6\n"
     ]
    }
   ],
   "source": [
    "my_rac = Ractangle(2,3)\n",
    "print(my_rac.area())"
   ]
  },
  {
   "cell_type": "markdown",
   "metadata": {},
   "source": [
    "By using Super()"
   ]
  },
  {
   "cell_type": "code",
   "execution_count": 76,
   "metadata": {},
   "outputs": [],
   "source": [
    "class Ractangle:\n",
    "    def __init__(self,lenght,width):\n",
    "        self.lenght = lenght \n",
    "        self.width = width\n",
    "    def area(self):\n",
    "        return self.lenght*self.width\n",
    "    def perameter(self):\n",
    "        return 2(self.lenght+self.width)\n",
    "class Square(Ractangle):\n",
    "    def __init__(self,lenght):\n",
    "        super().__init__(lenght,lenght)\n",
    "class Cube(Square):\n",
    "    def surface_area(self):\n",
    "        face_area = super().area()\n",
    "        return 6*face_area\n",
    "    def volume(self):\n",
    "        face_area = super().area()\n",
    "        return face_area*self.lenght\n",
    "    "
   ]
  },
  {
   "cell_type": "code",
   "execution_count": 77,
   "metadata": {},
   "outputs": [
    {
     "name": "stdout",
     "output_type": "stream",
     "text": [
      "4\n"
     ]
    },
    {
     "data": {
      "text/plain": [
       "8"
      ]
     },
     "execution_count": 77,
     "metadata": {},
     "output_type": "execute_result"
    }
   ],
   "source": [
    "my_sq = Square(2)\n",
    "print(my_sq.area())\n",
    "#print(help(Square))\n",
    "my_cube = Cube(2)\n",
    "my_cube.surface_area()\n",
    "my_cube.volume()"
   ]
  },
  {
   "cell_type": "code",
   "execution_count": 66,
   "metadata": {},
   "outputs": [
    {
     "data": {
      "text/plain": [
       "(__main__.Cube, __main__.Square, __main__.Ractangle, object)"
      ]
     },
     "execution_count": 66,
     "metadata": {},
     "output_type": "execute_result"
    }
   ],
   "source": [
    "Cube.__mro__"
   ]
  },
  {
   "cell_type": "code",
   "execution_count": null,
   "metadata": {},
   "outputs": [],
   "source": []
  },
  {
   "cell_type": "code",
   "execution_count": null,
   "metadata": {},
   "outputs": [],
   "source": []
  },
  {
   "cell_type": "code",
   "execution_count": null,
   "metadata": {},
   "outputs": [],
   "source": []
  }
 ],
 "metadata": {
  "kernelspec": {
   "display_name": "Python 3",
   "language": "python",
   "name": "python3"
  },
  "language_info": {
   "codemirror_mode": {
    "name": "ipython",
    "version": 3
   },
   "file_extension": ".py",
   "mimetype": "text/x-python",
   "name": "python",
   "nbconvert_exporter": "python",
   "pygments_lexer": "ipython3",
   "version": "3.7.4"
  }
 },
 "nbformat": 4,
 "nbformat_minor": 2
}
