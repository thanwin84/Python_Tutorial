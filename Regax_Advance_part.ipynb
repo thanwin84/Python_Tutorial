{
 "cells": [
  {
   "cell_type": "markdown",
   "metadata": {},
   "source": [
    "# Greedy Vs Non Greedy"
   ]
  },
  {
   "cell_type": "markdown",
   "metadata": {},
   "source": [
    "# *?, +?, ??"
   ]
  },
  {
   "cell_type": "code",
   "execution_count": 45,
   "metadata": {},
   "outputs": [
    {
     "name": "stdout",
     "output_type": "stream",
     "text": [
      "<re.Match object; span=(0, 9), match='<a> b <c>'>\n",
      "<re.Match object; span=(0, 3), match='<a>'>\n"
     ]
    }
   ],
   "source": [
    "import re\n",
    "\n",
    "print(re.search(r'<.*>', '<a> b <c>')) # it is greedy and it match the entire string \n",
    "print(re.search(r'<.*?>', '<a> b <c>')) # it will match as much as it need"
   ]
  },
  {
   "cell_type": "code",
   "execution_count": 26,
   "metadata": {},
   "outputs": [
    {
     "name": "stdout",
     "output_type": "stream",
     "text": [
      "<re.Match object; span=(0, 9), match='<a> b <c>'>\n",
      "<re.Match object; span=(0, 0), match=''>\n"
     ]
    }
   ],
   "source": [
    "print(re.search(r'<.+>', '<a> b <c>'))\n",
    "print(re.search(r'[^<]*', '<a> b <c>'))"
   ]
  },
  {
   "cell_type": "code",
   "execution_count": 8,
   "metadata": {},
   "outputs": [
    {
     "name": "stdout",
     "output_type": "stream",
     "text": [
      "<re.Match object; span=(0, 4), match='123E'>\n"
     ]
    }
   ],
   "source": [
    "print(re.search(r'\\w*?E', '123EEE'))"
   ]
  },
  {
   "cell_type": "code",
   "execution_count": 11,
   "metadata": {},
   "outputs": [
    {
     "name": "stdout",
     "output_type": "stream",
     "text": [
      "<re.Match object; span=(0, 6), match='two_ap'>\n"
     ]
    }
   ],
   "source": [
    "print(re.search(r'.*?p', 'two_apples'))"
   ]
  },
  {
   "cell_type": "code",
   "execution_count": 25,
   "metadata": {},
   "outputs": [
    {
     "name": "stdout",
     "output_type": "stream",
     "text": [
      "<re.Match object; span=(0, 2), match='AA'>\n"
     ]
    }
   ],
   "source": [
    "# more on lazy quantifier\n",
    "print(re.search(r'^(A*?)A$','AA'))"
   ]
  },
  {
   "cell_type": "markdown",
   "metadata": {},
   "source": [
    "# Greedy match\n",
    "\n",
    "A greedy match means that the regex engine (the one which tries to find your pattern in the string) matches as many characters as possible."
   ]
  },
  {
   "cell_type": "code",
   "execution_count": 28,
   "metadata": {},
   "outputs": [
    {
     "name": "stdout",
     "output_type": "stream",
     "text": [
      "['a', 'a', 'a', 'a', '']\n",
      "<re.Match object; span=(0, 1), match='a'>\n"
     ]
    }
   ],
   "source": [
    "print(re.findall('a?', 'aaaa'))\n",
    "print(re.search('a?', 'aaaa'))"
   ]
  },
  {
   "cell_type": "code",
   "execution_count": 38,
   "metadata": {},
   "outputs": [
    {
     "name": "stdout",
     "output_type": "stream",
     "text": [
      "['aaaa', '']\n",
      "['aaaa']\n",
      "['aaa']\n",
      "['aa', 'aa']\n"
     ]
    }
   ],
   "source": [
    "print(re.findall('a*', 'aaaa')) # 0 or more\n",
    "print(re.findall('a+', 'aaaa')) # 1 or more, it means matching a emptry string is not an option anymore\n",
    "print(re.findall('a{3}', 'aaaa'))\n",
    "print(re.findall('a{1,2}', 'aaaa')) # it is greedy, that's why it matches as much as possible "
   ]
  },
  {
   "cell_type": "markdown",
   "metadata": {},
   "source": [
    "# Non Greedy Match\n",
    "\n",
    "A non-greedy match means that the regex engine matches as few characters as possible—so that it still can match the pattern in the given string.\n",
    "\n",
    "It gives the shortest possible match "
   ]
  },
  {
   "cell_type": "code",
   "execution_count": 44,
   "metadata": {},
   "outputs": [
    {
     "name": "stdout",
     "output_type": "stream",
     "text": [
      "['a', 'a', 'a', 'a', '']\n",
      "['a', 'a', 'a', 'a']\n",
      "['', 'a', '', 'a', '', 'a', '', 'a', '']\n",
      "['', 'a', '', 'a', '', 'a', '', 'a', '']\n",
      "['aa', 'aa']\n"
     ]
    }
   ],
   "source": [
    "print(re.findall('a?', 'aaaa'))\n",
    "print(re.findall('a+?', 'aaaa'))\n",
    "print(re.findall('a*?', 'aaaa')) #empty string is also valid, after it matches empty string, it is forced to match 'a'\n",
    "print(re.findall('a??', 'aaaa'))\n",
    "print(re.findall('a{2,3}?', 'aaaa')) # it match the shortest possible match "
   ]
  },
  {
   "cell_type": "markdown",
   "metadata": {},
   "source": [
    "# Look Around"
   ]
  },
  {
   "cell_type": "markdown",
   "metadata": {},
   "source": [
    "# Positive Look ahead\n",
    "\n",
    "Positive look ahead will succeed if the passed non-consuming expression does match against the forthcoming input.\n",
    "\n",
    "The syntax is A(?=B) where A is the actual expression and B is the non-consuming expression.\n"
   ]
  },
  {
   "cell_type": "code",
   "execution_count": 47,
   "metadata": {},
   "outputs": [
    {
     "name": "stdout",
     "output_type": "stream",
     "text": [
      "<re.Match object; span=(0, 5), match='Isaac'>\n",
      "None\n"
     ]
    }
   ],
   "source": [
    "# search \"Isaac\" if it's followed by Asim\n",
    "print(re.search(r'Isaac(?=Asim)','IsaacAsimove'))\n",
    "print(re.search(r'Isaac(?=Asim)','IsaacThan'))\n"
   ]
  },
  {
   "cell_type": "code",
   "execution_count": 49,
   "metadata": {},
   "outputs": [
    {
     "name": "stdout",
     "output_type": "stream",
     "text": [
      "<re.Match object; span=(17, 21), match='love'>\n"
     ]
    }
   ],
   "source": [
    "test = 'I love python, I love regax'\n",
    "print(re.search(r'love(?=\\sregax)', test))"
   ]
  },
  {
   "cell_type": "code",
   "execution_count": 51,
   "metadata": {},
   "outputs": [
    {
     "name": "stdout",
     "output_type": "stream",
     "text": [
      "['red', 'green', 'blue']\n"
     ]
    }
   ],
   "source": [
    "# find all words which is followed by , or .\n",
    "txt = \"My favorite colors are red, green, and blue.\"\n",
    "print(re.findall(r'\\w+(?=,|\\.)', txt))"
   ]
  },
  {
   "cell_type": "code",
   "execution_count": 18,
   "metadata": {},
   "outputs": [
    {
     "name": "stdout",
     "output_type": "stream",
     "text": [
      "<re.Match object; span=(1, 2), match='o'>\n",
      "<re.Match object; span=(2, 3), match='o'>\n",
      "<re.Match object; span=(3, 4), match='o'>\n"
     ]
    }
   ],
   "source": [
    "test = 'gooooo!'\n",
    "for m in re.finditer(r'o(?=oo)',test):\n",
    "    print(m)"
   ]
  },
  {
   "cell_type": "markdown",
   "metadata": {},
   "source": [
    "# Negative Look ahead: A(?!B)"
   ]
  },
  {
   "cell_type": "code",
   "execution_count": 53,
   "metadata": {},
   "outputs": [
    {
     "name": "stdout",
     "output_type": "stream",
     "text": [
      "None\n",
      "<re.Match object; span=(0, 5), match='Isaac'>\n"
     ]
    }
   ],
   "source": [
    "# search \"Isaac\" if it's not followed by Asim\n",
    "print(re.search(r'Isaac(?!Asim)','IsaacAsimove'))\n",
    "print(re.search(r'Isaac(?!Asim)','IsaacThan'))\n",
    "# the second one gives result cause it's not followed by Asim"
   ]
  },
  {
   "cell_type": "code",
   "execution_count": 54,
   "metadata": {},
   "outputs": [
    {
     "name": "stdout",
     "output_type": "stream",
     "text": [
      "<re.Match object; span=(2, 6), match='love'>\n"
     ]
    }
   ],
   "source": [
    "# find regax which is not followed by space and regax\n",
    "test = 'I love python, I love regax'\n",
    "print(re.search(r'love(?!\\sregax)', test))"
   ]
  },
  {
   "cell_type": "markdown",
   "metadata": {},
   "source": [
    "# Look Behind\n",
    "Look behind mechanism checks the match for a non-consuming expression behind a given pattern.\n"
   ]
  },
  {
   "cell_type": "markdown",
   "metadata": {},
   "source": [
    "# Positive Look behind\n",
    "\n",
    "1.Positive look behind will succeed if the passed non-consuming expression does match against the forthcoming input.\n",
    "\n",
    "2.The syntax is (?<=B)A where A is the actual expression and B is the non-consuming expression."
   ]
  },
  {
   "cell_type": "code",
   "execution_count": 57,
   "metadata": {},
   "outputs": [
    {
     "name": "stdout",
     "output_type": "stream",
     "text": [
      "<re.Match object; span=(3, 9), match='Python'>\n",
      "None\n"
     ]
    }
   ],
   "source": [
    "print(re.search(r'(?<=abc)\\w+','abcPython'))\n",
    "print(re.search(r'(?<=abc)\\w+','defPython'))"
   ]
  },
  {
   "cell_type": "code",
   "execution_count": 65,
   "metadata": {},
   "outputs": [
    {
     "name": "stdout",
     "output_type": "stream",
     "text": [
      "<re.Match object; span=(5, 10), match='regex'>\n",
      "<re.Match object; span=(19, 24), match='regex'>\n"
     ]
    }
   ],
   "source": [
    "txt = \"love regex or hate regex, can't ignore regex\"\n",
    "# find regax if love or hate exist behind it \n",
    "pat = re.compile(r'(?<=(love|hate)\\s)regex')\n",
    "matches = pat.finditer(txt)\n",
    "for match in matches:\n",
    "    print(match)"
   ]
  },
  {
   "cell_type": "markdown",
   "metadata": {},
   "source": [
    "# Negative look behind"
   ]
  },
  {
   "cell_type": "code",
   "execution_count": 67,
   "metadata": {},
   "outputs": [
    {
     "name": "stdout",
     "output_type": "stream",
     "text": [
      "<re.Match object; span=(39, 44), match='regex'>\n"
     ]
    }
   ],
   "source": [
    "txt = \"love regex or hate regex, can't ignore regex\"\n",
    "# find regax if love or hate doesn't exist behind it \n",
    "pat = re.compile(r'(?<!(love|hate)\\s)regex')\n",
    "matches = pat.finditer(txt)\n",
    "for match in matches:\n",
    "    print(match)"
   ]
  },
  {
   "cell_type": "markdown",
   "metadata": {},
   "source": [
    "# Non Capturing-Group\n",
    "\n",
    "There are cases when we want to use groups, but we're not interested in extracting the information, i.e. capturing the matched text inside paranthesis only. An example is alteration."
   ]
  },
  {
   "cell_type": "code",
   "execution_count": 14,
   "metadata": {},
   "outputs": [
    {
     "name": "stdout",
     "output_type": "stream",
     "text": [
      "i love cats\n",
      "cats\n",
      "i love dog\n",
      "dog\n"
     ]
    }
   ],
   "source": [
    "#Let's consider an example where we want to find the strings i love cats or i love dogs in the given text.\n",
    "txt = \"\"\"\n",
    "i love cats\n",
    "i love dog\"\"\"\n",
    "#print(re.findall('i love (cats|dog)', txt))\n",
    "pattern = re.compile(r'i love (cats|dog)')\n",
    "matches = pattern.finditer(txt)\n",
    "for match in matches:\n",
    "    print(match.group(0))\n",
    "    print(match.group(1))\n",
    "\n"
   ]
  },
  {
   "cell_type": "code",
   "execution_count": 71,
   "metadata": {},
   "outputs": [
    {
     "name": "stdout",
     "output_type": "stream",
     "text": [
      "Complete regex match (default): i love cats\n",
      "Match captured by 1st group: cats\n",
      "Complete regex match (default): i love dog\n",
      "Match captured by 1st group: dog\n"
     ]
    }
   ],
   "source": [
    "pattern = re.compile('i love (cats|dog)')\n",
    "for match in pattern.finditer(txt):\n",
    "    print(\"Complete regex match (default):\", match.group(0))\n",
    "    print(\"Match captured by 1st group:\", match.group(1))\n",
    "# As we can see, the group captured part contains only cats or dogs instead of complete sentences."
   ]
  },
  {
   "cell_type": "code",
   "execution_count": 4,
   "metadata": {},
   "outputs": [
    {
     "name": "stdout",
     "output_type": "stream",
     "text": [
      "['i love cats', 'i love dog']\n"
     ]
    }
   ],
   "source": [
    "print(re.findall('i love (?:cats|dog)', txt))\n"
   ]
  },
  {
   "cell_type": "code",
   "execution_count": 5,
   "metadata": {},
   "outputs": [
    {
     "name": "stdout",
     "output_type": "stream",
     "text": [
      "Complete regex match (default): i love cats\n"
     ]
    },
    {
     "ename": "IndexError",
     "evalue": "no such group",
     "output_type": "error",
     "traceback": [
      "\u001b[1;31m---------------------------------------------------------------------------\u001b[0m",
      "\u001b[1;31mIndexError\u001b[0m                                Traceback (most recent call last)",
      "\u001b[1;32m<ipython-input-5-35c5b619aaae>\u001b[0m in \u001b[0;36m<module>\u001b[1;34m\u001b[0m\n\u001b[0;32m      2\u001b[0m \u001b[1;32mfor\u001b[0m \u001b[0mmatch\u001b[0m \u001b[1;32min\u001b[0m \u001b[0mpattern\u001b[0m\u001b[1;33m.\u001b[0m\u001b[0mfinditer\u001b[0m\u001b[1;33m(\u001b[0m\u001b[0mtxt\u001b[0m\u001b[1;33m)\u001b[0m\u001b[1;33m:\u001b[0m\u001b[1;33m\u001b[0m\u001b[1;33m\u001b[0m\u001b[0m\n\u001b[0;32m      3\u001b[0m     \u001b[0mprint\u001b[0m\u001b[1;33m(\u001b[0m\u001b[1;34m\"Complete regex match (default):\"\u001b[0m\u001b[1;33m,\u001b[0m \u001b[0mmatch\u001b[0m\u001b[1;33m.\u001b[0m\u001b[0mgroup\u001b[0m\u001b[1;33m(\u001b[0m\u001b[1;36m0\u001b[0m\u001b[1;33m)\u001b[0m\u001b[1;33m)\u001b[0m\u001b[1;33m\u001b[0m\u001b[1;33m\u001b[0m\u001b[0m\n\u001b[1;32m----> 4\u001b[1;33m     \u001b[0mprint\u001b[0m\u001b[1;33m(\u001b[0m\u001b[1;34m\"Match captured by 1st group:\"\u001b[0m\u001b[1;33m,\u001b[0m \u001b[0mmatch\u001b[0m\u001b[1;33m.\u001b[0m\u001b[0mgroup\u001b[0m\u001b[1;33m(\u001b[0m\u001b[1;36m1\u001b[0m\u001b[1;33m)\u001b[0m\u001b[1;33m)\u001b[0m\u001b[1;33m\u001b[0m\u001b[1;33m\u001b[0m\u001b[0m\n\u001b[0m\u001b[0;32m      5\u001b[0m  \u001b[1;31m# After using the new syntax, we have the same functionality as before, but now we're saving resources and\u001b[0m\u001b[1;33m\u001b[0m\u001b[1;33m\u001b[0m\u001b[1;33m\u001b[0m\u001b[0m\n\u001b[0;32m      6\u001b[0m \u001b[1;31m#the regex is easier to maintain. Note that the group cannot be referenced.\u001b[0m\u001b[1;33m\u001b[0m\u001b[1;33m\u001b[0m\u001b[1;33m\u001b[0m\u001b[0m\n",
      "\u001b[1;31mIndexError\u001b[0m: no such group"
     ]
    }
   ],
   "source": [
    "pattern = re.compile('i love (?:cats|dog)')\n",
    "for match in pattern.finditer(txt):\n",
    "    print(\"Complete regex match (default):\", match.group(0))\n",
    "    print(\"Match captured by 1st group:\", match.group(1))\n",
    " # After using the new syntax, we have the same functionality as before, but now we're saving resources and \n",
    "#the regex is easier to maintain. Note that the group cannot be referenced."
   ]
  },
  {
   "cell_type": "code",
   "execution_count": 16,
   "metadata": {},
   "outputs": [
    {
     "name": "stdout",
     "output_type": "stream",
     "text": [
      "abcabcabc\n"
     ]
    }
   ],
   "source": [
    "pat = re.compile(r'(?:abc){3}') # we cannot refer to any group\n",
    "matches = pat.finditer('abcabcabc')\n",
    "for match in matches:\n",
    "    print(match.group(0))"
   ]
  },
  {
   "cell_type": "code",
   "execution_count": 86,
   "metadata": {},
   "outputs": [
    {
     "name": "stdout",
     "output_type": "stream",
     "text": [
      "<re.Match object; span=(0, 7), match='abc=abc'>\n",
      "<re.Match object; span=(11, 18), match='def=def'>\n"
     ]
    }
   ],
   "source": [
    "# back reference\n",
    "pattern = re.compile(r'(abc|def)=\\1')\n",
    "matches = pattern.finditer('abc=abc or def=def')\n",
    "for match in matches:\n",
    "    print(match)"
   ]
  },
  {
   "cell_type": "code",
   "execution_count": 6,
   "metadata": {},
   "outputs": [
    {
     "name": "stdout",
     "output_type": "stream",
     "text": [
      "['not']\n"
     ]
    }
   ],
   "source": [
    "import re \n",
    "test_string = \"\"\"\n",
    "it is not your fault\n",
    "it is your fault\n",
    "\"\"\"\n",
    "print(re.findall(r'it is (not)? your fault',test_string))"
   ]
  },
  {
   "cell_type": "code",
   "execution_count": null,
   "metadata": {},
   "outputs": [],
   "source": []
  },
  {
   "cell_type": "code",
   "execution_count": null,
   "metadata": {},
   "outputs": [],
   "source": []
  },
  {
   "cell_type": "code",
   "execution_count": null,
   "metadata": {},
   "outputs": [],
   "source": []
  },
  {
   "cell_type": "code",
   "execution_count": null,
   "metadata": {},
   "outputs": [],
   "source": []
  },
  {
   "cell_type": "markdown",
   "metadata": {},
   "source": [
    "# Simple Password Validation\n",
    "\n",
    "1. The password must have between six and ten word characters \\w\n",
    "2. It must include at least one lowercase character [a-z]\n",
    "3. It must include at least three uppercase characters [A-Z]\n",
    "4. It must include at least one digit \\d"
   ]
  },
  {
   "cell_type": "code",
   "execution_count": 93,
   "metadata": {},
   "outputs": [
    {
     "name": "stdout",
     "output_type": "stream",
     "text": [
      "True\n",
      "<re.Match object; span=(0, 10), match='ABCa0win12'>\n"
     ]
    }
   ],
   "source": [
    "password = 'ABCa0win12'\n",
    "# checking password if it has six to ten \\w\n",
    "print(bool(re.search(r'(?=^\\w{6,10}$)',password)))\n",
    "print(re.search(r'(?=^\\w{6,10}$)\\w+',password)) # it just check if the pattern has or not # if we want to show result we \n",
    "# have to write pattern outside parenthesis"
   ]
  },
  {
   "cell_type": "code",
   "execution_count": 2,
   "metadata": {},
   "outputs": [
    {
     "name": "stdout",
     "output_type": "stream",
     "text": [
      "None\n",
      "<re.Match object; span=(0, 0), match=''>\n",
      "<re.Match object; span=(0, 0), match=''>\n"
     ]
    }
   ],
   "source": [
    "import re\n",
    "p2 = 'ABCA0WIN12'\n",
    "# checking at least one lowercase character \n",
    "print(re.search(r'(?=[^a-z]*[a-z])', p2))\n",
    "# checking at least one uppercase character\n",
    "print(re.search(r'(?=[^A-Z]*[A-Z]{3})', p2))\n",
    "# checking at least one digit\n",
    "print(re.search(r'(?=\\D*\\d)', p2))\n"
   ]
  },
  {
   "cell_type": "code",
   "execution_count": 105,
   "metadata": {},
   "outputs": [
    {
     "name": "stdout",
     "output_type": "stream",
     "text": [
      "True\n"
     ]
    }
   ],
   "source": [
    "# By combining all we get\n",
    "print(bool(re.search(r'(?=^\\w{6,10}$)(?=[^a-z]*[a-z])(?=[^A-Z]*[A-Z]{3})(?=\\D*\\d)',password)))"
   ]
  },
  {
   "cell_type": "code",
   "execution_count": 106,
   "metadata": {},
   "outputs": [
    {
     "name": "stdout",
     "output_type": "stream",
     "text": [
      "2\n",
      "ABCA0WIN12\n",
      "ABCa0win12\n",
      "Invalid\n",
      "Valid\n"
     ]
    }
   ],
   "source": [
    "pass_list = []\n",
    "for _ in range(int(input())):\n",
    "    pass_word = input()\n",
    "    pass_list.append(pass_word)\n",
    "for password in pass_list:\n",
    "    if re.match(r'(?=^\\w{6,10}$)(?=[^a-z]*[a-z])(?=[^A-Z]*[A-Z]{3})(?=\\D*\\d)', password):\n",
    "        print('Valid')\n",
    "    else:\n",
    "        print('Invalid')\n",
    "    "
   ]
  },
  {
   "cell_type": "markdown",
   "metadata": {},
   "source": [
    "# HackerRank - Creditcard Validating\n",
    "1. it must start with 4,5 or 6\n",
    "2. it must contain exactly 16 digits\n",
    "3. it must only consist 0-9\n",
    "4. it may have digits in group of 4 separated by one -\n",
    "5. It must NOT have  4 or more consecutive repeated digits."
   ]
  },
  {
   "cell_type": "code",
   "execution_count": null,
   "metadata": {},
   "outputs": [],
   "source": [
    "# test credit card number \n",
    "num_1 = '4253625879615787'\n",
    "num_2 = '4123-1234-8821-1231'\n",
    "num_3 = '61234-567-8912-3456'\n",
    "num_4 = '5133336789123456'"
   ]
  },
  {
   "cell_type": "code",
   "execution_count": 107,
   "metadata": {},
   "outputs": [
    {
     "name": "stdout",
     "output_type": "stream",
     "text": [
      "4\n",
      "4253625879615787\n",
      "4123-1234-8821-1231\n",
      "61234-567-8912-3456\n",
      "5133336789123456\n",
      "Valid\n",
      "Valid\n",
      "Invalid\n",
      "Invalid\n"
     ]
    }
   ],
   "source": [
    "num = []\n",
    "for _ in range(int(input())):\n",
    "    c_num = input()\n",
    "    num.append(c_num)\n",
    "for n in num:\n",
    "    if re.match(r'(?=^[456]([\\d]{15}|[\\d]{3}(-[\\d]{4}){3}))',n) and not re.search(r'(\\d)\\1\\1\\1',n.replace(\"-\", \"\")):\n",
    "        print('Valid')\n",
    "    else:\n",
    "        print('Invalid')"
   ]
  },
  {
   "cell_type": "markdown",
   "metadata": {},
   "source": [
    "# Group Number "
   ]
  },
  {
   "cell_type": "code",
   "execution_count": 1,
   "metadata": {},
   "outputs": [
    {
     "data": {
      "text/plain": [
       "['2', '3', '4', '5', '6', '7', '8', '9']"
      ]
     },
     "execution_count": 1,
     "metadata": {},
     "output_type": "execute_result"
    }
   ],
   "source": [
    "# find number which is more than 1\n",
    "import re\n",
    "st = '0, 1, 22, 33, 44, 55, 66, 77, 88 or 999'\n",
    "re.findall(r'(\\d)\\1+',st)\n"
   ]
  },
  {
   "cell_type": "code",
   "execution_count": 37,
   "metadata": {},
   "outputs": [
    {
     "data": {
      "text/plain": [
       "['m', 'a', 'l', 'a', 'y', 'a', 'm']"
      ]
     },
     "execution_count": 37,
     "metadata": {},
     "output_type": "execute_result"
    }
   ],
   "source": [
    "s = 'malayam'\n",
    "re.findall(r'([\\w])',s)"
   ]
  },
  {
   "cell_type": "code",
   "execution_count": 38,
   "metadata": {},
   "outputs": [
    {
     "name": "stdout",
     "output_type": "stream",
     "text": [
      "<re.Match object; span=(0, 8), match='thanthan'>\n"
     ]
    }
   ],
   "source": [
    "name = 'thanthan'\n",
    "print(re.match(r'(\\w)(\\w)(\\w)(\\w)\\1\\2\\3\\4',name))"
   ]
  },
  {
   "cell_type": "code",
   "execution_count": 3,
   "metadata": {},
   "outputs": [],
   "source": [
    "test = 'o'\n",
    "re.search(r'(b)?o\\1',test)"
   ]
  },
  {
   "cell_type": "code",
   "execution_count": 15,
   "metadata": {},
   "outputs": [
    {
     "data": {
      "text/plain": [
       "<re.Match object; span=(0, 11), match='12-34-56-87'>"
      ]
     },
     "execution_count": 15,
     "metadata": {},
     "output_type": "execute_result"
    }
   ],
   "source": [
    "s = '12345678'\n",
    "s2 = '12-34-56-87'\n",
    "re.match(r'^\\d{8}|^\\d{2}(-)(\\d{2}\\1){2}\\d{2}$',s2)"
   ]
  },
  {
   "cell_type": "code",
   "execution_count": 23,
   "metadata": {},
   "outputs": [
    {
     "name": "stdout",
     "output_type": "stream",
     "text": [
      "True\n",
      "True\n",
      "None\n"
     ]
    }
   ],
   "source": [
    "import re\n",
    "import random\n",
    "num = '123245'\n",
    "num2 = '112325'\n",
    "print(bool(re.search(r'(\\d)(?=\\d\\1)',num)))\n",
    "print(bool(re.search(r'(\\d)(?=\\d\\1)','4542867')))\n",
    "print(re.match(r'^\\d{6}$','4542867'))"
   ]
  },
  {
   "cell_type": "code",
   "execution_count": 66,
   "metadata": {},
   "outputs": [
    {
     "data": {
      "text/plain": [
       "209149"
      ]
     },
     "execution_count": 66,
     "metadata": {},
     "output_type": "execute_result"
    }
   ],
   "source": [
    "import random \n",
    "random.randint(100000,999999)"
   ]
  },
  {
   "cell_type": "code",
   "execution_count": 37,
   "metadata": {},
   "outputs": [
    {
     "name": "stdout",
     "output_type": "stream",
     "text": [
      "hackers@hackerrank.com;interviewstreet@hackerrank.com;product@hackerrank.com\n"
     ]
    }
   ],
   "source": [
    "email = \"\"\"\n",
    "hackers@hackerrank.com hi man interviewstreet@hackerrank.com this is email product@hackerrank.com\n",
    "\"\"\"\n",
    "email_list = []\n",
    "for em in re.finditer(r'[a-zA-Z\\d.-]+@[a-zA-Z-]+\\.(com|edu|net)', email):\n",
    "    email_list.append(em.group(0))\n",
    "print(\";\".join(email_list))\n",
    "    "
   ]
  },
  {
   "cell_type": "markdown",
   "metadata": {},
   "source": [
    "# Matching Ip adrress - Hacker rank problem"
   ]
  },
  {
   "cell_type": "code",
   "execution_count": 1,
   "metadata": {},
   "outputs": [
    {
     "name": "stdout",
     "output_type": "stream",
     "text": [
      "1\n",
      "1050:1000:1000:a000:5:600:300c:326b\n",
      "IPv6\n"
     ]
    }
   ],
   "source": [
    "import re\n",
    "pat_1 = re.compile(r'^([0-9]|[01]?[0-9][0-9]|2[0-4][0-9]|25[0-5])(\\.([0-9]|[01]?[0-9][0-9]|2[0-4][0-9]|25[0-5])){3}$')\n",
    "pat_2 =re.compile(r'^([0-9a-fA-F]){1,4}(:([0-9a-fA-F]{1,4})){7}$')\n",
    "def check_ip(ip):\n",
    "    if re.search(pat_1,ip):\n",
    "        print('IPv4 ')\n",
    "    elif re.search(pat_2,ip):\n",
    "        print('IPv6')\n",
    "    else:\n",
    "        print('Neither')\n",
    "if __name__==\"__main__\":\n",
    "    ip_list = []\n",
    "    for _ in range(int(input())):\n",
    "        ip_address = input()\n",
    "        ip_list.append(ip_address)\n",
    "for IP in ip_list:\n",
    "    check_ip(IP)"
   ]
  },
  {
   "cell_type": "code",
   "execution_count": 2,
   "metadata": {},
   "outputs": [],
   "source": [
    "test_ip = \"\"\"\n",
    "1050:1000:1000:a000:5:600:300c:326b\n",
    "1050:1000:2000:ab00:5:600:300c:326a\n",
    "1050:1000:3000:abc0:5:600:300c:326c\n",
    "1051:1000:4000:abcd:5:600:300c:326b\n",
    "22.231.113.64\n",
    "22.231.113.164\n",
    "222.231.113.64\n",
    "\"\"\""
   ]
  },
  {
   "cell_type": "markdown",
   "metadata": {},
   "source": [
    "# Detect html tag and attri"
   ]
  },
  {
   "cell_type": "code",
   "execution_count": 83,
   "metadata": {},
   "outputs": [
    {
     "name": "stdout",
     "output_type": "stream",
     "text": [
      "['p', 'a href=\"http://www.quackit.com/html/tutorial/html_links.cfm\"', 'div class=\"more-info\"']\n",
      "['p', 'a', 'div']\n"
     ]
    }
   ],
   "source": [
    "import re\n",
    "html_tag = []\n",
    "html = '<p><a href=\"http://www.quackit.com/html/tutorial/html_links.cfm\">Example Link</a></p><div class=\"more-info\">'\n",
    "tags=re.findall(r'(?<=<)[^>]+(?=>)',html)\n",
    "#tags = re.findall(r'<[^>]+>', html)\n",
    "for tag in tags:\n",
    "    if not re.search(r'^/',tag):\n",
    "        html_tag.append(tag)\n",
    "print(html_tag)\n",
    "# filtering out tag\n",
    "tagg=[]\n",
    "for tag in html_tag:\n",
    "    tag=tag.split()\n",
    "    tagg.append(tag[0])\n",
    "print(tagg)\n",
    "    #print('{}:{}'.format())"
   ]
  },
  {
   "cell_type": "code",
   "execution_count": 88,
   "metadata": {},
   "outputs": [
    {
     "name": "stdout",
     "output_type": "stream",
     "text": [
      "None\n",
      "<re.Match object; span=(6, 95), match='href=\"http://www.quackit.com/html/tutorial/html_l>\n",
      "<re.Match object; span=(90, 95), match='class'>\n"
     ]
    }
   ],
   "source": [
    "for m in tagg:\n",
    "    att=re.search(r'(?<={}\\s).+(?==)'.format(m),html)\n",
    "    print(att)"
   ]
  },
  {
   "cell_type": "code",
   "execution_count": 76,
   "metadata": {},
   "outputs": [
    {
     "data": {
      "text/plain": [
       "['div', 'class=\"more-info\"']"
      ]
     },
     "execution_count": 76,
     "metadata": {},
     "output_type": "execute_result"
    }
   ],
   "source": [
    "s = 'div class=\"more-info\"'\n",
    "s.split()"
   ]
  },
  {
   "cell_type": "code",
   "execution_count": 80,
   "metadata": {},
   "outputs": [
    {
     "name": "stdout",
     "output_type": "stream",
     "text": [
      "1:10\n",
      "2:20\n",
      "3:30\n"
     ]
    }
   ],
   "source": [
    "a = [1,2,3]\n",
    "b = [10,20,30]\n",
    "for x,y in zip(a,b):\n",
    "    print(str(x)+':'+str(y))"
   ]
  },
  {
   "cell_type": "code",
   "execution_count": null,
   "metadata": {},
   "outputs": [],
   "source": []
  },
  {
   "cell_type": "code",
   "execution_count": null,
   "metadata": {},
   "outputs": [],
   "source": []
  },
  {
   "cell_type": "code",
   "execution_count": null,
   "metadata": {},
   "outputs": [],
   "source": []
  },
  {
   "cell_type": "code",
   "execution_count": null,
   "metadata": {},
   "outputs": [],
   "source": []
  },
  {
   "cell_type": "code",
   "execution_count": null,
   "metadata": {},
   "outputs": [],
   "source": []
  },
  {
   "cell_type": "code",
   "execution_count": null,
   "metadata": {},
   "outputs": [],
   "source": []
  },
  {
   "cell_type": "code",
   "execution_count": null,
   "metadata": {},
   "outputs": [],
   "source": []
  },
  {
   "cell_type": "code",
   "execution_count": null,
   "metadata": {},
   "outputs": [],
   "source": []
  }
 ],
 "metadata": {
  "kernelspec": {
   "display_name": "Python 3",
   "language": "python",
   "name": "python3"
  },
  "language_info": {
   "codemirror_mode": {
    "name": "ipython",
    "version": 3
   },
   "file_extension": ".py",
   "mimetype": "text/x-python",
   "name": "python",
   "nbconvert_exporter": "python",
   "pygments_lexer": "ipython3",
   "version": "3.7.4"
  }
 },
 "nbformat": 4,
 "nbformat_minor": 2
}
